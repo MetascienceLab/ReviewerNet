{
 "cells": [
  {
   "cell_type": "code",
   "execution_count": 1,
   "id": "54811632",
   "metadata": {},
   "outputs": [],
   "source": [
    "import networkx as nx\n",
    "import networkx.algorithms.community as nx_comm\n",
    "import pandas as pd\n",
    "import numpy as np\n",
    "import matplotlib.pyplot as plt\n",
    "import os\n",
    "import scipy\n",
    "import seaborn as sns\n",
    "import plotly.express as px\n",
    "import plotly.graph_objects as go"
   ]
  },
  {
   "cell_type": "code",
   "execution_count": 2,
   "id": "857b8b48",
   "metadata": {},
   "outputs": [],
   "source": [
    "root = r\"my_path\""
   ]
  },
  {
   "cell_type": "code",
   "execution_count": 44,
   "id": "84f78a7d",
   "metadata": {
    "scrolled": true
   },
   "outputs": [
    {
     "data": {
      "text/html": [
       "<div>\n",
       "<style scoped>\n",
       "    .dataframe tbody tr th:only-of-type {\n",
       "        vertical-align: middle;\n",
       "    }\n",
       "\n",
       "    .dataframe tbody tr th {\n",
       "        vertical-align: top;\n",
       "    }\n",
       "\n",
       "    .dataframe thead th {\n",
       "        text-align: right;\n",
       "    }\n",
       "</style>\n",
       "<table border=\"1\" class=\"dataframe\">\n",
       "  <thead>\n",
       "    <tr style=\"text-align: right;\">\n",
       "      <th></th>\n",
       "      <th>source</th>\n",
       "      <th>target</th>\n",
       "      <th>weight</th>\n",
       "    </tr>\n",
       "  </thead>\n",
       "  <tbody>\n",
       "    <tr>\n",
       "      <th>0</th>\n",
       "      <td>7</td>\n",
       "      <td>9</td>\n",
       "      <td>1</td>\n",
       "    </tr>\n",
       "    <tr>\n",
       "      <th>1</th>\n",
       "      <td>7</td>\n",
       "      <td>76</td>\n",
       "      <td>1</td>\n",
       "    </tr>\n",
       "    <tr>\n",
       "      <th>2</th>\n",
       "      <td>7</td>\n",
       "      <td>78</td>\n",
       "      <td>1</td>\n",
       "    </tr>\n",
       "    <tr>\n",
       "      <th>3</th>\n",
       "      <td>7</td>\n",
       "      <td>109</td>\n",
       "      <td>1</td>\n",
       "    </tr>\n",
       "    <tr>\n",
       "      <th>4</th>\n",
       "      <td>7</td>\n",
       "      <td>276</td>\n",
       "      <td>1</td>\n",
       "    </tr>\n",
       "    <tr>\n",
       "      <th>...</th>\n",
       "      <td>...</td>\n",
       "      <td>...</td>\n",
       "      <td>...</td>\n",
       "    </tr>\n",
       "    <tr>\n",
       "      <th>667501</th>\n",
       "      <td>22581</td>\n",
       "      <td>22637</td>\n",
       "      <td>1</td>\n",
       "    </tr>\n",
       "    <tr>\n",
       "      <th>667502</th>\n",
       "      <td>22609</td>\n",
       "      <td>22613</td>\n",
       "      <td>1</td>\n",
       "    </tr>\n",
       "    <tr>\n",
       "      <th>667503</th>\n",
       "      <td>22609</td>\n",
       "      <td>22619</td>\n",
       "      <td>1</td>\n",
       "    </tr>\n",
       "    <tr>\n",
       "      <th>667504</th>\n",
       "      <td>22613</td>\n",
       "      <td>22619</td>\n",
       "      <td>1</td>\n",
       "    </tr>\n",
       "    <tr>\n",
       "      <th>667505</th>\n",
       "      <td>22637</td>\n",
       "      <td>22638</td>\n",
       "      <td>1</td>\n",
       "    </tr>\n",
       "  </tbody>\n",
       "</table>\n",
       "<p>667506 rows × 3 columns</p>\n",
       "</div>"
      ],
      "text/plain": [
       "        source  target  weight\n",
       "0            7       9       1\n",
       "1            7      76       1\n",
       "2            7      78       1\n",
       "3            7     109       1\n",
       "4            7     276       1\n",
       "...        ...     ...     ...\n",
       "667501   22581   22637       1\n",
       "667502   22609   22613       1\n",
       "667503   22609   22619       1\n",
       "667504   22613   22619       1\n",
       "667505   22637   22638       1\n",
       "\n",
       "[667506 rows x 3 columns]"
      ]
     },
     "execution_count": 44,
     "metadata": {},
     "output_type": "execute_result"
    }
   ],
   "source": [
    "df=pd.read_csv(os.path.join(root, r\"edge_list.csv\"))\n",
    "df"
   ]
  },
  {
   "cell_type": "markdown",
   "id": "76919dd7",
   "metadata": {},
   "source": [
    "# remove low-reviewer nodes"
   ]
  },
  {
   "cell_type": "code",
   "execution_count": 45,
   "id": "d648d349",
   "metadata": {},
   "outputs": [
    {
     "data": {
      "text/html": [
       "<div>\n",
       "<style scoped>\n",
       "    .dataframe tbody tr th:only-of-type {\n",
       "        vertical-align: middle;\n",
       "    }\n",
       "\n",
       "    .dataframe tbody tr th {\n",
       "        vertical-align: top;\n",
       "    }\n",
       "\n",
       "    .dataframe thead th {\n",
       "        text-align: right;\n",
       "    }\n",
       "</style>\n",
       "<table border=\"1\" class=\"dataframe\">\n",
       "  <thead>\n",
       "    <tr style=\"text-align: right;\">\n",
       "      <th></th>\n",
       "      <th>journal_name_wos</th>\n",
       "      <th>reviewer_id</th>\n",
       "    </tr>\n",
       "  </thead>\n",
       "  <tbody>\n",
       "    <tr>\n",
       "      <th>0</th>\n",
       "      <td>1</td>\n",
       "      <td>2</td>\n",
       "    </tr>\n",
       "    <tr>\n",
       "      <th>1</th>\n",
       "      <td>7</td>\n",
       "      <td>3</td>\n",
       "    </tr>\n",
       "    <tr>\n",
       "      <th>2</th>\n",
       "      <td>9</td>\n",
       "      <td>18</td>\n",
       "    </tr>\n",
       "    <tr>\n",
       "      <th>3</th>\n",
       "      <td>12</td>\n",
       "      <td>174</td>\n",
       "    </tr>\n",
       "    <tr>\n",
       "      <th>4</th>\n",
       "      <td>17</td>\n",
       "      <td>6</td>\n",
       "    </tr>\n",
       "    <tr>\n",
       "      <th>...</th>\n",
       "      <td>...</td>\n",
       "      <td>...</td>\n",
       "    </tr>\n",
       "    <tr>\n",
       "      <th>9215</th>\n",
       "      <td>22632</td>\n",
       "      <td>5</td>\n",
       "    </tr>\n",
       "    <tr>\n",
       "      <th>9216</th>\n",
       "      <td>22633</td>\n",
       "      <td>1</td>\n",
       "    </tr>\n",
       "    <tr>\n",
       "      <th>9217</th>\n",
       "      <td>22637</td>\n",
       "      <td>9</td>\n",
       "    </tr>\n",
       "    <tr>\n",
       "      <th>9218</th>\n",
       "      <td>22638</td>\n",
       "      <td>4</td>\n",
       "    </tr>\n",
       "    <tr>\n",
       "      <th>9219</th>\n",
       "      <td>22642</td>\n",
       "      <td>2</td>\n",
       "    </tr>\n",
       "  </tbody>\n",
       "</table>\n",
       "<p>9220 rows × 2 columns</p>\n",
       "</div>"
      ],
      "text/plain": [
       "      journal_name_wos  reviewer_id\n",
       "0                    1            2\n",
       "1                    7            3\n",
       "2                    9           18\n",
       "3                   12          174\n",
       "4                   17            6\n",
       "...                ...          ...\n",
       "9215             22632            5\n",
       "9216             22633            1\n",
       "9217             22637            9\n",
       "9218             22638            4\n",
       "9219             22642            2\n",
       "\n",
       "[9220 rows x 2 columns]"
      ]
     },
     "execution_count": 45,
     "metadata": {},
     "output_type": "execute_result"
    }
   ],
   "source": [
    "country_df = pd.read_csv(os.path.join(root, r\"country_bipartite.csv\"))[[\"journal_name_wos\",\"reviewer_id\"]]\n",
    "a = country_df.groupby([\"journal_name_wos\"])[\"reviewer_id\"].nunique().reset_index()\n",
    "a"
   ]
  },
  {
   "cell_type": "code",
   "execution_count": null,
   "id": "ae79701a",
   "metadata": {},
   "outputs": [],
   "source": [
    "low_degree_list = list(a.loc[a[\"reviewer_id\"] < 5, \"journal_name_wos\"].unique())"
   ]
  },
  {
   "cell_type": "code",
   "execution_count": null,
   "id": "e19b44e5",
   "metadata": {},
   "outputs": [],
   "source": [
    "# export new csv\n",
    "df[~(df[\"source\"].isin(low_degree_list) | df[\"target\"].isin(low_degree_list))].to_csv(os.path.join(root, r\"over10_edge_list.csv\"),index=False)"
   ]
  },
  {
   "cell_type": "code",
   "execution_count": 48,
   "id": "457af08a",
   "metadata": {},
   "outputs": [
    {
     "data": {
      "text/plain": [
       "6095"
      ]
     },
     "execution_count": 48,
     "metadata": {},
     "output_type": "execute_result"
    }
   ],
   "source": [
    "# get node list\n",
    "g_df = pd.read_csv(os.path.join(root, r\"over10_edge_list.csv\"))\n",
    "over_10_nodes = pd.concat([g_df[\"source\"],g_df[\"target\"]]).unique()\n",
    "len(over_10_nodes)"
   ]
  },
  {
   "cell_type": "markdown",
   "id": "ec6f5208",
   "metadata": {},
   "source": [
    "# add discipline/country attributes"
   ]
  },
  {
   "cell_type": "code",
   "execution_count": 49,
   "id": "7558c0bf",
   "metadata": {},
   "outputs": [],
   "source": [
    "ctry_df = pd.read_csv(os.path.join(root, r\"jcr_result.csv\"))[[\"Code_Revue\",\"alpha2_journal\",\"country_group\"]]"
   ]
  },
  {
   "cell_type": "code",
   "execution_count": 50,
   "id": "4dda682e",
   "metadata": {},
   "outputs": [],
   "source": [
    "left = pd.DataFrame(over_10_nodes,columns=[\"journal_name_wos\"])"
   ]
  },
  {
   "cell_type": "code",
   "execution_count": 51,
   "id": "af74f5c7",
   "metadata": {},
   "outputs": [],
   "source": [
    "node_list=pd.merge(left, ctry_df, left_on=\"journal_name_wos\", right_on=\"Code_Revue\", how=\"left\")\n",
    "node_list = node_list.drop(\"Code_Revue\",axis=1)"
   ]
  },
  {
   "cell_type": "code",
   "execution_count": 52,
   "id": "2f8bb961",
   "metadata": {},
   "outputs": [],
   "source": [
    "node_list.loc[node_list[\"country_group\"].isna(), \"country_group\"] = -1"
   ]
  },
  {
   "cell_type": "code",
   "execution_count": 53,
   "id": "6488fd1f",
   "metadata": {
    "scrolled": true
   },
   "outputs": [],
   "source": [
    "disc_df = pd.read_csv(os.path.join(root, r\"journal_discipline.csv\"))\n",
    "node_list2=pd.merge(node_list, disc_df, on=\"journal_name_wos\", how=\"left\")"
   ]
  },
  {
   "cell_type": "code",
   "execution_count": 54,
   "id": "cc63612d",
   "metadata": {},
   "outputs": [],
   "source": [
    "label_df = pd.read_csv(os.path.join(root, r\"journal_abbrev.csv\"))[[\"journal_name_wos\",\"Abbrev\"]]\n",
    "label_df = label_df.rename(columns={\"Abbrev\":\"Label\"})\n",
    "node_list3=pd.merge(node_list2, label_df, on=\"journal_name_wos\", how=\"left\")\n",
    "node_list3 = node_list3.rename(columns={\"journal_name_wos\": \"Id\"})"
   ]
  },
  {
   "cell_type": "code",
   "execution_count": null,
   "id": "8278fc28",
   "metadata": {},
   "outputs": [],
   "source": [
    "#node_list3.to_csv(os.path.join(root, r\"over10_node_list.csv\"), index=False)"
   ]
  },
  {
   "cell_type": "markdown",
   "id": "3f68af7d",
   "metadata": {},
   "source": [
    "# remove nodes without JCR information"
   ]
  },
  {
   "cell_type": "code",
   "execution_count": 55,
   "id": "8055b8c3",
   "metadata": {},
   "outputs": [
    {
     "name": "stdout",
     "output_type": "stream",
     "text": [
      "<class 'pandas.core.frame.DataFrame'>\n",
      "Int64Index: 6058 entries, 0 to 6094\n",
      "Data columns (total 13 columns):\n",
      " #   Column          Non-Null Count  Dtype  \n",
      "---  ------          --------------  -----  \n",
      " 0   Id              6058 non-null   int64  \n",
      " 1   alpha2_journal  6058 non-null   object \n",
      " 2   country_group   6058 non-null   float64\n",
      " 3   did             6058 non-null   int64  \n",
      " 4   d1              6058 non-null   object \n",
      " 5   d2              6058 non-null   object \n",
      " 6   d3              6058 non-null   object \n",
      " 7   totalpubs       6058 non-null   int64  \n",
      " 8   oapubs          6058 non-null   int64  \n",
      " 9   oa_rate         6058 non-null   float64\n",
      " 10  Label           6058 non-null   object \n",
      " 11  quartile        6058 non-null   float64\n",
      " 12  isOA            6058 non-null   object \n",
      "dtypes: float64(3), int64(4), object(6)\n",
      "memory usage: 662.6+ KB\n"
     ]
    }
   ],
   "source": [
    "node_df = (pd.read_csv(os.path.join(root, r\"over10_node_list.csv\"))\n",
    "           .dropna()\n",
    "          )\n",
    "node_df.info()"
   ]
  },
  {
   "cell_type": "code",
   "execution_count": 56,
   "id": "5306b4bf",
   "metadata": {},
   "outputs": [],
   "source": [
    "ids = node_df[\"Id\"].unique()\n",
    "edge_df = pd.read_csv(os.path.join(root, r\"over10_edge_list.csv\"))\n",
    "edge_df = edge_df.loc[edge_df[\"source\"].isin(ids) & edge_df[\"target\"].isin(ids)]\n",
    "node_df.to_csv(os.path.join(root, r\"over10_node_list_nonull.csv\"), index=False)\n",
    "edge_df.to_csv(os.path.join(root, r\"over10_edge_list_nonull.csv\"), index=False)"
   ]
  }
 ],
 "metadata": {
  "kernelspec": {
   "display_name": "base",
   "language": "python",
   "name": "python3"
  },
  "language_info": {
   "codemirror_mode": {
    "name": "ipython",
    "version": 3
   },
   "file_extension": ".py",
   "mimetype": "text/x-python",
   "name": "python",
   "nbconvert_exporter": "python",
   "pygments_lexer": "ipython3",
   "version": "3.8.13"
  },
  "vscode": {
   "interpreter": {
    "hash": "9e10a6c79cc87d7ff3f4674fe53efa32c7c5bf29c8ea6b81bebeb9c281c23060"
   }
  }
 },
 "nbformat": 4,
 "nbformat_minor": 5
}
