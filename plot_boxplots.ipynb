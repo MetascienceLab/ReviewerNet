{
 "cells": [
  {
   "cell_type": "code",
   "execution_count": 1,
   "id": "4393f8bd",
   "metadata": {},
   "outputs": [],
   "source": [
    "# data from stats"
   ]
  },
  {
   "cell_type": "code",
   "execution_count": 1,
   "id": "2376608e",
   "metadata": {},
   "outputs": [],
   "source": [
    "import matplotlib.pyplot as plt\n",
    "import seaborn as sns\n",
    "import pandas as pd\n",
    "import numpy as np\n",
    "import os\n",
    "import matplotlib.ticker as mtick\n",
    "import matplotlib.patches as patches\n",
    "from matplotlib.lines import Line2D\n",
    "import plotly.express as px\n",
    "import plotly.graph_objects as go\n",
    "from plotly.subplots import make_subplots\n",
    "from scipy import stats"
   ]
  },
  {
   "cell_type": "code",
   "execution_count": 2,
   "id": "e4da0f73",
   "metadata": {},
   "outputs": [],
   "source": [
    "root = r\"my root\"\n",
    "graph_root = r\"my graph root\""
   ]
  },
  {
   "cell_type": "code",
   "execution_count": 3,
   "id": "820fcb8b",
   "metadata": {},
   "outputs": [],
   "source": [
    "# read colormap\n",
    "def get_palette(attr=\"disc\"):\n",
    "    if attr==\"disc\":\n",
    "        col = \"discipline\"\n",
    "        color_df = pd.read_excel(os.path.join(root, r\"palette.xlsx\"))\n",
    "    elif attr == \"ctry\":\n",
    "        col = \"country\"\n",
    "        color_df = pd.read_excel(os.path.join(root, r\"palette.xlsx\"), sheet_name=1)\n",
    "    else:\n",
    "        col = \"quartile\"\n",
    "        color_df = pd.read_excel(os.path.join(root, r\"palette.xlsx\"), sheet_name=2)\n",
    "        \n",
    "    color_dict = color_df[[col,\"code\"]].set_index(col).to_dict()[\"code\"]\n",
    "    order = color_df[col]\n",
    "    return color_dict, order"
   ]
  },
  {
   "cell_type": "code",
   "execution_count": 4,
   "id": "f9c38de3",
   "metadata": {},
   "outputs": [],
   "source": [
    "# 95% CI\n",
    "def mean_confidence_interval(data, confidence=0.95):\n",
    "    a = 1.0 * np.array(data)\n",
    "    n = len(a)\n",
    "    m, se = np.mean(a), stats.sem(a)\n",
    "    h = se * stats.t.ppf((1 + confidence) / 2., n-1)\n",
    "    return m, h * 2"
   ]
  },
  {
   "cell_type": "markdown",
   "id": "b6ab0c44",
   "metadata": {},
   "source": [
    "# Discipline"
   ]
  },
  {
   "cell_type": "code",
   "execution_count": 6,
   "id": "2f257035",
   "metadata": {},
   "outputs": [],
   "source": [
    "field_xticks = ['Arts',\n",
    "         'Biology',\n",
    "         'Biomedical', #Biomedical Research\n",
    "         'Chemistry',\n",
    "         'Medicine', # Clinical Medicine\n",
    "         'Earth & Space',\n",
    "         'Engineering',\n",
    "         'Health',\n",
    "         'Humanities',\n",
    "         'Mathematics',\n",
    "         'Physics',\n",
    "         'Professional', #Professional Fields\n",
    "         'Psychology',\n",
    "         'Soc Sci' #Social Sciences\n",
    "         ]"
   ]
  },
  {
   "cell_type": "code",
   "execution_count": 84,
   "id": "5c52e01b",
   "metadata": {},
   "outputs": [
    {
     "data": {
      "application/vnd.plotly.v1+json": {
       "config": {
        "plotlyServerURL": "https://plot.ly"
       },
       "data": [
        {
         "alignmentgroup": "True",
         "cliponaxis": false,
         "hovertemplate": "field=%{x}<br>Journals=%{y}<extra></extra>",
         "legendgroup": "",
         "marker": {
          "color": [
           "#C0C0C0",
           "#4CD300",
           "#008090",
           "#aed780",
           "#1AA3E8",
           "#7d4239",
           "#c683f8",
           "#7fff97",
           "#aeb404",
           "#9A05BF",
           "#0000ff",
           "#fc79c7",
           "#F70000",
           "#F7A000"
          ],
          "pattern": {
           "shape": ""
          }
         },
         "name": "",
         "offsetgroup": "",
         "orientation": "v",
         "showlegend": false,
         "textposition": "outside",
         "texttemplate": "%{y}",
         "type": "bar",
         "x": [
          "Arts",
          "Biology",
          "Biomedical Research",
          "Chemistry",
          "Clinical Medicine",
          "Earth and Space",
          "Engineering and Technology",
          "Health",
          "Humanities",
          "Mathematics",
          "Physics",
          "Professional Fields",
          "Psychology",
          "Social Sciences"
         ],
         "xaxis": "x",
         "y": [
          18,
          601,
          577,
          258,
          1539,
          341,
          831,
          251,
          110,
          110,
          216,
          456,
          256,
          494
         ],
         "yaxis": "y"
        }
       ],
       "layout": {
        "barmode": "relative",
        "font": {
         "family": "Arial"
        },
        "height": 300,
        "legend": {
         "tracegroupgap": 0
        },
        "margin": {
         "b": 30,
         "l": 30,
         "r": 30,
         "t": 30
        },
        "template": {
         "data": {
          "bar": [
           {
            "error_x": {
             "color": "rgb(36,36,36)"
            },
            "error_y": {
             "color": "rgb(36,36,36)"
            },
            "marker": {
             "line": {
              "color": "white",
              "width": 0.5
             },
             "pattern": {
              "fillmode": "overlay",
              "size": 10,
              "solidity": 0.2
             }
            },
            "type": "bar"
           }
          ],
          "barpolar": [
           {
            "marker": {
             "line": {
              "color": "white",
              "width": 0.5
             },
             "pattern": {
              "fillmode": "overlay",
              "size": 10,
              "solidity": 0.2
             }
            },
            "type": "barpolar"
           }
          ],
          "carpet": [
           {
            "aaxis": {
             "endlinecolor": "rgb(36,36,36)",
             "gridcolor": "white",
             "linecolor": "white",
             "minorgridcolor": "white",
             "startlinecolor": "rgb(36,36,36)"
            },
            "baxis": {
             "endlinecolor": "rgb(36,36,36)",
             "gridcolor": "white",
             "linecolor": "white",
             "minorgridcolor": "white",
             "startlinecolor": "rgb(36,36,36)"
            },
            "type": "carpet"
           }
          ],
          "choropleth": [
           {
            "colorbar": {
             "outlinewidth": 1,
             "tickcolor": "rgb(36,36,36)",
             "ticks": "outside"
            },
            "type": "choropleth"
           }
          ],
          "contour": [
           {
            "colorbar": {
             "outlinewidth": 1,
             "tickcolor": "rgb(36,36,36)",
             "ticks": "outside"
            },
            "colorscale": [
             [
              0,
              "#440154"
             ],
             [
              0.1111111111111111,
              "#482878"
             ],
             [
              0.2222222222222222,
              "#3e4989"
             ],
             [
              0.3333333333333333,
              "#31688e"
             ],
             [
              0.4444444444444444,
              "#26828e"
             ],
             [
              0.5555555555555556,
              "#1f9e89"
             ],
             [
              0.6666666666666666,
              "#35b779"
             ],
             [
              0.7777777777777778,
              "#6ece58"
             ],
             [
              0.8888888888888888,
              "#b5de2b"
             ],
             [
              1,
              "#fde725"
             ]
            ],
            "type": "contour"
           }
          ],
          "contourcarpet": [
           {
            "colorbar": {
             "outlinewidth": 1,
             "tickcolor": "rgb(36,36,36)",
             "ticks": "outside"
            },
            "type": "contourcarpet"
           }
          ],
          "heatmap": [
           {
            "colorbar": {
             "outlinewidth": 1,
             "tickcolor": "rgb(36,36,36)",
             "ticks": "outside"
            },
            "colorscale": [
             [
              0,
              "#440154"
             ],
             [
              0.1111111111111111,
              "#482878"
             ],
             [
              0.2222222222222222,
              "#3e4989"
             ],
             [
              0.3333333333333333,
              "#31688e"
             ],
             [
              0.4444444444444444,
              "#26828e"
             ],
             [
              0.5555555555555556,
              "#1f9e89"
             ],
             [
              0.6666666666666666,
              "#35b779"
             ],
             [
              0.7777777777777778,
              "#6ece58"
             ],
             [
              0.8888888888888888,
              "#b5de2b"
             ],
             [
              1,
              "#fde725"
             ]
            ],
            "type": "heatmap"
           }
          ],
          "heatmapgl": [
           {
            "colorbar": {
             "outlinewidth": 1,
             "tickcolor": "rgb(36,36,36)",
             "ticks": "outside"
            },
            "colorscale": [
             [
              0,
              "#440154"
             ],
             [
              0.1111111111111111,
              "#482878"
             ],
             [
              0.2222222222222222,
              "#3e4989"
             ],
             [
              0.3333333333333333,
              "#31688e"
             ],
             [
              0.4444444444444444,
              "#26828e"
             ],
             [
              0.5555555555555556,
              "#1f9e89"
             ],
             [
              0.6666666666666666,
              "#35b779"
             ],
             [
              0.7777777777777778,
              "#6ece58"
             ],
             [
              0.8888888888888888,
              "#b5de2b"
             ],
             [
              1,
              "#fde725"
             ]
            ],
            "type": "heatmapgl"
           }
          ],
          "histogram": [
           {
            "marker": {
             "line": {
              "color": "white",
              "width": 0.6
             }
            },
            "type": "histogram"
           }
          ],
          "histogram2d": [
           {
            "colorbar": {
             "outlinewidth": 1,
             "tickcolor": "rgb(36,36,36)",
             "ticks": "outside"
            },
            "colorscale": [
             [
              0,
              "#440154"
             ],
             [
              0.1111111111111111,
              "#482878"
             ],
             [
              0.2222222222222222,
              "#3e4989"
             ],
             [
              0.3333333333333333,
              "#31688e"
             ],
             [
              0.4444444444444444,
              "#26828e"
             ],
             [
              0.5555555555555556,
              "#1f9e89"
             ],
             [
              0.6666666666666666,
              "#35b779"
             ],
             [
              0.7777777777777778,
              "#6ece58"
             ],
             [
              0.8888888888888888,
              "#b5de2b"
             ],
             [
              1,
              "#fde725"
             ]
            ],
            "type": "histogram2d"
           }
          ],
          "histogram2dcontour": [
           {
            "colorbar": {
             "outlinewidth": 1,
             "tickcolor": "rgb(36,36,36)",
             "ticks": "outside"
            },
            "colorscale": [
             [
              0,
              "#440154"
             ],
             [
              0.1111111111111111,
              "#482878"
             ],
             [
              0.2222222222222222,
              "#3e4989"
             ],
             [
              0.3333333333333333,
              "#31688e"
             ],
             [
              0.4444444444444444,
              "#26828e"
             ],
             [
              0.5555555555555556,
              "#1f9e89"
             ],
             [
              0.6666666666666666,
              "#35b779"
             ],
             [
              0.7777777777777778,
              "#6ece58"
             ],
             [
              0.8888888888888888,
              "#b5de2b"
             ],
             [
              1,
              "#fde725"
             ]
            ],
            "type": "histogram2dcontour"
           }
          ],
          "mesh3d": [
           {
            "colorbar": {
             "outlinewidth": 1,
             "tickcolor": "rgb(36,36,36)",
             "ticks": "outside"
            },
            "type": "mesh3d"
           }
          ],
          "parcoords": [
           {
            "line": {
             "colorbar": {
              "outlinewidth": 1,
              "tickcolor": "rgb(36,36,36)",
              "ticks": "outside"
             }
            },
            "type": "parcoords"
           }
          ],
          "pie": [
           {
            "automargin": true,
            "type": "pie"
           }
          ],
          "scatter": [
           {
            "fillpattern": {
             "fillmode": "overlay",
             "size": 10,
             "solidity": 0.2
            },
            "type": "scatter"
           }
          ],
          "scatter3d": [
           {
            "line": {
             "colorbar": {
              "outlinewidth": 1,
              "tickcolor": "rgb(36,36,36)",
              "ticks": "outside"
             }
            },
            "marker": {
             "colorbar": {
              "outlinewidth": 1,
              "tickcolor": "rgb(36,36,36)",
              "ticks": "outside"
             }
            },
            "type": "scatter3d"
           }
          ],
          "scattercarpet": [
           {
            "marker": {
             "colorbar": {
              "outlinewidth": 1,
              "tickcolor": "rgb(36,36,36)",
              "ticks": "outside"
             }
            },
            "type": "scattercarpet"
           }
          ],
          "scattergeo": [
           {
            "marker": {
             "colorbar": {
              "outlinewidth": 1,
              "tickcolor": "rgb(36,36,36)",
              "ticks": "outside"
             }
            },
            "type": "scattergeo"
           }
          ],
          "scattergl": [
           {
            "marker": {
             "colorbar": {
              "outlinewidth": 1,
              "tickcolor": "rgb(36,36,36)",
              "ticks": "outside"
             }
            },
            "type": "scattergl"
           }
          ],
          "scattermapbox": [
           {
            "marker": {
             "colorbar": {
              "outlinewidth": 1,
              "tickcolor": "rgb(36,36,36)",
              "ticks": "outside"
             }
            },
            "type": "scattermapbox"
           }
          ],
          "scatterpolar": [
           {
            "marker": {
             "colorbar": {
              "outlinewidth": 1,
              "tickcolor": "rgb(36,36,36)",
              "ticks": "outside"
             }
            },
            "type": "scatterpolar"
           }
          ],
          "scatterpolargl": [
           {
            "marker": {
             "colorbar": {
              "outlinewidth": 1,
              "tickcolor": "rgb(36,36,36)",
              "ticks": "outside"
             }
            },
            "type": "scatterpolargl"
           }
          ],
          "scatterternary": [
           {
            "marker": {
             "colorbar": {
              "outlinewidth": 1,
              "tickcolor": "rgb(36,36,36)",
              "ticks": "outside"
             }
            },
            "type": "scatterternary"
           }
          ],
          "surface": [
           {
            "colorbar": {
             "outlinewidth": 1,
             "tickcolor": "rgb(36,36,36)",
             "ticks": "outside"
            },
            "colorscale": [
             [
              0,
              "#440154"
             ],
             [
              0.1111111111111111,
              "#482878"
             ],
             [
              0.2222222222222222,
              "#3e4989"
             ],
             [
              0.3333333333333333,
              "#31688e"
             ],
             [
              0.4444444444444444,
              "#26828e"
             ],
             [
              0.5555555555555556,
              "#1f9e89"
             ],
             [
              0.6666666666666666,
              "#35b779"
             ],
             [
              0.7777777777777778,
              "#6ece58"
             ],
             [
              0.8888888888888888,
              "#b5de2b"
             ],
             [
              1,
              "#fde725"
             ]
            ],
            "type": "surface"
           }
          ],
          "table": [
           {
            "cells": {
             "fill": {
              "color": "rgb(237,237,237)"
             },
             "line": {
              "color": "white"
             }
            },
            "header": {
             "fill": {
              "color": "rgb(217,217,217)"
             },
             "line": {
              "color": "white"
             }
            },
            "type": "table"
           }
          ]
         },
         "layout": {
          "annotationdefaults": {
           "arrowhead": 0,
           "arrowwidth": 1
          },
          "autotypenumbers": "strict",
          "coloraxis": {
           "colorbar": {
            "outlinewidth": 1,
            "tickcolor": "rgb(36,36,36)",
            "ticks": "outside"
           }
          },
          "colorscale": {
           "diverging": [
            [
             0,
             "rgb(103,0,31)"
            ],
            [
             0.1,
             "rgb(178,24,43)"
            ],
            [
             0.2,
             "rgb(214,96,77)"
            ],
            [
             0.3,
             "rgb(244,165,130)"
            ],
            [
             0.4,
             "rgb(253,219,199)"
            ],
            [
             0.5,
             "rgb(247,247,247)"
            ],
            [
             0.6,
             "rgb(209,229,240)"
            ],
            [
             0.7,
             "rgb(146,197,222)"
            ],
            [
             0.8,
             "rgb(67,147,195)"
            ],
            [
             0.9,
             "rgb(33,102,172)"
            ],
            [
             1,
             "rgb(5,48,97)"
            ]
           ],
           "sequential": [
            [
             0,
             "#440154"
            ],
            [
             0.1111111111111111,
             "#482878"
            ],
            [
             0.2222222222222222,
             "#3e4989"
            ],
            [
             0.3333333333333333,
             "#31688e"
            ],
            [
             0.4444444444444444,
             "#26828e"
            ],
            [
             0.5555555555555556,
             "#1f9e89"
            ],
            [
             0.6666666666666666,
             "#35b779"
            ],
            [
             0.7777777777777778,
             "#6ece58"
            ],
            [
             0.8888888888888888,
             "#b5de2b"
            ],
            [
             1,
             "#fde725"
            ]
           ],
           "sequentialminus": [
            [
             0,
             "#440154"
            ],
            [
             0.1111111111111111,
             "#482878"
            ],
            [
             0.2222222222222222,
             "#3e4989"
            ],
            [
             0.3333333333333333,
             "#31688e"
            ],
            [
             0.4444444444444444,
             "#26828e"
            ],
            [
             0.5555555555555556,
             "#1f9e89"
            ],
            [
             0.6666666666666666,
             "#35b779"
            ],
            [
             0.7777777777777778,
             "#6ece58"
            ],
            [
             0.8888888888888888,
             "#b5de2b"
            ],
            [
             1,
             "#fde725"
            ]
           ]
          },
          "colorway": [
           "#1F77B4",
           "#FF7F0E",
           "#2CA02C",
           "#D62728",
           "#9467BD",
           "#8C564B",
           "#E377C2",
           "#7F7F7F",
           "#BCBD22",
           "#17BECF"
          ],
          "font": {
           "color": "rgb(36,36,36)"
          },
          "geo": {
           "bgcolor": "white",
           "lakecolor": "white",
           "landcolor": "white",
           "showlakes": true,
           "showland": true,
           "subunitcolor": "white"
          },
          "hoverlabel": {
           "align": "left"
          },
          "hovermode": "closest",
          "mapbox": {
           "style": "light"
          },
          "paper_bgcolor": "white",
          "plot_bgcolor": "white",
          "polar": {
           "angularaxis": {
            "gridcolor": "rgb(232,232,232)",
            "linecolor": "rgb(36,36,36)",
            "showgrid": false,
            "showline": true,
            "ticks": "outside"
           },
           "bgcolor": "white",
           "radialaxis": {
            "gridcolor": "rgb(232,232,232)",
            "linecolor": "rgb(36,36,36)",
            "showgrid": false,
            "showline": true,
            "ticks": "outside"
           }
          },
          "scene": {
           "xaxis": {
            "backgroundcolor": "white",
            "gridcolor": "rgb(232,232,232)",
            "gridwidth": 2,
            "linecolor": "rgb(36,36,36)",
            "showbackground": true,
            "showgrid": false,
            "showline": true,
            "ticks": "outside",
            "zeroline": false,
            "zerolinecolor": "rgb(36,36,36)"
           },
           "yaxis": {
            "backgroundcolor": "white",
            "gridcolor": "rgb(232,232,232)",
            "gridwidth": 2,
            "linecolor": "rgb(36,36,36)",
            "showbackground": true,
            "showgrid": false,
            "showline": true,
            "ticks": "outside",
            "zeroline": false,
            "zerolinecolor": "rgb(36,36,36)"
           },
           "zaxis": {
            "backgroundcolor": "white",
            "gridcolor": "rgb(232,232,232)",
            "gridwidth": 2,
            "linecolor": "rgb(36,36,36)",
            "showbackground": true,
            "showgrid": false,
            "showline": true,
            "ticks": "outside",
            "zeroline": false,
            "zerolinecolor": "rgb(36,36,36)"
           }
          },
          "shapedefaults": {
           "fillcolor": "black",
           "line": {
            "width": 0
           },
           "opacity": 0.3
          },
          "ternary": {
           "aaxis": {
            "gridcolor": "rgb(232,232,232)",
            "linecolor": "rgb(36,36,36)",
            "showgrid": false,
            "showline": true,
            "ticks": "outside"
           },
           "baxis": {
            "gridcolor": "rgb(232,232,232)",
            "linecolor": "rgb(36,36,36)",
            "showgrid": false,
            "showline": true,
            "ticks": "outside"
           },
           "bgcolor": "white",
           "caxis": {
            "gridcolor": "rgb(232,232,232)",
            "linecolor": "rgb(36,36,36)",
            "showgrid": false,
            "showline": true,
            "ticks": "outside"
           }
          },
          "title": {
           "x": 0.05
          },
          "xaxis": {
           "automargin": true,
           "gridcolor": "rgb(232,232,232)",
           "linecolor": "rgb(36,36,36)",
           "showgrid": false,
           "showline": true,
           "ticks": "outside",
           "title": {
            "standoff": 15
           },
           "zeroline": false,
           "zerolinecolor": "rgb(36,36,36)"
          },
          "yaxis": {
           "automargin": true,
           "gridcolor": "rgb(232,232,232)",
           "linecolor": "rgb(36,36,36)",
           "showgrid": false,
           "showline": true,
           "ticks": "outside",
           "title": {
            "standoff": 15
           },
           "zeroline": false,
           "zerolinecolor": "rgb(36,36,36)"
          }
         }
        },
        "width": 400,
        "xaxis": {
         "anchor": "y",
         "categoryarray": [
          "Arts",
          "Biology",
          "Biomedical Research",
          "Chemistry",
          "Clinical Medicine",
          "Earth and Space",
          "Engineering and Technology",
          "Health",
          "Humanities",
          "Mathematics",
          "Physics",
          "Professional Fields",
          "Psychology",
          "Social Sciences"
         ],
         "categoryorder": "array",
         "domain": [
          0,
          1
         ],
         "tickangle": 35,
         "ticktext": [
          "Arts",
          "Biology",
          "Biomedical",
          "Chemistry",
          "Medicine",
          "Earth & Space",
          "Engineering",
          "Health",
          "Humanities",
          "Mathematics",
          "Physics",
          "Professional",
          "Psychology",
          "Soc Sci"
         ],
         "tickvals": [
          "Arts",
          "Biology",
          "Biomedical Research",
          "Chemistry",
          "Clinical Medicine",
          "Earth and Space",
          "Engineering and Technology",
          "Health",
          "Humanities",
          "Mathematics",
          "Physics",
          "Professional Fields",
          "Psychology",
          "Social Sciences"
         ],
         "title": {
          "standoff": 0,
          "text": "Journal field"
         }
        },
        "yaxis": {
         "anchor": "x",
         "domain": [
          0,
          1
         ],
         "minor": {
          "nticks": 5,
          "showgrid": true
         },
         "showgrid": true,
         "title": {
          "standoff": 0,
          "text": "# journals"
         }
        }
       }
      }
     },
     "metadata": {},
     "output_type": "display_data"
    }
   ],
   "source": [
    "#########\n",
    "#count journals\n",
    "#########\n",
    "\n",
    "df = pd.read_excel(os.path.join(root, r\"table_in_doc.xlsx\"), sheet_name=0)\n",
    "x='field'\n",
    "y='Journals'\n",
    "ylim=None\n",
    "title=\"# journals\"\n",
    "color_dict, order = get_palette(attr=\"disc\")\n",
    "df[\"color\"] = df[x].map(color_dict)\n",
    "\n",
    "# count journals\n",
    "# draw bar charts\n",
    "fig = px.bar(df,\n",
    "             x=x,\n",
    "             y=y,\n",
    "             text_auto=True)\n",
    "\n",
    "fig.update_traces(marker=dict(color=df[\"color\"]),\n",
    "                  textposition=\"outside\",\n",
    "                  cliponaxis=False)\n",
    "\n",
    "fig.update_layout(height=300,\n",
    "                  width=400,\n",
    "                  template=\"simple_white\",\n",
    "                  font=dict(family=\"Arial\"),\n",
    "                  margin=dict(l=30, r=30, t=30, b=30),)\n",
    "\n",
    "fig.update_xaxes(categoryorder=\"array\",\n",
    "                 categoryarray=order,\n",
    "                 tickangle=35,\n",
    "                 title=dict(text=\"Journal field\",\n",
    "                            standoff=0\n",
    "                            ),\n",
    "                 tickvals=order,\n",
    "                 ticktext=field_xticks,\n",
    "                 )\n",
    "\n",
    "fig.update_yaxes(showgrid=True,\n",
    "                 minor=dict(nticks=5,\n",
    "                            showgrid=True),\n",
    "                 title=dict(text=\"# journals\",\n",
    "                            standoff=0.0),\n",
    "                 )\n",
    "fig.show()\n",
    "fig.write_image(os.path.join(graph_root, \"no_journ_disc.pdf\"))"
   ]
  },
  {
   "cell_type": "code",
   "execution_count": 7,
   "id": "a2cc1cd2",
   "metadata": {},
   "outputs": [
    {
     "data": {
      "application/vnd.plotly.v1+json": {
       "config": {
        "plotlyServerURL": "https://plot.ly"
       },
       "data": [
        {
         "marker": {
          "color": [
           "#C0C0C0",
           "#4CD300",
           "#008090",
           "#aed780",
           "#1AA3E8",
           "#7d4239",
           "#c683f8",
           "#7fff97",
           "#aeb404",
           "#9A05BF",
           "#0000ff",
           "#fc79c7",
           "#F70000",
           "#F7A000"
          ]
         },
         "name": "Reviewer",
         "opacity": 0.6,
         "type": "bar",
         "x": [
          "Arts",
          "Biology",
          "Biomedical Research",
          "Chemistry",
          "Clinical Medicine",
          "Earth and Space",
          "Engineering and Technology",
          "Health",
          "Humanities",
          "Mathematics",
          "Physics",
          "Professional Fields",
          "Psychology",
          "Social Sciences"
         ],
         "y": [
          753,
          56196,
          68771,
          22075,
          155039,
          26106,
          112491,
          28509,
          5051,
          12317,
          30077,
          35306,
          19135,
          37754
         ]
        },
        {
         "marker": {
          "color": [
           "#C0C0C0",
           "#4CD300",
           "#008090",
           "#aed780",
           "#1AA3E8",
           "#7d4239",
           "#c683f8",
           "#7fff97",
           "#aeb404",
           "#9A05BF",
           "#0000ff",
           "#fc79c7",
           "#F70000",
           "#F7A000"
          ],
          "pattern": {
           "shape": "/"
          }
         },
         "name": "Field-specific reviewer",
         "type": "bar",
         "x": [
          "Arts",
          "Biology",
          "Biomedical Research",
          "Chemistry",
          "Clinical Medicine",
          "Earth and Space",
          "Engineering and Technology",
          "Health",
          "Humanities",
          "Mathematics",
          "Physics",
          "Professional Fields",
          "Psychology",
          "Social Sciences"
         ],
         "y": [
          428,
          32852,
          26162,
          11154,
          114026,
          13683,
          83181,
          14908,
          3050,
          5729,
          14220,
          23335,
          8778,
          25530
         ]
        },
        {
         "hovertemplate": "%{y:.2%}",
         "line": {
          "color": "black"
         },
         "marker": {
          "symbol": "diamond"
         },
         "name": "%",
         "type": "scatter",
         "x": [
          "Arts",
          "Biology",
          "Biomedical Research",
          "Chemistry",
          "Clinical Medicine",
          "Earth and Space",
          "Engineering and Technology",
          "Health",
          "Humanities",
          "Mathematics",
          "Physics",
          "Professional Fields",
          "Psychology",
          "Social Sciences"
         ],
         "xaxis": "x",
         "y": [
          0.56839309,
          0.58459677,
          0.38042198,
          0.50527746,
          0.73546656,
          0.52413238,
          0.7394458199999999,
          0.52292259,
          0.60384082,
          0.4651295,
          0.47278651000000005,
          0.66093582,
          0.45874053000000004,
          0.67621974
         ],
         "yaxis": "y2"
        }
       ],
       "layout": {
        "barmode": "overlay",
        "font": {
         "family": "Arial"
        },
        "height": 300,
        "legend": {
         "bgcolor": "rgba(0,0,0,0)",
         "x": 0.95,
         "xanchor": "right",
         "y": 1.1,
         "yanchor": "top"
        },
        "margin": {
         "b": 30,
         "l": 30,
         "r": 30,
         "t": 30
        },
        "template": {
         "data": {
          "bar": [
           {
            "error_x": {
             "color": "rgb(36,36,36)"
            },
            "error_y": {
             "color": "rgb(36,36,36)"
            },
            "marker": {
             "line": {
              "color": "white",
              "width": 0.5
             },
             "pattern": {
              "fillmode": "overlay",
              "size": 10,
              "solidity": 0.2
             }
            },
            "type": "bar"
           }
          ],
          "barpolar": [
           {
            "marker": {
             "line": {
              "color": "white",
              "width": 0.5
             },
             "pattern": {
              "fillmode": "overlay",
              "size": 10,
              "solidity": 0.2
             }
            },
            "type": "barpolar"
           }
          ],
          "carpet": [
           {
            "aaxis": {
             "endlinecolor": "rgb(36,36,36)",
             "gridcolor": "white",
             "linecolor": "white",
             "minorgridcolor": "white",
             "startlinecolor": "rgb(36,36,36)"
            },
            "baxis": {
             "endlinecolor": "rgb(36,36,36)",
             "gridcolor": "white",
             "linecolor": "white",
             "minorgridcolor": "white",
             "startlinecolor": "rgb(36,36,36)"
            },
            "type": "carpet"
           }
          ],
          "choropleth": [
           {
            "colorbar": {
             "outlinewidth": 1,
             "tickcolor": "rgb(36,36,36)",
             "ticks": "outside"
            },
            "type": "choropleth"
           }
          ],
          "contour": [
           {
            "colorbar": {
             "outlinewidth": 1,
             "tickcolor": "rgb(36,36,36)",
             "ticks": "outside"
            },
            "colorscale": [
             [
              0,
              "#440154"
             ],
             [
              0.1111111111111111,
              "#482878"
             ],
             [
              0.2222222222222222,
              "#3e4989"
             ],
             [
              0.3333333333333333,
              "#31688e"
             ],
             [
              0.4444444444444444,
              "#26828e"
             ],
             [
              0.5555555555555556,
              "#1f9e89"
             ],
             [
              0.6666666666666666,
              "#35b779"
             ],
             [
              0.7777777777777778,
              "#6ece58"
             ],
             [
              0.8888888888888888,
              "#b5de2b"
             ],
             [
              1,
              "#fde725"
             ]
            ],
            "type": "contour"
           }
          ],
          "contourcarpet": [
           {
            "colorbar": {
             "outlinewidth": 1,
             "tickcolor": "rgb(36,36,36)",
             "ticks": "outside"
            },
            "type": "contourcarpet"
           }
          ],
          "heatmap": [
           {
            "colorbar": {
             "outlinewidth": 1,
             "tickcolor": "rgb(36,36,36)",
             "ticks": "outside"
            },
            "colorscale": [
             [
              0,
              "#440154"
             ],
             [
              0.1111111111111111,
              "#482878"
             ],
             [
              0.2222222222222222,
              "#3e4989"
             ],
             [
              0.3333333333333333,
              "#31688e"
             ],
             [
              0.4444444444444444,
              "#26828e"
             ],
             [
              0.5555555555555556,
              "#1f9e89"
             ],
             [
              0.6666666666666666,
              "#35b779"
             ],
             [
              0.7777777777777778,
              "#6ece58"
             ],
             [
              0.8888888888888888,
              "#b5de2b"
             ],
             [
              1,
              "#fde725"
             ]
            ],
            "type": "heatmap"
           }
          ],
          "heatmapgl": [
           {
            "colorbar": {
             "outlinewidth": 1,
             "tickcolor": "rgb(36,36,36)",
             "ticks": "outside"
            },
            "colorscale": [
             [
              0,
              "#440154"
             ],
             [
              0.1111111111111111,
              "#482878"
             ],
             [
              0.2222222222222222,
              "#3e4989"
             ],
             [
              0.3333333333333333,
              "#31688e"
             ],
             [
              0.4444444444444444,
              "#26828e"
             ],
             [
              0.5555555555555556,
              "#1f9e89"
             ],
             [
              0.6666666666666666,
              "#35b779"
             ],
             [
              0.7777777777777778,
              "#6ece58"
             ],
             [
              0.8888888888888888,
              "#b5de2b"
             ],
             [
              1,
              "#fde725"
             ]
            ],
            "type": "heatmapgl"
           }
          ],
          "histogram": [
           {
            "marker": {
             "line": {
              "color": "white",
              "width": 0.6
             }
            },
            "type": "histogram"
           }
          ],
          "histogram2d": [
           {
            "colorbar": {
             "outlinewidth": 1,
             "tickcolor": "rgb(36,36,36)",
             "ticks": "outside"
            },
            "colorscale": [
             [
              0,
              "#440154"
             ],
             [
              0.1111111111111111,
              "#482878"
             ],
             [
              0.2222222222222222,
              "#3e4989"
             ],
             [
              0.3333333333333333,
              "#31688e"
             ],
             [
              0.4444444444444444,
              "#26828e"
             ],
             [
              0.5555555555555556,
              "#1f9e89"
             ],
             [
              0.6666666666666666,
              "#35b779"
             ],
             [
              0.7777777777777778,
              "#6ece58"
             ],
             [
              0.8888888888888888,
              "#b5de2b"
             ],
             [
              1,
              "#fde725"
             ]
            ],
            "type": "histogram2d"
           }
          ],
          "histogram2dcontour": [
           {
            "colorbar": {
             "outlinewidth": 1,
             "tickcolor": "rgb(36,36,36)",
             "ticks": "outside"
            },
            "colorscale": [
             [
              0,
              "#440154"
             ],
             [
              0.1111111111111111,
              "#482878"
             ],
             [
              0.2222222222222222,
              "#3e4989"
             ],
             [
              0.3333333333333333,
              "#31688e"
             ],
             [
              0.4444444444444444,
              "#26828e"
             ],
             [
              0.5555555555555556,
              "#1f9e89"
             ],
             [
              0.6666666666666666,
              "#35b779"
             ],
             [
              0.7777777777777778,
              "#6ece58"
             ],
             [
              0.8888888888888888,
              "#b5de2b"
             ],
             [
              1,
              "#fde725"
             ]
            ],
            "type": "histogram2dcontour"
           }
          ],
          "mesh3d": [
           {
            "colorbar": {
             "outlinewidth": 1,
             "tickcolor": "rgb(36,36,36)",
             "ticks": "outside"
            },
            "type": "mesh3d"
           }
          ],
          "parcoords": [
           {
            "line": {
             "colorbar": {
              "outlinewidth": 1,
              "tickcolor": "rgb(36,36,36)",
              "ticks": "outside"
             }
            },
            "type": "parcoords"
           }
          ],
          "pie": [
           {
            "automargin": true,
            "type": "pie"
           }
          ],
          "scatter": [
           {
            "fillpattern": {
             "fillmode": "overlay",
             "size": 10,
             "solidity": 0.2
            },
            "type": "scatter"
           }
          ],
          "scatter3d": [
           {
            "line": {
             "colorbar": {
              "outlinewidth": 1,
              "tickcolor": "rgb(36,36,36)",
              "ticks": "outside"
             }
            },
            "marker": {
             "colorbar": {
              "outlinewidth": 1,
              "tickcolor": "rgb(36,36,36)",
              "ticks": "outside"
             }
            },
            "type": "scatter3d"
           }
          ],
          "scattercarpet": [
           {
            "marker": {
             "colorbar": {
              "outlinewidth": 1,
              "tickcolor": "rgb(36,36,36)",
              "ticks": "outside"
             }
            },
            "type": "scattercarpet"
           }
          ],
          "scattergeo": [
           {
            "marker": {
             "colorbar": {
              "outlinewidth": 1,
              "tickcolor": "rgb(36,36,36)",
              "ticks": "outside"
             }
            },
            "type": "scattergeo"
           }
          ],
          "scattergl": [
           {
            "marker": {
             "colorbar": {
              "outlinewidth": 1,
              "tickcolor": "rgb(36,36,36)",
              "ticks": "outside"
             }
            },
            "type": "scattergl"
           }
          ],
          "scattermapbox": [
           {
            "marker": {
             "colorbar": {
              "outlinewidth": 1,
              "tickcolor": "rgb(36,36,36)",
              "ticks": "outside"
             }
            },
            "type": "scattermapbox"
           }
          ],
          "scatterpolar": [
           {
            "marker": {
             "colorbar": {
              "outlinewidth": 1,
              "tickcolor": "rgb(36,36,36)",
              "ticks": "outside"
             }
            },
            "type": "scatterpolar"
           }
          ],
          "scatterpolargl": [
           {
            "marker": {
             "colorbar": {
              "outlinewidth": 1,
              "tickcolor": "rgb(36,36,36)",
              "ticks": "outside"
             }
            },
            "type": "scatterpolargl"
           }
          ],
          "scatterternary": [
           {
            "marker": {
             "colorbar": {
              "outlinewidth": 1,
              "tickcolor": "rgb(36,36,36)",
              "ticks": "outside"
             }
            },
            "type": "scatterternary"
           }
          ],
          "surface": [
           {
            "colorbar": {
             "outlinewidth": 1,
             "tickcolor": "rgb(36,36,36)",
             "ticks": "outside"
            },
            "colorscale": [
             [
              0,
              "#440154"
             ],
             [
              0.1111111111111111,
              "#482878"
             ],
             [
              0.2222222222222222,
              "#3e4989"
             ],
             [
              0.3333333333333333,
              "#31688e"
             ],
             [
              0.4444444444444444,
              "#26828e"
             ],
             [
              0.5555555555555556,
              "#1f9e89"
             ],
             [
              0.6666666666666666,
              "#35b779"
             ],
             [
              0.7777777777777778,
              "#6ece58"
             ],
             [
              0.8888888888888888,
              "#b5de2b"
             ],
             [
              1,
              "#fde725"
             ]
            ],
            "type": "surface"
           }
          ],
          "table": [
           {
            "cells": {
             "fill": {
              "color": "rgb(237,237,237)"
             },
             "line": {
              "color": "white"
             }
            },
            "header": {
             "fill": {
              "color": "rgb(217,217,217)"
             },
             "line": {
              "color": "white"
             }
            },
            "type": "table"
           }
          ]
         },
         "layout": {
          "annotationdefaults": {
           "arrowhead": 0,
           "arrowwidth": 1
          },
          "autotypenumbers": "strict",
          "coloraxis": {
           "colorbar": {
            "outlinewidth": 1,
            "tickcolor": "rgb(36,36,36)",
            "ticks": "outside"
           }
          },
          "colorscale": {
           "diverging": [
            [
             0,
             "rgb(103,0,31)"
            ],
            [
             0.1,
             "rgb(178,24,43)"
            ],
            [
             0.2,
             "rgb(214,96,77)"
            ],
            [
             0.3,
             "rgb(244,165,130)"
            ],
            [
             0.4,
             "rgb(253,219,199)"
            ],
            [
             0.5,
             "rgb(247,247,247)"
            ],
            [
             0.6,
             "rgb(209,229,240)"
            ],
            [
             0.7,
             "rgb(146,197,222)"
            ],
            [
             0.8,
             "rgb(67,147,195)"
            ],
            [
             0.9,
             "rgb(33,102,172)"
            ],
            [
             1,
             "rgb(5,48,97)"
            ]
           ],
           "sequential": [
            [
             0,
             "#440154"
            ],
            [
             0.1111111111111111,
             "#482878"
            ],
            [
             0.2222222222222222,
             "#3e4989"
            ],
            [
             0.3333333333333333,
             "#31688e"
            ],
            [
             0.4444444444444444,
             "#26828e"
            ],
            [
             0.5555555555555556,
             "#1f9e89"
            ],
            [
             0.6666666666666666,
             "#35b779"
            ],
            [
             0.7777777777777778,
             "#6ece58"
            ],
            [
             0.8888888888888888,
             "#b5de2b"
            ],
            [
             1,
             "#fde725"
            ]
           ],
           "sequentialminus": [
            [
             0,
             "#440154"
            ],
            [
             0.1111111111111111,
             "#482878"
            ],
            [
             0.2222222222222222,
             "#3e4989"
            ],
            [
             0.3333333333333333,
             "#31688e"
            ],
            [
             0.4444444444444444,
             "#26828e"
            ],
            [
             0.5555555555555556,
             "#1f9e89"
            ],
            [
             0.6666666666666666,
             "#35b779"
            ],
            [
             0.7777777777777778,
             "#6ece58"
            ],
            [
             0.8888888888888888,
             "#b5de2b"
            ],
            [
             1,
             "#fde725"
            ]
           ]
          },
          "colorway": [
           "#1F77B4",
           "#FF7F0E",
           "#2CA02C",
           "#D62728",
           "#9467BD",
           "#8C564B",
           "#E377C2",
           "#7F7F7F",
           "#BCBD22",
           "#17BECF"
          ],
          "font": {
           "color": "rgb(36,36,36)"
          },
          "geo": {
           "bgcolor": "white",
           "lakecolor": "white",
           "landcolor": "white",
           "showlakes": true,
           "showland": true,
           "subunitcolor": "white"
          },
          "hoverlabel": {
           "align": "left"
          },
          "hovermode": "closest",
          "mapbox": {
           "style": "light"
          },
          "paper_bgcolor": "white",
          "plot_bgcolor": "white",
          "polar": {
           "angularaxis": {
            "gridcolor": "rgb(232,232,232)",
            "linecolor": "rgb(36,36,36)",
            "showgrid": false,
            "showline": true,
            "ticks": "outside"
           },
           "bgcolor": "white",
           "radialaxis": {
            "gridcolor": "rgb(232,232,232)",
            "linecolor": "rgb(36,36,36)",
            "showgrid": false,
            "showline": true,
            "ticks": "outside"
           }
          },
          "scene": {
           "xaxis": {
            "backgroundcolor": "white",
            "gridcolor": "rgb(232,232,232)",
            "gridwidth": 2,
            "linecolor": "rgb(36,36,36)",
            "showbackground": true,
            "showgrid": false,
            "showline": true,
            "ticks": "outside",
            "zeroline": false,
            "zerolinecolor": "rgb(36,36,36)"
           },
           "yaxis": {
            "backgroundcolor": "white",
            "gridcolor": "rgb(232,232,232)",
            "gridwidth": 2,
            "linecolor": "rgb(36,36,36)",
            "showbackground": true,
            "showgrid": false,
            "showline": true,
            "ticks": "outside",
            "zeroline": false,
            "zerolinecolor": "rgb(36,36,36)"
           },
           "zaxis": {
            "backgroundcolor": "white",
            "gridcolor": "rgb(232,232,232)",
            "gridwidth": 2,
            "linecolor": "rgb(36,36,36)",
            "showbackground": true,
            "showgrid": false,
            "showline": true,
            "ticks": "outside",
            "zeroline": false,
            "zerolinecolor": "rgb(36,36,36)"
           }
          },
          "shapedefaults": {
           "fillcolor": "black",
           "line": {
            "width": 0
           },
           "opacity": 0.3
          },
          "ternary": {
           "aaxis": {
            "gridcolor": "rgb(232,232,232)",
            "linecolor": "rgb(36,36,36)",
            "showgrid": false,
            "showline": true,
            "ticks": "outside"
           },
           "baxis": {
            "gridcolor": "rgb(232,232,232)",
            "linecolor": "rgb(36,36,36)",
            "showgrid": false,
            "showline": true,
            "ticks": "outside"
           },
           "bgcolor": "white",
           "caxis": {
            "gridcolor": "rgb(232,232,232)",
            "linecolor": "rgb(36,36,36)",
            "showgrid": false,
            "showline": true,
            "ticks": "outside"
           }
          },
          "title": {
           "x": 0.05
          },
          "xaxis": {
           "automargin": true,
           "gridcolor": "rgb(232,232,232)",
           "linecolor": "rgb(36,36,36)",
           "showgrid": false,
           "showline": true,
           "ticks": "outside",
           "title": {
            "standoff": 15
           },
           "zeroline": false,
           "zerolinecolor": "rgb(36,36,36)"
          },
          "yaxis": {
           "automargin": true,
           "gridcolor": "rgb(232,232,232)",
           "linecolor": "rgb(36,36,36)",
           "showgrid": false,
           "showline": true,
           "ticks": "outside",
           "title": {
            "standoff": 15
           },
           "zeroline": false,
           "zerolinecolor": "rgb(36,36,36)"
          }
         }
        },
        "width": 420,
        "xaxis": {
         "anchor": "y",
         "categoryarray": [
          "Arts",
          "Biology",
          "Biomedical Research",
          "Chemistry",
          "Clinical Medicine",
          "Earth and Space",
          "Engineering and Technology",
          "Health",
          "Humanities",
          "Mathematics",
          "Physics",
          "Professional Fields",
          "Psychology",
          "Social Sciences"
         ],
         "categoryorder": "array",
         "domain": [
          0,
          0.94
         ],
         "tickangle": 35,
         "ticktext": [
          "Arts",
          "Biology",
          "Biomedical",
          "Chemistry",
          "Medicine",
          "Earth & Space",
          "Engineering",
          "Health",
          "Humanities",
          "Mathematics",
          "Physics",
          "Professional",
          "Psychology",
          "Soc Sci"
         ],
         "tickvals": [
          "Arts",
          "Biology",
          "Biomedical Research",
          "Chemistry",
          "Clinical Medicine",
          "Earth and Space",
          "Engineering and Technology",
          "Health",
          "Humanities",
          "Mathematics",
          "Physics",
          "Professional Fields",
          "Psychology",
          "Social Sciences"
         ],
         "title": {
          "standoff": 0,
          "text": "Journal field"
         }
        },
        "yaxis": {
         "anchor": "x",
         "domain": [
          0,
          1
         ],
         "dtick": 40000,
         "minor": {
          "nticks": 5,
          "showgrid": true
         },
         "range": [
          0,
          160000
         ],
         "showgrid": true,
         "title": {
          "standoff": 0,
          "text": "# reviewers"
         }
        },
        "yaxis2": {
         "anchor": "x",
         "dtick": 0.25,
         "minor": {
          "nticks": 5,
          "showgrid": false
         },
         "overlaying": "y",
         "range": [
          0,
          1
         ],
         "showgrid": false,
         "side": "right",
         "tickformat": ".0%",
         "title": {
          "standoff": 0,
          "text": "% field-specific reviewers"
         }
        }
       }
      }
     },
     "metadata": {},
     "output_type": "display_data"
    }
   ],
   "source": [
    "# count total and exclusive reviewers\n",
    "\n",
    "df = pd.read_excel(os.path.join(root, r\"table_in_doc.xlsx\"), sheet_name=0)\n",
    "df[\"Perc. of group-exclusive reviewers\"] = df[\"Perc. of group-exclusive reviewers\"]/100\n",
    "color_dict, order = get_palette(attr=\"disc\")\n",
    "df[\"color\"] = df[\"field\"].map(color_dict)\n",
    "\n",
    "# draw bar charts\n",
    "fig = make_subplots(specs=[[{\"secondary_y\": True}]])\n",
    "fig.add_trace(go.Bar(x=df[\"field\"],\n",
    "                     y=df[\"Reviewers\"],\n",
    "                     name=\"Reviewer\",\n",
    "                     opacity=0.6,\n",
    "                     marker=dict(color=df[\"color\"])),\n",
    "              )\n",
    "\n",
    "fig.add_trace(go.Bar(x=df[\"field\"],\n",
    "                     y=df[\"Group-exclusive reviewers\"],\n",
    "                     name=\"Field-specific reviewer\",\n",
    "                     marker=dict(color=df[\"color\"],\n",
    "                                 pattern=dict(shape=\"/\"),)),\n",
    "              )\n",
    "\n",
    "fig.add_trace(go.Scatter(x=df[\"field\"],\n",
    "                         y=df[\"Perc. of group-exclusive reviewers\"],\n",
    "                         name=\"%\",\n",
    "                         line=dict(color=\"black\"),\n",
    "                         hovertemplate=\"%{y:.2%}\",\n",
    "                         marker=dict(symbol='diamond')\n",
    "                         ),\n",
    "              secondary_y=True,\n",
    "              )\n",
    "\n",
    "fig.update_layout(height=300,\n",
    "                  width=420,\n",
    "                  template=\"simple_white\",\n",
    "                  font=dict(family=\"Arial\"),\n",
    "                  legend=dict(yanchor=\"top\",\n",
    "                              y=1.1,\n",
    "                              xanchor=\"right\",\n",
    "                              x=0.95,\n",
    "                              bgcolor='rgba(0,0,0,0)'),\n",
    "                  barmode='overlay',\n",
    "                  margin=dict(l=30, r=30, t=30, b=30),\n",
    "                  )\n",
    "\n",
    "fig.update_xaxes(categoryorder=\"array\",\n",
    "                 categoryarray=order,\n",
    "                 title=dict(text=\"Journal field\",\n",
    "                            standoff=0,\n",
    "                            ),\n",
    "                 tickvals=order,\n",
    "                 ticktext=field_xticks,\n",
    "                 tickangle=35,\n",
    "                 )\n",
    "\n",
    "fig.update_yaxes(showgrid=True,\n",
    "                 range=(0, 160000),\n",
    "                 dtick=160000/4,\n",
    "                 minor=dict(nticks=5,\n",
    "                            showgrid=True),\n",
    "                 title=dict(text=\"# reviewers\",\n",
    "                            standoff=0.0),\n",
    "                 )\n",
    "\n",
    "fig.update_yaxes(showgrid=False,\n",
    "                 range=(0, 1),\n",
    "                 dtick=1/4,\n",
    "                 tickformat=\".0%\",\n",
    "                 minor=dict(nticks=5,\n",
    "                            showgrid=False),\n",
    "                 title=dict(text=\"% field-specific reviewers\",\n",
    "                            standoff=0.0),\n",
    "                 secondary_y=True\n",
    "                 )\n",
    "fig.show()\n",
    "fig.write_image(os.path.join(graph_root, \"no_rev_disc.pdf\"))"
   ]
  },
  {
   "cell_type": "code",
   "execution_count": 11,
   "id": "3653b003",
   "metadata": {},
   "outputs": [
    {
     "data": {
      "text/html": [
       "<div>\n",
       "<style scoped>\n",
       "    .dataframe tbody tr th:only-of-type {\n",
       "        vertical-align: middle;\n",
       "    }\n",
       "\n",
       "    .dataframe tbody tr th {\n",
       "        vertical-align: top;\n",
       "    }\n",
       "\n",
       "    .dataframe thead th {\n",
       "        text-align: right;\n",
       "    }\n",
       "</style>\n",
       "<table border=\"1\" class=\"dataframe\">\n",
       "  <thead>\n",
       "    <tr style=\"text-align: right;\">\n",
       "      <th></th>\n",
       "      <th>mean</th>\n",
       "      <th>std</th>\n",
       "      <th>median</th>\n",
       "    </tr>\n",
       "    <tr>\n",
       "      <th>d2</th>\n",
       "      <th></th>\n",
       "      <th></th>\n",
       "      <th></th>\n",
       "    </tr>\n",
       "  </thead>\n",
       "  <tbody>\n",
       "    <tr>\n",
       "      <th>Arts</th>\n",
       "      <td>42.833333</td>\n",
       "      <td>46.642886</td>\n",
       "      <td>18.0</td>\n",
       "    </tr>\n",
       "    <tr>\n",
       "      <th>Biology</th>\n",
       "      <td>175.765391</td>\n",
       "      <td>345.751823</td>\n",
       "      <td>34.0</td>\n",
       "    </tr>\n",
       "    <tr>\n",
       "      <th>Biomedical Research</th>\n",
       "      <td>190.485269</td>\n",
       "      <td>596.152211</td>\n",
       "      <td>32.0</td>\n",
       "    </tr>\n",
       "    <tr>\n",
       "      <th>Chemistry</th>\n",
       "      <td>124.217054</td>\n",
       "      <td>270.842538</td>\n",
       "      <td>20.0</td>\n",
       "    </tr>\n",
       "    <tr>\n",
       "      <th>Clinical Medicine</th>\n",
       "      <td>181.124107</td>\n",
       "      <td>443.273382</td>\n",
       "      <td>48.0</td>\n",
       "    </tr>\n",
       "    <tr>\n",
       "      <th>Earth and Space</th>\n",
       "      <td>107.744868</td>\n",
       "      <td>305.408746</td>\n",
       "      <td>23.0</td>\n",
       "    </tr>\n",
       "    <tr>\n",
       "      <th>Engineering and Technology</th>\n",
       "      <td>236.701564</td>\n",
       "      <td>1005.198473</td>\n",
       "      <td>38.0</td>\n",
       "    </tr>\n",
       "    <tr>\n",
       "      <th>Health</th>\n",
       "      <td>152.517928</td>\n",
       "      <td>217.633901</td>\n",
       "      <td>64.0</td>\n",
       "    </tr>\n",
       "    <tr>\n",
       "      <th>Humanities</th>\n",
       "      <td>51.209091</td>\n",
       "      <td>97.090339</td>\n",
       "      <td>24.0</td>\n",
       "    </tr>\n",
       "    <tr>\n",
       "      <th>Mathematics</th>\n",
       "      <td>138.609091</td>\n",
       "      <td>241.714787</td>\n",
       "      <td>31.0</td>\n",
       "    </tr>\n",
       "    <tr>\n",
       "      <th>Physics</th>\n",
       "      <td>226.495370</td>\n",
       "      <td>451.746420</td>\n",
       "      <td>48.5</td>\n",
       "    </tr>\n",
       "    <tr>\n",
       "      <th>Professional Fields</th>\n",
       "      <td>111.646930</td>\n",
       "      <td>148.254386</td>\n",
       "      <td>54.5</td>\n",
       "    </tr>\n",
       "    <tr>\n",
       "      <th>Psychology</th>\n",
       "      <td>113.656250</td>\n",
       "      <td>155.219790</td>\n",
       "      <td>57.0</td>\n",
       "    </tr>\n",
       "    <tr>\n",
       "      <th>Social Sciences</th>\n",
       "      <td>117.813765</td>\n",
       "      <td>333.431598</td>\n",
       "      <td>56.0</td>\n",
       "    </tr>\n",
       "  </tbody>\n",
       "</table>\n",
       "</div>"
      ],
      "text/plain": [
       "                                  mean          std  median\n",
       "d2                                                         \n",
       "Arts                         42.833333    46.642886    18.0\n",
       "Biology                     175.765391   345.751823    34.0\n",
       "Biomedical Research         190.485269   596.152211    32.0\n",
       "Chemistry                   124.217054   270.842538    20.0\n",
       "Clinical Medicine           181.124107   443.273382    48.0\n",
       "Earth and Space             107.744868   305.408746    23.0\n",
       "Engineering and Technology  236.701564  1005.198473    38.0\n",
       "Health                      152.517928   217.633901    64.0\n",
       "Humanities                   51.209091    97.090339    24.0\n",
       "Mathematics                 138.609091   241.714787    31.0\n",
       "Physics                     226.495370   451.746420    48.5\n",
       "Professional Fields         111.646930   148.254386    54.5\n",
       "Psychology                  113.656250   155.219790    57.0\n",
       "Social Sciences             117.813765   333.431598    56.0"
      ]
     },
     "execution_count": 11,
     "metadata": {},
     "output_type": "execute_result"
    }
   ],
   "source": [
    "# calculate median and mean of reviewerxxs\n",
    "\n",
    "df = pd.read_csv(os.path.join(root, r\"reviewer_stat/d2_reviewer.csv\"))\n",
    "df.groupby(\"d2\")[\"reviewer_id\"].agg([np.mean, np.std, np.median])"
   ]
  },
  {
   "cell_type": "code",
   "execution_count": 5,
   "id": "1ef785ef",
   "metadata": {},
   "outputs": [
    {
     "data": {
      "text/html": [
       "<div>\n",
       "<style scoped>\n",
       "    .dataframe tbody tr th:only-of-type {\n",
       "        vertical-align: middle;\n",
       "    }\n",
       "\n",
       "    .dataframe tbody tr th {\n",
       "        vertical-align: top;\n",
       "    }\n",
       "\n",
       "    .dataframe thead th {\n",
       "        text-align: right;\n",
       "    }\n",
       "</style>\n",
       "<table border=\"1\" class=\"dataframe\">\n",
       "  <thead>\n",
       "    <tr style=\"text-align: right;\">\n",
       "      <th></th>\n",
       "      <th>mean</th>\n",
       "      <th>std</th>\n",
       "      <th>median</th>\n",
       "    </tr>\n",
       "    <tr>\n",
       "      <th>Field</th>\n",
       "      <th></th>\n",
       "      <th></th>\n",
       "      <th></th>\n",
       "    </tr>\n",
       "  </thead>\n",
       "  <tbody>\n",
       "    <tr>\n",
       "      <th>Arts</th>\n",
       "      <td>55.666667</td>\n",
       "      <td>71.188234</td>\n",
       "      <td>22.5</td>\n",
       "    </tr>\n",
       "    <tr>\n",
       "      <th>Biology</th>\n",
       "      <td>822.936772</td>\n",
       "      <td>1696.352719</td>\n",
       "      <td>235.0</td>\n",
       "    </tr>\n",
       "    <tr>\n",
       "      <th>Biomedical Research</th>\n",
       "      <td>1013.634315</td>\n",
       "      <td>3394.253554</td>\n",
       "      <td>283.0</td>\n",
       "    </tr>\n",
       "    <tr>\n",
       "      <th>Chemistry</th>\n",
       "      <td>554.848837</td>\n",
       "      <td>806.819675</td>\n",
       "      <td>265.5</td>\n",
       "    </tr>\n",
       "    <tr>\n",
       "      <th>Clinical Medicine</th>\n",
       "      <td>670.564003</td>\n",
       "      <td>1390.928556</td>\n",
       "      <td>275.0</td>\n",
       "    </tr>\n",
       "    <tr>\n",
       "      <th>Earth and Space</th>\n",
       "      <td>433.909091</td>\n",
       "      <td>927.688202</td>\n",
       "      <td>173.0</td>\n",
       "    </tr>\n",
       "    <tr>\n",
       "      <th>Engineering and Technology</th>\n",
       "      <td>789.233454</td>\n",
       "      <td>2269.217975</td>\n",
       "      <td>242.0</td>\n",
       "    </tr>\n",
       "    <tr>\n",
       "      <th>Health</th>\n",
       "      <td>445.111554</td>\n",
       "      <td>642.420040</td>\n",
       "      <td>204.0</td>\n",
       "    </tr>\n",
       "    <tr>\n",
       "      <th>Humanities</th>\n",
       "      <td>85.163636</td>\n",
       "      <td>230.805988</td>\n",
       "      <td>24.5</td>\n",
       "    </tr>\n",
       "    <tr>\n",
       "      <th>Mathematics</th>\n",
       "      <td>423.636364</td>\n",
       "      <td>767.275972</td>\n",
       "      <td>127.5</td>\n",
       "    </tr>\n",
       "    <tr>\n",
       "      <th>Physics</th>\n",
       "      <td>953.333333</td>\n",
       "      <td>1633.195114</td>\n",
       "      <td>359.0</td>\n",
       "    </tr>\n",
       "    <tr>\n",
       "      <th>Professional Fields</th>\n",
       "      <td>260.506579</td>\n",
       "      <td>323.439523</td>\n",
       "      <td>144.0</td>\n",
       "    </tr>\n",
       "    <tr>\n",
       "      <th>Psychology</th>\n",
       "      <td>441.722656</td>\n",
       "      <td>655.497959</td>\n",
       "      <td>205.5</td>\n",
       "    </tr>\n",
       "    <tr>\n",
       "      <th>Social Sciences</th>\n",
       "      <td>342.611336</td>\n",
       "      <td>638.446570</td>\n",
       "      <td>154.0</td>\n",
       "    </tr>\n",
       "  </tbody>\n",
       "</table>\n",
       "</div>"
      ],
      "text/plain": [
       "                                   mean          std  median\n",
       "Field                                                       \n",
       "Arts                          55.666667    71.188234    22.5\n",
       "Biology                      822.936772  1696.352719   235.0\n",
       "Biomedical Research         1013.634315  3394.253554   283.0\n",
       "Chemistry                    554.848837   806.819675   265.5\n",
       "Clinical Medicine            670.564003  1390.928556   275.0\n",
       "Earth and Space              433.909091   927.688202   173.0\n",
       "Engineering and Technology   789.233454  2269.217975   242.0\n",
       "Health                       445.111554   642.420040   204.0\n",
       "Humanities                    85.163636   230.805988    24.5\n",
       "Mathematics                  423.636364   767.275972   127.5\n",
       "Physics                      953.333333  1633.195114   359.0\n",
       "Professional Fields          260.506579   323.439523   144.0\n",
       "Psychology                   441.722656   655.497959   205.5\n",
       "Social Sciences              342.611336   638.446570   154.0"
      ]
     },
     "execution_count": 5,
     "metadata": {},
     "output_type": "execute_result"
    }
   ],
   "source": [
    "# calculate median and mean\n",
    "\n",
    "df = pd.read_csv(os.path.join(root, r\"degree/disc_degree.csv\"))\n",
    "df.groupby(\"Field\")[\"Weighted degree\"].agg([np.mean, np.std, np.median])"
   ]
  },
  {
   "cell_type": "code",
   "execution_count": 88,
   "id": "9913d7c5",
   "metadata": {},
   "outputs": [
    {
     "data": {
      "application/vnd.plotly.v1+json": {
       "config": {
        "plotlyServerURL": "https://plot.ly"
       },
       "data": [
        {
         "alignmentgroup": "True",
         "cliponaxis": false,
         "error_y": {
          "array": [
           0.05336404339969267,
           0.02865491167509034,
           0.026651633187081157,
           0.03913540000660757,
           0.017754493316220605,
           0.04715567246322153,
           0.02910230343944366,
           0.04998807633749073,
           0.117850815012028,
           0.07943214714817023,
           0.06127487655517398,
           0.0427647098521496,
           0.04270410473323759,
           0.04577365717196304
          ]
         },
         "hovertemplate": "%{y:.2%}",
         "legendgroup": "",
         "marker": {
          "color": [
           "#C0C0C0",
           "#4CD300",
           "#008090",
           "#aed780",
           "#1AA3E8",
           "#7d4239",
           "#c683f8",
           "#7fff97",
           "#aeb404",
           "#9A05BF",
           "#0000ff",
           "#fc79c7",
           "#F70000",
           "#F7A000"
          ],
          "pattern": {
           "shape": ""
          }
         },
         "name": "",
         "offsetgroup": "",
         "orientation": "v",
         "showlegend": false,
         "textposition": "outside",
         "type": "bar",
         "x": [
          "Arts",
          "Biology",
          "Biomedical Research",
          "Chemistry",
          "Clinical Medicine",
          "Earth and Space",
          "Engineering and Technology",
          "Health",
          "Humanities",
          "Mathematics",
          "Physics",
          "Professional Fields",
          "Psychology",
          "Social Sciences"
         ],
         "xaxis": "x",
         "y": [
          0.03393927697095553,
          0.5646448689751602,
          0.39012541444122106,
          0.3809980901929426,
          0.6595491788964759,
          0.4427317307600859,
          0.6214508118869839,
          0.3173983694404752,
          0.3541518215930179,
          0.3258934131785894,
          0.4521196018306249,
          0.5084239210091227,
          0.3917286957267755,
          0.6111662426596013
         ],
         "yaxis": "y"
        }
       ],
       "layout": {
        "barmode": "relative",
        "font": {
         "family": "Arial"
        },
        "height": 300,
        "legend": {
         "tracegroupgap": 0
        },
        "margin": {
         "b": 30,
         "l": 30,
         "r": 30,
         "t": 30
        },
        "template": {
         "data": {
          "bar": [
           {
            "error_x": {
             "color": "rgb(36,36,36)"
            },
            "error_y": {
             "color": "rgb(36,36,36)"
            },
            "marker": {
             "line": {
              "color": "white",
              "width": 0.5
             },
             "pattern": {
              "fillmode": "overlay",
              "size": 10,
              "solidity": 0.2
             }
            },
            "type": "bar"
           }
          ],
          "barpolar": [
           {
            "marker": {
             "line": {
              "color": "white",
              "width": 0.5
             },
             "pattern": {
              "fillmode": "overlay",
              "size": 10,
              "solidity": 0.2
             }
            },
            "type": "barpolar"
           }
          ],
          "carpet": [
           {
            "aaxis": {
             "endlinecolor": "rgb(36,36,36)",
             "gridcolor": "white",
             "linecolor": "white",
             "minorgridcolor": "white",
             "startlinecolor": "rgb(36,36,36)"
            },
            "baxis": {
             "endlinecolor": "rgb(36,36,36)",
             "gridcolor": "white",
             "linecolor": "white",
             "minorgridcolor": "white",
             "startlinecolor": "rgb(36,36,36)"
            },
            "type": "carpet"
           }
          ],
          "choropleth": [
           {
            "colorbar": {
             "outlinewidth": 1,
             "tickcolor": "rgb(36,36,36)",
             "ticks": "outside"
            },
            "type": "choropleth"
           }
          ],
          "contour": [
           {
            "colorbar": {
             "outlinewidth": 1,
             "tickcolor": "rgb(36,36,36)",
             "ticks": "outside"
            },
            "colorscale": [
             [
              0,
              "#440154"
             ],
             [
              0.1111111111111111,
              "#482878"
             ],
             [
              0.2222222222222222,
              "#3e4989"
             ],
             [
              0.3333333333333333,
              "#31688e"
             ],
             [
              0.4444444444444444,
              "#26828e"
             ],
             [
              0.5555555555555556,
              "#1f9e89"
             ],
             [
              0.6666666666666666,
              "#35b779"
             ],
             [
              0.7777777777777778,
              "#6ece58"
             ],
             [
              0.8888888888888888,
              "#b5de2b"
             ],
             [
              1,
              "#fde725"
             ]
            ],
            "type": "contour"
           }
          ],
          "contourcarpet": [
           {
            "colorbar": {
             "outlinewidth": 1,
             "tickcolor": "rgb(36,36,36)",
             "ticks": "outside"
            },
            "type": "contourcarpet"
           }
          ],
          "heatmap": [
           {
            "colorbar": {
             "outlinewidth": 1,
             "tickcolor": "rgb(36,36,36)",
             "ticks": "outside"
            },
            "colorscale": [
             [
              0,
              "#440154"
             ],
             [
              0.1111111111111111,
              "#482878"
             ],
             [
              0.2222222222222222,
              "#3e4989"
             ],
             [
              0.3333333333333333,
              "#31688e"
             ],
             [
              0.4444444444444444,
              "#26828e"
             ],
             [
              0.5555555555555556,
              "#1f9e89"
             ],
             [
              0.6666666666666666,
              "#35b779"
             ],
             [
              0.7777777777777778,
              "#6ece58"
             ],
             [
              0.8888888888888888,
              "#b5de2b"
             ],
             [
              1,
              "#fde725"
             ]
            ],
            "type": "heatmap"
           }
          ],
          "heatmapgl": [
           {
            "colorbar": {
             "outlinewidth": 1,
             "tickcolor": "rgb(36,36,36)",
             "ticks": "outside"
            },
            "colorscale": [
             [
              0,
              "#440154"
             ],
             [
              0.1111111111111111,
              "#482878"
             ],
             [
              0.2222222222222222,
              "#3e4989"
             ],
             [
              0.3333333333333333,
              "#31688e"
             ],
             [
              0.4444444444444444,
              "#26828e"
             ],
             [
              0.5555555555555556,
              "#1f9e89"
             ],
             [
              0.6666666666666666,
              "#35b779"
             ],
             [
              0.7777777777777778,
              "#6ece58"
             ],
             [
              0.8888888888888888,
              "#b5de2b"
             ],
             [
              1,
              "#fde725"
             ]
            ],
            "type": "heatmapgl"
           }
          ],
          "histogram": [
           {
            "marker": {
             "line": {
              "color": "white",
              "width": 0.6
             }
            },
            "type": "histogram"
           }
          ],
          "histogram2d": [
           {
            "colorbar": {
             "outlinewidth": 1,
             "tickcolor": "rgb(36,36,36)",
             "ticks": "outside"
            },
            "colorscale": [
             [
              0,
              "#440154"
             ],
             [
              0.1111111111111111,
              "#482878"
             ],
             [
              0.2222222222222222,
              "#3e4989"
             ],
             [
              0.3333333333333333,
              "#31688e"
             ],
             [
              0.4444444444444444,
              "#26828e"
             ],
             [
              0.5555555555555556,
              "#1f9e89"
             ],
             [
              0.6666666666666666,
              "#35b779"
             ],
             [
              0.7777777777777778,
              "#6ece58"
             ],
             [
              0.8888888888888888,
              "#b5de2b"
             ],
             [
              1,
              "#fde725"
             ]
            ],
            "type": "histogram2d"
           }
          ],
          "histogram2dcontour": [
           {
            "colorbar": {
             "outlinewidth": 1,
             "tickcolor": "rgb(36,36,36)",
             "ticks": "outside"
            },
            "colorscale": [
             [
              0,
              "#440154"
             ],
             [
              0.1111111111111111,
              "#482878"
             ],
             [
              0.2222222222222222,
              "#3e4989"
             ],
             [
              0.3333333333333333,
              "#31688e"
             ],
             [
              0.4444444444444444,
              "#26828e"
             ],
             [
              0.5555555555555556,
              "#1f9e89"
             ],
             [
              0.6666666666666666,
              "#35b779"
             ],
             [
              0.7777777777777778,
              "#6ece58"
             ],
             [
              0.8888888888888888,
              "#b5de2b"
             ],
             [
              1,
              "#fde725"
             ]
            ],
            "type": "histogram2dcontour"
           }
          ],
          "mesh3d": [
           {
            "colorbar": {
             "outlinewidth": 1,
             "tickcolor": "rgb(36,36,36)",
             "ticks": "outside"
            },
            "type": "mesh3d"
           }
          ],
          "parcoords": [
           {
            "line": {
             "colorbar": {
              "outlinewidth": 1,
              "tickcolor": "rgb(36,36,36)",
              "ticks": "outside"
             }
            },
            "type": "parcoords"
           }
          ],
          "pie": [
           {
            "automargin": true,
            "type": "pie"
           }
          ],
          "scatter": [
           {
            "fillpattern": {
             "fillmode": "overlay",
             "size": 10,
             "solidity": 0.2
            },
            "type": "scatter"
           }
          ],
          "scatter3d": [
           {
            "line": {
             "colorbar": {
              "outlinewidth": 1,
              "tickcolor": "rgb(36,36,36)",
              "ticks": "outside"
             }
            },
            "marker": {
             "colorbar": {
              "outlinewidth": 1,
              "tickcolor": "rgb(36,36,36)",
              "ticks": "outside"
             }
            },
            "type": "scatter3d"
           }
          ],
          "scattercarpet": [
           {
            "marker": {
             "colorbar": {
              "outlinewidth": 1,
              "tickcolor": "rgb(36,36,36)",
              "ticks": "outside"
             }
            },
            "type": "scattercarpet"
           }
          ],
          "scattergeo": [
           {
            "marker": {
             "colorbar": {
              "outlinewidth": 1,
              "tickcolor": "rgb(36,36,36)",
              "ticks": "outside"
             }
            },
            "type": "scattergeo"
           }
          ],
          "scattergl": [
           {
            "marker": {
             "colorbar": {
              "outlinewidth": 1,
              "tickcolor": "rgb(36,36,36)",
              "ticks": "outside"
             }
            },
            "type": "scattergl"
           }
          ],
          "scattermapbox": [
           {
            "marker": {
             "colorbar": {
              "outlinewidth": 1,
              "tickcolor": "rgb(36,36,36)",
              "ticks": "outside"
             }
            },
            "type": "scattermapbox"
           }
          ],
          "scatterpolar": [
           {
            "marker": {
             "colorbar": {
              "outlinewidth": 1,
              "tickcolor": "rgb(36,36,36)",
              "ticks": "outside"
             }
            },
            "type": "scatterpolar"
           }
          ],
          "scatterpolargl": [
           {
            "marker": {
             "colorbar": {
              "outlinewidth": 1,
              "tickcolor": "rgb(36,36,36)",
              "ticks": "outside"
             }
            },
            "type": "scatterpolargl"
           }
          ],
          "scatterternary": [
           {
            "marker": {
             "colorbar": {
              "outlinewidth": 1,
              "tickcolor": "rgb(36,36,36)",
              "ticks": "outside"
             }
            },
            "type": "scatterternary"
           }
          ],
          "surface": [
           {
            "colorbar": {
             "outlinewidth": 1,
             "tickcolor": "rgb(36,36,36)",
             "ticks": "outside"
            },
            "colorscale": [
             [
              0,
              "#440154"
             ],
             [
              0.1111111111111111,
              "#482878"
             ],
             [
              0.2222222222222222,
              "#3e4989"
             ],
             [
              0.3333333333333333,
              "#31688e"
             ],
             [
              0.4444444444444444,
              "#26828e"
             ],
             [
              0.5555555555555556,
              "#1f9e89"
             ],
             [
              0.6666666666666666,
              "#35b779"
             ],
             [
              0.7777777777777778,
              "#6ece58"
             ],
             [
              0.8888888888888888,
              "#b5de2b"
             ],
             [
              1,
              "#fde725"
             ]
            ],
            "type": "surface"
           }
          ],
          "table": [
           {
            "cells": {
             "fill": {
              "color": "rgb(237,237,237)"
             },
             "line": {
              "color": "white"
             }
            },
            "header": {
             "fill": {
              "color": "rgb(217,217,217)"
             },
             "line": {
              "color": "white"
             }
            },
            "type": "table"
           }
          ]
         },
         "layout": {
          "annotationdefaults": {
           "arrowhead": 0,
           "arrowwidth": 1
          },
          "autotypenumbers": "strict",
          "coloraxis": {
           "colorbar": {
            "outlinewidth": 1,
            "tickcolor": "rgb(36,36,36)",
            "ticks": "outside"
           }
          },
          "colorscale": {
           "diverging": [
            [
             0,
             "rgb(103,0,31)"
            ],
            [
             0.1,
             "rgb(178,24,43)"
            ],
            [
             0.2,
             "rgb(214,96,77)"
            ],
            [
             0.3,
             "rgb(244,165,130)"
            ],
            [
             0.4,
             "rgb(253,219,199)"
            ],
            [
             0.5,
             "rgb(247,247,247)"
            ],
            [
             0.6,
             "rgb(209,229,240)"
            ],
            [
             0.7,
             "rgb(146,197,222)"
            ],
            [
             0.8,
             "rgb(67,147,195)"
            ],
            [
             0.9,
             "rgb(33,102,172)"
            ],
            [
             1,
             "rgb(5,48,97)"
            ]
           ],
           "sequential": [
            [
             0,
             "#440154"
            ],
            [
             0.1111111111111111,
             "#482878"
            ],
            [
             0.2222222222222222,
             "#3e4989"
            ],
            [
             0.3333333333333333,
             "#31688e"
            ],
            [
             0.4444444444444444,
             "#26828e"
            ],
            [
             0.5555555555555556,
             "#1f9e89"
            ],
            [
             0.6666666666666666,
             "#35b779"
            ],
            [
             0.7777777777777778,
             "#6ece58"
            ],
            [
             0.8888888888888888,
             "#b5de2b"
            ],
            [
             1,
             "#fde725"
            ]
           ],
           "sequentialminus": [
            [
             0,
             "#440154"
            ],
            [
             0.1111111111111111,
             "#482878"
            ],
            [
             0.2222222222222222,
             "#3e4989"
            ],
            [
             0.3333333333333333,
             "#31688e"
            ],
            [
             0.4444444444444444,
             "#26828e"
            ],
            [
             0.5555555555555556,
             "#1f9e89"
            ],
            [
             0.6666666666666666,
             "#35b779"
            ],
            [
             0.7777777777777778,
             "#6ece58"
            ],
            [
             0.8888888888888888,
             "#b5de2b"
            ],
            [
             1,
             "#fde725"
            ]
           ]
          },
          "colorway": [
           "#1F77B4",
           "#FF7F0E",
           "#2CA02C",
           "#D62728",
           "#9467BD",
           "#8C564B",
           "#E377C2",
           "#7F7F7F",
           "#BCBD22",
           "#17BECF"
          ],
          "font": {
           "color": "rgb(36,36,36)"
          },
          "geo": {
           "bgcolor": "white",
           "lakecolor": "white",
           "landcolor": "white",
           "showlakes": true,
           "showland": true,
           "subunitcolor": "white"
          },
          "hoverlabel": {
           "align": "left"
          },
          "hovermode": "closest",
          "mapbox": {
           "style": "light"
          },
          "paper_bgcolor": "white",
          "plot_bgcolor": "white",
          "polar": {
           "angularaxis": {
            "gridcolor": "rgb(232,232,232)",
            "linecolor": "rgb(36,36,36)",
            "showgrid": false,
            "showline": true,
            "ticks": "outside"
           },
           "bgcolor": "white",
           "radialaxis": {
            "gridcolor": "rgb(232,232,232)",
            "linecolor": "rgb(36,36,36)",
            "showgrid": false,
            "showline": true,
            "ticks": "outside"
           }
          },
          "scene": {
           "xaxis": {
            "backgroundcolor": "white",
            "gridcolor": "rgb(232,232,232)",
            "gridwidth": 2,
            "linecolor": "rgb(36,36,36)",
            "showbackground": true,
            "showgrid": false,
            "showline": true,
            "ticks": "outside",
            "zeroline": false,
            "zerolinecolor": "rgb(36,36,36)"
           },
           "yaxis": {
            "backgroundcolor": "white",
            "gridcolor": "rgb(232,232,232)",
            "gridwidth": 2,
            "linecolor": "rgb(36,36,36)",
            "showbackground": true,
            "showgrid": false,
            "showline": true,
            "ticks": "outside",
            "zeroline": false,
            "zerolinecolor": "rgb(36,36,36)"
           },
           "zaxis": {
            "backgroundcolor": "white",
            "gridcolor": "rgb(232,232,232)",
            "gridwidth": 2,
            "linecolor": "rgb(36,36,36)",
            "showbackground": true,
            "showgrid": false,
            "showline": true,
            "ticks": "outside",
            "zeroline": false,
            "zerolinecolor": "rgb(36,36,36)"
           }
          },
          "shapedefaults": {
           "fillcolor": "black",
           "line": {
            "width": 0
           },
           "opacity": 0.3
          },
          "ternary": {
           "aaxis": {
            "gridcolor": "rgb(232,232,232)",
            "linecolor": "rgb(36,36,36)",
            "showgrid": false,
            "showline": true,
            "ticks": "outside"
           },
           "baxis": {
            "gridcolor": "rgb(232,232,232)",
            "linecolor": "rgb(36,36,36)",
            "showgrid": false,
            "showline": true,
            "ticks": "outside"
           },
           "bgcolor": "white",
           "caxis": {
            "gridcolor": "rgb(232,232,232)",
            "linecolor": "rgb(36,36,36)",
            "showgrid": false,
            "showline": true,
            "ticks": "outside"
           }
          },
          "title": {
           "x": 0.05
          },
          "xaxis": {
           "automargin": true,
           "gridcolor": "rgb(232,232,232)",
           "linecolor": "rgb(36,36,36)",
           "showgrid": false,
           "showline": true,
           "ticks": "outside",
           "title": {
            "standoff": 15
           },
           "zeroline": false,
           "zerolinecolor": "rgb(36,36,36)"
          },
          "yaxis": {
           "automargin": true,
           "gridcolor": "rgb(232,232,232)",
           "linecolor": "rgb(36,36,36)",
           "showgrid": false,
           "showline": true,
           "ticks": "outside",
           "title": {
            "standoff": 15
           },
           "zeroline": false,
           "zerolinecolor": "rgb(36,36,36)"
          }
         }
        },
        "width": 400,
        "xaxis": {
         "anchor": "y",
         "categoryarray": [
          "Arts",
          "Biology",
          "Biomedical Research",
          "Chemistry",
          "Clinical Medicine",
          "Earth and Space",
          "Engineering and Technology",
          "Health",
          "Humanities",
          "Mathematics",
          "Physics",
          "Professional Fields",
          "Psychology",
          "Social Sciences"
         ],
         "categoryorder": "array",
         "domain": [
          0,
          1
         ],
         "tickangle": 35,
         "ticktext": [
          "Arts",
          "Biology",
          "Biomedical",
          "Chemistry",
          "Medicine",
          "Earth & Space",
          "Engineering",
          "Health",
          "Humanities",
          "Mathematics",
          "Physics",
          "Professional",
          "Psychology",
          "Soc Sci"
         ],
         "tickvals": [
          "Arts",
          "Biology",
          "Biomedical Research",
          "Chemistry",
          "Clinical Medicine",
          "Earth and Space",
          "Engineering and Technology",
          "Health",
          "Humanities",
          "Mathematics",
          "Physics",
          "Professional Fields",
          "Psychology",
          "Social Sciences"
         ],
         "title": {
          "standoff": 0,
          "text": "Journal field"
         }
        },
        "yaxis": {
         "anchor": "x",
         "domain": [
          0,
          1
         ],
         "minor": {
          "nticks": 5,
          "showgrid": true
         },
         "showgrid": true,
         "tickformat": ".0%",
         "title": {
          "standoff": 0,
          "text": "Average % within-field degrees"
         }
        }
       }
      }
     },
     "metadata": {},
     "output_type": "display_data"
    }
   ],
   "source": [
    "df = pd.read_csv(os.path.join(root, r\"intra-group/disc_intra_group.csv\"))\n",
    "x='Field'\n",
    "y='% intra-group weighted degree'\n",
    "color_dict, order = get_palette(attr=\"disc\")\n",
    "base = df.groupby(x)[y].agg([lambda x: mean_confidence_interval(x)[0], lambda x: mean_confidence_interval(x)[1]]).reset_index()\n",
    "base.columns=[\"field\", \"mean\", \"ci\"]\n",
    "\n",
    "# bar chart\n",
    "base[\"color\"] = base[\"field\"].map(color_dict)\n",
    "\n",
    "# draw bar charts\n",
    "fig = px.bar(base,\n",
    "             x=\"field\",\n",
    "             y=\"mean\",\n",
    "             error_y=\"ci\")\n",
    "\n",
    "fig.update_traces(marker=dict(color=base[\"color\"]),\n",
    "                  textposition=\"outside\",\n",
    "                  hovertemplate=\"%{y:.2%}\",\n",
    "                  cliponaxis=False)\n",
    "\n",
    "fig.update_layout(height=300,\n",
    "                  width=400,\n",
    "                  template=\"simple_white\",\n",
    "                  font=dict(family=\"Arial\"),\n",
    "                  margin=dict(l=30, r=30, t=30, b=30),\n",
    "                  )\n",
    "\n",
    "fig.update_xaxes(categoryorder=\"array\",\n",
    "                 categoryarray=order,\n",
    "                 title=dict(text=\"Journal field\",\n",
    "                            standoff=0,\n",
    "                            ),\n",
    "                 tickvals=order,\n",
    "                 ticktext=field_xticks,\n",
    "                 tickangle=35,\n",
    "                 )\n",
    "\n",
    "fig.update_yaxes(showgrid=True,\n",
    "                 tickformat=\".0%\",\n",
    "                 minor=dict(nticks=5,\n",
    "                            showgrid=True),\n",
    "                 title=dict(text=\"Average % within-field degrees\",\n",
    "                            standoff=0.0),\n",
    "                 )\n",
    "fig.show()\n",
    "fig.write_image(os.path.join(graph_root, \"perc_within_disc.pdf\"))"
   ]
  },
  {
   "cell_type": "code",
   "execution_count": 25,
   "id": "479bb07e",
   "metadata": {},
   "outputs": [
    {
     "data": {
      "application/vnd.plotly.v1+json": {
       "config": {
        "plotlyServerURL": "https://plot.ly"
       },
       "data": [
        {
         "alignmentgroup": "True",
         "cliponaxis": false,
         "error_y": {
          "array": [
           0.25877775556219446,
           0.018765040807047308,
           0.022525276292889126,
           0.02579776739377098,
           0.015035774815487573,
           0.02666908695820053,
           0.011792021508926135,
           0.05912480289216187,
           0.09609688281032626,
           0.03822831442479918,
           0.02138372425100849,
           0.03626902529302066,
           0.045962742544239266,
           0.0318126877588558
          ]
         },
         "hovertemplate": "field=%{x}<br>mean=%{y}<extra></extra>",
         "legendgroup": "",
         "marker": {
          "color": [
           "#C0C0C0",
           "#4CD300",
           "#008090",
           "#aed780",
           "#1AA3E8",
           "#7d4239",
           "#c683f8",
           "#7fff97",
           "#aeb404",
           "#9A05BF",
           "#0000ff",
           "#fc79c7",
           "#F70000",
           "#F7A000"
          ],
          "pattern": {
           "shape": ""
          }
         },
         "name": "",
         "offsetgroup": "",
         "orientation": "v",
         "showlegend": false,
         "textposition": "outside",
         "type": "bar",
         "x": [
          "Arts",
          "Biology",
          "Biomedical Research",
          "Chemistry",
          "Clinical Medicine",
          "Earth and Space",
          "Engineering and Technology",
          "Health",
          "Humanities",
          "Mathematics",
          "Physics",
          "Professional Fields",
          "Psychology",
          "Social Sciences"
         ],
         "xaxis": "x",
         "y": [
          0.4396902977548139,
          0.2386657929391512,
          0.2379654385509947,
          0.15486087592963346,
          0.27000495800078744,
          0.19949707924506496,
          0.14111266868048422,
          0.5018775179225429,
          0.3605730444404617,
          0.151174635026521,
          0.13499245049214334,
          0.399343012079717,
          0.3988784400667317,
          0.3364768828757937
         ],
         "yaxis": "y"
        }
       ],
       "layout": {
        "barmode": "relative",
        "font": {
         "family": "Arial"
        },
        "height": 350,
        "legend": {
         "tracegroupgap": 0
        },
        "margin": {
         "t": 60
        },
        "template": {
         "data": {
          "bar": [
           {
            "error_x": {
             "color": "rgb(36,36,36)"
            },
            "error_y": {
             "color": "rgb(36,36,36)"
            },
            "marker": {
             "line": {
              "color": "white",
              "width": 0.5
             },
             "pattern": {
              "fillmode": "overlay",
              "size": 10,
              "solidity": 0.2
             }
            },
            "type": "bar"
           }
          ],
          "barpolar": [
           {
            "marker": {
             "line": {
              "color": "white",
              "width": 0.5
             },
             "pattern": {
              "fillmode": "overlay",
              "size": 10,
              "solidity": 0.2
             }
            },
            "type": "barpolar"
           }
          ],
          "carpet": [
           {
            "aaxis": {
             "endlinecolor": "rgb(36,36,36)",
             "gridcolor": "white",
             "linecolor": "white",
             "minorgridcolor": "white",
             "startlinecolor": "rgb(36,36,36)"
            },
            "baxis": {
             "endlinecolor": "rgb(36,36,36)",
             "gridcolor": "white",
             "linecolor": "white",
             "minorgridcolor": "white",
             "startlinecolor": "rgb(36,36,36)"
            },
            "type": "carpet"
           }
          ],
          "choropleth": [
           {
            "colorbar": {
             "outlinewidth": 1,
             "tickcolor": "rgb(36,36,36)",
             "ticks": "outside"
            },
            "type": "choropleth"
           }
          ],
          "contour": [
           {
            "colorbar": {
             "outlinewidth": 1,
             "tickcolor": "rgb(36,36,36)",
             "ticks": "outside"
            },
            "colorscale": [
             [
              0,
              "#440154"
             ],
             [
              0.1111111111111111,
              "#482878"
             ],
             [
              0.2222222222222222,
              "#3e4989"
             ],
             [
              0.3333333333333333,
              "#31688e"
             ],
             [
              0.4444444444444444,
              "#26828e"
             ],
             [
              0.5555555555555556,
              "#1f9e89"
             ],
             [
              0.6666666666666666,
              "#35b779"
             ],
             [
              0.7777777777777778,
              "#6ece58"
             ],
             [
              0.8888888888888888,
              "#b5de2b"
             ],
             [
              1,
              "#fde725"
             ]
            ],
            "type": "contour"
           }
          ],
          "contourcarpet": [
           {
            "colorbar": {
             "outlinewidth": 1,
             "tickcolor": "rgb(36,36,36)",
             "ticks": "outside"
            },
            "type": "contourcarpet"
           }
          ],
          "heatmap": [
           {
            "colorbar": {
             "outlinewidth": 1,
             "tickcolor": "rgb(36,36,36)",
             "ticks": "outside"
            },
            "colorscale": [
             [
              0,
              "#440154"
             ],
             [
              0.1111111111111111,
              "#482878"
             ],
             [
              0.2222222222222222,
              "#3e4989"
             ],
             [
              0.3333333333333333,
              "#31688e"
             ],
             [
              0.4444444444444444,
              "#26828e"
             ],
             [
              0.5555555555555556,
              "#1f9e89"
             ],
             [
              0.6666666666666666,
              "#35b779"
             ],
             [
              0.7777777777777778,
              "#6ece58"
             ],
             [
              0.8888888888888888,
              "#b5de2b"
             ],
             [
              1,
              "#fde725"
             ]
            ],
            "type": "heatmap"
           }
          ],
          "heatmapgl": [
           {
            "colorbar": {
             "outlinewidth": 1,
             "tickcolor": "rgb(36,36,36)",
             "ticks": "outside"
            },
            "colorscale": [
             [
              0,
              "#440154"
             ],
             [
              0.1111111111111111,
              "#482878"
             ],
             [
              0.2222222222222222,
              "#3e4989"
             ],
             [
              0.3333333333333333,
              "#31688e"
             ],
             [
              0.4444444444444444,
              "#26828e"
             ],
             [
              0.5555555555555556,
              "#1f9e89"
             ],
             [
              0.6666666666666666,
              "#35b779"
             ],
             [
              0.7777777777777778,
              "#6ece58"
             ],
             [
              0.8888888888888888,
              "#b5de2b"
             ],
             [
              1,
              "#fde725"
             ]
            ],
            "type": "heatmapgl"
           }
          ],
          "histogram": [
           {
            "marker": {
             "line": {
              "color": "white",
              "width": 0.6
             }
            },
            "type": "histogram"
           }
          ],
          "histogram2d": [
           {
            "colorbar": {
             "outlinewidth": 1,
             "tickcolor": "rgb(36,36,36)",
             "ticks": "outside"
            },
            "colorscale": [
             [
              0,
              "#440154"
             ],
             [
              0.1111111111111111,
              "#482878"
             ],
             [
              0.2222222222222222,
              "#3e4989"
             ],
             [
              0.3333333333333333,
              "#31688e"
             ],
             [
              0.4444444444444444,
              "#26828e"
             ],
             [
              0.5555555555555556,
              "#1f9e89"
             ],
             [
              0.6666666666666666,
              "#35b779"
             ],
             [
              0.7777777777777778,
              "#6ece58"
             ],
             [
              0.8888888888888888,
              "#b5de2b"
             ],
             [
              1,
              "#fde725"
             ]
            ],
            "type": "histogram2d"
           }
          ],
          "histogram2dcontour": [
           {
            "colorbar": {
             "outlinewidth": 1,
             "tickcolor": "rgb(36,36,36)",
             "ticks": "outside"
            },
            "colorscale": [
             [
              0,
              "#440154"
             ],
             [
              0.1111111111111111,
              "#482878"
             ],
             [
              0.2222222222222222,
              "#3e4989"
             ],
             [
              0.3333333333333333,
              "#31688e"
             ],
             [
              0.4444444444444444,
              "#26828e"
             ],
             [
              0.5555555555555556,
              "#1f9e89"
             ],
             [
              0.6666666666666666,
              "#35b779"
             ],
             [
              0.7777777777777778,
              "#6ece58"
             ],
             [
              0.8888888888888888,
              "#b5de2b"
             ],
             [
              1,
              "#fde725"
             ]
            ],
            "type": "histogram2dcontour"
           }
          ],
          "mesh3d": [
           {
            "colorbar": {
             "outlinewidth": 1,
             "tickcolor": "rgb(36,36,36)",
             "ticks": "outside"
            },
            "type": "mesh3d"
           }
          ],
          "parcoords": [
           {
            "line": {
             "colorbar": {
              "outlinewidth": 1,
              "tickcolor": "rgb(36,36,36)",
              "ticks": "outside"
             }
            },
            "type": "parcoords"
           }
          ],
          "pie": [
           {
            "automargin": true,
            "type": "pie"
           }
          ],
          "scatter": [
           {
            "fillpattern": {
             "fillmode": "overlay",
             "size": 10,
             "solidity": 0.2
            },
            "type": "scatter"
           }
          ],
          "scatter3d": [
           {
            "line": {
             "colorbar": {
              "outlinewidth": 1,
              "tickcolor": "rgb(36,36,36)",
              "ticks": "outside"
             }
            },
            "marker": {
             "colorbar": {
              "outlinewidth": 1,
              "tickcolor": "rgb(36,36,36)",
              "ticks": "outside"
             }
            },
            "type": "scatter3d"
           }
          ],
          "scattercarpet": [
           {
            "marker": {
             "colorbar": {
              "outlinewidth": 1,
              "tickcolor": "rgb(36,36,36)",
              "ticks": "outside"
             }
            },
            "type": "scattercarpet"
           }
          ],
          "scattergeo": [
           {
            "marker": {
             "colorbar": {
              "outlinewidth": 1,
              "tickcolor": "rgb(36,36,36)",
              "ticks": "outside"
             }
            },
            "type": "scattergeo"
           }
          ],
          "scattergl": [
           {
            "marker": {
             "colorbar": {
              "outlinewidth": 1,
              "tickcolor": "rgb(36,36,36)",
              "ticks": "outside"
             }
            },
            "type": "scattergl"
           }
          ],
          "scattermapbox": [
           {
            "marker": {
             "colorbar": {
              "outlinewidth": 1,
              "tickcolor": "rgb(36,36,36)",
              "ticks": "outside"
             }
            },
            "type": "scattermapbox"
           }
          ],
          "scatterpolar": [
           {
            "marker": {
             "colorbar": {
              "outlinewidth": 1,
              "tickcolor": "rgb(36,36,36)",
              "ticks": "outside"
             }
            },
            "type": "scatterpolar"
           }
          ],
          "scatterpolargl": [
           {
            "marker": {
             "colorbar": {
              "outlinewidth": 1,
              "tickcolor": "rgb(36,36,36)",
              "ticks": "outside"
             }
            },
            "type": "scatterpolargl"
           }
          ],
          "scatterternary": [
           {
            "marker": {
             "colorbar": {
              "outlinewidth": 1,
              "tickcolor": "rgb(36,36,36)",
              "ticks": "outside"
             }
            },
            "type": "scatterternary"
           }
          ],
          "surface": [
           {
            "colorbar": {
             "outlinewidth": 1,
             "tickcolor": "rgb(36,36,36)",
             "ticks": "outside"
            },
            "colorscale": [
             [
              0,
              "#440154"
             ],
             [
              0.1111111111111111,
              "#482878"
             ],
             [
              0.2222222222222222,
              "#3e4989"
             ],
             [
              0.3333333333333333,
              "#31688e"
             ],
             [
              0.4444444444444444,
              "#26828e"
             ],
             [
              0.5555555555555556,
              "#1f9e89"
             ],
             [
              0.6666666666666666,
              "#35b779"
             ],
             [
              0.7777777777777778,
              "#6ece58"
             ],
             [
              0.8888888888888888,
              "#b5de2b"
             ],
             [
              1,
              "#fde725"
             ]
            ],
            "type": "surface"
           }
          ],
          "table": [
           {
            "cells": {
             "fill": {
              "color": "rgb(237,237,237)"
             },
             "line": {
              "color": "white"
             }
            },
            "header": {
             "fill": {
              "color": "rgb(217,217,217)"
             },
             "line": {
              "color": "white"
             }
            },
            "type": "table"
           }
          ]
         },
         "layout": {
          "annotationdefaults": {
           "arrowhead": 0,
           "arrowwidth": 1
          },
          "autotypenumbers": "strict",
          "coloraxis": {
           "colorbar": {
            "outlinewidth": 1,
            "tickcolor": "rgb(36,36,36)",
            "ticks": "outside"
           }
          },
          "colorscale": {
           "diverging": [
            [
             0,
             "rgb(103,0,31)"
            ],
            [
             0.1,
             "rgb(178,24,43)"
            ],
            [
             0.2,
             "rgb(214,96,77)"
            ],
            [
             0.3,
             "rgb(244,165,130)"
            ],
            [
             0.4,
             "rgb(253,219,199)"
            ],
            [
             0.5,
             "rgb(247,247,247)"
            ],
            [
             0.6,
             "rgb(209,229,240)"
            ],
            [
             0.7,
             "rgb(146,197,222)"
            ],
            [
             0.8,
             "rgb(67,147,195)"
            ],
            [
             0.9,
             "rgb(33,102,172)"
            ],
            [
             1,
             "rgb(5,48,97)"
            ]
           ],
           "sequential": [
            [
             0,
             "#440154"
            ],
            [
             0.1111111111111111,
             "#482878"
            ],
            [
             0.2222222222222222,
             "#3e4989"
            ],
            [
             0.3333333333333333,
             "#31688e"
            ],
            [
             0.4444444444444444,
             "#26828e"
            ],
            [
             0.5555555555555556,
             "#1f9e89"
            ],
            [
             0.6666666666666666,
             "#35b779"
            ],
            [
             0.7777777777777778,
             "#6ece58"
            ],
            [
             0.8888888888888888,
             "#b5de2b"
            ],
            [
             1,
             "#fde725"
            ]
           ],
           "sequentialminus": [
            [
             0,
             "#440154"
            ],
            [
             0.1111111111111111,
             "#482878"
            ],
            [
             0.2222222222222222,
             "#3e4989"
            ],
            [
             0.3333333333333333,
             "#31688e"
            ],
            [
             0.4444444444444444,
             "#26828e"
            ],
            [
             0.5555555555555556,
             "#1f9e89"
            ],
            [
             0.6666666666666666,
             "#35b779"
            ],
            [
             0.7777777777777778,
             "#6ece58"
            ],
            [
             0.8888888888888888,
             "#b5de2b"
            ],
            [
             1,
             "#fde725"
            ]
           ]
          },
          "colorway": [
           "#1F77B4",
           "#FF7F0E",
           "#2CA02C",
           "#D62728",
           "#9467BD",
           "#8C564B",
           "#E377C2",
           "#7F7F7F",
           "#BCBD22",
           "#17BECF"
          ],
          "font": {
           "color": "rgb(36,36,36)"
          },
          "geo": {
           "bgcolor": "white",
           "lakecolor": "white",
           "landcolor": "white",
           "showlakes": true,
           "showland": true,
           "subunitcolor": "white"
          },
          "hoverlabel": {
           "align": "left"
          },
          "hovermode": "closest",
          "mapbox": {
           "style": "light"
          },
          "paper_bgcolor": "white",
          "plot_bgcolor": "white",
          "polar": {
           "angularaxis": {
            "gridcolor": "rgb(232,232,232)",
            "linecolor": "rgb(36,36,36)",
            "showgrid": false,
            "showline": true,
            "ticks": "outside"
           },
           "bgcolor": "white",
           "radialaxis": {
            "gridcolor": "rgb(232,232,232)",
            "linecolor": "rgb(36,36,36)",
            "showgrid": false,
            "showline": true,
            "ticks": "outside"
           }
          },
          "scene": {
           "xaxis": {
            "backgroundcolor": "white",
            "gridcolor": "rgb(232,232,232)",
            "gridwidth": 2,
            "linecolor": "rgb(36,36,36)",
            "showbackground": true,
            "showgrid": false,
            "showline": true,
            "ticks": "outside",
            "zeroline": false,
            "zerolinecolor": "rgb(36,36,36)"
           },
           "yaxis": {
            "backgroundcolor": "white",
            "gridcolor": "rgb(232,232,232)",
            "gridwidth": 2,
            "linecolor": "rgb(36,36,36)",
            "showbackground": true,
            "showgrid": false,
            "showline": true,
            "ticks": "outside",
            "zeroline": false,
            "zerolinecolor": "rgb(36,36,36)"
           },
           "zaxis": {
            "backgroundcolor": "white",
            "gridcolor": "rgb(232,232,232)",
            "gridwidth": 2,
            "linecolor": "rgb(36,36,36)",
            "showbackground": true,
            "showgrid": false,
            "showline": true,
            "ticks": "outside",
            "zeroline": false,
            "zerolinecolor": "rgb(36,36,36)"
           }
          },
          "shapedefaults": {
           "fillcolor": "black",
           "line": {
            "width": 0
           },
           "opacity": 0.3
          },
          "ternary": {
           "aaxis": {
            "gridcolor": "rgb(232,232,232)",
            "linecolor": "rgb(36,36,36)",
            "showgrid": false,
            "showline": true,
            "ticks": "outside"
           },
           "baxis": {
            "gridcolor": "rgb(232,232,232)",
            "linecolor": "rgb(36,36,36)",
            "showgrid": false,
            "showline": true,
            "ticks": "outside"
           },
           "bgcolor": "white",
           "caxis": {
            "gridcolor": "rgb(232,232,232)",
            "linecolor": "rgb(36,36,36)",
            "showgrid": false,
            "showline": true,
            "ticks": "outside"
           }
          },
          "title": {
           "x": 0.05
          },
          "xaxis": {
           "automargin": true,
           "gridcolor": "rgb(232,232,232)",
           "linecolor": "rgb(36,36,36)",
           "showgrid": false,
           "showline": true,
           "ticks": "outside",
           "title": {
            "standoff": 15
           },
           "zeroline": false,
           "zerolinecolor": "rgb(36,36,36)"
          },
          "yaxis": {
           "automargin": true,
           "gridcolor": "rgb(232,232,232)",
           "linecolor": "rgb(36,36,36)",
           "showgrid": false,
           "showline": true,
           "ticks": "outside",
           "title": {
            "standoff": 15
           },
           "zeroline": false,
           "zerolinecolor": "rgb(36,36,36)"
          }
         }
        },
        "width": 450,
        "xaxis": {
         "anchor": "y",
         "categoryarray": [
          "Arts",
          "Biology",
          "Biomedical Research",
          "Chemistry",
          "Clinical Medicine",
          "Earth and Space",
          "Engineering and Technology",
          "Health",
          "Humanities",
          "Mathematics",
          "Physics",
          "Professional Fields",
          "Psychology",
          "Social Sciences"
         ],
         "categoryorder": "array",
         "domain": [
          0,
          1
         ],
         "tickangle": 35,
         "ticktext": [
          "Arts",
          "Biology",
          "Biomedical",
          "Chemistry",
          "Medicine",
          "Earth & Space",
          "Engineering",
          "Health",
          "Humanities",
          "Mathematics",
          "Physics",
          "Professional",
          "Psychology",
          "Soc Sci"
         ],
         "tickvals": [
          "Arts",
          "Biology",
          "Biomedical Research",
          "Chemistry",
          "Clinical Medicine",
          "Earth and Space",
          "Engineering and Technology",
          "Health",
          "Humanities",
          "Mathematics",
          "Physics",
          "Professional Fields",
          "Psychology",
          "Social Sciences"
         ],
         "title": {
          "text": "Journal field"
         }
        },
        "yaxis": {
         "anchor": "x",
         "domain": [
          0,
          1
         ],
         "minor": {
          "nticks": 5,
          "showgrid": true
         },
         "showgrid": true,
         "tickformat": ".0%",
         "title": {
          "standoff": 0,
          "text": "Average % women reviewers"
         }
        }
       }
      }
     },
     "metadata": {},
     "output_type": "display_data"
    }
   ],
   "source": [
    "# Average % women reviewers for journals\n",
    "\n",
    "df = pd.read_csv(os.path.join(root, r\"reviewer_gender/d2_reviewer_gender.csv\"))\n",
    "x='d2'\n",
    "y='Percentage'\n",
    "color_dict, order = get_palette(attr=\"disc\")\n",
    "df[y] = df[y] / 100\n",
    "base = df.groupby(x)[y].agg([lambda x: mean_confidence_interval(x)[0], lambda x: mean_confidence_interval(x)[1]]).reset_index()\n",
    "base.columns=[\"field\", \"mean\", \"ci\"]\n",
    "\n",
    "# bar chart\n",
    "base[\"color\"] = base[\"field\"].map(color_dict)\n",
    "\n",
    "# draw bar charts\n",
    "fig = px.bar(base,\n",
    "             x=\"field\",\n",
    "             y=\"mean\",\n",
    "             error_y=\"ci\")\n",
    "\n",
    "fig.update_traces(marker=dict(color=base[\"color\"]),\n",
    "                  textposition=\"outside\",\n",
    "                  cliponaxis=False)\n",
    "\n",
    "fig.update_layout(height=350,\n",
    "                  width=450,\n",
    "                  template=\"simple_white\",\n",
    "                  font=dict(family=\"Arial\"))\n",
    "\n",
    "fig.update_xaxes(categoryorder=\"array\",\n",
    "                 categoryarray=order,\n",
    "                 title=dict(text=\"Journal field\"),\n",
    "                 tickvals=order,\n",
    "                 ticktext=field_xticks,\n",
    "                 tickangle=35,\n",
    "                 )\n",
    "\n",
    "fig.update_yaxes(showgrid=True,\n",
    "                 tickformat=\".0%\",\n",
    "                 minor=dict(nticks=5,\n",
    "                            showgrid=True),\n",
    "                 title=dict(text=\"Average % women reviewers\",\n",
    "                            standoff=0.0),\n",
    "                 )\n",
    "fig.show()\n",
    "fig.write_image(os.path.join(graph_root, \"perc_women_disc.pdf\"))"
   ]
  },
  {
   "cell_type": "code",
   "execution_count": 89,
   "id": "82d5eaff",
   "metadata": {},
   "outputs": [
    {
     "data": {
      "application/vnd.plotly.v1+json": {
       "config": {
        "plotlyServerURL": "https://plot.ly"
       },
       "data": [
        {
         "hovertemplate": "%{y:.2%}",
         "marker": {
          "color": [
           "#C0C0C0",
           "#4CD300",
           "#008090",
           "#aed780",
           "#1AA3E8",
           "#7d4239",
           "#c683f8",
           "#7fff97",
           "#aeb404",
           "#9A05BF",
           "#0000ff",
           "#fc79c7",
           "#F70000",
           "#F7A000"
          ],
          "line": {
           "color": [
            "#C0C0C0",
            "#4CD300",
            "#008090",
            "#aed780",
            "#1AA3E8",
            "#7d4239",
            "#c683f8",
            "#7fff97",
            "#aeb404",
            "#9A05BF",
            "#0000ff",
            "#fc79c7",
            "#F70000",
            "#F7A000"
           ],
           "width": 1
          },
          "opacity": 0.6,
          "size": 10,
          "symbol": "circle"
         },
         "mode": "markers",
         "name": "Reviewer",
         "type": "scatter",
         "x": [
          "Arts",
          "Biology",
          "Biomedical Research",
          "Chemistry",
          "Clinical Medicine",
          "Earth and Space",
          "Engineering and Technology",
          "Health",
          "Humanities",
          "Mathematics",
          "Physics",
          "Professional Fields",
          "Psychology",
          "Social Sciences"
         ],
         "y": [
          0.3905817174515235,
          0.3122621271884299,
          0.2933042397178595,
          0.2169499527856468,
          0.3463610570945838,
          0.2587227522807995,
          0.1715875746230901,
          0.5349504029758214,
          0.3274038461538461,
          0.1663507109004739,
          0.15625,
          0.4085703255694248,
          0.4615142287094403,
          0.3747400264700321
         ]
        },
        {
         "hovertemplate": "%{y:.2%}",
         "marker": {
          "color": [
           "#C0C0C0",
           "#4CD300",
           "#008090",
           "#aed780",
           "#1AA3E8",
           "#7d4239",
           "#c683f8",
           "#7fff97",
           "#aeb404",
           "#9A05BF",
           "#0000ff",
           "#fc79c7",
           "#F70000",
           "#F7A000"
          ],
          "line": {
           "color": [
            "#C0C0C0",
            "#4CD300",
            "#008090",
            "#aed780",
            "#1AA3E8",
            "#7d4239",
            "#c683f8",
            "#7fff97",
            "#aeb404",
            "#9A05BF",
            "#0000ff",
            "#fc79c7",
            "#F70000",
            "#F7A000"
           ],
           "width": 1
          },
          "size": 10,
          "symbol": "diamond"
         },
         "mode": "markers",
         "name": "Field-specific reviewer",
         "opacity": 1,
         "type": "scatter",
         "x": [
          "Arts",
          "Biology",
          "Biomedical Research",
          "Chemistry",
          "Clinical Medicine",
          "Earth and Space",
          "Engineering and Technology",
          "Health",
          "Humanities",
          "Mathematics",
          "Physics",
          "Professional Fields",
          "Psychology",
          "Social Sciences"
         ],
         "y": [
          0.4294871794871794,
          0.3399135446685879,
          0.3402306648575305,
          0.2364057764307363,
          0.3495618051013734,
          0.2859900273443783,
          0.1710460303524394,
          0.6279843444227006,
          0.3528816986855409,
          0.182053494391717,
          0.1616409000459207,
          0.4398672617004234,
          0.5185303514376997,
          0.3872465737909163
         ]
        }
       ],
       "layout": {
        "barmode": "overlay",
        "font": {
         "family": "Arial"
        },
        "height": 300,
        "legend": {
         "bgcolor": "rgba(0,0,0,0)",
         "x": 0.01,
         "xanchor": "left",
         "y": 1,
         "yanchor": "top"
        },
        "margin": {
         "b": 30,
         "l": 30,
         "r": 30,
         "t": 30
        },
        "shapes": [
         {
          "line": {
           "color": "black",
           "width": 2
          },
          "type": "line",
          "x0": "Arts",
          "x1": "Arts",
          "xref": "x",
          "y0": 0.3905817174515235,
          "y1": 0.4294871794871794,
          "yref": "y"
         },
         {
          "line": {
           "color": "black",
           "width": 2
          },
          "type": "line",
          "x0": "Biology",
          "x1": "Biology",
          "xref": "x",
          "y0": 0.3122621271884299,
          "y1": 0.3399135446685879,
          "yref": "y"
         },
         {
          "line": {
           "color": "black",
           "width": 2
          },
          "type": "line",
          "x0": "Biomedical Research",
          "x1": "Biomedical Research",
          "xref": "x",
          "y0": 0.2933042397178595,
          "y1": 0.3402306648575305,
          "yref": "y"
         },
         {
          "line": {
           "color": "black",
           "width": 2
          },
          "type": "line",
          "x0": "Chemistry",
          "x1": "Chemistry",
          "xref": "x",
          "y0": 0.2169499527856468,
          "y1": 0.2364057764307363,
          "yref": "y"
         },
         {
          "line": {
           "color": "black",
           "width": 2
          },
          "type": "line",
          "x0": "Clinical Medicine",
          "x1": "Clinical Medicine",
          "xref": "x",
          "y0": 0.3463610570945838,
          "y1": 0.3495618051013734,
          "yref": "y"
         },
         {
          "line": {
           "color": "black",
           "width": 2
          },
          "type": "line",
          "x0": "Earth and Space",
          "x1": "Earth and Space",
          "xref": "x",
          "y0": 0.2587227522807995,
          "y1": 0.2859900273443783,
          "yref": "y"
         },
         {
          "line": {
           "color": "black",
           "width": 2
          },
          "type": "line",
          "x0": "Engineering and Technology",
          "x1": "Engineering and Technology",
          "xref": "x",
          "y0": 0.1715875746230901,
          "y1": 0.1710460303524394,
          "yref": "y"
         },
         {
          "line": {
           "color": "black",
           "width": 2
          },
          "type": "line",
          "x0": "Health",
          "x1": "Health",
          "xref": "x",
          "y0": 0.5349504029758214,
          "y1": 0.6279843444227006,
          "yref": "y"
         },
         {
          "line": {
           "color": "black",
           "width": 2
          },
          "type": "line",
          "x0": "Humanities",
          "x1": "Humanities",
          "xref": "x",
          "y0": 0.3274038461538461,
          "y1": 0.3528816986855409,
          "yref": "y"
         },
         {
          "line": {
           "color": "black",
           "width": 2
          },
          "type": "line",
          "x0": "Mathematics",
          "x1": "Mathematics",
          "xref": "x",
          "y0": 0.1663507109004739,
          "y1": 0.182053494391717,
          "yref": "y"
         },
         {
          "line": {
           "color": "black",
           "width": 2
          },
          "type": "line",
          "x0": "Physics",
          "x1": "Physics",
          "xref": "x",
          "y0": 0.15625,
          "y1": 0.1616409000459207,
          "yref": "y"
         },
         {
          "line": {
           "color": "black",
           "width": 2
          },
          "type": "line",
          "x0": "Professional Fields",
          "x1": "Professional Fields",
          "xref": "x",
          "y0": 0.4085703255694248,
          "y1": 0.4398672617004234,
          "yref": "y"
         },
         {
          "line": {
           "color": "black",
           "width": 2
          },
          "type": "line",
          "x0": "Psychology",
          "x1": "Psychology",
          "xref": "x",
          "y0": 0.4615142287094403,
          "y1": 0.5185303514376997,
          "yref": "y"
         },
         {
          "line": {
           "color": "black",
           "width": 2
          },
          "type": "line",
          "x0": "Social Sciences",
          "x1": "Social Sciences",
          "xref": "x",
          "y0": 0.3747400264700321,
          "y1": 0.3872465737909163,
          "yref": "y"
         }
        ],
        "template": {
         "data": {
          "bar": [
           {
            "error_x": {
             "color": "rgb(36,36,36)"
            },
            "error_y": {
             "color": "rgb(36,36,36)"
            },
            "marker": {
             "line": {
              "color": "white",
              "width": 0.5
             },
             "pattern": {
              "fillmode": "overlay",
              "size": 10,
              "solidity": 0.2
             }
            },
            "type": "bar"
           }
          ],
          "barpolar": [
           {
            "marker": {
             "line": {
              "color": "white",
              "width": 0.5
             },
             "pattern": {
              "fillmode": "overlay",
              "size": 10,
              "solidity": 0.2
             }
            },
            "type": "barpolar"
           }
          ],
          "carpet": [
           {
            "aaxis": {
             "endlinecolor": "rgb(36,36,36)",
             "gridcolor": "white",
             "linecolor": "white",
             "minorgridcolor": "white",
             "startlinecolor": "rgb(36,36,36)"
            },
            "baxis": {
             "endlinecolor": "rgb(36,36,36)",
             "gridcolor": "white",
             "linecolor": "white",
             "minorgridcolor": "white",
             "startlinecolor": "rgb(36,36,36)"
            },
            "type": "carpet"
           }
          ],
          "choropleth": [
           {
            "colorbar": {
             "outlinewidth": 1,
             "tickcolor": "rgb(36,36,36)",
             "ticks": "outside"
            },
            "type": "choropleth"
           }
          ],
          "contour": [
           {
            "colorbar": {
             "outlinewidth": 1,
             "tickcolor": "rgb(36,36,36)",
             "ticks": "outside"
            },
            "colorscale": [
             [
              0,
              "#440154"
             ],
             [
              0.1111111111111111,
              "#482878"
             ],
             [
              0.2222222222222222,
              "#3e4989"
             ],
             [
              0.3333333333333333,
              "#31688e"
             ],
             [
              0.4444444444444444,
              "#26828e"
             ],
             [
              0.5555555555555556,
              "#1f9e89"
             ],
             [
              0.6666666666666666,
              "#35b779"
             ],
             [
              0.7777777777777778,
              "#6ece58"
             ],
             [
              0.8888888888888888,
              "#b5de2b"
             ],
             [
              1,
              "#fde725"
             ]
            ],
            "type": "contour"
           }
          ],
          "contourcarpet": [
           {
            "colorbar": {
             "outlinewidth": 1,
             "tickcolor": "rgb(36,36,36)",
             "ticks": "outside"
            },
            "type": "contourcarpet"
           }
          ],
          "heatmap": [
           {
            "colorbar": {
             "outlinewidth": 1,
             "tickcolor": "rgb(36,36,36)",
             "ticks": "outside"
            },
            "colorscale": [
             [
              0,
              "#440154"
             ],
             [
              0.1111111111111111,
              "#482878"
             ],
             [
              0.2222222222222222,
              "#3e4989"
             ],
             [
              0.3333333333333333,
              "#31688e"
             ],
             [
              0.4444444444444444,
              "#26828e"
             ],
             [
              0.5555555555555556,
              "#1f9e89"
             ],
             [
              0.6666666666666666,
              "#35b779"
             ],
             [
              0.7777777777777778,
              "#6ece58"
             ],
             [
              0.8888888888888888,
              "#b5de2b"
             ],
             [
              1,
              "#fde725"
             ]
            ],
            "type": "heatmap"
           }
          ],
          "heatmapgl": [
           {
            "colorbar": {
             "outlinewidth": 1,
             "tickcolor": "rgb(36,36,36)",
             "ticks": "outside"
            },
            "colorscale": [
             [
              0,
              "#440154"
             ],
             [
              0.1111111111111111,
              "#482878"
             ],
             [
              0.2222222222222222,
              "#3e4989"
             ],
             [
              0.3333333333333333,
              "#31688e"
             ],
             [
              0.4444444444444444,
              "#26828e"
             ],
             [
              0.5555555555555556,
              "#1f9e89"
             ],
             [
              0.6666666666666666,
              "#35b779"
             ],
             [
              0.7777777777777778,
              "#6ece58"
             ],
             [
              0.8888888888888888,
              "#b5de2b"
             ],
             [
              1,
              "#fde725"
             ]
            ],
            "type": "heatmapgl"
           }
          ],
          "histogram": [
           {
            "marker": {
             "line": {
              "color": "white",
              "width": 0.6
             }
            },
            "type": "histogram"
           }
          ],
          "histogram2d": [
           {
            "colorbar": {
             "outlinewidth": 1,
             "tickcolor": "rgb(36,36,36)",
             "ticks": "outside"
            },
            "colorscale": [
             [
              0,
              "#440154"
             ],
             [
              0.1111111111111111,
              "#482878"
             ],
             [
              0.2222222222222222,
              "#3e4989"
             ],
             [
              0.3333333333333333,
              "#31688e"
             ],
             [
              0.4444444444444444,
              "#26828e"
             ],
             [
              0.5555555555555556,
              "#1f9e89"
             ],
             [
              0.6666666666666666,
              "#35b779"
             ],
             [
              0.7777777777777778,
              "#6ece58"
             ],
             [
              0.8888888888888888,
              "#b5de2b"
             ],
             [
              1,
              "#fde725"
             ]
            ],
            "type": "histogram2d"
           }
          ],
          "histogram2dcontour": [
           {
            "colorbar": {
             "outlinewidth": 1,
             "tickcolor": "rgb(36,36,36)",
             "ticks": "outside"
            },
            "colorscale": [
             [
              0,
              "#440154"
             ],
             [
              0.1111111111111111,
              "#482878"
             ],
             [
              0.2222222222222222,
              "#3e4989"
             ],
             [
              0.3333333333333333,
              "#31688e"
             ],
             [
              0.4444444444444444,
              "#26828e"
             ],
             [
              0.5555555555555556,
              "#1f9e89"
             ],
             [
              0.6666666666666666,
              "#35b779"
             ],
             [
              0.7777777777777778,
              "#6ece58"
             ],
             [
              0.8888888888888888,
              "#b5de2b"
             ],
             [
              1,
              "#fde725"
             ]
            ],
            "type": "histogram2dcontour"
           }
          ],
          "mesh3d": [
           {
            "colorbar": {
             "outlinewidth": 1,
             "tickcolor": "rgb(36,36,36)",
             "ticks": "outside"
            },
            "type": "mesh3d"
           }
          ],
          "parcoords": [
           {
            "line": {
             "colorbar": {
              "outlinewidth": 1,
              "tickcolor": "rgb(36,36,36)",
              "ticks": "outside"
             }
            },
            "type": "parcoords"
           }
          ],
          "pie": [
           {
            "automargin": true,
            "type": "pie"
           }
          ],
          "scatter": [
           {
            "fillpattern": {
             "fillmode": "overlay",
             "size": 10,
             "solidity": 0.2
            },
            "type": "scatter"
           }
          ],
          "scatter3d": [
           {
            "line": {
             "colorbar": {
              "outlinewidth": 1,
              "tickcolor": "rgb(36,36,36)",
              "ticks": "outside"
             }
            },
            "marker": {
             "colorbar": {
              "outlinewidth": 1,
              "tickcolor": "rgb(36,36,36)",
              "ticks": "outside"
             }
            },
            "type": "scatter3d"
           }
          ],
          "scattercarpet": [
           {
            "marker": {
             "colorbar": {
              "outlinewidth": 1,
              "tickcolor": "rgb(36,36,36)",
              "ticks": "outside"
             }
            },
            "type": "scattercarpet"
           }
          ],
          "scattergeo": [
           {
            "marker": {
             "colorbar": {
              "outlinewidth": 1,
              "tickcolor": "rgb(36,36,36)",
              "ticks": "outside"
             }
            },
            "type": "scattergeo"
           }
          ],
          "scattergl": [
           {
            "marker": {
             "colorbar": {
              "outlinewidth": 1,
              "tickcolor": "rgb(36,36,36)",
              "ticks": "outside"
             }
            },
            "type": "scattergl"
           }
          ],
          "scattermapbox": [
           {
            "marker": {
             "colorbar": {
              "outlinewidth": 1,
              "tickcolor": "rgb(36,36,36)",
              "ticks": "outside"
             }
            },
            "type": "scattermapbox"
           }
          ],
          "scatterpolar": [
           {
            "marker": {
             "colorbar": {
              "outlinewidth": 1,
              "tickcolor": "rgb(36,36,36)",
              "ticks": "outside"
             }
            },
            "type": "scatterpolar"
           }
          ],
          "scatterpolargl": [
           {
            "marker": {
             "colorbar": {
              "outlinewidth": 1,
              "tickcolor": "rgb(36,36,36)",
              "ticks": "outside"
             }
            },
            "type": "scatterpolargl"
           }
          ],
          "scatterternary": [
           {
            "marker": {
             "colorbar": {
              "outlinewidth": 1,
              "tickcolor": "rgb(36,36,36)",
              "ticks": "outside"
             }
            },
            "type": "scatterternary"
           }
          ],
          "surface": [
           {
            "colorbar": {
             "outlinewidth": 1,
             "tickcolor": "rgb(36,36,36)",
             "ticks": "outside"
            },
            "colorscale": [
             [
              0,
              "#440154"
             ],
             [
              0.1111111111111111,
              "#482878"
             ],
             [
              0.2222222222222222,
              "#3e4989"
             ],
             [
              0.3333333333333333,
              "#31688e"
             ],
             [
              0.4444444444444444,
              "#26828e"
             ],
             [
              0.5555555555555556,
              "#1f9e89"
             ],
             [
              0.6666666666666666,
              "#35b779"
             ],
             [
              0.7777777777777778,
              "#6ece58"
             ],
             [
              0.8888888888888888,
              "#b5de2b"
             ],
             [
              1,
              "#fde725"
             ]
            ],
            "type": "surface"
           }
          ],
          "table": [
           {
            "cells": {
             "fill": {
              "color": "rgb(237,237,237)"
             },
             "line": {
              "color": "white"
             }
            },
            "header": {
             "fill": {
              "color": "rgb(217,217,217)"
             },
             "line": {
              "color": "white"
             }
            },
            "type": "table"
           }
          ]
         },
         "layout": {
          "annotationdefaults": {
           "arrowhead": 0,
           "arrowwidth": 1
          },
          "autotypenumbers": "strict",
          "coloraxis": {
           "colorbar": {
            "outlinewidth": 1,
            "tickcolor": "rgb(36,36,36)",
            "ticks": "outside"
           }
          },
          "colorscale": {
           "diverging": [
            [
             0,
             "rgb(103,0,31)"
            ],
            [
             0.1,
             "rgb(178,24,43)"
            ],
            [
             0.2,
             "rgb(214,96,77)"
            ],
            [
             0.3,
             "rgb(244,165,130)"
            ],
            [
             0.4,
             "rgb(253,219,199)"
            ],
            [
             0.5,
             "rgb(247,247,247)"
            ],
            [
             0.6,
             "rgb(209,229,240)"
            ],
            [
             0.7,
             "rgb(146,197,222)"
            ],
            [
             0.8,
             "rgb(67,147,195)"
            ],
            [
             0.9,
             "rgb(33,102,172)"
            ],
            [
             1,
             "rgb(5,48,97)"
            ]
           ],
           "sequential": [
            [
             0,
             "#440154"
            ],
            [
             0.1111111111111111,
             "#482878"
            ],
            [
             0.2222222222222222,
             "#3e4989"
            ],
            [
             0.3333333333333333,
             "#31688e"
            ],
            [
             0.4444444444444444,
             "#26828e"
            ],
            [
             0.5555555555555556,
             "#1f9e89"
            ],
            [
             0.6666666666666666,
             "#35b779"
            ],
            [
             0.7777777777777778,
             "#6ece58"
            ],
            [
             0.8888888888888888,
             "#b5de2b"
            ],
            [
             1,
             "#fde725"
            ]
           ],
           "sequentialminus": [
            [
             0,
             "#440154"
            ],
            [
             0.1111111111111111,
             "#482878"
            ],
            [
             0.2222222222222222,
             "#3e4989"
            ],
            [
             0.3333333333333333,
             "#31688e"
            ],
            [
             0.4444444444444444,
             "#26828e"
            ],
            [
             0.5555555555555556,
             "#1f9e89"
            ],
            [
             0.6666666666666666,
             "#35b779"
            ],
            [
             0.7777777777777778,
             "#6ece58"
            ],
            [
             0.8888888888888888,
             "#b5de2b"
            ],
            [
             1,
             "#fde725"
            ]
           ]
          },
          "colorway": [
           "#1F77B4",
           "#FF7F0E",
           "#2CA02C",
           "#D62728",
           "#9467BD",
           "#8C564B",
           "#E377C2",
           "#7F7F7F",
           "#BCBD22",
           "#17BECF"
          ],
          "font": {
           "color": "rgb(36,36,36)"
          },
          "geo": {
           "bgcolor": "white",
           "lakecolor": "white",
           "landcolor": "white",
           "showlakes": true,
           "showland": true,
           "subunitcolor": "white"
          },
          "hoverlabel": {
           "align": "left"
          },
          "hovermode": "closest",
          "mapbox": {
           "style": "light"
          },
          "paper_bgcolor": "white",
          "plot_bgcolor": "white",
          "polar": {
           "angularaxis": {
            "gridcolor": "rgb(232,232,232)",
            "linecolor": "rgb(36,36,36)",
            "showgrid": false,
            "showline": true,
            "ticks": "outside"
           },
           "bgcolor": "white",
           "radialaxis": {
            "gridcolor": "rgb(232,232,232)",
            "linecolor": "rgb(36,36,36)",
            "showgrid": false,
            "showline": true,
            "ticks": "outside"
           }
          },
          "scene": {
           "xaxis": {
            "backgroundcolor": "white",
            "gridcolor": "rgb(232,232,232)",
            "gridwidth": 2,
            "linecolor": "rgb(36,36,36)",
            "showbackground": true,
            "showgrid": false,
            "showline": true,
            "ticks": "outside",
            "zeroline": false,
            "zerolinecolor": "rgb(36,36,36)"
           },
           "yaxis": {
            "backgroundcolor": "white",
            "gridcolor": "rgb(232,232,232)",
            "gridwidth": 2,
            "linecolor": "rgb(36,36,36)",
            "showbackground": true,
            "showgrid": false,
            "showline": true,
            "ticks": "outside",
            "zeroline": false,
            "zerolinecolor": "rgb(36,36,36)"
           },
           "zaxis": {
            "backgroundcolor": "white",
            "gridcolor": "rgb(232,232,232)",
            "gridwidth": 2,
            "linecolor": "rgb(36,36,36)",
            "showbackground": true,
            "showgrid": false,
            "showline": true,
            "ticks": "outside",
            "zeroline": false,
            "zerolinecolor": "rgb(36,36,36)"
           }
          },
          "shapedefaults": {
           "fillcolor": "black",
           "line": {
            "width": 0
           },
           "opacity": 0.3
          },
          "ternary": {
           "aaxis": {
            "gridcolor": "rgb(232,232,232)",
            "linecolor": "rgb(36,36,36)",
            "showgrid": false,
            "showline": true,
            "ticks": "outside"
           },
           "baxis": {
            "gridcolor": "rgb(232,232,232)",
            "linecolor": "rgb(36,36,36)",
            "showgrid": false,
            "showline": true,
            "ticks": "outside"
           },
           "bgcolor": "white",
           "caxis": {
            "gridcolor": "rgb(232,232,232)",
            "linecolor": "rgb(36,36,36)",
            "showgrid": false,
            "showline": true,
            "ticks": "outside"
           }
          },
          "title": {
           "x": 0.05
          },
          "xaxis": {
           "automargin": true,
           "gridcolor": "rgb(232,232,232)",
           "linecolor": "rgb(36,36,36)",
           "showgrid": false,
           "showline": true,
           "ticks": "outside",
           "title": {
            "standoff": 15
           },
           "zeroline": false,
           "zerolinecolor": "rgb(36,36,36)"
          },
          "yaxis": {
           "automargin": true,
           "gridcolor": "rgb(232,232,232)",
           "linecolor": "rgb(36,36,36)",
           "showgrid": false,
           "showline": true,
           "ticks": "outside",
           "title": {
            "standoff": 15
           },
           "zeroline": false,
           "zerolinecolor": "rgb(36,36,36)"
          }
         }
        },
        "width": 400,
        "xaxis": {
         "categoryarray": [
          "Arts",
          "Biology",
          "Biomedical Research",
          "Chemistry",
          "Clinical Medicine",
          "Earth and Space",
          "Engineering and Technology",
          "Health",
          "Humanities",
          "Mathematics",
          "Physics",
          "Professional Fields",
          "Psychology",
          "Social Sciences"
         ],
         "categoryorder": "array",
         "showgrid": true,
         "tickangle": 35,
         "ticktext": [
          "Arts",
          "Biology",
          "Biomedical",
          "Chemistry",
          "Medicine",
          "Earth & Space",
          "Engineering",
          "Health",
          "Humanities",
          "Mathematics",
          "Physics",
          "Professional",
          "Psychology",
          "Soc Sci"
         ],
         "tickvals": [
          "Arts",
          "Biology",
          "Biomedical Research",
          "Chemistry",
          "Clinical Medicine",
          "Earth and Space",
          "Engineering and Technology",
          "Health",
          "Humanities",
          "Mathematics",
          "Physics",
          "Professional Fields",
          "Psychology",
          "Social Sciences"
         ],
         "title": {
          "standoff": 0,
          "text": "Journal field"
         }
        },
        "yaxis": {
         "minor": {
          "nticks": 5,
          "showgrid": true
         },
         "showgrid": true,
         "tickformat": ".0%",
         "title": {
          "standoff": 0,
          "text": "% women reviewers"
         }
        }
       }
      }
     },
     "metadata": {},
     "output_type": "display_data"
    }
   ],
   "source": [
    "# % female in all and exclusive reviewers\"\n",
    "\n",
    "color_dict, order = get_palette(attr=\"disc\")\n",
    "df = pd.read_csv(os.path.join(root, r\"reviewer_gender/d2_group_gender.csv\"))\n",
    "df[\"color\"] = df[\"d2\"].map(color_dict)\n",
    "\n",
    "fig = go.Figure()\n",
    "fig.add_trace(go.Scatter(x=df[\"d2\"],\n",
    "                         y=df[\"reviewer\"],\n",
    "                         name=\"Reviewer\",\n",
    "                         mode=\"markers\",\n",
    "                         hovertemplate=\"%{y:.2%}\",\n",
    "                         marker=dict(color=df[\"color\"],\n",
    "                                     symbol=\"circle\",\n",
    "                                     size=10,\n",
    "                                     opacity=0.6,\n",
    "                                     line=dict(width=1,\n",
    "                                               color=df[\"color\"]),\n",
    "                         )\n",
    "                         ),\n",
    "              )\n",
    "\n",
    "fig.add_trace(go.Scatter(x=df[\"d2\"],\n",
    "                         y=df[\"exlusive_reviewer\"],\n",
    "                         name=\"Field-specific reviewer\",\n",
    "                         mode=\"markers\",\n",
    "                         hovertemplate=\"%{y:.2%}\",\n",
    "                         opacity=1,\n",
    "                         marker=dict(color=df[\"color\"],\n",
    "                                     symbol=\"diamond\",\n",
    "                                     size=10,\n",
    "                                     line=dict(width=1,\n",
    "                                               color=df[\"color\"]),\n",
    "                                     )\n",
    "                         ),\n",
    "              )\n",
    "\n",
    "for i, row in df.iterrows():\n",
    "    fig.add_shape(type=\"line\",\n",
    "                  xref=\"x\", yref=\"y\",\n",
    "                  x0=row[\"d2\"], y0=row[\"reviewer\"], x1=row[\"d2\"], y1=row[\"exlusive_reviewer\"],\n",
    "                  line=dict(color=\"black\",\n",
    "                            width=2,\n",
    "                            ),\n",
    "                  )\n",
    "\n",
    "fig.update_layout(height=300,\n",
    "                  width=400,\n",
    "                  template=\"simple_white\",\n",
    "                  font=dict(family=\"Arial\"),\n",
    "                  legend=dict(yanchor=\"top\",\n",
    "                              y=1,\n",
    "                              xanchor=\"left\",\n",
    "                              x=0.01,\n",
    "                              bgcolor='rgba(0,0,0,0)'),\n",
    "                  barmode='overlay',\n",
    "                  margin=dict(l=30, r=30, t=30, b=30),\n",
    "                  )\n",
    "\n",
    "fig.update_xaxes(categoryorder=\"array\",\n",
    "                 categoryarray=order,\n",
    "                 title=dict(text=\"Journal field\",\n",
    "                            standoff=0,),\n",
    "                 tickvals=order,\n",
    "                 ticktext=field_xticks,\n",
    "                 tickangle=35,\n",
    "                 showgrid=True,\n",
    "                 )\n",
    "\n",
    "fig.update_yaxes(showgrid=True,\n",
    "                 tickformat=\".0%\",\n",
    "                 minor=dict(nticks=5,\n",
    "                            showgrid=True),\n",
    "                 title=dict(text=\"% women reviewers\",\n",
    "                            standoff=0.0),\n",
    "                 )\n",
    "\n",
    "fig.show()\n",
    "fig.write_image(os.path.join(graph_root, \"perc_ex_women_disc.pdf\"))\n"
   ]
  },
  {
   "cell_type": "code",
   "execution_count": 33,
   "id": "d25326e4",
   "metadata": {},
   "outputs": [
    {
     "data": {
      "application/vnd.plotly.v1+json": {
       "config": {
        "plotlyServerURL": "https://plot.ly"
       },
       "data": [
        {
         "marker": {
          "color": [
           "#C0C0C0",
           "#4CD300",
           "#008090",
           "#aed780",
           "#1AA3E8",
           "#7d4239",
           "#c683f8",
           "#7fff97",
           "#aeb404",
           "#9A05BF",
           "#0000ff",
           "#fc79c7",
           "#F70000",
           "#F7A000"
          ],
          "line": {
           "color": [
            "#C0C0C0",
            "#4CD300",
            "#008090",
            "#aed780",
            "#1AA3E8",
            "#7d4239",
            "#c683f8",
            "#7fff97",
            "#aeb404",
            "#9A05BF",
            "#0000ff",
            "#fc79c7",
            "#F70000",
            "#F7A000"
           ],
           "width": 1
          },
          "opacity": 0.6,
          "size": 10,
          "symbol": "circle"
         },
         "mode": "markers",
         "name": "Reviewer",
         "type": "scatter",
         "x": [
          "Arts",
          "Biology",
          "Biomedical Research",
          "Chemistry",
          "Clinical Medicine",
          "Earth and Space",
          "Engineering and Technology",
          "Health",
          "Humanities",
          "Mathematics",
          "Physics",
          "Professional Fields",
          "Psychology",
          "Social Sciences"
         ],
         "xaxis": "x",
         "y": [
          0.4375902413402934,
          0.198861038548995,
          0.1762645583886516,
          0.2255314260688416,
          0.16096336552804,
          0.1281615537078568,
          0.2395127173400533,
          0.3210759569411034,
          0.2855196949427292,
          0.2032779846788313,
          0.2127758710200421,
          0.27760464186915,
          0.3477881238240428,
          0.2477922624594372
         ],
         "yaxis": "y"
        },
        {
         "marker": {
          "color": [
           "#C0C0C0",
           "#4CD300",
           "#008090",
           "#aed780",
           "#1AA3E8",
           "#7d4239",
           "#c683f8",
           "#7fff97",
           "#aeb404",
           "#9A05BF",
           "#0000ff",
           "#fc79c7",
           "#F70000",
           "#F7A000"
          ],
          "line": {
           "color": [
            "#C0C0C0",
            "#4CD300",
            "#008090",
            "#aed780",
            "#1AA3E8",
            "#7d4239",
            "#c683f8",
            "#7fff97",
            "#aeb404",
            "#9A05BF",
            "#0000ff",
            "#fc79c7",
            "#F70000",
            "#F7A000"
           ],
           "width": 1
          },
          "size": 10,
          "symbol": "diamond"
         },
         "mode": "markers",
         "name": "Field-specific reviewer",
         "opacity": 1,
         "type": "scatter",
         "x": [
          "Arts",
          "Biology",
          "Biomedical Research",
          "Chemistry",
          "Clinical Medicine",
          "Earth and Space",
          "Engineering and Technology",
          "Health",
          "Humanities",
          "Mathematics",
          "Physics",
          "Professional Fields",
          "Psychology",
          "Social Sciences"
         ],
         "xaxis": "x",
         "y": [
          0.4932397097736491,
          0.2467460638068023,
          0.1814642524977728,
          0.2707649159684242,
          0.184211005031959,
          0.1531577166134239,
          0.261835791340142,
          0.3357165266977228,
          0.3587023173057677,
          0.2679386932305574,
          0.2675510349507672,
          0.3035285479193222,
          0.3315129245069766,
          0.2524188757888984
         ],
         "yaxis": "y"
        },
        {
         "hovertemplate": "%{y:2%}",
         "marker": {
          "color": [
           "#F70000",
           "#7fff97",
           "#c683f8",
           "#008090",
           "#1AA3E8",
           "#fc79c7",
           "#F7A000",
           "#aeb404",
           "#9A05BF",
           "#4CD300",
           "#7d4239",
           "#aed780",
           "#0000ff",
           "#C0C0C0"
          ],
          "line": {
           "color": [
            "#F70000",
            "#7fff97",
            "#c683f8",
            "#008090",
            "#1AA3E8",
            "#fc79c7",
            "#F7A000",
            "#aeb404",
            "#9A05BF",
            "#4CD300",
            "#7d4239",
            "#aed780",
            "#0000ff",
            "#C0C0C0"
           ],
           "width": 2
          }
         },
         "name": "Reviewer",
         "opacity": 0.4,
         "type": "bar",
         "x": [
          "Psychology",
          "Health",
          "Engineering and Technology",
          "Biomedical Research",
          "Clinical Medicine",
          "Professional Fields",
          "Social Sciences",
          "Humanities",
          "Mathematics",
          "Biology",
          "Earth and Space",
          "Chemistry",
          "Physics",
          "Arts"
         ],
         "xaxis": "x2",
         "y": [
          0.2638,
          0.2115,
          0.2086,
          0.2066,
          0.20149999999999998,
          0.1996,
          0.1859,
          0.1778,
          0.1711,
          0.1501,
          0.1497,
          0.1497,
          0.1418,
          0.1209
         ],
         "yaxis": "y2"
        },
        {
         "marker": {
          "color": [
           "#F70000",
           "#7fff97",
           "#c683f8",
           "#008090",
           "#1AA3E8",
           "#fc79c7",
           "#F7A000",
           "#aeb404",
           "#9A05BF",
           "#4CD300",
           "#7d4239",
           "#aed780",
           "#0000ff",
           "#C0C0C0"
          ],
          "line": {
           "color": [
            "#F70000",
            "#7fff97",
            "#c683f8",
            "#008090",
            "#1AA3E8",
            "#fc79c7",
            "#F7A000",
            "#aeb404",
            "#9A05BF",
            "#4CD300",
            "#7d4239",
            "#aed780",
            "#0000ff",
            "#C0C0C0"
           ],
           "width": 2
          },
          "pattern": {
           "shape": "/"
          }
         },
         "name": "Field-specific reviewer",
         "type": "bar",
         "x": [
          "Psychology",
          "Health",
          "Engineering and Technology",
          "Biomedical Research",
          "Clinical Medicine",
          "Professional Fields",
          "Social Sciences",
          "Humanities",
          "Mathematics",
          "Biology",
          "Earth and Space",
          "Chemistry",
          "Physics",
          "Arts"
         ],
         "xaxis": "x2",
         "y": [
          0.2613,
          0.22519999999999998,
          0.2376,
          0.2125,
          0.1991,
          0.2021,
          0.1808,
          0.19829999999999998,
          0.1448,
          0.125,
          0.1361,
          0.1714,
          0.12,
          0.0924
         ],
         "yaxis": "y2"
        }
       ],
       "layout": {
        "annotations": [
         {
          "showarrow": false,
          "text": "US",
          "x": "Psychology",
          "xref": "x2",
          "y": 0.2638,
          "yref": "y2",
          "yshift": 10
         },
         {
          "showarrow": false,
          "text": "US",
          "x": "Health",
          "xref": "x2",
          "y": 0.22519999999999998,
          "yref": "y2",
          "yshift": 10
         },
         {
          "showarrow": false,
          "text": "CN",
          "x": "Engineering and Technology",
          "xref": "x2",
          "y": 0.2376,
          "yref": "y2",
          "yshift": 10
         },
         {
          "showarrow": false,
          "text": "US",
          "x": "Biomedical Research",
          "xref": "x2",
          "y": 0.2125,
          "yref": "y2",
          "yshift": 10
         },
         {
          "showarrow": false,
          "text": "US",
          "x": "Clinical Medicine",
          "xref": "x2",
          "y": 0.20149999999999998,
          "yref": "y2",
          "yshift": 10
         },
         {
          "showarrow": false,
          "text": "US",
          "x": "Professional Fields",
          "xref": "x2",
          "y": 0.2021,
          "yref": "y2",
          "yshift": 10
         },
         {
          "showarrow": false,
          "text": "US",
          "x": "Social Sciences",
          "xref": "x2",
          "y": 0.1859,
          "yref": "y2",
          "yshift": 10
         },
         {
          "showarrow": false,
          "text": "US",
          "x": "Humanities",
          "xref": "x2",
          "y": 0.19829999999999998,
          "yref": "y2",
          "yshift": 10
         },
         {
          "showarrow": false,
          "text": "US",
          "x": "Mathematics",
          "xref": "x2",
          "y": 0.1711,
          "yref": "y2",
          "yshift": 10
         },
         {
          "showarrow": false,
          "text": "US",
          "x": "Biology",
          "xref": "x2",
          "y": 0.1501,
          "yref": "y2",
          "yshift": 10
         },
         {
          "showarrow": false,
          "text": "US",
          "x": "Earth and Space",
          "xref": "x2",
          "y": 0.1497,
          "yref": "y2",
          "yshift": 10
         },
         {
          "showarrow": false,
          "text": "CN",
          "x": "Chemistry",
          "xref": "x2",
          "y": 0.1714,
          "yref": "y2",
          "yshift": 10
         },
         {
          "showarrow": false,
          "text": "US",
          "x": "Physics",
          "xref": "x2",
          "y": 0.1418,
          "yref": "y2",
          "yshift": 10
         },
         {
          "showarrow": false,
          "text": "IT",
          "x": "Arts",
          "xref": "x2",
          "y": 0.1209,
          "yref": "y2",
          "yshift": 10
         }
        ],
        "barmode": "group",
        "font": {
         "family": "Arial"
        },
        "height": 550,
        "legend": {
         "bgcolor": "rgba(0,0,0,0)",
         "x": 0.5,
         "xanchor": "center",
         "y": 0.58,
         "yanchor": "top"
        },
        "margin": {
         "l": 60,
         "r": 60
        },
        "shapes": [
         {
          "line": {
           "color": "black",
           "width": 2
          },
          "type": "line",
          "x0": "Arts",
          "x1": "Arts",
          "xref": "x",
          "y0": 0.4375902413402934,
          "y1": 0.4932397097736491,
          "yref": "y"
         },
         {
          "line": {
           "color": "black",
           "width": 2
          },
          "type": "line",
          "x0": "Biology",
          "x1": "Biology",
          "xref": "x",
          "y0": 0.198861038548995,
          "y1": 0.2467460638068023,
          "yref": "y"
         },
         {
          "line": {
           "color": "black",
           "width": 2
          },
          "type": "line",
          "x0": "Biomedical Research",
          "x1": "Biomedical Research",
          "xref": "x",
          "y0": 0.1762645583886516,
          "y1": 0.1814642524977728,
          "yref": "y"
         },
         {
          "line": {
           "color": "black",
           "width": 2
          },
          "type": "line",
          "x0": "Chemistry",
          "x1": "Chemistry",
          "xref": "x",
          "y0": 0.2255314260688416,
          "y1": 0.2707649159684242,
          "yref": "y"
         },
         {
          "line": {
           "color": "black",
           "width": 2
          },
          "type": "line",
          "x0": "Clinical Medicine",
          "x1": "Clinical Medicine",
          "xref": "x",
          "y0": 0.16096336552804,
          "y1": 0.184211005031959,
          "yref": "y"
         },
         {
          "line": {
           "color": "black",
           "width": 2
          },
          "type": "line",
          "x0": "Earth and Space",
          "x1": "Earth and Space",
          "xref": "x",
          "y0": 0.1281615537078568,
          "y1": 0.1531577166134239,
          "yref": "y"
         },
         {
          "line": {
           "color": "black",
           "width": 2
          },
          "type": "line",
          "x0": "Engineering and Technology",
          "x1": "Engineering and Technology",
          "xref": "x",
          "y0": 0.2395127173400533,
          "y1": 0.261835791340142,
          "yref": "y"
         },
         {
          "line": {
           "color": "black",
           "width": 2
          },
          "type": "line",
          "x0": "Health",
          "x1": "Health",
          "xref": "x",
          "y0": 0.3210759569411034,
          "y1": 0.3357165266977228,
          "yref": "y"
         },
         {
          "line": {
           "color": "black",
           "width": 2
          },
          "type": "line",
          "x0": "Humanities",
          "x1": "Humanities",
          "xref": "x",
          "y0": 0.2855196949427292,
          "y1": 0.3587023173057677,
          "yref": "y"
         },
         {
          "line": {
           "color": "black",
           "width": 2
          },
          "type": "line",
          "x0": "Mathematics",
          "x1": "Mathematics",
          "xref": "x",
          "y0": 0.2032779846788313,
          "y1": 0.2679386932305574,
          "yref": "y"
         },
         {
          "line": {
           "color": "black",
           "width": 2
          },
          "type": "line",
          "x0": "Physics",
          "x1": "Physics",
          "xref": "x",
          "y0": 0.2127758710200421,
          "y1": 0.2675510349507672,
          "yref": "y"
         },
         {
          "line": {
           "color": "black",
           "width": 2
          },
          "type": "line",
          "x0": "Professional Fields",
          "x1": "Professional Fields",
          "xref": "x",
          "y0": 0.27760464186915,
          "y1": 0.3035285479193222,
          "yref": "y"
         },
         {
          "line": {
           "color": "black",
           "width": 2
          },
          "type": "line",
          "x0": "Psychology",
          "x1": "Psychology",
          "xref": "x",
          "y0": 0.3477881238240428,
          "y1": 0.3315129245069766,
          "yref": "y"
         },
         {
          "line": {
           "color": "black",
           "width": 2
          },
          "type": "line",
          "x0": "Social Sciences",
          "x1": "Social Sciences",
          "xref": "x",
          "y0": 0.2477922624594372,
          "y1": 0.2524188757888984,
          "yref": "y"
         }
        ],
        "template": {
         "data": {
          "bar": [
           {
            "error_x": {
             "color": "rgb(36,36,36)"
            },
            "error_y": {
             "color": "rgb(36,36,36)"
            },
            "marker": {
             "line": {
              "color": "white",
              "width": 0.5
             },
             "pattern": {
              "fillmode": "overlay",
              "size": 10,
              "solidity": 0.2
             }
            },
            "type": "bar"
           }
          ],
          "barpolar": [
           {
            "marker": {
             "line": {
              "color": "white",
              "width": 0.5
             },
             "pattern": {
              "fillmode": "overlay",
              "size": 10,
              "solidity": 0.2
             }
            },
            "type": "barpolar"
           }
          ],
          "carpet": [
           {
            "aaxis": {
             "endlinecolor": "rgb(36,36,36)",
             "gridcolor": "white",
             "linecolor": "white",
             "minorgridcolor": "white",
             "startlinecolor": "rgb(36,36,36)"
            },
            "baxis": {
             "endlinecolor": "rgb(36,36,36)",
             "gridcolor": "white",
             "linecolor": "white",
             "minorgridcolor": "white",
             "startlinecolor": "rgb(36,36,36)"
            },
            "type": "carpet"
           }
          ],
          "choropleth": [
           {
            "colorbar": {
             "outlinewidth": 1,
             "tickcolor": "rgb(36,36,36)",
             "ticks": "outside"
            },
            "type": "choropleth"
           }
          ],
          "contour": [
           {
            "colorbar": {
             "outlinewidth": 1,
             "tickcolor": "rgb(36,36,36)",
             "ticks": "outside"
            },
            "colorscale": [
             [
              0,
              "#440154"
             ],
             [
              0.1111111111111111,
              "#482878"
             ],
             [
              0.2222222222222222,
              "#3e4989"
             ],
             [
              0.3333333333333333,
              "#31688e"
             ],
             [
              0.4444444444444444,
              "#26828e"
             ],
             [
              0.5555555555555556,
              "#1f9e89"
             ],
             [
              0.6666666666666666,
              "#35b779"
             ],
             [
              0.7777777777777778,
              "#6ece58"
             ],
             [
              0.8888888888888888,
              "#b5de2b"
             ],
             [
              1,
              "#fde725"
             ]
            ],
            "type": "contour"
           }
          ],
          "contourcarpet": [
           {
            "colorbar": {
             "outlinewidth": 1,
             "tickcolor": "rgb(36,36,36)",
             "ticks": "outside"
            },
            "type": "contourcarpet"
           }
          ],
          "heatmap": [
           {
            "colorbar": {
             "outlinewidth": 1,
             "tickcolor": "rgb(36,36,36)",
             "ticks": "outside"
            },
            "colorscale": [
             [
              0,
              "#440154"
             ],
             [
              0.1111111111111111,
              "#482878"
             ],
             [
              0.2222222222222222,
              "#3e4989"
             ],
             [
              0.3333333333333333,
              "#31688e"
             ],
             [
              0.4444444444444444,
              "#26828e"
             ],
             [
              0.5555555555555556,
              "#1f9e89"
             ],
             [
              0.6666666666666666,
              "#35b779"
             ],
             [
              0.7777777777777778,
              "#6ece58"
             ],
             [
              0.8888888888888888,
              "#b5de2b"
             ],
             [
              1,
              "#fde725"
             ]
            ],
            "type": "heatmap"
           }
          ],
          "heatmapgl": [
           {
            "colorbar": {
             "outlinewidth": 1,
             "tickcolor": "rgb(36,36,36)",
             "ticks": "outside"
            },
            "colorscale": [
             [
              0,
              "#440154"
             ],
             [
              0.1111111111111111,
              "#482878"
             ],
             [
              0.2222222222222222,
              "#3e4989"
             ],
             [
              0.3333333333333333,
              "#31688e"
             ],
             [
              0.4444444444444444,
              "#26828e"
             ],
             [
              0.5555555555555556,
              "#1f9e89"
             ],
             [
              0.6666666666666666,
              "#35b779"
             ],
             [
              0.7777777777777778,
              "#6ece58"
             ],
             [
              0.8888888888888888,
              "#b5de2b"
             ],
             [
              1,
              "#fde725"
             ]
            ],
            "type": "heatmapgl"
           }
          ],
          "histogram": [
           {
            "marker": {
             "line": {
              "color": "white",
              "width": 0.6
             }
            },
            "type": "histogram"
           }
          ],
          "histogram2d": [
           {
            "colorbar": {
             "outlinewidth": 1,
             "tickcolor": "rgb(36,36,36)",
             "ticks": "outside"
            },
            "colorscale": [
             [
              0,
              "#440154"
             ],
             [
              0.1111111111111111,
              "#482878"
             ],
             [
              0.2222222222222222,
              "#3e4989"
             ],
             [
              0.3333333333333333,
              "#31688e"
             ],
             [
              0.4444444444444444,
              "#26828e"
             ],
             [
              0.5555555555555556,
              "#1f9e89"
             ],
             [
              0.6666666666666666,
              "#35b779"
             ],
             [
              0.7777777777777778,
              "#6ece58"
             ],
             [
              0.8888888888888888,
              "#b5de2b"
             ],
             [
              1,
              "#fde725"
             ]
            ],
            "type": "histogram2d"
           }
          ],
          "histogram2dcontour": [
           {
            "colorbar": {
             "outlinewidth": 1,
             "tickcolor": "rgb(36,36,36)",
             "ticks": "outside"
            },
            "colorscale": [
             [
              0,
              "#440154"
             ],
             [
              0.1111111111111111,
              "#482878"
             ],
             [
              0.2222222222222222,
              "#3e4989"
             ],
             [
              0.3333333333333333,
              "#31688e"
             ],
             [
              0.4444444444444444,
              "#26828e"
             ],
             [
              0.5555555555555556,
              "#1f9e89"
             ],
             [
              0.6666666666666666,
              "#35b779"
             ],
             [
              0.7777777777777778,
              "#6ece58"
             ],
             [
              0.8888888888888888,
              "#b5de2b"
             ],
             [
              1,
              "#fde725"
             ]
            ],
            "type": "histogram2dcontour"
           }
          ],
          "mesh3d": [
           {
            "colorbar": {
             "outlinewidth": 1,
             "tickcolor": "rgb(36,36,36)",
             "ticks": "outside"
            },
            "type": "mesh3d"
           }
          ],
          "parcoords": [
           {
            "line": {
             "colorbar": {
              "outlinewidth": 1,
              "tickcolor": "rgb(36,36,36)",
              "ticks": "outside"
             }
            },
            "type": "parcoords"
           }
          ],
          "pie": [
           {
            "automargin": true,
            "type": "pie"
           }
          ],
          "scatter": [
           {
            "fillpattern": {
             "fillmode": "overlay",
             "size": 10,
             "solidity": 0.2
            },
            "type": "scatter"
           }
          ],
          "scatter3d": [
           {
            "line": {
             "colorbar": {
              "outlinewidth": 1,
              "tickcolor": "rgb(36,36,36)",
              "ticks": "outside"
             }
            },
            "marker": {
             "colorbar": {
              "outlinewidth": 1,
              "tickcolor": "rgb(36,36,36)",
              "ticks": "outside"
             }
            },
            "type": "scatter3d"
           }
          ],
          "scattercarpet": [
           {
            "marker": {
             "colorbar": {
              "outlinewidth": 1,
              "tickcolor": "rgb(36,36,36)",
              "ticks": "outside"
             }
            },
            "type": "scattercarpet"
           }
          ],
          "scattergeo": [
           {
            "marker": {
             "colorbar": {
              "outlinewidth": 1,
              "tickcolor": "rgb(36,36,36)",
              "ticks": "outside"
             }
            },
            "type": "scattergeo"
           }
          ],
          "scattergl": [
           {
            "marker": {
             "colorbar": {
              "outlinewidth": 1,
              "tickcolor": "rgb(36,36,36)",
              "ticks": "outside"
             }
            },
            "type": "scattergl"
           }
          ],
          "scattermapbox": [
           {
            "marker": {
             "colorbar": {
              "outlinewidth": 1,
              "tickcolor": "rgb(36,36,36)",
              "ticks": "outside"
             }
            },
            "type": "scattermapbox"
           }
          ],
          "scatterpolar": [
           {
            "marker": {
             "colorbar": {
              "outlinewidth": 1,
              "tickcolor": "rgb(36,36,36)",
              "ticks": "outside"
             }
            },
            "type": "scatterpolar"
           }
          ],
          "scatterpolargl": [
           {
            "marker": {
             "colorbar": {
              "outlinewidth": 1,
              "tickcolor": "rgb(36,36,36)",
              "ticks": "outside"
             }
            },
            "type": "scatterpolargl"
           }
          ],
          "scatterternary": [
           {
            "marker": {
             "colorbar": {
              "outlinewidth": 1,
              "tickcolor": "rgb(36,36,36)",
              "ticks": "outside"
             }
            },
            "type": "scatterternary"
           }
          ],
          "surface": [
           {
            "colorbar": {
             "outlinewidth": 1,
             "tickcolor": "rgb(36,36,36)",
             "ticks": "outside"
            },
            "colorscale": [
             [
              0,
              "#440154"
             ],
             [
              0.1111111111111111,
              "#482878"
             ],
             [
              0.2222222222222222,
              "#3e4989"
             ],
             [
              0.3333333333333333,
              "#31688e"
             ],
             [
              0.4444444444444444,
              "#26828e"
             ],
             [
              0.5555555555555556,
              "#1f9e89"
             ],
             [
              0.6666666666666666,
              "#35b779"
             ],
             [
              0.7777777777777778,
              "#6ece58"
             ],
             [
              0.8888888888888888,
              "#b5de2b"
             ],
             [
              1,
              "#fde725"
             ]
            ],
            "type": "surface"
           }
          ],
          "table": [
           {
            "cells": {
             "fill": {
              "color": "rgb(237,237,237)"
             },
             "line": {
              "color": "white"
             }
            },
            "header": {
             "fill": {
              "color": "rgb(217,217,217)"
             },
             "line": {
              "color": "white"
             }
            },
            "type": "table"
           }
          ]
         },
         "layout": {
          "annotationdefaults": {
           "arrowhead": 0,
           "arrowwidth": 1
          },
          "autotypenumbers": "strict",
          "coloraxis": {
           "colorbar": {
            "outlinewidth": 1,
            "tickcolor": "rgb(36,36,36)",
            "ticks": "outside"
           }
          },
          "colorscale": {
           "diverging": [
            [
             0,
             "rgb(103,0,31)"
            ],
            [
             0.1,
             "rgb(178,24,43)"
            ],
            [
             0.2,
             "rgb(214,96,77)"
            ],
            [
             0.3,
             "rgb(244,165,130)"
            ],
            [
             0.4,
             "rgb(253,219,199)"
            ],
            [
             0.5,
             "rgb(247,247,247)"
            ],
            [
             0.6,
             "rgb(209,229,240)"
            ],
            [
             0.7,
             "rgb(146,197,222)"
            ],
            [
             0.8,
             "rgb(67,147,195)"
            ],
            [
             0.9,
             "rgb(33,102,172)"
            ],
            [
             1,
             "rgb(5,48,97)"
            ]
           ],
           "sequential": [
            [
             0,
             "#440154"
            ],
            [
             0.1111111111111111,
             "#482878"
            ],
            [
             0.2222222222222222,
             "#3e4989"
            ],
            [
             0.3333333333333333,
             "#31688e"
            ],
            [
             0.4444444444444444,
             "#26828e"
            ],
            [
             0.5555555555555556,
             "#1f9e89"
            ],
            [
             0.6666666666666666,
             "#35b779"
            ],
            [
             0.7777777777777778,
             "#6ece58"
            ],
            [
             0.8888888888888888,
             "#b5de2b"
            ],
            [
             1,
             "#fde725"
            ]
           ],
           "sequentialminus": [
            [
             0,
             "#440154"
            ],
            [
             0.1111111111111111,
             "#482878"
            ],
            [
             0.2222222222222222,
             "#3e4989"
            ],
            [
             0.3333333333333333,
             "#31688e"
            ],
            [
             0.4444444444444444,
             "#26828e"
            ],
            [
             0.5555555555555556,
             "#1f9e89"
            ],
            [
             0.6666666666666666,
             "#35b779"
            ],
            [
             0.7777777777777778,
             "#6ece58"
            ],
            [
             0.8888888888888888,
             "#b5de2b"
            ],
            [
             1,
             "#fde725"
            ]
           ]
          },
          "colorway": [
           "#1F77B4",
           "#FF7F0E",
           "#2CA02C",
           "#D62728",
           "#9467BD",
           "#8C564B",
           "#E377C2",
           "#7F7F7F",
           "#BCBD22",
           "#17BECF"
          ],
          "font": {
           "color": "rgb(36,36,36)"
          },
          "geo": {
           "bgcolor": "white",
           "lakecolor": "white",
           "landcolor": "white",
           "showlakes": true,
           "showland": true,
           "subunitcolor": "white"
          },
          "hoverlabel": {
           "align": "left"
          },
          "hovermode": "closest",
          "mapbox": {
           "style": "light"
          },
          "paper_bgcolor": "white",
          "plot_bgcolor": "white",
          "polar": {
           "angularaxis": {
            "gridcolor": "rgb(232,232,232)",
            "linecolor": "rgb(36,36,36)",
            "showgrid": false,
            "showline": true,
            "ticks": "outside"
           },
           "bgcolor": "white",
           "radialaxis": {
            "gridcolor": "rgb(232,232,232)",
            "linecolor": "rgb(36,36,36)",
            "showgrid": false,
            "showline": true,
            "ticks": "outside"
           }
          },
          "scene": {
           "xaxis": {
            "backgroundcolor": "white",
            "gridcolor": "rgb(232,232,232)",
            "gridwidth": 2,
            "linecolor": "rgb(36,36,36)",
            "showbackground": true,
            "showgrid": false,
            "showline": true,
            "ticks": "outside",
            "zeroline": false,
            "zerolinecolor": "rgb(36,36,36)"
           },
           "yaxis": {
            "backgroundcolor": "white",
            "gridcolor": "rgb(232,232,232)",
            "gridwidth": 2,
            "linecolor": "rgb(36,36,36)",
            "showbackground": true,
            "showgrid": false,
            "showline": true,
            "ticks": "outside",
            "zeroline": false,
            "zerolinecolor": "rgb(36,36,36)"
           },
           "zaxis": {
            "backgroundcolor": "white",
            "gridcolor": "rgb(232,232,232)",
            "gridwidth": 2,
            "linecolor": "rgb(36,36,36)",
            "showbackground": true,
            "showgrid": false,
            "showline": true,
            "ticks": "outside",
            "zeroline": false,
            "zerolinecolor": "rgb(36,36,36)"
           }
          },
          "shapedefaults": {
           "fillcolor": "black",
           "line": {
            "width": 0
           },
           "opacity": 0.3
          },
          "ternary": {
           "aaxis": {
            "gridcolor": "rgb(232,232,232)",
            "linecolor": "rgb(36,36,36)",
            "showgrid": false,
            "showline": true,
            "ticks": "outside"
           },
           "baxis": {
            "gridcolor": "rgb(232,232,232)",
            "linecolor": "rgb(36,36,36)",
            "showgrid": false,
            "showline": true,
            "ticks": "outside"
           },
           "bgcolor": "white",
           "caxis": {
            "gridcolor": "rgb(232,232,232)",
            "linecolor": "rgb(36,36,36)",
            "showgrid": false,
            "showline": true,
            "ticks": "outside"
           }
          },
          "title": {
           "x": 0.05
          },
          "xaxis": {
           "automargin": true,
           "gridcolor": "rgb(232,232,232)",
           "linecolor": "rgb(36,36,36)",
           "showgrid": false,
           "showline": true,
           "ticks": "outside",
           "title": {
            "standoff": 15
           },
           "zeroline": false,
           "zerolinecolor": "rgb(36,36,36)"
          },
          "yaxis": {
           "automargin": true,
           "gridcolor": "rgb(232,232,232)",
           "linecolor": "rgb(36,36,36)",
           "showgrid": false,
           "showline": true,
           "ticks": "outside",
           "title": {
            "standoff": 15
           },
           "zeroline": false,
           "zerolinecolor": "rgb(36,36,36)"
          }
         }
        },
        "width": 500,
        "xaxis": {
         "anchor": "y",
         "categoryarray": [
          "Arts",
          "Biology",
          "Biomedical Research",
          "Chemistry",
          "Clinical Medicine",
          "Earth and Space",
          "Engineering and Technology",
          "Health",
          "Humanities",
          "Mathematics",
          "Physics",
          "Professional Fields",
          "Psychology",
          "Social Sciences"
         ],
         "categoryorder": "array",
         "domain": [
          0,
          1
         ],
         "matches": "x2",
         "showgrid": true,
         "showticklabels": false,
         "tickangle": 35,
         "ticktext": [
          "Arts",
          "Biology",
          "Biomedical",
          "Chemistry",
          "Medicine",
          "Earth & Space",
          "Engineering",
          "Health",
          "Humanities",
          "Mathematics",
          "Physics",
          "Professional",
          "Psychology",
          "Soc Sci"
         ],
         "tickvals": [
          "Arts",
          "Biology",
          "Biomedical Research",
          "Chemistry",
          "Clinical Medicine",
          "Earth and Space",
          "Engineering and Technology",
          "Health",
          "Humanities",
          "Mathematics",
          "Physics",
          "Professional Fields",
          "Psychology",
          "Social Sciences"
         ]
        },
        "xaxis2": {
         "anchor": "y2",
         "categoryarray": [
          "Arts",
          "Biology",
          "Biomedical Research",
          "Chemistry",
          "Clinical Medicine",
          "Earth and Space",
          "Engineering and Technology",
          "Health",
          "Humanities",
          "Mathematics",
          "Physics",
          "Professional Fields",
          "Psychology",
          "Social Sciences"
         ],
         "categoryorder": "array",
         "domain": [
          0,
          1
         ],
         "showgrid": true,
         "tickangle": 35,
         "ticktext": [
          "Arts",
          "Biology",
          "Biomedical",
          "Chemistry",
          "Medicine",
          "Earth & Space",
          "Engineering",
          "Health",
          "Humanities",
          "Mathematics",
          "Physics",
          "Professional",
          "Psychology",
          "Soc Sci"
         ],
         "tickvals": [
          "Arts",
          "Biology",
          "Biomedical Research",
          "Chemistry",
          "Clinical Medicine",
          "Earth and Space",
          "Engineering and Technology",
          "Health",
          "Humanities",
          "Mathematics",
          "Physics",
          "Professional Fields",
          "Psychology",
          "Social Sciences"
         ],
         "title": {
          "text": "Journal field"
         }
        },
        "yaxis": {
         "anchor": "x",
         "domain": [
          0.43,
          1
         ],
         "minor": {
          "nticks": 5,
          "showgrid": true
         },
         "showgrid": true,
         "title": {
          "standoff": 0,
          "text": "Gini index"
         }
        },
        "yaxis2": {
         "anchor": "x2",
         "domain": [
          0,
          0.38
         ],
         "minor": {
          "nticks": 5,
          "showgrid": true
         },
         "showgrid": true,
         "tickformat": ".0%",
         "title": {
          "standoff": 0,
          "text": "% the top<br>reviewers' country"
         }
        }
       }
      }
     },
     "metadata": {},
     "output_type": "display_data"
    }
   ],
   "source": [
    "# gini_old\n",
    "df = pd.read_csv(os.path.join(root, r\"reviewer_stat/d2_group_gini.csv\"))\n",
    "                                                                \n",
    "# another df\n",
    "def p2f(x):\n",
    "    return float(x.strip('%'))/100\n",
    "\n",
    "df2 = pd.read_csv(os.path.join(root, r\"reviewer_stat/d2_reviewer_ctry_change.csv\"),\n",
    "                 converters={'perc':p2f, 'exc_perc':p2f, 'diff':p2f}\n",
    "                 )\n",
    "df2=df2.sort_values(\"perc\", ascending=False).drop_duplicates(\"d2\")\n",
    "\n",
    "color_dict, order = get_palette(attr=\"disc\")\n",
    "df[\"color\"] = df[\"d2\"].map(color_dict)\n",
    "df2[\"color\"] = df2[\"d2\"].map(color_dict)\n",
    "\n",
    "# draw figure\n",
    "fig = make_subplots(2, 1, shared_xaxes=True, row_heights=[1.5,1], vertical_spacing=0.05)\n",
    "\n",
    "position = dict(row=1, col=1)\n",
    "position2 = dict(row=2, col=1)\n",
    "\n",
    "fig.add_trace(go.Scatter(x=df[\"d2\"],\n",
    "                         y=df[\"reviewer\"],\n",
    "                         name=\"Reviewer\",\n",
    "                         mode=\"markers\",\n",
    "                         marker=dict(color=df[\"color\"],\n",
    "                                     symbol=\"circle\",\n",
    "                                     size=10,\n",
    "                                     opacity=0.6,\n",
    "                                     line=dict(width=1,\n",
    "                                               color=df[\"color\"]),\n",
    "\n",
    "                                     )\n",
    "                         ),\n",
    "              **position,\n",
    "              )\n",
    "\n",
    "fig.add_trace(go.Scatter(x=df[\"d2\"],\n",
    "                         y=df[\"exclusive reviewer\"],\n",
    "                         name=\"Field-specific reviewer\",\n",
    "                         mode=\"markers\",\n",
    "                         opacity=1,\n",
    "                         marker=dict(color=df[\"color\"],\n",
    "                                     symbol=\"diamond\",\n",
    "                                     size=10,\n",
    "                                     line=dict(width=1,\n",
    "                                               color=df[\"color\"]),\n",
    "                                     )\n",
    "                         ),\n",
    "              **position,\n",
    "              )\n",
    "\n",
    "for i, row in df.iterrows():\n",
    "    fig.add_shape(type=\"line\",\n",
    "                  xref=\"x\", yref=\"y\",\n",
    "                  x0=row[\"d2\"], y0=row[\"reviewer\"], x1=row[\"d2\"], y1=row[\"exclusive reviewer\"],\n",
    "                  line=dict(color=\"black\",\n",
    "                            width=2,\n",
    "                            ),\n",
    "                   **position,\n",
    "                  )\n",
    "    \n",
    "\n",
    "# bar\n",
    "fig.add_trace(go.Bar(x=df2[\"d2\"],\n",
    "                         y=df2[\"perc\"],\n",
    "                         name=\"Reviewer\",\n",
    "                         opacity=0.4,\n",
    "                         hovertemplate=\"%{y:2%}\",\n",
    "                         marker=dict(color=df2[\"color\"],\n",
    "                                     line=dict(width=2,\n",
    "                                               color=df2[\"color\"]),\n",
    "                                     )\n",
    "                         ),\n",
    "              **position2,\n",
    "              )\n",
    "\n",
    "fig.add_trace(go.Bar(x=df2[\"d2\"],\n",
    "                         y=df2[\"exc_perc\"],\n",
    "                         name=\"Field-specific reviewer\",\n",
    "                         marker=dict(color=df2[\"color\"],\n",
    "                                     line=dict(width=2,\n",
    "                                               color=df2[\"color\"]),\n",
    "                                     pattern=dict(shape=\"/\")\n",
    "                                     )\n",
    "                         ),\n",
    "              **position2,\n",
    "              )\n",
    "\n",
    "for i, row in df2.iterrows():\n",
    "    fig.add_annotation(x=row[\"d2\"],\n",
    "                    y=row[[\"perc\", \"exc_perc\"]].max(),\n",
    "                    text=row[\"alpha2\"],\n",
    "                    showarrow=False,\n",
    "                    yshift=10,\n",
    "                    **position2\n",
    "                    )\n",
    "\n",
    "\n",
    "fig.update_layout(height=550,\n",
    "                  width=500,\n",
    "                  template=\"simple_white\",\n",
    "                  #title=dict(text=\"<b>(A)<b>\",),\n",
    "                  font=dict(family=\"Arial\"),\n",
    "                  legend=dict(yanchor=\"top\",\n",
    "                              y=0.58,\n",
    "                              xanchor=\"center\",\n",
    "                              x=0.5,\n",
    "                              bgcolor='rgba(0,0,0,0)'),\n",
    "                  barmode='group',\n",
    "                  margin=dict(l=60, r=60))\n",
    "\n",
    "fig.update_xaxes(categoryorder=\"array\",\n",
    "                 categoryarray=order,\n",
    "                 tickvals=order,\n",
    "                 ticktext=field_xticks,\n",
    "                 tickangle=35,\n",
    "                 showgrid=True,\n",
    "                 )\n",
    "\n",
    "fig.update_xaxes(title=dict(text=\"Journal field\"),\n",
    "                 **position2)\n",
    "\n",
    "\n",
    "fig.update_yaxes(showgrid=True,\n",
    "                 minor=dict(nticks=5,\n",
    "                            showgrid=True),\n",
    "                 title=dict(text=\"Gini index\",\n",
    "                            standoff=0.0),\n",
    "                 **position,\n",
    "                 )\n",
    "\n",
    "fig.update_yaxes(showgrid=True,\n",
    "                 tickformat=\".0%\",\n",
    "                 minor=dict(nticks=5,\n",
    "                            showgrid=True),\n",
    "                 title=dict(text=\"% the top<br>reviewers' country\",\n",
    "                            standoff=0.0),\n",
    "                 **position2,\n",
    "                 )\n",
    "\n",
    "fig.show()\n",
    "fig.write_image(os.path.join(graph_root, \"gini_disc.pdf\"))"
   ]
  },
  {
   "cell_type": "code",
   "execution_count": 91,
   "id": "44dec30b",
   "metadata": {},
   "outputs": [
    {
     "data": {
      "application/vnd.plotly.v1+json": {
       "config": {
        "plotlyServerURL": "https://plot.ly"
       },
       "data": [
        {
         "marker": {
          "color": [
           "#C0C0C0",
           "#4CD300",
           "#008090",
           "#aed780",
           "#1AA3E8",
           "#7d4239",
           "#c683f8",
           "#7fff97",
           "#aeb404",
           "#9A05BF",
           "#0000ff",
           "#fc79c7",
           "#F70000",
           "#F7A000"
          ],
          "line": {
           "color": [
            "#C0C0C0",
            "#4CD300",
            "#008090",
            "#aed780",
            "#1AA3E8",
            "#7d4239",
            "#c683f8",
            "#7fff97",
            "#aeb404",
            "#9A05BF",
            "#0000ff",
            "#fc79c7",
            "#F70000",
            "#F7A000"
           ],
           "width": 1
          },
          "opacity": 0.6,
          "size": 10,
          "symbol": "circle"
         },
         "mode": "markers",
         "name": "Reviewer",
         "type": "scatter",
         "x": [
          "Arts",
          "Biology",
          "Biomedical Research",
          "Chemistry",
          "Clinical Medicine",
          "Earth and Space",
          "Engineering and Technology",
          "Health",
          "Humanities",
          "Mathematics",
          "Physics",
          "Professional Fields",
          "Psychology",
          "Social Sciences"
         ],
         "y": [
          0.4375902413402934,
          0.198861038548995,
          0.1762645583886516,
          0.2255314260688416,
          0.16096336552804,
          0.1281615537078568,
          0.2395127173400533,
          0.3210759569411034,
          0.2855196949427292,
          0.2032779846788313,
          0.2127758710200421,
          0.27760464186915,
          0.3477881238240428,
          0.2477922624594372
         ]
        },
        {
         "marker": {
          "color": [
           "#C0C0C0",
           "#4CD300",
           "#008090",
           "#aed780",
           "#1AA3E8",
           "#7d4239",
           "#c683f8",
           "#7fff97",
           "#aeb404",
           "#9A05BF",
           "#0000ff",
           "#fc79c7",
           "#F70000",
           "#F7A000"
          ],
          "line": {
           "color": [
            "#C0C0C0",
            "#4CD300",
            "#008090",
            "#aed780",
            "#1AA3E8",
            "#7d4239",
            "#c683f8",
            "#7fff97",
            "#aeb404",
            "#9A05BF",
            "#0000ff",
            "#fc79c7",
            "#F70000",
            "#F7A000"
           ],
           "width": 1
          },
          "size": 10,
          "symbol": "diamond"
         },
         "mode": "markers",
         "name": "Field-specific reviewer",
         "opacity": 1,
         "type": "scatter",
         "x": [
          "Arts",
          "Biology",
          "Biomedical Research",
          "Chemistry",
          "Clinical Medicine",
          "Earth and Space",
          "Engineering and Technology",
          "Health",
          "Humanities",
          "Mathematics",
          "Physics",
          "Professional Fields",
          "Psychology",
          "Social Sciences"
         ],
         "y": [
          0.4932397097736491,
          0.2467460638068023,
          0.1814642524977728,
          0.2707649159684242,
          0.184211005031959,
          0.1531577166134239,
          0.261835791340142,
          0.3357165266977228,
          0.3587023173057677,
          0.2679386932305574,
          0.2675510349507672,
          0.3035285479193222,
          0.3315129245069766,
          0.2524188757888984
         ]
        }
       ],
       "layout": {
        "font": {
         "family": "Arial"
        },
        "height": 300,
        "legend": {
         "bgcolor": "rgba(0,0,0,0)",
         "x": 1,
         "xanchor": "right",
         "y": 1,
         "yanchor": "top"
        },
        "margin": {
         "b": 30,
         "l": 30,
         "r": 30,
         "t": 30
        },
        "shapes": [
         {
          "line": {
           "color": "black",
           "width": 2
          },
          "type": "line",
          "x0": "Arts",
          "x1": "Arts",
          "xref": "x",
          "y0": 0.4375902413402934,
          "y1": 0.4932397097736491,
          "yref": "y"
         },
         {
          "line": {
           "color": "black",
           "width": 2
          },
          "type": "line",
          "x0": "Biology",
          "x1": "Biology",
          "xref": "x",
          "y0": 0.198861038548995,
          "y1": 0.2467460638068023,
          "yref": "y"
         },
         {
          "line": {
           "color": "black",
           "width": 2
          },
          "type": "line",
          "x0": "Biomedical Research",
          "x1": "Biomedical Research",
          "xref": "x",
          "y0": 0.1762645583886516,
          "y1": 0.1814642524977728,
          "yref": "y"
         },
         {
          "line": {
           "color": "black",
           "width": 2
          },
          "type": "line",
          "x0": "Chemistry",
          "x1": "Chemistry",
          "xref": "x",
          "y0": 0.2255314260688416,
          "y1": 0.2707649159684242,
          "yref": "y"
         },
         {
          "line": {
           "color": "black",
           "width": 2
          },
          "type": "line",
          "x0": "Clinical Medicine",
          "x1": "Clinical Medicine",
          "xref": "x",
          "y0": 0.16096336552804,
          "y1": 0.184211005031959,
          "yref": "y"
         },
         {
          "line": {
           "color": "black",
           "width": 2
          },
          "type": "line",
          "x0": "Earth and Space",
          "x1": "Earth and Space",
          "xref": "x",
          "y0": 0.1281615537078568,
          "y1": 0.1531577166134239,
          "yref": "y"
         },
         {
          "line": {
           "color": "black",
           "width": 2
          },
          "type": "line",
          "x0": "Engineering and Technology",
          "x1": "Engineering and Technology",
          "xref": "x",
          "y0": 0.2395127173400533,
          "y1": 0.261835791340142,
          "yref": "y"
         },
         {
          "line": {
           "color": "black",
           "width": 2
          },
          "type": "line",
          "x0": "Health",
          "x1": "Health",
          "xref": "x",
          "y0": 0.3210759569411034,
          "y1": 0.3357165266977228,
          "yref": "y"
         },
         {
          "line": {
           "color": "black",
           "width": 2
          },
          "type": "line",
          "x0": "Humanities",
          "x1": "Humanities",
          "xref": "x",
          "y0": 0.2855196949427292,
          "y1": 0.3587023173057677,
          "yref": "y"
         },
         {
          "line": {
           "color": "black",
           "width": 2
          },
          "type": "line",
          "x0": "Mathematics",
          "x1": "Mathematics",
          "xref": "x",
          "y0": 0.2032779846788313,
          "y1": 0.2679386932305574,
          "yref": "y"
         },
         {
          "line": {
           "color": "black",
           "width": 2
          },
          "type": "line",
          "x0": "Physics",
          "x1": "Physics",
          "xref": "x",
          "y0": 0.2127758710200421,
          "y1": 0.2675510349507672,
          "yref": "y"
         },
         {
          "line": {
           "color": "black",
           "width": 2
          },
          "type": "line",
          "x0": "Professional Fields",
          "x1": "Professional Fields",
          "xref": "x",
          "y0": 0.27760464186915,
          "y1": 0.3035285479193222,
          "yref": "y"
         },
         {
          "line": {
           "color": "black",
           "width": 2
          },
          "type": "line",
          "x0": "Psychology",
          "x1": "Psychology",
          "xref": "x",
          "y0": 0.3477881238240428,
          "y1": 0.3315129245069766,
          "yref": "y"
         },
         {
          "line": {
           "color": "black",
           "width": 2
          },
          "type": "line",
          "x0": "Social Sciences",
          "x1": "Social Sciences",
          "xref": "x",
          "y0": 0.2477922624594372,
          "y1": 0.2524188757888984,
          "yref": "y"
         }
        ],
        "template": {
         "data": {
          "bar": [
           {
            "error_x": {
             "color": "rgb(36,36,36)"
            },
            "error_y": {
             "color": "rgb(36,36,36)"
            },
            "marker": {
             "line": {
              "color": "white",
              "width": 0.5
             },
             "pattern": {
              "fillmode": "overlay",
              "size": 10,
              "solidity": 0.2
             }
            },
            "type": "bar"
           }
          ],
          "barpolar": [
           {
            "marker": {
             "line": {
              "color": "white",
              "width": 0.5
             },
             "pattern": {
              "fillmode": "overlay",
              "size": 10,
              "solidity": 0.2
             }
            },
            "type": "barpolar"
           }
          ],
          "carpet": [
           {
            "aaxis": {
             "endlinecolor": "rgb(36,36,36)",
             "gridcolor": "white",
             "linecolor": "white",
             "minorgridcolor": "white",
             "startlinecolor": "rgb(36,36,36)"
            },
            "baxis": {
             "endlinecolor": "rgb(36,36,36)",
             "gridcolor": "white",
             "linecolor": "white",
             "minorgridcolor": "white",
             "startlinecolor": "rgb(36,36,36)"
            },
            "type": "carpet"
           }
          ],
          "choropleth": [
           {
            "colorbar": {
             "outlinewidth": 1,
             "tickcolor": "rgb(36,36,36)",
             "ticks": "outside"
            },
            "type": "choropleth"
           }
          ],
          "contour": [
           {
            "colorbar": {
             "outlinewidth": 1,
             "tickcolor": "rgb(36,36,36)",
             "ticks": "outside"
            },
            "colorscale": [
             [
              0,
              "#440154"
             ],
             [
              0.1111111111111111,
              "#482878"
             ],
             [
              0.2222222222222222,
              "#3e4989"
             ],
             [
              0.3333333333333333,
              "#31688e"
             ],
             [
              0.4444444444444444,
              "#26828e"
             ],
             [
              0.5555555555555556,
              "#1f9e89"
             ],
             [
              0.6666666666666666,
              "#35b779"
             ],
             [
              0.7777777777777778,
              "#6ece58"
             ],
             [
              0.8888888888888888,
              "#b5de2b"
             ],
             [
              1,
              "#fde725"
             ]
            ],
            "type": "contour"
           }
          ],
          "contourcarpet": [
           {
            "colorbar": {
             "outlinewidth": 1,
             "tickcolor": "rgb(36,36,36)",
             "ticks": "outside"
            },
            "type": "contourcarpet"
           }
          ],
          "heatmap": [
           {
            "colorbar": {
             "outlinewidth": 1,
             "tickcolor": "rgb(36,36,36)",
             "ticks": "outside"
            },
            "colorscale": [
             [
              0,
              "#440154"
             ],
             [
              0.1111111111111111,
              "#482878"
             ],
             [
              0.2222222222222222,
              "#3e4989"
             ],
             [
              0.3333333333333333,
              "#31688e"
             ],
             [
              0.4444444444444444,
              "#26828e"
             ],
             [
              0.5555555555555556,
              "#1f9e89"
             ],
             [
              0.6666666666666666,
              "#35b779"
             ],
             [
              0.7777777777777778,
              "#6ece58"
             ],
             [
              0.8888888888888888,
              "#b5de2b"
             ],
             [
              1,
              "#fde725"
             ]
            ],
            "type": "heatmap"
           }
          ],
          "heatmapgl": [
           {
            "colorbar": {
             "outlinewidth": 1,
             "tickcolor": "rgb(36,36,36)",
             "ticks": "outside"
            },
            "colorscale": [
             [
              0,
              "#440154"
             ],
             [
              0.1111111111111111,
              "#482878"
             ],
             [
              0.2222222222222222,
              "#3e4989"
             ],
             [
              0.3333333333333333,
              "#31688e"
             ],
             [
              0.4444444444444444,
              "#26828e"
             ],
             [
              0.5555555555555556,
              "#1f9e89"
             ],
             [
              0.6666666666666666,
              "#35b779"
             ],
             [
              0.7777777777777778,
              "#6ece58"
             ],
             [
              0.8888888888888888,
              "#b5de2b"
             ],
             [
              1,
              "#fde725"
             ]
            ],
            "type": "heatmapgl"
           }
          ],
          "histogram": [
           {
            "marker": {
             "line": {
              "color": "white",
              "width": 0.6
             }
            },
            "type": "histogram"
           }
          ],
          "histogram2d": [
           {
            "colorbar": {
             "outlinewidth": 1,
             "tickcolor": "rgb(36,36,36)",
             "ticks": "outside"
            },
            "colorscale": [
             [
              0,
              "#440154"
             ],
             [
              0.1111111111111111,
              "#482878"
             ],
             [
              0.2222222222222222,
              "#3e4989"
             ],
             [
              0.3333333333333333,
              "#31688e"
             ],
             [
              0.4444444444444444,
              "#26828e"
             ],
             [
              0.5555555555555556,
              "#1f9e89"
             ],
             [
              0.6666666666666666,
              "#35b779"
             ],
             [
              0.7777777777777778,
              "#6ece58"
             ],
             [
              0.8888888888888888,
              "#b5de2b"
             ],
             [
              1,
              "#fde725"
             ]
            ],
            "type": "histogram2d"
           }
          ],
          "histogram2dcontour": [
           {
            "colorbar": {
             "outlinewidth": 1,
             "tickcolor": "rgb(36,36,36)",
             "ticks": "outside"
            },
            "colorscale": [
             [
              0,
              "#440154"
             ],
             [
              0.1111111111111111,
              "#482878"
             ],
             [
              0.2222222222222222,
              "#3e4989"
             ],
             [
              0.3333333333333333,
              "#31688e"
             ],
             [
              0.4444444444444444,
              "#26828e"
             ],
             [
              0.5555555555555556,
              "#1f9e89"
             ],
             [
              0.6666666666666666,
              "#35b779"
             ],
             [
              0.7777777777777778,
              "#6ece58"
             ],
             [
              0.8888888888888888,
              "#b5de2b"
             ],
             [
              1,
              "#fde725"
             ]
            ],
            "type": "histogram2dcontour"
           }
          ],
          "mesh3d": [
           {
            "colorbar": {
             "outlinewidth": 1,
             "tickcolor": "rgb(36,36,36)",
             "ticks": "outside"
            },
            "type": "mesh3d"
           }
          ],
          "parcoords": [
           {
            "line": {
             "colorbar": {
              "outlinewidth": 1,
              "tickcolor": "rgb(36,36,36)",
              "ticks": "outside"
             }
            },
            "type": "parcoords"
           }
          ],
          "pie": [
           {
            "automargin": true,
            "type": "pie"
           }
          ],
          "scatter": [
           {
            "fillpattern": {
             "fillmode": "overlay",
             "size": 10,
             "solidity": 0.2
            },
            "type": "scatter"
           }
          ],
          "scatter3d": [
           {
            "line": {
             "colorbar": {
              "outlinewidth": 1,
              "tickcolor": "rgb(36,36,36)",
              "ticks": "outside"
             }
            },
            "marker": {
             "colorbar": {
              "outlinewidth": 1,
              "tickcolor": "rgb(36,36,36)",
              "ticks": "outside"
             }
            },
            "type": "scatter3d"
           }
          ],
          "scattercarpet": [
           {
            "marker": {
             "colorbar": {
              "outlinewidth": 1,
              "tickcolor": "rgb(36,36,36)",
              "ticks": "outside"
             }
            },
            "type": "scattercarpet"
           }
          ],
          "scattergeo": [
           {
            "marker": {
             "colorbar": {
              "outlinewidth": 1,
              "tickcolor": "rgb(36,36,36)",
              "ticks": "outside"
             }
            },
            "type": "scattergeo"
           }
          ],
          "scattergl": [
           {
            "marker": {
             "colorbar": {
              "outlinewidth": 1,
              "tickcolor": "rgb(36,36,36)",
              "ticks": "outside"
             }
            },
            "type": "scattergl"
           }
          ],
          "scattermapbox": [
           {
            "marker": {
             "colorbar": {
              "outlinewidth": 1,
              "tickcolor": "rgb(36,36,36)",
              "ticks": "outside"
             }
            },
            "type": "scattermapbox"
           }
          ],
          "scatterpolar": [
           {
            "marker": {
             "colorbar": {
              "outlinewidth": 1,
              "tickcolor": "rgb(36,36,36)",
              "ticks": "outside"
             }
            },
            "type": "scatterpolar"
           }
          ],
          "scatterpolargl": [
           {
            "marker": {
             "colorbar": {
              "outlinewidth": 1,
              "tickcolor": "rgb(36,36,36)",
              "ticks": "outside"
             }
            },
            "type": "scatterpolargl"
           }
          ],
          "scatterternary": [
           {
            "marker": {
             "colorbar": {
              "outlinewidth": 1,
              "tickcolor": "rgb(36,36,36)",
              "ticks": "outside"
             }
            },
            "type": "scatterternary"
           }
          ],
          "surface": [
           {
            "colorbar": {
             "outlinewidth": 1,
             "tickcolor": "rgb(36,36,36)",
             "ticks": "outside"
            },
            "colorscale": [
             [
              0,
              "#440154"
             ],
             [
              0.1111111111111111,
              "#482878"
             ],
             [
              0.2222222222222222,
              "#3e4989"
             ],
             [
              0.3333333333333333,
              "#31688e"
             ],
             [
              0.4444444444444444,
              "#26828e"
             ],
             [
              0.5555555555555556,
              "#1f9e89"
             ],
             [
              0.6666666666666666,
              "#35b779"
             ],
             [
              0.7777777777777778,
              "#6ece58"
             ],
             [
              0.8888888888888888,
              "#b5de2b"
             ],
             [
              1,
              "#fde725"
             ]
            ],
            "type": "surface"
           }
          ],
          "table": [
           {
            "cells": {
             "fill": {
              "color": "rgb(237,237,237)"
             },
             "line": {
              "color": "white"
             }
            },
            "header": {
             "fill": {
              "color": "rgb(217,217,217)"
             },
             "line": {
              "color": "white"
             }
            },
            "type": "table"
           }
          ]
         },
         "layout": {
          "annotationdefaults": {
           "arrowhead": 0,
           "arrowwidth": 1
          },
          "autotypenumbers": "strict",
          "coloraxis": {
           "colorbar": {
            "outlinewidth": 1,
            "tickcolor": "rgb(36,36,36)",
            "ticks": "outside"
           }
          },
          "colorscale": {
           "diverging": [
            [
             0,
             "rgb(103,0,31)"
            ],
            [
             0.1,
             "rgb(178,24,43)"
            ],
            [
             0.2,
             "rgb(214,96,77)"
            ],
            [
             0.3,
             "rgb(244,165,130)"
            ],
            [
             0.4,
             "rgb(253,219,199)"
            ],
            [
             0.5,
             "rgb(247,247,247)"
            ],
            [
             0.6,
             "rgb(209,229,240)"
            ],
            [
             0.7,
             "rgb(146,197,222)"
            ],
            [
             0.8,
             "rgb(67,147,195)"
            ],
            [
             0.9,
             "rgb(33,102,172)"
            ],
            [
             1,
             "rgb(5,48,97)"
            ]
           ],
           "sequential": [
            [
             0,
             "#440154"
            ],
            [
             0.1111111111111111,
             "#482878"
            ],
            [
             0.2222222222222222,
             "#3e4989"
            ],
            [
             0.3333333333333333,
             "#31688e"
            ],
            [
             0.4444444444444444,
             "#26828e"
            ],
            [
             0.5555555555555556,
             "#1f9e89"
            ],
            [
             0.6666666666666666,
             "#35b779"
            ],
            [
             0.7777777777777778,
             "#6ece58"
            ],
            [
             0.8888888888888888,
             "#b5de2b"
            ],
            [
             1,
             "#fde725"
            ]
           ],
           "sequentialminus": [
            [
             0,
             "#440154"
            ],
            [
             0.1111111111111111,
             "#482878"
            ],
            [
             0.2222222222222222,
             "#3e4989"
            ],
            [
             0.3333333333333333,
             "#31688e"
            ],
            [
             0.4444444444444444,
             "#26828e"
            ],
            [
             0.5555555555555556,
             "#1f9e89"
            ],
            [
             0.6666666666666666,
             "#35b779"
            ],
            [
             0.7777777777777778,
             "#6ece58"
            ],
            [
             0.8888888888888888,
             "#b5de2b"
            ],
            [
             1,
             "#fde725"
            ]
           ]
          },
          "colorway": [
           "#1F77B4",
           "#FF7F0E",
           "#2CA02C",
           "#D62728",
           "#9467BD",
           "#8C564B",
           "#E377C2",
           "#7F7F7F",
           "#BCBD22",
           "#17BECF"
          ],
          "font": {
           "color": "rgb(36,36,36)"
          },
          "geo": {
           "bgcolor": "white",
           "lakecolor": "white",
           "landcolor": "white",
           "showlakes": true,
           "showland": true,
           "subunitcolor": "white"
          },
          "hoverlabel": {
           "align": "left"
          },
          "hovermode": "closest",
          "mapbox": {
           "style": "light"
          },
          "paper_bgcolor": "white",
          "plot_bgcolor": "white",
          "polar": {
           "angularaxis": {
            "gridcolor": "rgb(232,232,232)",
            "linecolor": "rgb(36,36,36)",
            "showgrid": false,
            "showline": true,
            "ticks": "outside"
           },
           "bgcolor": "white",
           "radialaxis": {
            "gridcolor": "rgb(232,232,232)",
            "linecolor": "rgb(36,36,36)",
            "showgrid": false,
            "showline": true,
            "ticks": "outside"
           }
          },
          "scene": {
           "xaxis": {
            "backgroundcolor": "white",
            "gridcolor": "rgb(232,232,232)",
            "gridwidth": 2,
            "linecolor": "rgb(36,36,36)",
            "showbackground": true,
            "showgrid": false,
            "showline": true,
            "ticks": "outside",
            "zeroline": false,
            "zerolinecolor": "rgb(36,36,36)"
           },
           "yaxis": {
            "backgroundcolor": "white",
            "gridcolor": "rgb(232,232,232)",
            "gridwidth": 2,
            "linecolor": "rgb(36,36,36)",
            "showbackground": true,
            "showgrid": false,
            "showline": true,
            "ticks": "outside",
            "zeroline": false,
            "zerolinecolor": "rgb(36,36,36)"
           },
           "zaxis": {
            "backgroundcolor": "white",
            "gridcolor": "rgb(232,232,232)",
            "gridwidth": 2,
            "linecolor": "rgb(36,36,36)",
            "showbackground": true,
            "showgrid": false,
            "showline": true,
            "ticks": "outside",
            "zeroline": false,
            "zerolinecolor": "rgb(36,36,36)"
           }
          },
          "shapedefaults": {
           "fillcolor": "black",
           "line": {
            "width": 0
           },
           "opacity": 0.3
          },
          "ternary": {
           "aaxis": {
            "gridcolor": "rgb(232,232,232)",
            "linecolor": "rgb(36,36,36)",
            "showgrid": false,
            "showline": true,
            "ticks": "outside"
           },
           "baxis": {
            "gridcolor": "rgb(232,232,232)",
            "linecolor": "rgb(36,36,36)",
            "showgrid": false,
            "showline": true,
            "ticks": "outside"
           },
           "bgcolor": "white",
           "caxis": {
            "gridcolor": "rgb(232,232,232)",
            "linecolor": "rgb(36,36,36)",
            "showgrid": false,
            "showline": true,
            "ticks": "outside"
           }
          },
          "title": {
           "x": 0.05
          },
          "xaxis": {
           "automargin": true,
           "gridcolor": "rgb(232,232,232)",
           "linecolor": "rgb(36,36,36)",
           "showgrid": false,
           "showline": true,
           "ticks": "outside",
           "title": {
            "standoff": 15
           },
           "zeroline": false,
           "zerolinecolor": "rgb(36,36,36)"
          },
          "yaxis": {
           "automargin": true,
           "gridcolor": "rgb(232,232,232)",
           "linecolor": "rgb(36,36,36)",
           "showgrid": false,
           "showline": true,
           "ticks": "outside",
           "title": {
            "standoff": 15
           },
           "zeroline": false,
           "zerolinecolor": "rgb(36,36,36)"
          }
         }
        },
        "width": 400,
        "xaxis": {
         "categoryarray": [
          "Arts",
          "Biology",
          "Biomedical Research",
          "Chemistry",
          "Clinical Medicine",
          "Earth and Space",
          "Engineering and Technology",
          "Health",
          "Humanities",
          "Mathematics",
          "Physics",
          "Professional Fields",
          "Psychology",
          "Social Sciences"
         ],
         "categoryorder": "array",
         "showgrid": false,
         "tickangle": 35,
         "ticktext": [
          "Arts",
          "Biology",
          "Biomedical",
          "Chemistry",
          "Medicine",
          "Earth & Space",
          "Engineering",
          "Health",
          "Humanities",
          "Mathematics",
          "Physics",
          "Professional",
          "Psychology",
          "Soc Sci"
         ],
         "tickvals": [
          "Arts",
          "Biology",
          "Biomedical Research",
          "Chemistry",
          "Clinical Medicine",
          "Earth and Space",
          "Engineering and Technology",
          "Health",
          "Humanities",
          "Mathematics",
          "Physics",
          "Professional Fields",
          "Psychology",
          "Social Sciences"
         ],
         "title": {
          "standoff": 0,
          "text": "Journal field"
         }
        },
        "yaxis": {
         "minor": {
          "nticks": 5,
          "showgrid": true
         },
         "showgrid": true,
         "title": {
          "standoff": 0,
          "text": "Gini index"
         }
        }
       }
      }
     },
     "metadata": {},
     "output_type": "display_data"
    }
   ],
   "source": [
    "# gini single plot\n",
    "\n",
    "df = pd.read_csv(os.path.join(root, r\"reviewer_stat/d2_group_gini.csv\"))\n",
    "                                                                \n",
    "# another df\n",
    "def p2f(x):\n",
    "    return float(x.strip('%'))/100\n",
    "\n",
    "color_dict, order = get_palette(attr=\"disc\")\n",
    "df[\"color\"] = df[\"d2\"].map(color_dict)\n",
    "\n",
    "# draw figure\n",
    "fig = go.Figure()\n",
    "\n",
    "fig.add_trace(go.Scatter(x=df[\"d2\"],\n",
    "                         y=df[\"reviewer\"],\n",
    "                         name=\"Reviewer\",\n",
    "                         mode=\"markers\",\n",
    "                         marker=dict(color=df[\"color\"],\n",
    "                                     symbol=\"circle\",\n",
    "                                     size=10,\n",
    "                                     opacity=0.6,\n",
    "                                     line=dict(width=1,\n",
    "                                               color=df[\"color\"]),\n",
    "\n",
    "                                     )\n",
    "                         ),\n",
    "              )\n",
    "\n",
    "fig.add_trace(go.Scatter(x=df[\"d2\"],\n",
    "                         y=df[\"exclusive reviewer\"],\n",
    "                         name=\"Field-specific reviewer\",\n",
    "                         mode=\"markers\",\n",
    "                         opacity=1,\n",
    "                         marker=dict(color=df[\"color\"],\n",
    "                                     symbol=\"diamond\",\n",
    "                                     size=10,\n",
    "                                     line=dict(width=1,\n",
    "                                               color=df[\"color\"]),\n",
    "                                     )\n",
    "                         ),\n",
    "              )\n",
    "\n",
    "for i, row in df.iterrows():\n",
    "    fig.add_shape(type=\"line\",\n",
    "                  xref=\"x\", yref=\"y\",\n",
    "                  x0=row[\"d2\"], y0=row[\"reviewer\"], x1=row[\"d2\"], y1=row[\"exclusive reviewer\"],\n",
    "                  line=dict(color=\"black\",\n",
    "                            width=2,\n",
    "                            ),\n",
    "                  )\n",
    "    \n",
    "fig.update_layout(height=300,\n",
    "                  width=400,\n",
    "                  template=\"simple_white\",\n",
    "                  font=dict(family=\"Arial\"),\n",
    "                  legend=dict(yanchor=\"top\",\n",
    "                              y=1,\n",
    "                              xanchor=\"right\",\n",
    "                              x=1,\n",
    "                              bgcolor='rgba(0,0,0,0)'),\n",
    "                  margin=dict(l=30, r=30, t=30, b=30),\n",
    "                  )\n",
    "\n",
    "fig.update_xaxes(categoryorder=\"array\",\n",
    "                 categoryarray=order,\n",
    "                 tickvals=order,\n",
    "                 ticktext=field_xticks,\n",
    "                 tickangle=35,\n",
    "                 showgrid=False,\n",
    "                 title=dict(text=\"Journal field\",\n",
    "                            standoff=0,),\n",
    "                 )\n",
    "\n",
    "fig.update_yaxes(showgrid=True,\n",
    "                 minor=dict(nticks=5,\n",
    "                            showgrid=True),\n",
    "                 title=dict(text=\"Gini index\",\n",
    "                            standoff=0.0),\n",
    "                 )\n",
    "\n",
    "fig.show()\n",
    "fig.write_image(os.path.join(graph_root, \"gini_disc.pdf\"))"
   ]
  },
  {
   "cell_type": "markdown",
   "id": "2900eb94",
   "metadata": {},
   "source": [
    "# Country"
   ]
  },
  {
   "cell_type": "code",
   "execution_count": 8,
   "id": "d6d3d227",
   "metadata": {},
   "outputs": [],
   "source": [
    "xticks=[\"US\",\n",
    "\"UK\",\n",
    "\"Netherlands\",\n",
    "\"Germany\",\n",
    "\"Switzerland\",\n",
    "\"Australia\",\n",
    "\"China\",\n",
    "\"Brazil\",\n",
    "\"Demark\",\n",
    "\"Japan\",\n",
    "]"
   ]
  },
  {
   "cell_type": "code",
   "execution_count": 95,
   "id": "c44efe69",
   "metadata": {},
   "outputs": [
    {
     "data": {
      "application/vnd.plotly.v1+json": {
       "config": {
        "plotlyServerURL": "https://plot.ly"
       },
       "data": [
        {
         "alignmentgroup": "True",
         "cliponaxis": false,
         "hovertemplate": "field=%{x}<br>Journals=%{y}<extra></extra>",
         "legendgroup": "",
         "marker": {
          "color": [
           "#F70000",
           "#00ffff",
           "#ff00ff",
           "#0000ff",
           "#00ff00",
           "#a18014",
           "#aeb404",
           "#008080",
           "#800080",
           "#6a66f2",
           null,
           null,
           null,
           null,
           null
          ],
          "pattern": {
           "shape": ""
          }
         },
         "name": "",
         "offsetgroup": "",
         "orientation": "v",
         "showlegend": false,
         "textposition": "outside",
         "texttemplate": "%{y}",
         "type": "bar",
         "x": [
          "US",
          "GB",
          "NL",
          "DE",
          "CH",
          "AU",
          "CN",
          "BR",
          "DK",
          "JP",
          null,
          null,
          null,
          null,
          null
         ],
         "xaxis": "x",
         "y": [
          2122,
          2031,
          436,
          293,
          168,
          110,
          107,
          77,
          67,
          66,
          null,
          null,
          null,
          null,
          null
         ],
         "yaxis": "y"
        }
       ],
       "layout": {
        "barmode": "relative",
        "font": {
         "family": "Arial"
        },
        "height": 300,
        "legend": {
         "tracegroupgap": 0
        },
        "margin": {
         "b": 30,
         "l": 30,
         "r": 30,
         "t": 30
        },
        "template": {
         "data": {
          "bar": [
           {
            "error_x": {
             "color": "rgb(36,36,36)"
            },
            "error_y": {
             "color": "rgb(36,36,36)"
            },
            "marker": {
             "line": {
              "color": "white",
              "width": 0.5
             },
             "pattern": {
              "fillmode": "overlay",
              "size": 10,
              "solidity": 0.2
             }
            },
            "type": "bar"
           }
          ],
          "barpolar": [
           {
            "marker": {
             "line": {
              "color": "white",
              "width": 0.5
             },
             "pattern": {
              "fillmode": "overlay",
              "size": 10,
              "solidity": 0.2
             }
            },
            "type": "barpolar"
           }
          ],
          "carpet": [
           {
            "aaxis": {
             "endlinecolor": "rgb(36,36,36)",
             "gridcolor": "white",
             "linecolor": "white",
             "minorgridcolor": "white",
             "startlinecolor": "rgb(36,36,36)"
            },
            "baxis": {
             "endlinecolor": "rgb(36,36,36)",
             "gridcolor": "white",
             "linecolor": "white",
             "minorgridcolor": "white",
             "startlinecolor": "rgb(36,36,36)"
            },
            "type": "carpet"
           }
          ],
          "choropleth": [
           {
            "colorbar": {
             "outlinewidth": 1,
             "tickcolor": "rgb(36,36,36)",
             "ticks": "outside"
            },
            "type": "choropleth"
           }
          ],
          "contour": [
           {
            "colorbar": {
             "outlinewidth": 1,
             "tickcolor": "rgb(36,36,36)",
             "ticks": "outside"
            },
            "colorscale": [
             [
              0,
              "#440154"
             ],
             [
              0.1111111111111111,
              "#482878"
             ],
             [
              0.2222222222222222,
              "#3e4989"
             ],
             [
              0.3333333333333333,
              "#31688e"
             ],
             [
              0.4444444444444444,
              "#26828e"
             ],
             [
              0.5555555555555556,
              "#1f9e89"
             ],
             [
              0.6666666666666666,
              "#35b779"
             ],
             [
              0.7777777777777778,
              "#6ece58"
             ],
             [
              0.8888888888888888,
              "#b5de2b"
             ],
             [
              1,
              "#fde725"
             ]
            ],
            "type": "contour"
           }
          ],
          "contourcarpet": [
           {
            "colorbar": {
             "outlinewidth": 1,
             "tickcolor": "rgb(36,36,36)",
             "ticks": "outside"
            },
            "type": "contourcarpet"
           }
          ],
          "heatmap": [
           {
            "colorbar": {
             "outlinewidth": 1,
             "tickcolor": "rgb(36,36,36)",
             "ticks": "outside"
            },
            "colorscale": [
             [
              0,
              "#440154"
             ],
             [
              0.1111111111111111,
              "#482878"
             ],
             [
              0.2222222222222222,
              "#3e4989"
             ],
             [
              0.3333333333333333,
              "#31688e"
             ],
             [
              0.4444444444444444,
              "#26828e"
             ],
             [
              0.5555555555555556,
              "#1f9e89"
             ],
             [
              0.6666666666666666,
              "#35b779"
             ],
             [
              0.7777777777777778,
              "#6ece58"
             ],
             [
              0.8888888888888888,
              "#b5de2b"
             ],
             [
              1,
              "#fde725"
             ]
            ],
            "type": "heatmap"
           }
          ],
          "heatmapgl": [
           {
            "colorbar": {
             "outlinewidth": 1,
             "tickcolor": "rgb(36,36,36)",
             "ticks": "outside"
            },
            "colorscale": [
             [
              0,
              "#440154"
             ],
             [
              0.1111111111111111,
              "#482878"
             ],
             [
              0.2222222222222222,
              "#3e4989"
             ],
             [
              0.3333333333333333,
              "#31688e"
             ],
             [
              0.4444444444444444,
              "#26828e"
             ],
             [
              0.5555555555555556,
              "#1f9e89"
             ],
             [
              0.6666666666666666,
              "#35b779"
             ],
             [
              0.7777777777777778,
              "#6ece58"
             ],
             [
              0.8888888888888888,
              "#b5de2b"
             ],
             [
              1,
              "#fde725"
             ]
            ],
            "type": "heatmapgl"
           }
          ],
          "histogram": [
           {
            "marker": {
             "line": {
              "color": "white",
              "width": 0.6
             }
            },
            "type": "histogram"
           }
          ],
          "histogram2d": [
           {
            "colorbar": {
             "outlinewidth": 1,
             "tickcolor": "rgb(36,36,36)",
             "ticks": "outside"
            },
            "colorscale": [
             [
              0,
              "#440154"
             ],
             [
              0.1111111111111111,
              "#482878"
             ],
             [
              0.2222222222222222,
              "#3e4989"
             ],
             [
              0.3333333333333333,
              "#31688e"
             ],
             [
              0.4444444444444444,
              "#26828e"
             ],
             [
              0.5555555555555556,
              "#1f9e89"
             ],
             [
              0.6666666666666666,
              "#35b779"
             ],
             [
              0.7777777777777778,
              "#6ece58"
             ],
             [
              0.8888888888888888,
              "#b5de2b"
             ],
             [
              1,
              "#fde725"
             ]
            ],
            "type": "histogram2d"
           }
          ],
          "histogram2dcontour": [
           {
            "colorbar": {
             "outlinewidth": 1,
             "tickcolor": "rgb(36,36,36)",
             "ticks": "outside"
            },
            "colorscale": [
             [
              0,
              "#440154"
             ],
             [
              0.1111111111111111,
              "#482878"
             ],
             [
              0.2222222222222222,
              "#3e4989"
             ],
             [
              0.3333333333333333,
              "#31688e"
             ],
             [
              0.4444444444444444,
              "#26828e"
             ],
             [
              0.5555555555555556,
              "#1f9e89"
             ],
             [
              0.6666666666666666,
              "#35b779"
             ],
             [
              0.7777777777777778,
              "#6ece58"
             ],
             [
              0.8888888888888888,
              "#b5de2b"
             ],
             [
              1,
              "#fde725"
             ]
            ],
            "type": "histogram2dcontour"
           }
          ],
          "mesh3d": [
           {
            "colorbar": {
             "outlinewidth": 1,
             "tickcolor": "rgb(36,36,36)",
             "ticks": "outside"
            },
            "type": "mesh3d"
           }
          ],
          "parcoords": [
           {
            "line": {
             "colorbar": {
              "outlinewidth": 1,
              "tickcolor": "rgb(36,36,36)",
              "ticks": "outside"
             }
            },
            "type": "parcoords"
           }
          ],
          "pie": [
           {
            "automargin": true,
            "type": "pie"
           }
          ],
          "scatter": [
           {
            "fillpattern": {
             "fillmode": "overlay",
             "size": 10,
             "solidity": 0.2
            },
            "type": "scatter"
           }
          ],
          "scatter3d": [
           {
            "line": {
             "colorbar": {
              "outlinewidth": 1,
              "tickcolor": "rgb(36,36,36)",
              "ticks": "outside"
             }
            },
            "marker": {
             "colorbar": {
              "outlinewidth": 1,
              "tickcolor": "rgb(36,36,36)",
              "ticks": "outside"
             }
            },
            "type": "scatter3d"
           }
          ],
          "scattercarpet": [
           {
            "marker": {
             "colorbar": {
              "outlinewidth": 1,
              "tickcolor": "rgb(36,36,36)",
              "ticks": "outside"
             }
            },
            "type": "scattercarpet"
           }
          ],
          "scattergeo": [
           {
            "marker": {
             "colorbar": {
              "outlinewidth": 1,
              "tickcolor": "rgb(36,36,36)",
              "ticks": "outside"
             }
            },
            "type": "scattergeo"
           }
          ],
          "scattergl": [
           {
            "marker": {
             "colorbar": {
              "outlinewidth": 1,
              "tickcolor": "rgb(36,36,36)",
              "ticks": "outside"
             }
            },
            "type": "scattergl"
           }
          ],
          "scattermapbox": [
           {
            "marker": {
             "colorbar": {
              "outlinewidth": 1,
              "tickcolor": "rgb(36,36,36)",
              "ticks": "outside"
             }
            },
            "type": "scattermapbox"
           }
          ],
          "scatterpolar": [
           {
            "marker": {
             "colorbar": {
              "outlinewidth": 1,
              "tickcolor": "rgb(36,36,36)",
              "ticks": "outside"
             }
            },
            "type": "scatterpolar"
           }
          ],
          "scatterpolargl": [
           {
            "marker": {
             "colorbar": {
              "outlinewidth": 1,
              "tickcolor": "rgb(36,36,36)",
              "ticks": "outside"
             }
            },
            "type": "scatterpolargl"
           }
          ],
          "scatterternary": [
           {
            "marker": {
             "colorbar": {
              "outlinewidth": 1,
              "tickcolor": "rgb(36,36,36)",
              "ticks": "outside"
             }
            },
            "type": "scatterternary"
           }
          ],
          "surface": [
           {
            "colorbar": {
             "outlinewidth": 1,
             "tickcolor": "rgb(36,36,36)",
             "ticks": "outside"
            },
            "colorscale": [
             [
              0,
              "#440154"
             ],
             [
              0.1111111111111111,
              "#482878"
             ],
             [
              0.2222222222222222,
              "#3e4989"
             ],
             [
              0.3333333333333333,
              "#31688e"
             ],
             [
              0.4444444444444444,
              "#26828e"
             ],
             [
              0.5555555555555556,
              "#1f9e89"
             ],
             [
              0.6666666666666666,
              "#35b779"
             ],
             [
              0.7777777777777778,
              "#6ece58"
             ],
             [
              0.8888888888888888,
              "#b5de2b"
             ],
             [
              1,
              "#fde725"
             ]
            ],
            "type": "surface"
           }
          ],
          "table": [
           {
            "cells": {
             "fill": {
              "color": "rgb(237,237,237)"
             },
             "line": {
              "color": "white"
             }
            },
            "header": {
             "fill": {
              "color": "rgb(217,217,217)"
             },
             "line": {
              "color": "white"
             }
            },
            "type": "table"
           }
          ]
         },
         "layout": {
          "annotationdefaults": {
           "arrowhead": 0,
           "arrowwidth": 1
          },
          "autotypenumbers": "strict",
          "coloraxis": {
           "colorbar": {
            "outlinewidth": 1,
            "tickcolor": "rgb(36,36,36)",
            "ticks": "outside"
           }
          },
          "colorscale": {
           "diverging": [
            [
             0,
             "rgb(103,0,31)"
            ],
            [
             0.1,
             "rgb(178,24,43)"
            ],
            [
             0.2,
             "rgb(214,96,77)"
            ],
            [
             0.3,
             "rgb(244,165,130)"
            ],
            [
             0.4,
             "rgb(253,219,199)"
            ],
            [
             0.5,
             "rgb(247,247,247)"
            ],
            [
             0.6,
             "rgb(209,229,240)"
            ],
            [
             0.7,
             "rgb(146,197,222)"
            ],
            [
             0.8,
             "rgb(67,147,195)"
            ],
            [
             0.9,
             "rgb(33,102,172)"
            ],
            [
             1,
             "rgb(5,48,97)"
            ]
           ],
           "sequential": [
            [
             0,
             "#440154"
            ],
            [
             0.1111111111111111,
             "#482878"
            ],
            [
             0.2222222222222222,
             "#3e4989"
            ],
            [
             0.3333333333333333,
             "#31688e"
            ],
            [
             0.4444444444444444,
             "#26828e"
            ],
            [
             0.5555555555555556,
             "#1f9e89"
            ],
            [
             0.6666666666666666,
             "#35b779"
            ],
            [
             0.7777777777777778,
             "#6ece58"
            ],
            [
             0.8888888888888888,
             "#b5de2b"
            ],
            [
             1,
             "#fde725"
            ]
           ],
           "sequentialminus": [
            [
             0,
             "#440154"
            ],
            [
             0.1111111111111111,
             "#482878"
            ],
            [
             0.2222222222222222,
             "#3e4989"
            ],
            [
             0.3333333333333333,
             "#31688e"
            ],
            [
             0.4444444444444444,
             "#26828e"
            ],
            [
             0.5555555555555556,
             "#1f9e89"
            ],
            [
             0.6666666666666666,
             "#35b779"
            ],
            [
             0.7777777777777778,
             "#6ece58"
            ],
            [
             0.8888888888888888,
             "#b5de2b"
            ],
            [
             1,
             "#fde725"
            ]
           ]
          },
          "colorway": [
           "#1F77B4",
           "#FF7F0E",
           "#2CA02C",
           "#D62728",
           "#9467BD",
           "#8C564B",
           "#E377C2",
           "#7F7F7F",
           "#BCBD22",
           "#17BECF"
          ],
          "font": {
           "color": "rgb(36,36,36)"
          },
          "geo": {
           "bgcolor": "white",
           "lakecolor": "white",
           "landcolor": "white",
           "showlakes": true,
           "showland": true,
           "subunitcolor": "white"
          },
          "hoverlabel": {
           "align": "left"
          },
          "hovermode": "closest",
          "mapbox": {
           "style": "light"
          },
          "paper_bgcolor": "white",
          "plot_bgcolor": "white",
          "polar": {
           "angularaxis": {
            "gridcolor": "rgb(232,232,232)",
            "linecolor": "rgb(36,36,36)",
            "showgrid": false,
            "showline": true,
            "ticks": "outside"
           },
           "bgcolor": "white",
           "radialaxis": {
            "gridcolor": "rgb(232,232,232)",
            "linecolor": "rgb(36,36,36)",
            "showgrid": false,
            "showline": true,
            "ticks": "outside"
           }
          },
          "scene": {
           "xaxis": {
            "backgroundcolor": "white",
            "gridcolor": "rgb(232,232,232)",
            "gridwidth": 2,
            "linecolor": "rgb(36,36,36)",
            "showbackground": true,
            "showgrid": false,
            "showline": true,
            "ticks": "outside",
            "zeroline": false,
            "zerolinecolor": "rgb(36,36,36)"
           },
           "yaxis": {
            "backgroundcolor": "white",
            "gridcolor": "rgb(232,232,232)",
            "gridwidth": 2,
            "linecolor": "rgb(36,36,36)",
            "showbackground": true,
            "showgrid": false,
            "showline": true,
            "ticks": "outside",
            "zeroline": false,
            "zerolinecolor": "rgb(36,36,36)"
           },
           "zaxis": {
            "backgroundcolor": "white",
            "gridcolor": "rgb(232,232,232)",
            "gridwidth": 2,
            "linecolor": "rgb(36,36,36)",
            "showbackground": true,
            "showgrid": false,
            "showline": true,
            "ticks": "outside",
            "zeroline": false,
            "zerolinecolor": "rgb(36,36,36)"
           }
          },
          "shapedefaults": {
           "fillcolor": "black",
           "line": {
            "width": 0
           },
           "opacity": 0.3
          },
          "ternary": {
           "aaxis": {
            "gridcolor": "rgb(232,232,232)",
            "linecolor": "rgb(36,36,36)",
            "showgrid": false,
            "showline": true,
            "ticks": "outside"
           },
           "baxis": {
            "gridcolor": "rgb(232,232,232)",
            "linecolor": "rgb(36,36,36)",
            "showgrid": false,
            "showline": true,
            "ticks": "outside"
           },
           "bgcolor": "white",
           "caxis": {
            "gridcolor": "rgb(232,232,232)",
            "linecolor": "rgb(36,36,36)",
            "showgrid": false,
            "showline": true,
            "ticks": "outside"
           }
          },
          "title": {
           "x": 0.05
          },
          "xaxis": {
           "automargin": true,
           "gridcolor": "rgb(232,232,232)",
           "linecolor": "rgb(36,36,36)",
           "showgrid": false,
           "showline": true,
           "ticks": "outside",
           "title": {
            "standoff": 15
           },
           "zeroline": false,
           "zerolinecolor": "rgb(36,36,36)"
          },
          "yaxis": {
           "automargin": true,
           "gridcolor": "rgb(232,232,232)",
           "linecolor": "rgb(36,36,36)",
           "showgrid": false,
           "showline": true,
           "ticks": "outside",
           "title": {
            "standoff": 15
           },
           "zeroline": false,
           "zerolinecolor": "rgb(36,36,36)"
          }
         }
        },
        "width": 400,
        "xaxis": {
         "anchor": "y",
         "categoryarray": [
          "US",
          "GB",
          "NL",
          "DE",
          "CH",
          "AU",
          "CN",
          "BR",
          "DK",
          "JP"
         ],
         "categoryorder": "array",
         "domain": [
          0,
          1
         ],
         "tickangle": 35,
         "ticktext": [
          "US",
          "UK",
          "Netherlands",
          "Germany",
          "Switzerland",
          "Australia",
          "China",
          "Brazil",
          "Demark",
          "Japan"
         ],
         "tickvals": [
          "US",
          "GB",
          "NL",
          "DE",
          "CH",
          "AU",
          "CN",
          "BR",
          "DK",
          "JP"
         ],
         "title": {
          "standoff": 0,
          "text": "Journal country"
         }
        },
        "yaxis": {
         "anchor": "x",
         "domain": [
          0,
          1
         ],
         "minor": {
          "nticks": 5,
          "showgrid": true
         },
         "showgrid": true,
         "title": {
          "standoff": 0,
          "text": "# journals"
         }
        }
       }
      }
     },
     "metadata": {},
     "output_type": "display_data"
    }
   ],
   "source": [
    "df = pd.read_excel(os.path.join(root, r\"table_in_doc.xlsx\"), sheet_name=1)\n",
    "x='field'\n",
    "y='Journals'\n",
    "ylim=None\n",
    "title=\"# journals\"\n",
    "color_dict, order = get_palette(attr=\"ctry\")\n",
    "order=order[order!=\"Other\"]\n",
    "df[\"color\"] = df[x].map(color_dict)\n",
    "\n",
    "# count journals\n",
    "# draw bar charts\n",
    "fig = px.bar(df,\n",
    "             x=x,\n",
    "             y=y,\n",
    "             text_auto=True)\n",
    "\n",
    "fig.update_traces(marker=dict(color=df[\"color\"]),\n",
    "                  textposition=\"outside\",\n",
    "                  cliponaxis=False)\n",
    "\n",
    "fig.update_layout(height=300,\n",
    "                  width=400,\n",
    "                  template=\"simple_white\",\n",
    "                  font=dict(family=\"Arial\"),\n",
    "                  margin=dict(l=30, r=30, t=30, b=30),\n",
    "                  )\n",
    "\n",
    "fig.update_xaxes(\n",
    "                 categoryorder=\"array\",\n",
    "                 categoryarray=order,\n",
    "                 title=dict(text=\"Journal country\",\n",
    "                            standoff=0,),\n",
    "                 tickangle=35,\n",
    "                 tickvals=order,\n",
    "                 ticktext=xticks,\n",
    "                 )\n",
    "\n",
    "fig.update_yaxes(showgrid=True,\n",
    "                 minor=dict(nticks=5,\n",
    "                            showgrid=True),\n",
    "                 title=dict(text=\"# journals\",\n",
    "                            standoff=0.0),\n",
    "                 )\n",
    "fig.show()\n",
    "fig.write_image(os.path.join(graph_root, \"no_journ_ctry.pdf\"))"
   ]
  },
  {
   "cell_type": "code",
   "execution_count": 9,
   "id": "28afd723",
   "metadata": {},
   "outputs": [
    {
     "data": {
      "application/vnd.plotly.v1+json": {
       "config": {
        "plotlyServerURL": "https://plot.ly"
       },
       "data": [
        {
         "marker": {
          "color": [
           "#F70000",
           "#00ffff",
           "#ff00ff",
           "#0000ff",
           "#00ff00",
           "#a18014",
           "#aeb404",
           "#008080",
           "#800080",
           "#6a66f2",
           null,
           null,
           null,
           null,
           null
          ]
         },
         "name": "Reviewer",
         "opacity": 0.6,
         "type": "bar",
         "x": [
          "US",
          "GB",
          "NL",
          "DE",
          "CH",
          "AU",
          "CN",
          "BR",
          "DK",
          "JP",
          null,
          null,
          null,
          null,
          null
         ],
         "y": [
          241826,
          267443,
          11992,
          30504,
          13830,
          23167,
          9922,
          9923,
          21810,
          10963,
          null,
          null,
          null,
          null,
          0.6068712300026227
         ]
        },
        {
         "marker": {
          "color": [
           "#F70000",
           "#00ffff",
           "#ff00ff",
           "#0000ff",
           "#00ff00",
           "#a18014",
           "#aeb404",
           "#008080",
           "#800080",
           "#6a66f2",
           null,
           null,
           null,
           null,
           null
          ],
          "pattern": {
           "shape": "/"
          }
         },
         "name": "Country-specific reviewer",
         "type": "bar",
         "x": [
          "US",
          "GB",
          "NL",
          "DE",
          "CH",
          "AU",
          "CN",
          "BR",
          "DK",
          "JP",
          null,
          null,
          null,
          null,
          null
         ],
         "y": [
          138063,
          150796,
          2874,
          10560,
          2539,
          8010,
          2889,
          5346,
          6889,
          4822,
          null,
          null,
          null,
          null,
          null
         ]
        },
        {
         "hovertemplate": "%{y:.2%}",
         "line": {
          "color": "black"
         },
         "marker": {
          "symbol": "diamond"
         },
         "name": "%",
         "type": "scatter",
         "x": [
          "US",
          "GB",
          "NL",
          "DE",
          "CH",
          "AU",
          "CN",
          "BR",
          "DK",
          "JP",
          null,
          null,
          null,
          null,
          null
         ],
         "xaxis": "x",
         "y": [
          0.57091876,
          0.56384351,
          0.23965977,
          0.34618411000000004,
          0.18358640999999998,
          0.34575042000000006,
          0.29117113,
          0.53874836,
          0.31586428,
          0.43984311,
          null,
          null,
          null,
          null,
          null
         ],
         "yaxis": "y2"
        }
       ],
       "layout": {
        "barmode": "overlay",
        "font": {
         "family": "Arial"
        },
        "height": 300,
        "legend": {
         "bgcolor": "rgba(0,0,0,0)",
         "x": 0.9,
         "xanchor": "right",
         "y": 1.1,
         "yanchor": "top"
        },
        "margin": {
         "b": 30,
         "l": 30,
         "r": 30,
         "t": 30
        },
        "template": {
         "data": {
          "bar": [
           {
            "error_x": {
             "color": "rgb(36,36,36)"
            },
            "error_y": {
             "color": "rgb(36,36,36)"
            },
            "marker": {
             "line": {
              "color": "white",
              "width": 0.5
             },
             "pattern": {
              "fillmode": "overlay",
              "size": 10,
              "solidity": 0.2
             }
            },
            "type": "bar"
           }
          ],
          "barpolar": [
           {
            "marker": {
             "line": {
              "color": "white",
              "width": 0.5
             },
             "pattern": {
              "fillmode": "overlay",
              "size": 10,
              "solidity": 0.2
             }
            },
            "type": "barpolar"
           }
          ],
          "carpet": [
           {
            "aaxis": {
             "endlinecolor": "rgb(36,36,36)",
             "gridcolor": "white",
             "linecolor": "white",
             "minorgridcolor": "white",
             "startlinecolor": "rgb(36,36,36)"
            },
            "baxis": {
             "endlinecolor": "rgb(36,36,36)",
             "gridcolor": "white",
             "linecolor": "white",
             "minorgridcolor": "white",
             "startlinecolor": "rgb(36,36,36)"
            },
            "type": "carpet"
           }
          ],
          "choropleth": [
           {
            "colorbar": {
             "outlinewidth": 1,
             "tickcolor": "rgb(36,36,36)",
             "ticks": "outside"
            },
            "type": "choropleth"
           }
          ],
          "contour": [
           {
            "colorbar": {
             "outlinewidth": 1,
             "tickcolor": "rgb(36,36,36)",
             "ticks": "outside"
            },
            "colorscale": [
             [
              0,
              "#440154"
             ],
             [
              0.1111111111111111,
              "#482878"
             ],
             [
              0.2222222222222222,
              "#3e4989"
             ],
             [
              0.3333333333333333,
              "#31688e"
             ],
             [
              0.4444444444444444,
              "#26828e"
             ],
             [
              0.5555555555555556,
              "#1f9e89"
             ],
             [
              0.6666666666666666,
              "#35b779"
             ],
             [
              0.7777777777777778,
              "#6ece58"
             ],
             [
              0.8888888888888888,
              "#b5de2b"
             ],
             [
              1,
              "#fde725"
             ]
            ],
            "type": "contour"
           }
          ],
          "contourcarpet": [
           {
            "colorbar": {
             "outlinewidth": 1,
             "tickcolor": "rgb(36,36,36)",
             "ticks": "outside"
            },
            "type": "contourcarpet"
           }
          ],
          "heatmap": [
           {
            "colorbar": {
             "outlinewidth": 1,
             "tickcolor": "rgb(36,36,36)",
             "ticks": "outside"
            },
            "colorscale": [
             [
              0,
              "#440154"
             ],
             [
              0.1111111111111111,
              "#482878"
             ],
             [
              0.2222222222222222,
              "#3e4989"
             ],
             [
              0.3333333333333333,
              "#31688e"
             ],
             [
              0.4444444444444444,
              "#26828e"
             ],
             [
              0.5555555555555556,
              "#1f9e89"
             ],
             [
              0.6666666666666666,
              "#35b779"
             ],
             [
              0.7777777777777778,
              "#6ece58"
             ],
             [
              0.8888888888888888,
              "#b5de2b"
             ],
             [
              1,
              "#fde725"
             ]
            ],
            "type": "heatmap"
           }
          ],
          "heatmapgl": [
           {
            "colorbar": {
             "outlinewidth": 1,
             "tickcolor": "rgb(36,36,36)",
             "ticks": "outside"
            },
            "colorscale": [
             [
              0,
              "#440154"
             ],
             [
              0.1111111111111111,
              "#482878"
             ],
             [
              0.2222222222222222,
              "#3e4989"
             ],
             [
              0.3333333333333333,
              "#31688e"
             ],
             [
              0.4444444444444444,
              "#26828e"
             ],
             [
              0.5555555555555556,
              "#1f9e89"
             ],
             [
              0.6666666666666666,
              "#35b779"
             ],
             [
              0.7777777777777778,
              "#6ece58"
             ],
             [
              0.8888888888888888,
              "#b5de2b"
             ],
             [
              1,
              "#fde725"
             ]
            ],
            "type": "heatmapgl"
           }
          ],
          "histogram": [
           {
            "marker": {
             "line": {
              "color": "white",
              "width": 0.6
             }
            },
            "type": "histogram"
           }
          ],
          "histogram2d": [
           {
            "colorbar": {
             "outlinewidth": 1,
             "tickcolor": "rgb(36,36,36)",
             "ticks": "outside"
            },
            "colorscale": [
             [
              0,
              "#440154"
             ],
             [
              0.1111111111111111,
              "#482878"
             ],
             [
              0.2222222222222222,
              "#3e4989"
             ],
             [
              0.3333333333333333,
              "#31688e"
             ],
             [
              0.4444444444444444,
              "#26828e"
             ],
             [
              0.5555555555555556,
              "#1f9e89"
             ],
             [
              0.6666666666666666,
              "#35b779"
             ],
             [
              0.7777777777777778,
              "#6ece58"
             ],
             [
              0.8888888888888888,
              "#b5de2b"
             ],
             [
              1,
              "#fde725"
             ]
            ],
            "type": "histogram2d"
           }
          ],
          "histogram2dcontour": [
           {
            "colorbar": {
             "outlinewidth": 1,
             "tickcolor": "rgb(36,36,36)",
             "ticks": "outside"
            },
            "colorscale": [
             [
              0,
              "#440154"
             ],
             [
              0.1111111111111111,
              "#482878"
             ],
             [
              0.2222222222222222,
              "#3e4989"
             ],
             [
              0.3333333333333333,
              "#31688e"
             ],
             [
              0.4444444444444444,
              "#26828e"
             ],
             [
              0.5555555555555556,
              "#1f9e89"
             ],
             [
              0.6666666666666666,
              "#35b779"
             ],
             [
              0.7777777777777778,
              "#6ece58"
             ],
             [
              0.8888888888888888,
              "#b5de2b"
             ],
             [
              1,
              "#fde725"
             ]
            ],
            "type": "histogram2dcontour"
           }
          ],
          "mesh3d": [
           {
            "colorbar": {
             "outlinewidth": 1,
             "tickcolor": "rgb(36,36,36)",
             "ticks": "outside"
            },
            "type": "mesh3d"
           }
          ],
          "parcoords": [
           {
            "line": {
             "colorbar": {
              "outlinewidth": 1,
              "tickcolor": "rgb(36,36,36)",
              "ticks": "outside"
             }
            },
            "type": "parcoords"
           }
          ],
          "pie": [
           {
            "automargin": true,
            "type": "pie"
           }
          ],
          "scatter": [
           {
            "fillpattern": {
             "fillmode": "overlay",
             "size": 10,
             "solidity": 0.2
            },
            "type": "scatter"
           }
          ],
          "scatter3d": [
           {
            "line": {
             "colorbar": {
              "outlinewidth": 1,
              "tickcolor": "rgb(36,36,36)",
              "ticks": "outside"
             }
            },
            "marker": {
             "colorbar": {
              "outlinewidth": 1,
              "tickcolor": "rgb(36,36,36)",
              "ticks": "outside"
             }
            },
            "type": "scatter3d"
           }
          ],
          "scattercarpet": [
           {
            "marker": {
             "colorbar": {
              "outlinewidth": 1,
              "tickcolor": "rgb(36,36,36)",
              "ticks": "outside"
             }
            },
            "type": "scattercarpet"
           }
          ],
          "scattergeo": [
           {
            "marker": {
             "colorbar": {
              "outlinewidth": 1,
              "tickcolor": "rgb(36,36,36)",
              "ticks": "outside"
             }
            },
            "type": "scattergeo"
           }
          ],
          "scattergl": [
           {
            "marker": {
             "colorbar": {
              "outlinewidth": 1,
              "tickcolor": "rgb(36,36,36)",
              "ticks": "outside"
             }
            },
            "type": "scattergl"
           }
          ],
          "scattermapbox": [
           {
            "marker": {
             "colorbar": {
              "outlinewidth": 1,
              "tickcolor": "rgb(36,36,36)",
              "ticks": "outside"
             }
            },
            "type": "scattermapbox"
           }
          ],
          "scatterpolar": [
           {
            "marker": {
             "colorbar": {
              "outlinewidth": 1,
              "tickcolor": "rgb(36,36,36)",
              "ticks": "outside"
             }
            },
            "type": "scatterpolar"
           }
          ],
          "scatterpolargl": [
           {
            "marker": {
             "colorbar": {
              "outlinewidth": 1,
              "tickcolor": "rgb(36,36,36)",
              "ticks": "outside"
             }
            },
            "type": "scatterpolargl"
           }
          ],
          "scatterternary": [
           {
            "marker": {
             "colorbar": {
              "outlinewidth": 1,
              "tickcolor": "rgb(36,36,36)",
              "ticks": "outside"
             }
            },
            "type": "scatterternary"
           }
          ],
          "surface": [
           {
            "colorbar": {
             "outlinewidth": 1,
             "tickcolor": "rgb(36,36,36)",
             "ticks": "outside"
            },
            "colorscale": [
             [
              0,
              "#440154"
             ],
             [
              0.1111111111111111,
              "#482878"
             ],
             [
              0.2222222222222222,
              "#3e4989"
             ],
             [
              0.3333333333333333,
              "#31688e"
             ],
             [
              0.4444444444444444,
              "#26828e"
             ],
             [
              0.5555555555555556,
              "#1f9e89"
             ],
             [
              0.6666666666666666,
              "#35b779"
             ],
             [
              0.7777777777777778,
              "#6ece58"
             ],
             [
              0.8888888888888888,
              "#b5de2b"
             ],
             [
              1,
              "#fde725"
             ]
            ],
            "type": "surface"
           }
          ],
          "table": [
           {
            "cells": {
             "fill": {
              "color": "rgb(237,237,237)"
             },
             "line": {
              "color": "white"
             }
            },
            "header": {
             "fill": {
              "color": "rgb(217,217,217)"
             },
             "line": {
              "color": "white"
             }
            },
            "type": "table"
           }
          ]
         },
         "layout": {
          "annotationdefaults": {
           "arrowhead": 0,
           "arrowwidth": 1
          },
          "autotypenumbers": "strict",
          "coloraxis": {
           "colorbar": {
            "outlinewidth": 1,
            "tickcolor": "rgb(36,36,36)",
            "ticks": "outside"
           }
          },
          "colorscale": {
           "diverging": [
            [
             0,
             "rgb(103,0,31)"
            ],
            [
             0.1,
             "rgb(178,24,43)"
            ],
            [
             0.2,
             "rgb(214,96,77)"
            ],
            [
             0.3,
             "rgb(244,165,130)"
            ],
            [
             0.4,
             "rgb(253,219,199)"
            ],
            [
             0.5,
             "rgb(247,247,247)"
            ],
            [
             0.6,
             "rgb(209,229,240)"
            ],
            [
             0.7,
             "rgb(146,197,222)"
            ],
            [
             0.8,
             "rgb(67,147,195)"
            ],
            [
             0.9,
             "rgb(33,102,172)"
            ],
            [
             1,
             "rgb(5,48,97)"
            ]
           ],
           "sequential": [
            [
             0,
             "#440154"
            ],
            [
             0.1111111111111111,
             "#482878"
            ],
            [
             0.2222222222222222,
             "#3e4989"
            ],
            [
             0.3333333333333333,
             "#31688e"
            ],
            [
             0.4444444444444444,
             "#26828e"
            ],
            [
             0.5555555555555556,
             "#1f9e89"
            ],
            [
             0.6666666666666666,
             "#35b779"
            ],
            [
             0.7777777777777778,
             "#6ece58"
            ],
            [
             0.8888888888888888,
             "#b5de2b"
            ],
            [
             1,
             "#fde725"
            ]
           ],
           "sequentialminus": [
            [
             0,
             "#440154"
            ],
            [
             0.1111111111111111,
             "#482878"
            ],
            [
             0.2222222222222222,
             "#3e4989"
            ],
            [
             0.3333333333333333,
             "#31688e"
            ],
            [
             0.4444444444444444,
             "#26828e"
            ],
            [
             0.5555555555555556,
             "#1f9e89"
            ],
            [
             0.6666666666666666,
             "#35b779"
            ],
            [
             0.7777777777777778,
             "#6ece58"
            ],
            [
             0.8888888888888888,
             "#b5de2b"
            ],
            [
             1,
             "#fde725"
            ]
           ]
          },
          "colorway": [
           "#1F77B4",
           "#FF7F0E",
           "#2CA02C",
           "#D62728",
           "#9467BD",
           "#8C564B",
           "#E377C2",
           "#7F7F7F",
           "#BCBD22",
           "#17BECF"
          ],
          "font": {
           "color": "rgb(36,36,36)"
          },
          "geo": {
           "bgcolor": "white",
           "lakecolor": "white",
           "landcolor": "white",
           "showlakes": true,
           "showland": true,
           "subunitcolor": "white"
          },
          "hoverlabel": {
           "align": "left"
          },
          "hovermode": "closest",
          "mapbox": {
           "style": "light"
          },
          "paper_bgcolor": "white",
          "plot_bgcolor": "white",
          "polar": {
           "angularaxis": {
            "gridcolor": "rgb(232,232,232)",
            "linecolor": "rgb(36,36,36)",
            "showgrid": false,
            "showline": true,
            "ticks": "outside"
           },
           "bgcolor": "white",
           "radialaxis": {
            "gridcolor": "rgb(232,232,232)",
            "linecolor": "rgb(36,36,36)",
            "showgrid": false,
            "showline": true,
            "ticks": "outside"
           }
          },
          "scene": {
           "xaxis": {
            "backgroundcolor": "white",
            "gridcolor": "rgb(232,232,232)",
            "gridwidth": 2,
            "linecolor": "rgb(36,36,36)",
            "showbackground": true,
            "showgrid": false,
            "showline": true,
            "ticks": "outside",
            "zeroline": false,
            "zerolinecolor": "rgb(36,36,36)"
           },
           "yaxis": {
            "backgroundcolor": "white",
            "gridcolor": "rgb(232,232,232)",
            "gridwidth": 2,
            "linecolor": "rgb(36,36,36)",
            "showbackground": true,
            "showgrid": false,
            "showline": true,
            "ticks": "outside",
            "zeroline": false,
            "zerolinecolor": "rgb(36,36,36)"
           },
           "zaxis": {
            "backgroundcolor": "white",
            "gridcolor": "rgb(232,232,232)",
            "gridwidth": 2,
            "linecolor": "rgb(36,36,36)",
            "showbackground": true,
            "showgrid": false,
            "showline": true,
            "ticks": "outside",
            "zeroline": false,
            "zerolinecolor": "rgb(36,36,36)"
           }
          },
          "shapedefaults": {
           "fillcolor": "black",
           "line": {
            "width": 0
           },
           "opacity": 0.3
          },
          "ternary": {
           "aaxis": {
            "gridcolor": "rgb(232,232,232)",
            "linecolor": "rgb(36,36,36)",
            "showgrid": false,
            "showline": true,
            "ticks": "outside"
           },
           "baxis": {
            "gridcolor": "rgb(232,232,232)",
            "linecolor": "rgb(36,36,36)",
            "showgrid": false,
            "showline": true,
            "ticks": "outside"
           },
           "bgcolor": "white",
           "caxis": {
            "gridcolor": "rgb(232,232,232)",
            "linecolor": "rgb(36,36,36)",
            "showgrid": false,
            "showline": true,
            "ticks": "outside"
           }
          },
          "title": {
           "x": 0.05
          },
          "xaxis": {
           "automargin": true,
           "gridcolor": "rgb(232,232,232)",
           "linecolor": "rgb(36,36,36)",
           "showgrid": false,
           "showline": true,
           "ticks": "outside",
           "title": {
            "standoff": 15
           },
           "zeroline": false,
           "zerolinecolor": "rgb(36,36,36)"
          },
          "yaxis": {
           "automargin": true,
           "gridcolor": "rgb(232,232,232)",
           "linecolor": "rgb(36,36,36)",
           "showgrid": false,
           "showline": true,
           "ticks": "outside",
           "title": {
            "standoff": 15
           },
           "zeroline": false,
           "zerolinecolor": "rgb(36,36,36)"
          }
         }
        },
        "width": 400,
        "xaxis": {
         "anchor": "y",
         "categoryarray": [
          "US",
          "GB",
          "NL",
          "DE",
          "CH",
          "AU",
          "CN",
          "BR",
          "DK",
          "JP",
          "Other"
         ],
         "categoryorder": "array",
         "domain": [
          0,
          0.94
         ],
         "tickangle": 35,
         "ticktext": [
          "US",
          "UK",
          "Netherlands",
          "Germany",
          "Switzerland",
          "Australia",
          "China",
          "Brazil",
          "Demark",
          "Japan"
         ],
         "tickvals": [
          "US",
          "GB",
          "NL",
          "DE",
          "CH",
          "AU",
          "CN",
          "BR",
          "DK",
          "JP",
          "Other"
         ],
         "title": {
          "standoff": 0,
          "text": "Journal country"
         }
        },
        "yaxis": {
         "anchor": "x",
         "domain": [
          0,
          1
         ],
         "dtick": 60000,
         "minor": {
          "nticks": 4,
          "showgrid": true
         },
         "range": [
          0,
          300000
         ],
         "showgrid": true,
         "title": {
          "standoff": 0,
          "text": "# reviewers"
         }
        },
        "yaxis2": {
         "anchor": "x",
         "dtick": 0.2,
         "minor": {
          "nticks": 4,
          "showgrid": false
         },
         "overlaying": "y",
         "range": [
          0,
          1
         ],
         "showgrid": false,
         "side": "right",
         "tickformat": ".0%",
         "title": {
          "standoff": 0,
          "text": "% country-specific reviewers"
         }
        }
       }
      }
     },
     "metadata": {},
     "output_type": "display_data"
    }
   ],
   "source": [
    "# count total and exclusive reviewers\n",
    "\n",
    "df = pd.read_excel(os.path.join(root, r\"table_in_doc.xlsx\"), sheet_name=1)\n",
    "df[\"Perc. of group-exclusive reviewers\"] = df[\"Perc. of group-exclusive reviewers\"]/100\n",
    "color_dict, order = get_palette(attr=\"ctry\")\n",
    "df[\"color\"] = df[\"field\"].map(color_dict)\n",
    "\n",
    "# draw bar charts\n",
    "fig = make_subplots(specs=[[{\"secondary_y\": True}]])\n",
    "fig.add_trace(go.Bar(x=df[\"field\"],\n",
    "                     y=df[\"Reviewers\"],\n",
    "                     name=\"Reviewer\",\n",
    "                     opacity=0.6,\n",
    "                     marker=dict(color=df[\"color\"])),\n",
    "              )\n",
    "\n",
    "fig.add_trace(go.Bar(x=df[\"field\"],\n",
    "                     y=df[\"Group-exclusive reviewers\"],\n",
    "                     name=\"Country-specific reviewer\",\n",
    "                     marker=dict(color=df[\"color\"],\n",
    "                                 pattern=dict(shape=\"/\"),)),\n",
    "              )\n",
    "\n",
    "fig.add_trace(go.Scatter(x=df[\"field\"],\n",
    "                         y=df[\"Perc. of group-exclusive reviewers\"],\n",
    "                         name=\"%\",\n",
    "                         line=dict(color=\"black\"),\n",
    "                         hovertemplate=\"%{y:.2%}\",\n",
    "                         marker=dict(symbol='diamond')\n",
    "                         ),\n",
    "              secondary_y=True,\n",
    "              )\n",
    "\n",
    "fig.update_layout(height=300,\n",
    "                  width=400,\n",
    "                  template=\"simple_white\",\n",
    "                  font=dict(family=\"Arial\"),\n",
    "                  legend=dict(yanchor=\"top\",\n",
    "                              y=1.1,\n",
    "                              xanchor=\"right\",\n",
    "                              x=0.90,\n",
    "                              bgcolor='rgba(0,0,0,0)'),\n",
    "                  barmode='overlay',\n",
    "                  margin=dict(l=30, r=30, t=30, b=30),\n",
    "                  )\n",
    "\n",
    "fig.update_xaxes(categoryorder=\"array\",\n",
    "                 categoryarray=order,\n",
    "                 title=dict(text=\"Journal country\",\n",
    "                            standoff=0,),\n",
    "                 tickangle=35,\n",
    "                 tickvals=order,\n",
    "                 ticktext=xticks,\n",
    "                 )\n",
    "\n",
    "fig.update_yaxes(showgrid=True,\n",
    "                 range=(0, 300000),\n",
    "                 dtick=300000/5,\n",
    "                 minor=dict(nticks=4,\n",
    "                            showgrid=True),\n",
    "                 title=dict(text=\"# reviewers\",\n",
    "                            standoff=0.0),\n",
    "                 )\n",
    "\n",
    "fig.update_yaxes(showgrid=False,\n",
    "                 range=(0, 1),\n",
    "                 dtick=1/5,\n",
    "                 tickformat=\".0%\",\n",
    "                 minor=dict(nticks=4,\n",
    "                            showgrid=False),\n",
    "                 title=dict(text=\"% country-specific reviewers\",\n",
    "                            standoff=0.0),\n",
    "                 secondary_y=True\n",
    "                 )\n",
    "\n",
    "fig.show()\n",
    "fig.write_image(os.path.join(graph_root, \"no_rev_ctry.pdf\"))"
   ]
  },
  {
   "cell_type": "code",
   "execution_count": 39,
   "id": "0a254d1a",
   "metadata": {},
   "outputs": [
    {
     "data": {
      "text/html": [
       "<div>\n",
       "<style scoped>\n",
       "    .dataframe tbody tr th:only-of-type {\n",
       "        vertical-align: middle;\n",
       "    }\n",
       "\n",
       "    .dataframe tbody tr th {\n",
       "        vertical-align: top;\n",
       "    }\n",
       "\n",
       "    .dataframe thead th {\n",
       "        text-align: right;\n",
       "    }\n",
       "</style>\n",
       "<table border=\"1\" class=\"dataframe\">\n",
       "  <thead>\n",
       "    <tr style=\"text-align: right;\">\n",
       "      <th></th>\n",
       "      <th>mean</th>\n",
       "      <th>std</th>\n",
       "      <th>median</th>\n",
       "    </tr>\n",
       "    <tr>\n",
       "      <th>alpha2_journal</th>\n",
       "      <th></th>\n",
       "      <th></th>\n",
       "      <th></th>\n",
       "    </tr>\n",
       "  </thead>\n",
       "  <tbody>\n",
       "    <tr>\n",
       "      <th>US</th>\n",
       "      <td>181.710650</td>\n",
       "      <td>662.214729</td>\n",
       "      <td>54.0</td>\n",
       "    </tr>\n",
       "    <tr>\n",
       "      <th>GB</th>\n",
       "      <td>213.589857</td>\n",
       "      <td>535.260838</td>\n",
       "      <td>69.0</td>\n",
       "    </tr>\n",
       "    <tr>\n",
       "      <th>NL</th>\n",
       "      <td>32.947248</td>\n",
       "      <td>80.267223</td>\n",
       "      <td>13.0</td>\n",
       "    </tr>\n",
       "    <tr>\n",
       "      <th>DE</th>\n",
       "      <td>114.918089</td>\n",
       "      <td>326.602320</td>\n",
       "      <td>15.0</td>\n",
       "    </tr>\n",
       "    <tr>\n",
       "      <th>CH</th>\n",
       "      <td>109.958333</td>\n",
       "      <td>223.920253</td>\n",
       "      <td>32.0</td>\n",
       "    </tr>\n",
       "    <tr>\n",
       "      <th>AU</th>\n",
       "      <td>238.645455</td>\n",
       "      <td>240.805970</td>\n",
       "      <td>157.0</td>\n",
       "    </tr>\n",
       "    <tr>\n",
       "      <th>CN</th>\n",
       "      <td>96.635514</td>\n",
       "      <td>152.914355</td>\n",
       "      <td>25.0</td>\n",
       "    </tr>\n",
       "    <tr>\n",
       "      <th>BR</th>\n",
       "      <td>144.194805</td>\n",
       "      <td>180.159143</td>\n",
       "      <td>104.0</td>\n",
       "    </tr>\n",
       "    <tr>\n",
       "      <th>DK</th>\n",
       "      <td>391.970149</td>\n",
       "      <td>351.757189</td>\n",
       "      <td>329.0</td>\n",
       "    </tr>\n",
       "    <tr>\n",
       "      <th>JP</th>\n",
       "      <td>181.075758</td>\n",
       "      <td>243.769520</td>\n",
       "      <td>87.5</td>\n",
       "    </tr>\n",
       "  </tbody>\n",
       "</table>\n",
       "</div>"
      ],
      "text/plain": [
       "                      mean         std  median\n",
       "alpha2_journal                                \n",
       "US              181.710650  662.214729    54.0\n",
       "GB              213.589857  535.260838    69.0\n",
       "NL               32.947248   80.267223    13.0\n",
       "DE              114.918089  326.602320    15.0\n",
       "CH              109.958333  223.920253    32.0\n",
       "AU              238.645455  240.805970   157.0\n",
       "CN               96.635514  152.914355    25.0\n",
       "BR              144.194805  180.159143   104.0\n",
       "DK              391.970149  351.757189   329.0\n",
       "JP              181.075758  243.769520    87.5"
      ]
     },
     "execution_count": 39,
     "metadata": {},
     "output_type": "execute_result"
    }
   ],
   "source": [
    "# calculate median and mean of reviewerxxs\n",
    "ctry_list = ['US',\n",
    "'GB',\n",
    "'NL',\n",
    "'DE',\n",
    "'CH',\n",
    "'AU',\n",
    "'CN',\n",
    "'BR',\n",
    "'DK',\n",
    "'JP']\n",
    "\n",
    "df = pd.read_csv(os.path.join(root, r\"reviewer_stat/alpha2_journal_reviewer.csv\"))\n",
    "df.groupby(\"alpha2_journal\")[\"reviewer_id\"].agg([np.mean, np.std, np.median]).loc[ctry_list,:]"
   ]
  },
  {
   "cell_type": "code",
   "execution_count": 100,
   "id": "3595d3dc",
   "metadata": {},
   "outputs": [
    {
     "data": {
      "application/vnd.plotly.v1+json": {
       "config": {
        "plotlyServerURL": "https://plot.ly"
       },
       "data": [
        {
         "hovertemplate": "%{y:.2%}",
         "marker": {
          "color": [
           "#a18014",
           "#008080",
           "#00ff00",
           "#aeb404",
           "#0000ff",
           "#800080",
           "#00ffff",
           "#6a66f2",
           "#ff00ff",
           "#F70000"
          ],
          "line": {
           "color": [
            "#a18014",
            "#008080",
            "#00ff00",
            "#aeb404",
            "#0000ff",
            "#800080",
            "#00ffff",
            "#6a66f2",
            "#ff00ff",
            "#F70000"
           ],
           "width": 1
          },
          "opacity": 0.6,
          "size": 10,
          "symbol": "circle"
         },
         "mode": "markers",
         "name": "Reviewer",
         "type": "scatter",
         "x": [
          "AU",
          "BR",
          "CH",
          "CN",
          "DE",
          "DK",
          "GB",
          "JP",
          "NL",
          "US"
         ],
         "y": [
          0.33902459639929,
          0.3436702649656526,
          0.2958199356913183,
          0.2055401662049861,
          0.2606617869457383,
          0.3242919088476796,
          0.306078638738497,
          0.2317207863927546,
          0.2538708327521272,
          0.285396103656057
         ]
        },
        {
         "hovertemplate": "%{y:.2%}",
         "marker": {
          "color": [
           "#a18014",
           "#008080",
           "#00ff00",
           "#aeb404",
           "#0000ff",
           "#800080",
           "#00ffff",
           "#6a66f2",
           "#ff00ff",
           "#F70000"
          ],
          "line": {
           "color": [
            "#a18014",
            "#008080",
            "#00ff00",
            "#aeb404",
            "#0000ff",
            "#800080",
            "#00ffff",
            "#6a66f2",
            "#ff00ff",
            "#F70000"
           ],
           "width": 1
          },
          "size": 10,
          "symbol": "diamond"
         },
         "mode": "markers",
         "name": "Country-specific reviewer",
         "opacity": 1,
         "type": "scatter",
         "x": [
          "AU",
          "BR",
          "CH",
          "CN",
          "DE",
          "DK",
          "GB",
          "JP",
          "NL",
          "US"
         ],
         "y": [
          0.365049279757392,
          0.4053930530164534,
          0.4003139717425432,
          0.224,
          0.3137395459976105,
          0.4043010752688172,
          0.3302175911737665,
          0.2265321955003879,
          0.3094582185491276,
          0.2951378006226624
         ]
        }
       ],
       "layout": {
        "barmode": "overlay",
        "font": {
         "family": "Arial"
        },
        "height": 300,
        "legend": {
         "bgcolor": "rgba(0,0,0,0)",
         "x": 0.01,
         "xanchor": "left",
         "y": 1,
         "yanchor": "top"
        },
        "margin": {
         "b": 30,
         "l": 30,
         "r": 30,
         "t": 30
        },
        "shapes": [
         {
          "line": {
           "color": "black",
           "width": 2
          },
          "type": "line",
          "x0": "AU",
          "x1": "AU",
          "xref": "x",
          "y0": 0.33902459639929,
          "y1": 0.365049279757392,
          "yref": "y"
         },
         {
          "line": {
           "color": "black",
           "width": 2
          },
          "type": "line",
          "x0": "BR",
          "x1": "BR",
          "xref": "x",
          "y0": 0.3436702649656526,
          "y1": 0.4053930530164534,
          "yref": "y"
         },
         {
          "line": {
           "color": "black",
           "width": 2
          },
          "type": "line",
          "x0": "CH",
          "x1": "CH",
          "xref": "x",
          "y0": 0.2958199356913183,
          "y1": 0.4003139717425432,
          "yref": "y"
         },
         {
          "line": {
           "color": "black",
           "width": 2
          },
          "type": "line",
          "x0": "CN",
          "x1": "CN",
          "xref": "x",
          "y0": 0.2055401662049861,
          "y1": 0.224,
          "yref": "y"
         },
         {
          "line": {
           "color": "black",
           "width": 2
          },
          "type": "line",
          "x0": "DE",
          "x1": "DE",
          "xref": "x",
          "y0": 0.2606617869457383,
          "y1": 0.3137395459976105,
          "yref": "y"
         },
         {
          "line": {
           "color": "black",
           "width": 2
          },
          "type": "line",
          "x0": "DK",
          "x1": "DK",
          "xref": "x",
          "y0": 0.3242919088476796,
          "y1": 0.4043010752688172,
          "yref": "y"
         },
         {
          "line": {
           "color": "black",
           "width": 2
          },
          "type": "line",
          "x0": "GB",
          "x1": "GB",
          "xref": "x",
          "y0": 0.306078638738497,
          "y1": 0.3302175911737665,
          "yref": "y"
         },
         {
          "line": {
           "color": "black",
           "width": 2
          },
          "type": "line",
          "x0": "JP",
          "x1": "JP",
          "xref": "x",
          "y0": 0.2317207863927546,
          "y1": 0.2265321955003879,
          "yref": "y"
         },
         {
          "line": {
           "color": "black",
           "width": 2
          },
          "type": "line",
          "x0": "NL",
          "x1": "NL",
          "xref": "x",
          "y0": 0.2538708327521272,
          "y1": 0.3094582185491276,
          "yref": "y"
         },
         {
          "line": {
           "color": "black",
           "width": 2
          },
          "type": "line",
          "x0": "US",
          "x1": "US",
          "xref": "x",
          "y0": 0.285396103656057,
          "y1": 0.2951378006226624,
          "yref": "y"
         }
        ],
        "template": {
         "data": {
          "bar": [
           {
            "error_x": {
             "color": "rgb(36,36,36)"
            },
            "error_y": {
             "color": "rgb(36,36,36)"
            },
            "marker": {
             "line": {
              "color": "white",
              "width": 0.5
             },
             "pattern": {
              "fillmode": "overlay",
              "size": 10,
              "solidity": 0.2
             }
            },
            "type": "bar"
           }
          ],
          "barpolar": [
           {
            "marker": {
             "line": {
              "color": "white",
              "width": 0.5
             },
             "pattern": {
              "fillmode": "overlay",
              "size": 10,
              "solidity": 0.2
             }
            },
            "type": "barpolar"
           }
          ],
          "carpet": [
           {
            "aaxis": {
             "endlinecolor": "rgb(36,36,36)",
             "gridcolor": "white",
             "linecolor": "white",
             "minorgridcolor": "white",
             "startlinecolor": "rgb(36,36,36)"
            },
            "baxis": {
             "endlinecolor": "rgb(36,36,36)",
             "gridcolor": "white",
             "linecolor": "white",
             "minorgridcolor": "white",
             "startlinecolor": "rgb(36,36,36)"
            },
            "type": "carpet"
           }
          ],
          "choropleth": [
           {
            "colorbar": {
             "outlinewidth": 1,
             "tickcolor": "rgb(36,36,36)",
             "ticks": "outside"
            },
            "type": "choropleth"
           }
          ],
          "contour": [
           {
            "colorbar": {
             "outlinewidth": 1,
             "tickcolor": "rgb(36,36,36)",
             "ticks": "outside"
            },
            "colorscale": [
             [
              0,
              "#440154"
             ],
             [
              0.1111111111111111,
              "#482878"
             ],
             [
              0.2222222222222222,
              "#3e4989"
             ],
             [
              0.3333333333333333,
              "#31688e"
             ],
             [
              0.4444444444444444,
              "#26828e"
             ],
             [
              0.5555555555555556,
              "#1f9e89"
             ],
             [
              0.6666666666666666,
              "#35b779"
             ],
             [
              0.7777777777777778,
              "#6ece58"
             ],
             [
              0.8888888888888888,
              "#b5de2b"
             ],
             [
              1,
              "#fde725"
             ]
            ],
            "type": "contour"
           }
          ],
          "contourcarpet": [
           {
            "colorbar": {
             "outlinewidth": 1,
             "tickcolor": "rgb(36,36,36)",
             "ticks": "outside"
            },
            "type": "contourcarpet"
           }
          ],
          "heatmap": [
           {
            "colorbar": {
             "outlinewidth": 1,
             "tickcolor": "rgb(36,36,36)",
             "ticks": "outside"
            },
            "colorscale": [
             [
              0,
              "#440154"
             ],
             [
              0.1111111111111111,
              "#482878"
             ],
             [
              0.2222222222222222,
              "#3e4989"
             ],
             [
              0.3333333333333333,
              "#31688e"
             ],
             [
              0.4444444444444444,
              "#26828e"
             ],
             [
              0.5555555555555556,
              "#1f9e89"
             ],
             [
              0.6666666666666666,
              "#35b779"
             ],
             [
              0.7777777777777778,
              "#6ece58"
             ],
             [
              0.8888888888888888,
              "#b5de2b"
             ],
             [
              1,
              "#fde725"
             ]
            ],
            "type": "heatmap"
           }
          ],
          "heatmapgl": [
           {
            "colorbar": {
             "outlinewidth": 1,
             "tickcolor": "rgb(36,36,36)",
             "ticks": "outside"
            },
            "colorscale": [
             [
              0,
              "#440154"
             ],
             [
              0.1111111111111111,
              "#482878"
             ],
             [
              0.2222222222222222,
              "#3e4989"
             ],
             [
              0.3333333333333333,
              "#31688e"
             ],
             [
              0.4444444444444444,
              "#26828e"
             ],
             [
              0.5555555555555556,
              "#1f9e89"
             ],
             [
              0.6666666666666666,
              "#35b779"
             ],
             [
              0.7777777777777778,
              "#6ece58"
             ],
             [
              0.8888888888888888,
              "#b5de2b"
             ],
             [
              1,
              "#fde725"
             ]
            ],
            "type": "heatmapgl"
           }
          ],
          "histogram": [
           {
            "marker": {
             "line": {
              "color": "white",
              "width": 0.6
             }
            },
            "type": "histogram"
           }
          ],
          "histogram2d": [
           {
            "colorbar": {
             "outlinewidth": 1,
             "tickcolor": "rgb(36,36,36)",
             "ticks": "outside"
            },
            "colorscale": [
             [
              0,
              "#440154"
             ],
             [
              0.1111111111111111,
              "#482878"
             ],
             [
              0.2222222222222222,
              "#3e4989"
             ],
             [
              0.3333333333333333,
              "#31688e"
             ],
             [
              0.4444444444444444,
              "#26828e"
             ],
             [
              0.5555555555555556,
              "#1f9e89"
             ],
             [
              0.6666666666666666,
              "#35b779"
             ],
             [
              0.7777777777777778,
              "#6ece58"
             ],
             [
              0.8888888888888888,
              "#b5de2b"
             ],
             [
              1,
              "#fde725"
             ]
            ],
            "type": "histogram2d"
           }
          ],
          "histogram2dcontour": [
           {
            "colorbar": {
             "outlinewidth": 1,
             "tickcolor": "rgb(36,36,36)",
             "ticks": "outside"
            },
            "colorscale": [
             [
              0,
              "#440154"
             ],
             [
              0.1111111111111111,
              "#482878"
             ],
             [
              0.2222222222222222,
              "#3e4989"
             ],
             [
              0.3333333333333333,
              "#31688e"
             ],
             [
              0.4444444444444444,
              "#26828e"
             ],
             [
              0.5555555555555556,
              "#1f9e89"
             ],
             [
              0.6666666666666666,
              "#35b779"
             ],
             [
              0.7777777777777778,
              "#6ece58"
             ],
             [
              0.8888888888888888,
              "#b5de2b"
             ],
             [
              1,
              "#fde725"
             ]
            ],
            "type": "histogram2dcontour"
           }
          ],
          "mesh3d": [
           {
            "colorbar": {
             "outlinewidth": 1,
             "tickcolor": "rgb(36,36,36)",
             "ticks": "outside"
            },
            "type": "mesh3d"
           }
          ],
          "parcoords": [
           {
            "line": {
             "colorbar": {
              "outlinewidth": 1,
              "tickcolor": "rgb(36,36,36)",
              "ticks": "outside"
             }
            },
            "type": "parcoords"
           }
          ],
          "pie": [
           {
            "automargin": true,
            "type": "pie"
           }
          ],
          "scatter": [
           {
            "fillpattern": {
             "fillmode": "overlay",
             "size": 10,
             "solidity": 0.2
            },
            "type": "scatter"
           }
          ],
          "scatter3d": [
           {
            "line": {
             "colorbar": {
              "outlinewidth": 1,
              "tickcolor": "rgb(36,36,36)",
              "ticks": "outside"
             }
            },
            "marker": {
             "colorbar": {
              "outlinewidth": 1,
              "tickcolor": "rgb(36,36,36)",
              "ticks": "outside"
             }
            },
            "type": "scatter3d"
           }
          ],
          "scattercarpet": [
           {
            "marker": {
             "colorbar": {
              "outlinewidth": 1,
              "tickcolor": "rgb(36,36,36)",
              "ticks": "outside"
             }
            },
            "type": "scattercarpet"
           }
          ],
          "scattergeo": [
           {
            "marker": {
             "colorbar": {
              "outlinewidth": 1,
              "tickcolor": "rgb(36,36,36)",
              "ticks": "outside"
             }
            },
            "type": "scattergeo"
           }
          ],
          "scattergl": [
           {
            "marker": {
             "colorbar": {
              "outlinewidth": 1,
              "tickcolor": "rgb(36,36,36)",
              "ticks": "outside"
             }
            },
            "type": "scattergl"
           }
          ],
          "scattermapbox": [
           {
            "marker": {
             "colorbar": {
              "outlinewidth": 1,
              "tickcolor": "rgb(36,36,36)",
              "ticks": "outside"
             }
            },
            "type": "scattermapbox"
           }
          ],
          "scatterpolar": [
           {
            "marker": {
             "colorbar": {
              "outlinewidth": 1,
              "tickcolor": "rgb(36,36,36)",
              "ticks": "outside"
             }
            },
            "type": "scatterpolar"
           }
          ],
          "scatterpolargl": [
           {
            "marker": {
             "colorbar": {
              "outlinewidth": 1,
              "tickcolor": "rgb(36,36,36)",
              "ticks": "outside"
             }
            },
            "type": "scatterpolargl"
           }
          ],
          "scatterternary": [
           {
            "marker": {
             "colorbar": {
              "outlinewidth": 1,
              "tickcolor": "rgb(36,36,36)",
              "ticks": "outside"
             }
            },
            "type": "scatterternary"
           }
          ],
          "surface": [
           {
            "colorbar": {
             "outlinewidth": 1,
             "tickcolor": "rgb(36,36,36)",
             "ticks": "outside"
            },
            "colorscale": [
             [
              0,
              "#440154"
             ],
             [
              0.1111111111111111,
              "#482878"
             ],
             [
              0.2222222222222222,
              "#3e4989"
             ],
             [
              0.3333333333333333,
              "#31688e"
             ],
             [
              0.4444444444444444,
              "#26828e"
             ],
             [
              0.5555555555555556,
              "#1f9e89"
             ],
             [
              0.6666666666666666,
              "#35b779"
             ],
             [
              0.7777777777777778,
              "#6ece58"
             ],
             [
              0.8888888888888888,
              "#b5de2b"
             ],
             [
              1,
              "#fde725"
             ]
            ],
            "type": "surface"
           }
          ],
          "table": [
           {
            "cells": {
             "fill": {
              "color": "rgb(237,237,237)"
             },
             "line": {
              "color": "white"
             }
            },
            "header": {
             "fill": {
              "color": "rgb(217,217,217)"
             },
             "line": {
              "color": "white"
             }
            },
            "type": "table"
           }
          ]
         },
         "layout": {
          "annotationdefaults": {
           "arrowhead": 0,
           "arrowwidth": 1
          },
          "autotypenumbers": "strict",
          "coloraxis": {
           "colorbar": {
            "outlinewidth": 1,
            "tickcolor": "rgb(36,36,36)",
            "ticks": "outside"
           }
          },
          "colorscale": {
           "diverging": [
            [
             0,
             "rgb(103,0,31)"
            ],
            [
             0.1,
             "rgb(178,24,43)"
            ],
            [
             0.2,
             "rgb(214,96,77)"
            ],
            [
             0.3,
             "rgb(244,165,130)"
            ],
            [
             0.4,
             "rgb(253,219,199)"
            ],
            [
             0.5,
             "rgb(247,247,247)"
            ],
            [
             0.6,
             "rgb(209,229,240)"
            ],
            [
             0.7,
             "rgb(146,197,222)"
            ],
            [
             0.8,
             "rgb(67,147,195)"
            ],
            [
             0.9,
             "rgb(33,102,172)"
            ],
            [
             1,
             "rgb(5,48,97)"
            ]
           ],
           "sequential": [
            [
             0,
             "#440154"
            ],
            [
             0.1111111111111111,
             "#482878"
            ],
            [
             0.2222222222222222,
             "#3e4989"
            ],
            [
             0.3333333333333333,
             "#31688e"
            ],
            [
             0.4444444444444444,
             "#26828e"
            ],
            [
             0.5555555555555556,
             "#1f9e89"
            ],
            [
             0.6666666666666666,
             "#35b779"
            ],
            [
             0.7777777777777778,
             "#6ece58"
            ],
            [
             0.8888888888888888,
             "#b5de2b"
            ],
            [
             1,
             "#fde725"
            ]
           ],
           "sequentialminus": [
            [
             0,
             "#440154"
            ],
            [
             0.1111111111111111,
             "#482878"
            ],
            [
             0.2222222222222222,
             "#3e4989"
            ],
            [
             0.3333333333333333,
             "#31688e"
            ],
            [
             0.4444444444444444,
             "#26828e"
            ],
            [
             0.5555555555555556,
             "#1f9e89"
            ],
            [
             0.6666666666666666,
             "#35b779"
            ],
            [
             0.7777777777777778,
             "#6ece58"
            ],
            [
             0.8888888888888888,
             "#b5de2b"
            ],
            [
             1,
             "#fde725"
            ]
           ]
          },
          "colorway": [
           "#1F77B4",
           "#FF7F0E",
           "#2CA02C",
           "#D62728",
           "#9467BD",
           "#8C564B",
           "#E377C2",
           "#7F7F7F",
           "#BCBD22",
           "#17BECF"
          ],
          "font": {
           "color": "rgb(36,36,36)"
          },
          "geo": {
           "bgcolor": "white",
           "lakecolor": "white",
           "landcolor": "white",
           "showlakes": true,
           "showland": true,
           "subunitcolor": "white"
          },
          "hoverlabel": {
           "align": "left"
          },
          "hovermode": "closest",
          "mapbox": {
           "style": "light"
          },
          "paper_bgcolor": "white",
          "plot_bgcolor": "white",
          "polar": {
           "angularaxis": {
            "gridcolor": "rgb(232,232,232)",
            "linecolor": "rgb(36,36,36)",
            "showgrid": false,
            "showline": true,
            "ticks": "outside"
           },
           "bgcolor": "white",
           "radialaxis": {
            "gridcolor": "rgb(232,232,232)",
            "linecolor": "rgb(36,36,36)",
            "showgrid": false,
            "showline": true,
            "ticks": "outside"
           }
          },
          "scene": {
           "xaxis": {
            "backgroundcolor": "white",
            "gridcolor": "rgb(232,232,232)",
            "gridwidth": 2,
            "linecolor": "rgb(36,36,36)",
            "showbackground": true,
            "showgrid": false,
            "showline": true,
            "ticks": "outside",
            "zeroline": false,
            "zerolinecolor": "rgb(36,36,36)"
           },
           "yaxis": {
            "backgroundcolor": "white",
            "gridcolor": "rgb(232,232,232)",
            "gridwidth": 2,
            "linecolor": "rgb(36,36,36)",
            "showbackground": true,
            "showgrid": false,
            "showline": true,
            "ticks": "outside",
            "zeroline": false,
            "zerolinecolor": "rgb(36,36,36)"
           },
           "zaxis": {
            "backgroundcolor": "white",
            "gridcolor": "rgb(232,232,232)",
            "gridwidth": 2,
            "linecolor": "rgb(36,36,36)",
            "showbackground": true,
            "showgrid": false,
            "showline": true,
            "ticks": "outside",
            "zeroline": false,
            "zerolinecolor": "rgb(36,36,36)"
           }
          },
          "shapedefaults": {
           "fillcolor": "black",
           "line": {
            "width": 0
           },
           "opacity": 0.3
          },
          "ternary": {
           "aaxis": {
            "gridcolor": "rgb(232,232,232)",
            "linecolor": "rgb(36,36,36)",
            "showgrid": false,
            "showline": true,
            "ticks": "outside"
           },
           "baxis": {
            "gridcolor": "rgb(232,232,232)",
            "linecolor": "rgb(36,36,36)",
            "showgrid": false,
            "showline": true,
            "ticks": "outside"
           },
           "bgcolor": "white",
           "caxis": {
            "gridcolor": "rgb(232,232,232)",
            "linecolor": "rgb(36,36,36)",
            "showgrid": false,
            "showline": true,
            "ticks": "outside"
           }
          },
          "title": {
           "x": 0.05
          },
          "xaxis": {
           "automargin": true,
           "gridcolor": "rgb(232,232,232)",
           "linecolor": "rgb(36,36,36)",
           "showgrid": false,
           "showline": true,
           "ticks": "outside",
           "title": {
            "standoff": 15
           },
           "zeroline": false,
           "zerolinecolor": "rgb(36,36,36)"
          },
          "yaxis": {
           "automargin": true,
           "gridcolor": "rgb(232,232,232)",
           "linecolor": "rgb(36,36,36)",
           "showgrid": false,
           "showline": true,
           "ticks": "outside",
           "title": {
            "standoff": 15
           },
           "zeroline": false,
           "zerolinecolor": "rgb(36,36,36)"
          }
         }
        },
        "width": 400,
        "xaxis": {
         "categoryarray": [
          "US",
          "GB",
          "NL",
          "DE",
          "CH",
          "AU",
          "CN",
          "BR",
          "DK",
          "JP"
         ],
         "categoryorder": "array",
         "showgrid": true,
         "tickangle": 35,
         "ticktext": [
          "US",
          "UK",
          "Netherlands",
          "Germany",
          "Switzerland",
          "Australia",
          "China",
          "Brazil",
          "Demark",
          "Japan"
         ],
         "tickvals": [
          "US",
          "GB",
          "NL",
          "DE",
          "CH",
          "AU",
          "CN",
          "BR",
          "DK",
          "JP"
         ],
         "title": {
          "standoff": 0,
          "text": "Journal country"
         }
        },
        "yaxis": {
         "minor": {
          "nticks": 5,
          "showgrid": true
         },
         "showgrid": true,
         "tickformat": ".0%",
         "title": {
          "standoff": 0,
          "text": "% women reviewers"
         }
        }
       }
      }
     },
     "metadata": {},
     "output_type": "display_data"
    }
   ],
   "source": [
    "# % female in all and exclusive reviewers\"\n",
    "\n",
    "color_dict, order = get_palette(attr=\"ctry\")\n",
    "order=order[order!=\"Other\"]\n",
    "df = pd.read_csv(os.path.join(root, r\"reviewer_gender/alpha2_journal_group_gender.csv\"))\n",
    "x='alpha2_journal'\n",
    "df = df[df[x].isin(ctry_list)]\n",
    "df[\"color\"] = df[x].map(color_dict)\n",
    "\n",
    "fig = go.Figure()\n",
    "fig.add_trace(go.Scatter(x=df[x],\n",
    "                         y=df[\"reviewer\"],\n",
    "                         name=\"Reviewer\",\n",
    "                         mode=\"markers\",\n",
    "                         hovertemplate=\"%{y:.2%}\",\n",
    "                         marker=dict(color=df[\"color\"],\n",
    "                                     symbol=\"circle\",\n",
    "                                     size=10,\n",
    "                                     opacity=0.6,\n",
    "                                     line=dict(width=1,\n",
    "                                               color=df[\"color\"]),\n",
    "                         )\n",
    "                         ),\n",
    "              )\n",
    "\n",
    "fig.add_trace(go.Scatter(x=df[x],\n",
    "                         y=df[\"exlusive_reviewer\"],\n",
    "                         name=\"Country-specific reviewer\",\n",
    "                         mode=\"markers\",\n",
    "                         opacity=1,\n",
    "                         hovertemplate=\"%{y:.2%}\",\n",
    "                         marker=dict(color=df[\"color\"],\n",
    "                                     symbol=\"diamond\",\n",
    "                                     size=10,\n",
    "                                     line=dict(width=1,\n",
    "                                               color=df[\"color\"]),\n",
    "                                     )\n",
    "                         ),\n",
    "              )\n",
    "\n",
    "for i, row in df.iterrows():\n",
    "    fig.add_shape(type=\"line\",\n",
    "                  xref=\"x\", yref=\"y\",\n",
    "                  x0=row[x], y0=row[\"reviewer\"], x1=row[x], y1=row[\"exlusive_reviewer\"],\n",
    "                  line=dict(color=\"black\",\n",
    "                            width=2,\n",
    "                            ),\n",
    "                  )\n",
    "\n",
    "fig.update_layout(height=300,\n",
    "                  width=400,\n",
    "                  template=\"simple_white\",\n",
    "                  font=dict(family=\"Arial\"),\n",
    "                  legend=dict(yanchor=\"top\",\n",
    "                              y=1,\n",
    "                              xanchor=\"left\",\n",
    "                              x=0.01,\n",
    "                              bgcolor='rgba(0,0,0,0)'),\n",
    "                  barmode='overlay',\n",
    "                  margin=dict(l=30, r=30, t=30, b=30),\n",
    "                  )\n",
    "\n",
    "fig.update_xaxes(categoryorder=\"array\",\n",
    "                 categoryarray=order,\n",
    "                 title=dict(text=\"Journal country\",\n",
    "                            standoff=0,\n",
    "                            ),\n",
    "                 tickangle=35,\n",
    "                 tickvals=order,\n",
    "                 ticktext=xticks,\n",
    "                 showgrid=True,\n",
    "                 )\n",
    "\n",
    "fig.update_yaxes(showgrid=True,\n",
    "                 tickformat=\".0%\",\n",
    "                 minor=dict(nticks=5,\n",
    "                            showgrid=True),\n",
    "                 title=dict(text=\"% women reviewers\",\n",
    "                            standoff=0.0),\n",
    "                 )\n",
    "\n",
    "fig.show()\n",
    "fig.write_image(os.path.join(graph_root, \"perc_ex_women_ctry.pdf\"))\n"
   ]
  },
  {
   "cell_type": "code",
   "execution_count": 101,
   "id": "52ade45a",
   "metadata": {},
   "outputs": [
    {
     "data": {
      "application/vnd.plotly.v1+json": {
       "config": {
        "plotlyServerURL": "https://plot.ly"
       },
       "data": [
        {
         "marker": {
          "color": [
           "#a18014",
           "#008080",
           "#00ff00",
           "#aeb404",
           "#0000ff",
           "#800080",
           "#00ffff",
           "#6a66f2",
           "#ff00ff",
           "#F70000"
          ],
          "line": {
           "color": [
            "#a18014",
            "#008080",
            "#00ff00",
            "#aeb404",
            "#0000ff",
            "#800080",
            "#00ffff",
            "#6a66f2",
            "#ff00ff",
            "#F70000"
           ],
           "width": 1
          },
          "opacity": 0.6,
          "size": 10,
          "symbol": "circle"
         },
         "mode": "markers",
         "name": "Reviewer",
         "type": "scatter",
         "x": [
          "AU",
          "BR",
          "CH",
          "CN",
          "DE",
          "DK",
          "GB",
          "JP",
          "NL",
          "US"
         ],
         "y": [
          0.3304281565975994,
          0.6147226099424344,
          0.2355370316384227,
          0.2633820619343915,
          0.1850864326130019,
          0.3154413414582219,
          0.0713823120656358,
          0.4722387260340616,
          0.1750287533027437,
          0.0598069469473931
         ]
        },
        {
         "marker": {
          "color": [
           "#a18014",
           "#008080",
           "#00ff00",
           "#aeb404",
           "#0000ff",
           "#800080",
           "#00ffff",
           "#6a66f2",
           "#ff00ff",
           "#F70000"
          ],
          "line": {
           "color": [
            "#a18014",
            "#008080",
            "#00ff00",
            "#aeb404",
            "#0000ff",
            "#800080",
            "#00ffff",
            "#6a66f2",
            "#ff00ff",
            "#F70000"
           ],
           "width": 1
          },
          "size": 10,
          "symbol": "diamond"
         },
         "mode": "markers",
         "name": "Country-specific reviewer",
         "opacity": 1,
         "type": "scatter",
         "x": [
          "AU",
          "BR",
          "CH",
          "CN",
          "DE",
          "DK",
          "GB",
          "JP",
          "NL",
          "US"
         ],
         "y": [
          0.4664313732334144,
          0.7906212781157202,
          0.3135035723569461,
          0.3586126834943021,
          0.2411254344646605,
          0.3332452009137158,
          0.0913984018744612,
          0.7079412783966572,
          0.2445806364893898,
          0.1238498879720126
         ]
        }
       ],
       "layout": {
        "font": {
         "family": "Arial"
        },
        "height": 300,
        "legend": {
         "bgcolor": "rgba(0,0,0,0)",
         "x": 0.01,
         "xanchor": "left",
         "y": 1,
         "yanchor": "top"
        },
        "margin": {
         "b": 30,
         "l": 30,
         "r": 30,
         "t": 30
        },
        "shapes": [
         {
          "line": {
           "color": "black",
           "width": 2
          },
          "type": "line",
          "x0": "AU",
          "x1": "AU",
          "xref": "x",
          "y0": 0.3304281565975994,
          "y1": 0.4664313732334144,
          "yref": "y"
         },
         {
          "line": {
           "color": "black",
           "width": 2
          },
          "type": "line",
          "x0": "BR",
          "x1": "BR",
          "xref": "x",
          "y0": 0.6147226099424344,
          "y1": 0.7906212781157202,
          "yref": "y"
         },
         {
          "line": {
           "color": "black",
           "width": 2
          },
          "type": "line",
          "x0": "CH",
          "x1": "CH",
          "xref": "x",
          "y0": 0.2355370316384227,
          "y1": 0.3135035723569461,
          "yref": "y"
         },
         {
          "line": {
           "color": "black",
           "width": 2
          },
          "type": "line",
          "x0": "CN",
          "x1": "CN",
          "xref": "x",
          "y0": 0.2633820619343915,
          "y1": 0.3586126834943021,
          "yref": "y"
         },
         {
          "line": {
           "color": "black",
           "width": 2
          },
          "type": "line",
          "x0": "DE",
          "x1": "DE",
          "xref": "x",
          "y0": 0.1850864326130019,
          "y1": 0.2411254344646605,
          "yref": "y"
         },
         {
          "line": {
           "color": "black",
           "width": 2
          },
          "type": "line",
          "x0": "DK",
          "x1": "DK",
          "xref": "x",
          "y0": 0.3154413414582219,
          "y1": 0.3332452009137158,
          "yref": "y"
         },
         {
          "line": {
           "color": "black",
           "width": 2
          },
          "type": "line",
          "x0": "GB",
          "x1": "GB",
          "xref": "x",
          "y0": 0.0713823120656358,
          "y1": 0.0913984018744612,
          "yref": "y"
         },
         {
          "line": {
           "color": "black",
           "width": 2
          },
          "type": "line",
          "x0": "JP",
          "x1": "JP",
          "xref": "x",
          "y0": 0.4722387260340616,
          "y1": 0.7079412783966572,
          "yref": "y"
         },
         {
          "line": {
           "color": "black",
           "width": 2
          },
          "type": "line",
          "x0": "NL",
          "x1": "NL",
          "xref": "x",
          "y0": 0.1750287533027437,
          "y1": 0.2445806364893898,
          "yref": "y"
         },
         {
          "line": {
           "color": "black",
           "width": 2
          },
          "type": "line",
          "x0": "US",
          "x1": "US",
          "xref": "x",
          "y0": 0.0598069469473931,
          "y1": 0.1238498879720126,
          "yref": "y"
         }
        ],
        "template": {
         "data": {
          "bar": [
           {
            "error_x": {
             "color": "rgb(36,36,36)"
            },
            "error_y": {
             "color": "rgb(36,36,36)"
            },
            "marker": {
             "line": {
              "color": "white",
              "width": 0.5
             },
             "pattern": {
              "fillmode": "overlay",
              "size": 10,
              "solidity": 0.2
             }
            },
            "type": "bar"
           }
          ],
          "barpolar": [
           {
            "marker": {
             "line": {
              "color": "white",
              "width": 0.5
             },
             "pattern": {
              "fillmode": "overlay",
              "size": 10,
              "solidity": 0.2
             }
            },
            "type": "barpolar"
           }
          ],
          "carpet": [
           {
            "aaxis": {
             "endlinecolor": "rgb(36,36,36)",
             "gridcolor": "white",
             "linecolor": "white",
             "minorgridcolor": "white",
             "startlinecolor": "rgb(36,36,36)"
            },
            "baxis": {
             "endlinecolor": "rgb(36,36,36)",
             "gridcolor": "white",
             "linecolor": "white",
             "minorgridcolor": "white",
             "startlinecolor": "rgb(36,36,36)"
            },
            "type": "carpet"
           }
          ],
          "choropleth": [
           {
            "colorbar": {
             "outlinewidth": 1,
             "tickcolor": "rgb(36,36,36)",
             "ticks": "outside"
            },
            "type": "choropleth"
           }
          ],
          "contour": [
           {
            "colorbar": {
             "outlinewidth": 1,
             "tickcolor": "rgb(36,36,36)",
             "ticks": "outside"
            },
            "colorscale": [
             [
              0,
              "#440154"
             ],
             [
              0.1111111111111111,
              "#482878"
             ],
             [
              0.2222222222222222,
              "#3e4989"
             ],
             [
              0.3333333333333333,
              "#31688e"
             ],
             [
              0.4444444444444444,
              "#26828e"
             ],
             [
              0.5555555555555556,
              "#1f9e89"
             ],
             [
              0.6666666666666666,
              "#35b779"
             ],
             [
              0.7777777777777778,
              "#6ece58"
             ],
             [
              0.8888888888888888,
              "#b5de2b"
             ],
             [
              1,
              "#fde725"
             ]
            ],
            "type": "contour"
           }
          ],
          "contourcarpet": [
           {
            "colorbar": {
             "outlinewidth": 1,
             "tickcolor": "rgb(36,36,36)",
             "ticks": "outside"
            },
            "type": "contourcarpet"
           }
          ],
          "heatmap": [
           {
            "colorbar": {
             "outlinewidth": 1,
             "tickcolor": "rgb(36,36,36)",
             "ticks": "outside"
            },
            "colorscale": [
             [
              0,
              "#440154"
             ],
             [
              0.1111111111111111,
              "#482878"
             ],
             [
              0.2222222222222222,
              "#3e4989"
             ],
             [
              0.3333333333333333,
              "#31688e"
             ],
             [
              0.4444444444444444,
              "#26828e"
             ],
             [
              0.5555555555555556,
              "#1f9e89"
             ],
             [
              0.6666666666666666,
              "#35b779"
             ],
             [
              0.7777777777777778,
              "#6ece58"
             ],
             [
              0.8888888888888888,
              "#b5de2b"
             ],
             [
              1,
              "#fde725"
             ]
            ],
            "type": "heatmap"
           }
          ],
          "heatmapgl": [
           {
            "colorbar": {
             "outlinewidth": 1,
             "tickcolor": "rgb(36,36,36)",
             "ticks": "outside"
            },
            "colorscale": [
             [
              0,
              "#440154"
             ],
             [
              0.1111111111111111,
              "#482878"
             ],
             [
              0.2222222222222222,
              "#3e4989"
             ],
             [
              0.3333333333333333,
              "#31688e"
             ],
             [
              0.4444444444444444,
              "#26828e"
             ],
             [
              0.5555555555555556,
              "#1f9e89"
             ],
             [
              0.6666666666666666,
              "#35b779"
             ],
             [
              0.7777777777777778,
              "#6ece58"
             ],
             [
              0.8888888888888888,
              "#b5de2b"
             ],
             [
              1,
              "#fde725"
             ]
            ],
            "type": "heatmapgl"
           }
          ],
          "histogram": [
           {
            "marker": {
             "line": {
              "color": "white",
              "width": 0.6
             }
            },
            "type": "histogram"
           }
          ],
          "histogram2d": [
           {
            "colorbar": {
             "outlinewidth": 1,
             "tickcolor": "rgb(36,36,36)",
             "ticks": "outside"
            },
            "colorscale": [
             [
              0,
              "#440154"
             ],
             [
              0.1111111111111111,
              "#482878"
             ],
             [
              0.2222222222222222,
              "#3e4989"
             ],
             [
              0.3333333333333333,
              "#31688e"
             ],
             [
              0.4444444444444444,
              "#26828e"
             ],
             [
              0.5555555555555556,
              "#1f9e89"
             ],
             [
              0.6666666666666666,
              "#35b779"
             ],
             [
              0.7777777777777778,
              "#6ece58"
             ],
             [
              0.8888888888888888,
              "#b5de2b"
             ],
             [
              1,
              "#fde725"
             ]
            ],
            "type": "histogram2d"
           }
          ],
          "histogram2dcontour": [
           {
            "colorbar": {
             "outlinewidth": 1,
             "tickcolor": "rgb(36,36,36)",
             "ticks": "outside"
            },
            "colorscale": [
             [
              0,
              "#440154"
             ],
             [
              0.1111111111111111,
              "#482878"
             ],
             [
              0.2222222222222222,
              "#3e4989"
             ],
             [
              0.3333333333333333,
              "#31688e"
             ],
             [
              0.4444444444444444,
              "#26828e"
             ],
             [
              0.5555555555555556,
              "#1f9e89"
             ],
             [
              0.6666666666666666,
              "#35b779"
             ],
             [
              0.7777777777777778,
              "#6ece58"
             ],
             [
              0.8888888888888888,
              "#b5de2b"
             ],
             [
              1,
              "#fde725"
             ]
            ],
            "type": "histogram2dcontour"
           }
          ],
          "mesh3d": [
           {
            "colorbar": {
             "outlinewidth": 1,
             "tickcolor": "rgb(36,36,36)",
             "ticks": "outside"
            },
            "type": "mesh3d"
           }
          ],
          "parcoords": [
           {
            "line": {
             "colorbar": {
              "outlinewidth": 1,
              "tickcolor": "rgb(36,36,36)",
              "ticks": "outside"
             }
            },
            "type": "parcoords"
           }
          ],
          "pie": [
           {
            "automargin": true,
            "type": "pie"
           }
          ],
          "scatter": [
           {
            "fillpattern": {
             "fillmode": "overlay",
             "size": 10,
             "solidity": 0.2
            },
            "type": "scatter"
           }
          ],
          "scatter3d": [
           {
            "line": {
             "colorbar": {
              "outlinewidth": 1,
              "tickcolor": "rgb(36,36,36)",
              "ticks": "outside"
             }
            },
            "marker": {
             "colorbar": {
              "outlinewidth": 1,
              "tickcolor": "rgb(36,36,36)",
              "ticks": "outside"
             }
            },
            "type": "scatter3d"
           }
          ],
          "scattercarpet": [
           {
            "marker": {
             "colorbar": {
              "outlinewidth": 1,
              "tickcolor": "rgb(36,36,36)",
              "ticks": "outside"
             }
            },
            "type": "scattercarpet"
           }
          ],
          "scattergeo": [
           {
            "marker": {
             "colorbar": {
              "outlinewidth": 1,
              "tickcolor": "rgb(36,36,36)",
              "ticks": "outside"
             }
            },
            "type": "scattergeo"
           }
          ],
          "scattergl": [
           {
            "marker": {
             "colorbar": {
              "outlinewidth": 1,
              "tickcolor": "rgb(36,36,36)",
              "ticks": "outside"
             }
            },
            "type": "scattergl"
           }
          ],
          "scattermapbox": [
           {
            "marker": {
             "colorbar": {
              "outlinewidth": 1,
              "tickcolor": "rgb(36,36,36)",
              "ticks": "outside"
             }
            },
            "type": "scattermapbox"
           }
          ],
          "scatterpolar": [
           {
            "marker": {
             "colorbar": {
              "outlinewidth": 1,
              "tickcolor": "rgb(36,36,36)",
              "ticks": "outside"
             }
            },
            "type": "scatterpolar"
           }
          ],
          "scatterpolargl": [
           {
            "marker": {
             "colorbar": {
              "outlinewidth": 1,
              "tickcolor": "rgb(36,36,36)",
              "ticks": "outside"
             }
            },
            "type": "scatterpolargl"
           }
          ],
          "scatterternary": [
           {
            "marker": {
             "colorbar": {
              "outlinewidth": 1,
              "tickcolor": "rgb(36,36,36)",
              "ticks": "outside"
             }
            },
            "type": "scatterternary"
           }
          ],
          "surface": [
           {
            "colorbar": {
             "outlinewidth": 1,
             "tickcolor": "rgb(36,36,36)",
             "ticks": "outside"
            },
            "colorscale": [
             [
              0,
              "#440154"
             ],
             [
              0.1111111111111111,
              "#482878"
             ],
             [
              0.2222222222222222,
              "#3e4989"
             ],
             [
              0.3333333333333333,
              "#31688e"
             ],
             [
              0.4444444444444444,
              "#26828e"
             ],
             [
              0.5555555555555556,
              "#1f9e89"
             ],
             [
              0.6666666666666666,
              "#35b779"
             ],
             [
              0.7777777777777778,
              "#6ece58"
             ],
             [
              0.8888888888888888,
              "#b5de2b"
             ],
             [
              1,
              "#fde725"
             ]
            ],
            "type": "surface"
           }
          ],
          "table": [
           {
            "cells": {
             "fill": {
              "color": "rgb(237,237,237)"
             },
             "line": {
              "color": "white"
             }
            },
            "header": {
             "fill": {
              "color": "rgb(217,217,217)"
             },
             "line": {
              "color": "white"
             }
            },
            "type": "table"
           }
          ]
         },
         "layout": {
          "annotationdefaults": {
           "arrowhead": 0,
           "arrowwidth": 1
          },
          "autotypenumbers": "strict",
          "coloraxis": {
           "colorbar": {
            "outlinewidth": 1,
            "tickcolor": "rgb(36,36,36)",
            "ticks": "outside"
           }
          },
          "colorscale": {
           "diverging": [
            [
             0,
             "rgb(103,0,31)"
            ],
            [
             0.1,
             "rgb(178,24,43)"
            ],
            [
             0.2,
             "rgb(214,96,77)"
            ],
            [
             0.3,
             "rgb(244,165,130)"
            ],
            [
             0.4,
             "rgb(253,219,199)"
            ],
            [
             0.5,
             "rgb(247,247,247)"
            ],
            [
             0.6,
             "rgb(209,229,240)"
            ],
            [
             0.7,
             "rgb(146,197,222)"
            ],
            [
             0.8,
             "rgb(67,147,195)"
            ],
            [
             0.9,
             "rgb(33,102,172)"
            ],
            [
             1,
             "rgb(5,48,97)"
            ]
           ],
           "sequential": [
            [
             0,
             "#440154"
            ],
            [
             0.1111111111111111,
             "#482878"
            ],
            [
             0.2222222222222222,
             "#3e4989"
            ],
            [
             0.3333333333333333,
             "#31688e"
            ],
            [
             0.4444444444444444,
             "#26828e"
            ],
            [
             0.5555555555555556,
             "#1f9e89"
            ],
            [
             0.6666666666666666,
             "#35b779"
            ],
            [
             0.7777777777777778,
             "#6ece58"
            ],
            [
             0.8888888888888888,
             "#b5de2b"
            ],
            [
             1,
             "#fde725"
            ]
           ],
           "sequentialminus": [
            [
             0,
             "#440154"
            ],
            [
             0.1111111111111111,
             "#482878"
            ],
            [
             0.2222222222222222,
             "#3e4989"
            ],
            [
             0.3333333333333333,
             "#31688e"
            ],
            [
             0.4444444444444444,
             "#26828e"
            ],
            [
             0.5555555555555556,
             "#1f9e89"
            ],
            [
             0.6666666666666666,
             "#35b779"
            ],
            [
             0.7777777777777778,
             "#6ece58"
            ],
            [
             0.8888888888888888,
             "#b5de2b"
            ],
            [
             1,
             "#fde725"
            ]
           ]
          },
          "colorway": [
           "#1F77B4",
           "#FF7F0E",
           "#2CA02C",
           "#D62728",
           "#9467BD",
           "#8C564B",
           "#E377C2",
           "#7F7F7F",
           "#BCBD22",
           "#17BECF"
          ],
          "font": {
           "color": "rgb(36,36,36)"
          },
          "geo": {
           "bgcolor": "white",
           "lakecolor": "white",
           "landcolor": "white",
           "showlakes": true,
           "showland": true,
           "subunitcolor": "white"
          },
          "hoverlabel": {
           "align": "left"
          },
          "hovermode": "closest",
          "mapbox": {
           "style": "light"
          },
          "paper_bgcolor": "white",
          "plot_bgcolor": "white",
          "polar": {
           "angularaxis": {
            "gridcolor": "rgb(232,232,232)",
            "linecolor": "rgb(36,36,36)",
            "showgrid": false,
            "showline": true,
            "ticks": "outside"
           },
           "bgcolor": "white",
           "radialaxis": {
            "gridcolor": "rgb(232,232,232)",
            "linecolor": "rgb(36,36,36)",
            "showgrid": false,
            "showline": true,
            "ticks": "outside"
           }
          },
          "scene": {
           "xaxis": {
            "backgroundcolor": "white",
            "gridcolor": "rgb(232,232,232)",
            "gridwidth": 2,
            "linecolor": "rgb(36,36,36)",
            "showbackground": true,
            "showgrid": false,
            "showline": true,
            "ticks": "outside",
            "zeroline": false,
            "zerolinecolor": "rgb(36,36,36)"
           },
           "yaxis": {
            "backgroundcolor": "white",
            "gridcolor": "rgb(232,232,232)",
            "gridwidth": 2,
            "linecolor": "rgb(36,36,36)",
            "showbackground": true,
            "showgrid": false,
            "showline": true,
            "ticks": "outside",
            "zeroline": false,
            "zerolinecolor": "rgb(36,36,36)"
           },
           "zaxis": {
            "backgroundcolor": "white",
            "gridcolor": "rgb(232,232,232)",
            "gridwidth": 2,
            "linecolor": "rgb(36,36,36)",
            "showbackground": true,
            "showgrid": false,
            "showline": true,
            "ticks": "outside",
            "zeroline": false,
            "zerolinecolor": "rgb(36,36,36)"
           }
          },
          "shapedefaults": {
           "fillcolor": "black",
           "line": {
            "width": 0
           },
           "opacity": 0.3
          },
          "ternary": {
           "aaxis": {
            "gridcolor": "rgb(232,232,232)",
            "linecolor": "rgb(36,36,36)",
            "showgrid": false,
            "showline": true,
            "ticks": "outside"
           },
           "baxis": {
            "gridcolor": "rgb(232,232,232)",
            "linecolor": "rgb(36,36,36)",
            "showgrid": false,
            "showline": true,
            "ticks": "outside"
           },
           "bgcolor": "white",
           "caxis": {
            "gridcolor": "rgb(232,232,232)",
            "linecolor": "rgb(36,36,36)",
            "showgrid": false,
            "showline": true,
            "ticks": "outside"
           }
          },
          "title": {
           "x": 0.05
          },
          "xaxis": {
           "automargin": true,
           "gridcolor": "rgb(232,232,232)",
           "linecolor": "rgb(36,36,36)",
           "showgrid": false,
           "showline": true,
           "ticks": "outside",
           "title": {
            "standoff": 15
           },
           "zeroline": false,
           "zerolinecolor": "rgb(36,36,36)"
          },
          "yaxis": {
           "automargin": true,
           "gridcolor": "rgb(232,232,232)",
           "linecolor": "rgb(36,36,36)",
           "showgrid": false,
           "showline": true,
           "ticks": "outside",
           "title": {
            "standoff": 15
           },
           "zeroline": false,
           "zerolinecolor": "rgb(36,36,36)"
          }
         }
        },
        "width": 400,
        "xaxis": {
         "categoryarray": [
          "US",
          "GB",
          "NL",
          "DE",
          "CH",
          "AU",
          "CN",
          "BR",
          "DK",
          "JP"
         ],
         "categoryorder": "array",
         "showgrid": false,
         "tickangle": 35,
         "ticktext": [
          "US",
          "UK",
          "Netherlands",
          "Germany",
          "Switzerland",
          "Australia",
          "China",
          "Brazil",
          "Demark",
          "Japan"
         ],
         "tickvals": [
          "US",
          "GB",
          "NL",
          "DE",
          "CH",
          "AU",
          "CN",
          "BR",
          "DK",
          "JP"
         ],
         "title": {
          "standoff": 0,
          "text": "Journal country"
         }
        },
        "yaxis": {
         "minor": {
          "nticks": 5,
          "showgrid": true
         },
         "showgrid": true,
         "title": {
          "standoff": 0,
          "text": "Gini index"
         }
        }
       }
      }
     },
     "metadata": {},
     "output_type": "display_data"
    }
   ],
   "source": [
    "# gini\n",
    "color_dict, order = get_palette(attr=\"ctry\")\n",
    "order = order[order != \"Other\"]\n",
    "x = \"alpha2_journal\"\n",
    "df = pd.read_csv(os.path.join(\n",
    "    root, r\"reviewer_stat/alpha2_journal_group_gini.csv\"))\n",
    "df = df[df[x].isin(order)]\n",
    "df[\"symbol\"] = (df[\"exclusive reviewer\"] - df[\"reviewer\"]\n",
    "                ).apply(lambda x: \"diamond\" if x > 0 else \"triangle-down\")\n",
    "\n",
    "df[\"color\"] = df[x].map(color_dict)\n",
    "\n",
    "fig=go.Figure()\n",
    "fig.add_trace(go.Scatter(x=df[x],\n",
    "                         y=df[\"reviewer\"],\n",
    "                         name=\"Reviewer\",\n",
    "                         mode=\"markers\",\n",
    "                         marker=dict(color=df[\"color\"],\n",
    "                                     symbol=\"circle\",\n",
    "                                     size=10,\n",
    "                                     opacity=0.6,\n",
    "                                     line=dict(width=1,\n",
    "                                               color=df[\"color\"]),\n",
    "\n",
    "                                     )\n",
    "                         ),\n",
    "              )\n",
    "\n",
    "fig.add_trace(go.Scatter(x=df[x],\n",
    "                         y=df[\"exclusive reviewer\"],\n",
    "                         name=\"Country-specific reviewer\",\n",
    "                         mode=\"markers\",\n",
    "                         opacity=1,\n",
    "                         marker=dict(color=df[\"color\"],\n",
    "                                     symbol=\"diamond\",\n",
    "                                     size=10,\n",
    "                                     line=dict(width=1,\n",
    "                                               color=df[\"color\"]),\n",
    "                                     )\n",
    "                         ),\n",
    "              )\n",
    "\n",
    "for i, row in df.iterrows():\n",
    "    fig.add_shape(type=\"line\",\n",
    "                  xref=\"x\", yref=\"y\",\n",
    "                  x0=row[x], y0=row[\"reviewer\"], x1=row[x], y1=row[\"exclusive reviewer\"],\n",
    "                  line=dict(color=\"black\",\n",
    "                            width=2,\n",
    "                            ),\n",
    "                  )\n",
    "\n",
    "fig.update_layout(height=300,\n",
    "                  width=400,\n",
    "                  template=\"simple_white\",\n",
    "                  font=dict(family=\"Arial\"),\n",
    "                  legend=dict(yanchor=\"top\",\n",
    "                              y=1,\n",
    "                              xanchor=\"left\",\n",
    "                              x=0.01,\n",
    "                              bgcolor='rgba(0,0,0,0)'),\n",
    "                  margin=dict(l=30, r=30, t=30, b=30),)\n",
    "\n",
    "fig.update_xaxes(categoryorder=\"array\",\n",
    "                 categoryarray=order,\n",
    "                 tickvals=order,\n",
    "                 ticktext=xticks,\n",
    "                 tickangle=35,\n",
    "                 showgrid=False,\n",
    "                 title=dict(text=\"Journal country\",\n",
    "                            standoff=0,\n",
    "                            ),\n",
    "                 )\n",
    "\n",
    "fig.update_yaxes(showgrid=True,\n",
    "                 minor=dict(nticks=5,\n",
    "                            showgrid=True),\n",
    "                 title=dict(text=\"Gini index\",\n",
    "                            standoff=0.0),\n",
    "                 )\n",
    "\n",
    "fig.show()\n",
    "fig.write_image(os.path.join(graph_root, \"gini_ctry.pdf\"))\n"
   ]
  },
  {
   "cell_type": "code",
   "execution_count": 102,
   "id": "5e32b81e",
   "metadata": {},
   "outputs": [
    {
     "data": {
      "application/vnd.plotly.v1+json": {
       "config": {
        "plotlyServerURL": "https://plot.ly"
       },
       "data": [
        {
         "alignmentgroup": "True",
         "cliponaxis": false,
         "error_y": {
          "array": [
           0.07077875530796617,
           0.07479779425557953,
           0.0465836951131948,
           0.04520792068257422,
           0.03163477290461323,
           0.04761357212704872,
           0.015188030373329981,
           0.07840477015049684,
           0.030385290950459134,
           0.016280044186812948
          ]
         },
         "hovertemplate": "field=%{x}<br>mean=%{y}<extra></extra>",
         "legendgroup": "",
         "marker": {
          "color": [
           "#a18014",
           "#008080",
           "#00ff00",
           "#aeb404",
           "#0000ff",
           "#800080",
           "#00ffff",
           "#6a66f2",
           "#ff00ff",
           "#F70000"
          ],
          "pattern": {
           "shape": ""
          }
         },
         "name": "",
         "offsetgroup": "",
         "orientation": "v",
         "showlegend": false,
         "textposition": "outside",
         "type": "bar",
         "x": [
          "AU",
          "BR",
          "CH",
          "CN",
          "DE",
          "DK",
          "GB",
          "JP",
          "NL",
          "US"
         ],
         "xaxis": "x",
         "y": [
          0.34109475817323076,
          0.3087092782273602,
          0.20809512624839951,
          0.20700393079472976,
          0.19138944295599675,
          0.3009350039852025,
          0.28540847445151935,
          0.19512085370807739,
          0.1831879022336794,
          0.27363560153936534
         ],
         "yaxis": "y"
        }
       ],
       "layout": {
        "barmode": "relative",
        "font": {
         "family": "Arial"
        },
        "height": 300,
        "legend": {
         "tracegroupgap": 0
        },
        "margin": {
         "t": 60
        },
        "template": {
         "data": {
          "bar": [
           {
            "error_x": {
             "color": "rgb(36,36,36)"
            },
            "error_y": {
             "color": "rgb(36,36,36)"
            },
            "marker": {
             "line": {
              "color": "white",
              "width": 0.5
             },
             "pattern": {
              "fillmode": "overlay",
              "size": 10,
              "solidity": 0.2
             }
            },
            "type": "bar"
           }
          ],
          "barpolar": [
           {
            "marker": {
             "line": {
              "color": "white",
              "width": 0.5
             },
             "pattern": {
              "fillmode": "overlay",
              "size": 10,
              "solidity": 0.2
             }
            },
            "type": "barpolar"
           }
          ],
          "carpet": [
           {
            "aaxis": {
             "endlinecolor": "rgb(36,36,36)",
             "gridcolor": "white",
             "linecolor": "white",
             "minorgridcolor": "white",
             "startlinecolor": "rgb(36,36,36)"
            },
            "baxis": {
             "endlinecolor": "rgb(36,36,36)",
             "gridcolor": "white",
             "linecolor": "white",
             "minorgridcolor": "white",
             "startlinecolor": "rgb(36,36,36)"
            },
            "type": "carpet"
           }
          ],
          "choropleth": [
           {
            "colorbar": {
             "outlinewidth": 1,
             "tickcolor": "rgb(36,36,36)",
             "ticks": "outside"
            },
            "type": "choropleth"
           }
          ],
          "contour": [
           {
            "colorbar": {
             "outlinewidth": 1,
             "tickcolor": "rgb(36,36,36)",
             "ticks": "outside"
            },
            "colorscale": [
             [
              0,
              "#440154"
             ],
             [
              0.1111111111111111,
              "#482878"
             ],
             [
              0.2222222222222222,
              "#3e4989"
             ],
             [
              0.3333333333333333,
              "#31688e"
             ],
             [
              0.4444444444444444,
              "#26828e"
             ],
             [
              0.5555555555555556,
              "#1f9e89"
             ],
             [
              0.6666666666666666,
              "#35b779"
             ],
             [
              0.7777777777777778,
              "#6ece58"
             ],
             [
              0.8888888888888888,
              "#b5de2b"
             ],
             [
              1,
              "#fde725"
             ]
            ],
            "type": "contour"
           }
          ],
          "contourcarpet": [
           {
            "colorbar": {
             "outlinewidth": 1,
             "tickcolor": "rgb(36,36,36)",
             "ticks": "outside"
            },
            "type": "contourcarpet"
           }
          ],
          "heatmap": [
           {
            "colorbar": {
             "outlinewidth": 1,
             "tickcolor": "rgb(36,36,36)",
             "ticks": "outside"
            },
            "colorscale": [
             [
              0,
              "#440154"
             ],
             [
              0.1111111111111111,
              "#482878"
             ],
             [
              0.2222222222222222,
              "#3e4989"
             ],
             [
              0.3333333333333333,
              "#31688e"
             ],
             [
              0.4444444444444444,
              "#26828e"
             ],
             [
              0.5555555555555556,
              "#1f9e89"
             ],
             [
              0.6666666666666666,
              "#35b779"
             ],
             [
              0.7777777777777778,
              "#6ece58"
             ],
             [
              0.8888888888888888,
              "#b5de2b"
             ],
             [
              1,
              "#fde725"
             ]
            ],
            "type": "heatmap"
           }
          ],
          "heatmapgl": [
           {
            "colorbar": {
             "outlinewidth": 1,
             "tickcolor": "rgb(36,36,36)",
             "ticks": "outside"
            },
            "colorscale": [
             [
              0,
              "#440154"
             ],
             [
              0.1111111111111111,
              "#482878"
             ],
             [
              0.2222222222222222,
              "#3e4989"
             ],
             [
              0.3333333333333333,
              "#31688e"
             ],
             [
              0.4444444444444444,
              "#26828e"
             ],
             [
              0.5555555555555556,
              "#1f9e89"
             ],
             [
              0.6666666666666666,
              "#35b779"
             ],
             [
              0.7777777777777778,
              "#6ece58"
             ],
             [
              0.8888888888888888,
              "#b5de2b"
             ],
             [
              1,
              "#fde725"
             ]
            ],
            "type": "heatmapgl"
           }
          ],
          "histogram": [
           {
            "marker": {
             "line": {
              "color": "white",
              "width": 0.6
             }
            },
            "type": "histogram"
           }
          ],
          "histogram2d": [
           {
            "colorbar": {
             "outlinewidth": 1,
             "tickcolor": "rgb(36,36,36)",
             "ticks": "outside"
            },
            "colorscale": [
             [
              0,
              "#440154"
             ],
             [
              0.1111111111111111,
              "#482878"
             ],
             [
              0.2222222222222222,
              "#3e4989"
             ],
             [
              0.3333333333333333,
              "#31688e"
             ],
             [
              0.4444444444444444,
              "#26828e"
             ],
             [
              0.5555555555555556,
              "#1f9e89"
             ],
             [
              0.6666666666666666,
              "#35b779"
             ],
             [
              0.7777777777777778,
              "#6ece58"
             ],
             [
              0.8888888888888888,
              "#b5de2b"
             ],
             [
              1,
              "#fde725"
             ]
            ],
            "type": "histogram2d"
           }
          ],
          "histogram2dcontour": [
           {
            "colorbar": {
             "outlinewidth": 1,
             "tickcolor": "rgb(36,36,36)",
             "ticks": "outside"
            },
            "colorscale": [
             [
              0,
              "#440154"
             ],
             [
              0.1111111111111111,
              "#482878"
             ],
             [
              0.2222222222222222,
              "#3e4989"
             ],
             [
              0.3333333333333333,
              "#31688e"
             ],
             [
              0.4444444444444444,
              "#26828e"
             ],
             [
              0.5555555555555556,
              "#1f9e89"
             ],
             [
              0.6666666666666666,
              "#35b779"
             ],
             [
              0.7777777777777778,
              "#6ece58"
             ],
             [
              0.8888888888888888,
              "#b5de2b"
             ],
             [
              1,
              "#fde725"
             ]
            ],
            "type": "histogram2dcontour"
           }
          ],
          "mesh3d": [
           {
            "colorbar": {
             "outlinewidth": 1,
             "tickcolor": "rgb(36,36,36)",
             "ticks": "outside"
            },
            "type": "mesh3d"
           }
          ],
          "parcoords": [
           {
            "line": {
             "colorbar": {
              "outlinewidth": 1,
              "tickcolor": "rgb(36,36,36)",
              "ticks": "outside"
             }
            },
            "type": "parcoords"
           }
          ],
          "pie": [
           {
            "automargin": true,
            "type": "pie"
           }
          ],
          "scatter": [
           {
            "fillpattern": {
             "fillmode": "overlay",
             "size": 10,
             "solidity": 0.2
            },
            "type": "scatter"
           }
          ],
          "scatter3d": [
           {
            "line": {
             "colorbar": {
              "outlinewidth": 1,
              "tickcolor": "rgb(36,36,36)",
              "ticks": "outside"
             }
            },
            "marker": {
             "colorbar": {
              "outlinewidth": 1,
              "tickcolor": "rgb(36,36,36)",
              "ticks": "outside"
             }
            },
            "type": "scatter3d"
           }
          ],
          "scattercarpet": [
           {
            "marker": {
             "colorbar": {
              "outlinewidth": 1,
              "tickcolor": "rgb(36,36,36)",
              "ticks": "outside"
             }
            },
            "type": "scattercarpet"
           }
          ],
          "scattergeo": [
           {
            "marker": {
             "colorbar": {
              "outlinewidth": 1,
              "tickcolor": "rgb(36,36,36)",
              "ticks": "outside"
             }
            },
            "type": "scattergeo"
           }
          ],
          "scattergl": [
           {
            "marker": {
             "colorbar": {
              "outlinewidth": 1,
              "tickcolor": "rgb(36,36,36)",
              "ticks": "outside"
             }
            },
            "type": "scattergl"
           }
          ],
          "scattermapbox": [
           {
            "marker": {
             "colorbar": {
              "outlinewidth": 1,
              "tickcolor": "rgb(36,36,36)",
              "ticks": "outside"
             }
            },
            "type": "scattermapbox"
           }
          ],
          "scatterpolar": [
           {
            "marker": {
             "colorbar": {
              "outlinewidth": 1,
              "tickcolor": "rgb(36,36,36)",
              "ticks": "outside"
             }
            },
            "type": "scatterpolar"
           }
          ],
          "scatterpolargl": [
           {
            "marker": {
             "colorbar": {
              "outlinewidth": 1,
              "tickcolor": "rgb(36,36,36)",
              "ticks": "outside"
             }
            },
            "type": "scatterpolargl"
           }
          ],
          "scatterternary": [
           {
            "marker": {
             "colorbar": {
              "outlinewidth": 1,
              "tickcolor": "rgb(36,36,36)",
              "ticks": "outside"
             }
            },
            "type": "scatterternary"
           }
          ],
          "surface": [
           {
            "colorbar": {
             "outlinewidth": 1,
             "tickcolor": "rgb(36,36,36)",
             "ticks": "outside"
            },
            "colorscale": [
             [
              0,
              "#440154"
             ],
             [
              0.1111111111111111,
              "#482878"
             ],
             [
              0.2222222222222222,
              "#3e4989"
             ],
             [
              0.3333333333333333,
              "#31688e"
             ],
             [
              0.4444444444444444,
              "#26828e"
             ],
             [
              0.5555555555555556,
              "#1f9e89"
             ],
             [
              0.6666666666666666,
              "#35b779"
             ],
             [
              0.7777777777777778,
              "#6ece58"
             ],
             [
              0.8888888888888888,
              "#b5de2b"
             ],
             [
              1,
              "#fde725"
             ]
            ],
            "type": "surface"
           }
          ],
          "table": [
           {
            "cells": {
             "fill": {
              "color": "rgb(237,237,237)"
             },
             "line": {
              "color": "white"
             }
            },
            "header": {
             "fill": {
              "color": "rgb(217,217,217)"
             },
             "line": {
              "color": "white"
             }
            },
            "type": "table"
           }
          ]
         },
         "layout": {
          "annotationdefaults": {
           "arrowhead": 0,
           "arrowwidth": 1
          },
          "autotypenumbers": "strict",
          "coloraxis": {
           "colorbar": {
            "outlinewidth": 1,
            "tickcolor": "rgb(36,36,36)",
            "ticks": "outside"
           }
          },
          "colorscale": {
           "diverging": [
            [
             0,
             "rgb(103,0,31)"
            ],
            [
             0.1,
             "rgb(178,24,43)"
            ],
            [
             0.2,
             "rgb(214,96,77)"
            ],
            [
             0.3,
             "rgb(244,165,130)"
            ],
            [
             0.4,
             "rgb(253,219,199)"
            ],
            [
             0.5,
             "rgb(247,247,247)"
            ],
            [
             0.6,
             "rgb(209,229,240)"
            ],
            [
             0.7,
             "rgb(146,197,222)"
            ],
            [
             0.8,
             "rgb(67,147,195)"
            ],
            [
             0.9,
             "rgb(33,102,172)"
            ],
            [
             1,
             "rgb(5,48,97)"
            ]
           ],
           "sequential": [
            [
             0,
             "#440154"
            ],
            [
             0.1111111111111111,
             "#482878"
            ],
            [
             0.2222222222222222,
             "#3e4989"
            ],
            [
             0.3333333333333333,
             "#31688e"
            ],
            [
             0.4444444444444444,
             "#26828e"
            ],
            [
             0.5555555555555556,
             "#1f9e89"
            ],
            [
             0.6666666666666666,
             "#35b779"
            ],
            [
             0.7777777777777778,
             "#6ece58"
            ],
            [
             0.8888888888888888,
             "#b5de2b"
            ],
            [
             1,
             "#fde725"
            ]
           ],
           "sequentialminus": [
            [
             0,
             "#440154"
            ],
            [
             0.1111111111111111,
             "#482878"
            ],
            [
             0.2222222222222222,
             "#3e4989"
            ],
            [
             0.3333333333333333,
             "#31688e"
            ],
            [
             0.4444444444444444,
             "#26828e"
            ],
            [
             0.5555555555555556,
             "#1f9e89"
            ],
            [
             0.6666666666666666,
             "#35b779"
            ],
            [
             0.7777777777777778,
             "#6ece58"
            ],
            [
             0.8888888888888888,
             "#b5de2b"
            ],
            [
             1,
             "#fde725"
            ]
           ]
          },
          "colorway": [
           "#1F77B4",
           "#FF7F0E",
           "#2CA02C",
           "#D62728",
           "#9467BD",
           "#8C564B",
           "#E377C2",
           "#7F7F7F",
           "#BCBD22",
           "#17BECF"
          ],
          "font": {
           "color": "rgb(36,36,36)"
          },
          "geo": {
           "bgcolor": "white",
           "lakecolor": "white",
           "landcolor": "white",
           "showlakes": true,
           "showland": true,
           "subunitcolor": "white"
          },
          "hoverlabel": {
           "align": "left"
          },
          "hovermode": "closest",
          "mapbox": {
           "style": "light"
          },
          "paper_bgcolor": "white",
          "plot_bgcolor": "white",
          "polar": {
           "angularaxis": {
            "gridcolor": "rgb(232,232,232)",
            "linecolor": "rgb(36,36,36)",
            "showgrid": false,
            "showline": true,
            "ticks": "outside"
           },
           "bgcolor": "white",
           "radialaxis": {
            "gridcolor": "rgb(232,232,232)",
            "linecolor": "rgb(36,36,36)",
            "showgrid": false,
            "showline": true,
            "ticks": "outside"
           }
          },
          "scene": {
           "xaxis": {
            "backgroundcolor": "white",
            "gridcolor": "rgb(232,232,232)",
            "gridwidth": 2,
            "linecolor": "rgb(36,36,36)",
            "showbackground": true,
            "showgrid": false,
            "showline": true,
            "ticks": "outside",
            "zeroline": false,
            "zerolinecolor": "rgb(36,36,36)"
           },
           "yaxis": {
            "backgroundcolor": "white",
            "gridcolor": "rgb(232,232,232)",
            "gridwidth": 2,
            "linecolor": "rgb(36,36,36)",
            "showbackground": true,
            "showgrid": false,
            "showline": true,
            "ticks": "outside",
            "zeroline": false,
            "zerolinecolor": "rgb(36,36,36)"
           },
           "zaxis": {
            "backgroundcolor": "white",
            "gridcolor": "rgb(232,232,232)",
            "gridwidth": 2,
            "linecolor": "rgb(36,36,36)",
            "showbackground": true,
            "showgrid": false,
            "showline": true,
            "ticks": "outside",
            "zeroline": false,
            "zerolinecolor": "rgb(36,36,36)"
           }
          },
          "shapedefaults": {
           "fillcolor": "black",
           "line": {
            "width": 0
           },
           "opacity": 0.3
          },
          "ternary": {
           "aaxis": {
            "gridcolor": "rgb(232,232,232)",
            "linecolor": "rgb(36,36,36)",
            "showgrid": false,
            "showline": true,
            "ticks": "outside"
           },
           "baxis": {
            "gridcolor": "rgb(232,232,232)",
            "linecolor": "rgb(36,36,36)",
            "showgrid": false,
            "showline": true,
            "ticks": "outside"
           },
           "bgcolor": "white",
           "caxis": {
            "gridcolor": "rgb(232,232,232)",
            "linecolor": "rgb(36,36,36)",
            "showgrid": false,
            "showline": true,
            "ticks": "outside"
           }
          },
          "title": {
           "x": 0.05
          },
          "xaxis": {
           "automargin": true,
           "gridcolor": "rgb(232,232,232)",
           "linecolor": "rgb(36,36,36)",
           "showgrid": false,
           "showline": true,
           "ticks": "outside",
           "title": {
            "standoff": 15
           },
           "zeroline": false,
           "zerolinecolor": "rgb(36,36,36)"
          },
          "yaxis": {
           "automargin": true,
           "gridcolor": "rgb(232,232,232)",
           "linecolor": "rgb(36,36,36)",
           "showgrid": false,
           "showline": true,
           "ticks": "outside",
           "title": {
            "standoff": 15
           },
           "zeroline": false,
           "zerolinecolor": "rgb(36,36,36)"
          }
         }
        },
        "width": 400,
        "xaxis": {
         "anchor": "y",
         "categoryarray": [
          "US",
          "GB",
          "NL",
          "DE",
          "CH",
          "AU",
          "CN",
          "BR",
          "DK",
          "JP"
         ],
         "categoryorder": "array",
         "domain": [
          0,
          1
         ],
         "tickangle": 35,
         "ticktext": [
          "US",
          "UK",
          "Netherlands",
          "Germany",
          "Switzerland",
          "Australia",
          "China",
          "Brazil",
          "Demark",
          "Japan"
         ],
         "tickvals": [
          "US",
          "GB",
          "NL",
          "DE",
          "CH",
          "AU",
          "CN",
          "BR",
          "DK",
          "JP"
         ],
         "title": {
          "standoff": 0,
          "text": "Journal country"
         }
        },
        "yaxis": {
         "anchor": "x",
         "domain": [
          0,
          1
         ],
         "minor": {
          "nticks": 5,
          "showgrid": true
         },
         "showgrid": true,
         "tickformat": ".0%",
         "title": {
          "standoff": 0,
          "text": "Average % women reviewers"
         }
        }
       }
      }
     },
     "metadata": {},
     "output_type": "display_data"
    }
   ],
   "source": [
    "# Average % women reviewers for journals\n",
    "\n",
    "df = pd.read_csv(os.path.join(root, r\"reviewer_gender/alpha2_journal_reviewer_gender.csv\"))\n",
    "x='alpha2_journal'\n",
    "y='Percentage'\n",
    "df = df[df[x].isin(ctry_list)]\n",
    "df[y] /= 100\n",
    "color_dict, order = get_palette(attr=\"ctry\")\n",
    "order=order[order!=\"Other\"]\n",
    "df[\"color\"] = df[x].map(color_dict)\n",
    "base = df.groupby(x)[y].agg([lambda x: mean_confidence_interval(x)[0], lambda x: mean_confidence_interval(x)[1]]).reset_index()\n",
    "base.columns=[\"field\", \"mean\", \"ci\"]\n",
    "\n",
    "# bar chart\n",
    "base[\"color\"] = base[\"field\"].map(color_dict)\n",
    "\n",
    "# draw bar charts\n",
    "fig = px.bar(base,\n",
    "             x=\"field\",\n",
    "             y=\"mean\",\n",
    "             error_y=\"ci\")\n",
    "\n",
    "fig.update_traces(marker=dict(color=base[\"color\"]),\n",
    "                  textposition=\"outside\",\n",
    "                  cliponaxis=False)\n",
    "\n",
    "fig.update_layout(height=300,\n",
    "                  width=400,\n",
    "                  template=\"simple_white\",\n",
    "                  font=dict(family=\"Arial\"))\n",
    "\n",
    "fig.update_xaxes(categoryorder=\"array\",\n",
    "                 categoryarray=order,\n",
    "                 title=dict(text=\"Journal country\",\n",
    "                            standoff=0,\n",
    "                            ),\n",
    "                 tickangle=35,\n",
    "                 tickvals=order,\n",
    "                 ticktext=xticks,\n",
    "                 )\n",
    "\n",
    "fig.update_yaxes(showgrid=True,\n",
    "                 tickformat=\".0%\",\n",
    "                 minor=dict(nticks=5,\n",
    "                            showgrid=True),\n",
    "                 title=dict(text=\"Average % women reviewers\",\n",
    "                            standoff=0.0),\n",
    "                 )\n",
    "fig.show()\n",
    "fig.write_image(os.path.join(graph_root, \"perc_women_ctry.pdf\"))"
   ]
  },
  {
   "cell_type": "code",
   "execution_count": 47,
   "id": "97fcc660",
   "metadata": {},
   "outputs": [
    {
     "data": {
      "text/html": [
       "<div>\n",
       "<style scoped>\n",
       "    .dataframe tbody tr th:only-of-type {\n",
       "        vertical-align: middle;\n",
       "    }\n",
       "\n",
       "    .dataframe tbody tr th {\n",
       "        vertical-align: top;\n",
       "    }\n",
       "\n",
       "    .dataframe thead th {\n",
       "        text-align: right;\n",
       "    }\n",
       "</style>\n",
       "<table border=\"1\" class=\"dataframe\">\n",
       "  <thead>\n",
       "    <tr style=\"text-align: right;\">\n",
       "      <th></th>\n",
       "      <th>mean</th>\n",
       "      <th>std</th>\n",
       "      <th>median</th>\n",
       "    </tr>\n",
       "    <tr>\n",
       "      <th>Field</th>\n",
       "      <th></th>\n",
       "      <th></th>\n",
       "      <th></th>\n",
       "    </tr>\n",
       "  </thead>\n",
       "  <tbody>\n",
       "    <tr>\n",
       "      <th>US</th>\n",
       "      <td>657.397738</td>\n",
       "      <td>1668.943765</td>\n",
       "      <td>232.0</td>\n",
       "    </tr>\n",
       "    <tr>\n",
       "      <th>GB</th>\n",
       "      <td>787.667159</td>\n",
       "      <td>2249.428557</td>\n",
       "      <td>266.0</td>\n",
       "    </tr>\n",
       "    <tr>\n",
       "      <th>NL</th>\n",
       "      <td>250.360092</td>\n",
       "      <td>365.864225</td>\n",
       "      <td>151.0</td>\n",
       "    </tr>\n",
       "    <tr>\n",
       "      <th>DE</th>\n",
       "      <td>458.795222</td>\n",
       "      <td>926.529102</td>\n",
       "      <td>162.0</td>\n",
       "    </tr>\n",
       "    <tr>\n",
       "      <th>CH</th>\n",
       "      <td>863.869048</td>\n",
       "      <td>1266.777280</td>\n",
       "      <td>411.5</td>\n",
       "    </tr>\n",
       "    <tr>\n",
       "      <th>AU</th>\n",
       "      <td>792.609091</td>\n",
       "      <td>862.342341</td>\n",
       "      <td>466.5</td>\n",
       "    </tr>\n",
       "    <tr>\n",
       "      <th>CN</th>\n",
       "      <td>389.271028</td>\n",
       "      <td>511.455093</td>\n",
       "      <td>188.0</td>\n",
       "    </tr>\n",
       "    <tr>\n",
       "      <th>BR</th>\n",
       "      <td>326.259740</td>\n",
       "      <td>420.862504</td>\n",
       "      <td>237.0</td>\n",
       "    </tr>\n",
       "    <tr>\n",
       "      <th>DK</th>\n",
       "      <td>1512.447761</td>\n",
       "      <td>1716.457233</td>\n",
       "      <td>1096.0</td>\n",
       "    </tr>\n",
       "    <tr>\n",
       "      <th>JP</th>\n",
       "      <td>502.954545</td>\n",
       "      <td>589.893013</td>\n",
       "      <td>251.5</td>\n",
       "    </tr>\n",
       "  </tbody>\n",
       "</table>\n",
       "</div>"
      ],
      "text/plain": [
       "              mean          std  median\n",
       "Field                                  \n",
       "US      657.397738  1668.943765   232.0\n",
       "GB      787.667159  2249.428557   266.0\n",
       "NL      250.360092   365.864225   151.0\n",
       "DE      458.795222   926.529102   162.0\n",
       "CH      863.869048  1266.777280   411.5\n",
       "AU      792.609091   862.342341   466.5\n",
       "CN      389.271028   511.455093   188.0\n",
       "BR      326.259740   420.862504   237.0\n",
       "DK     1512.447761  1716.457233  1096.0\n",
       "JP      502.954545   589.893013   251.5"
      ]
     },
     "execution_count": 47,
     "metadata": {},
     "output_type": "execute_result"
    }
   ],
   "source": [
    "# calculate median and mean of weighted degrees\n",
    "ctry_list = ['US',\n",
    "'GB',\n",
    "'NL',\n",
    "'DE',\n",
    "'CH',\n",
    "'AU',\n",
    "'CN',\n",
    "'BR',\n",
    "'DK',\n",
    "'JP']\n",
    "\n",
    "df = pd.read_csv(os.path.join(root, r\"degree/ctry_degree.csv\"))\n",
    "df.groupby(\"Field\")[\"Weighted degree\"].agg([np.mean, np.std, np.median]).loc[ctry_list,:]"
   ]
  },
  {
   "cell_type": "code",
   "execution_count": 103,
   "id": "10d2f129",
   "metadata": {},
   "outputs": [
    {
     "data": {
      "application/vnd.plotly.v1+json": {
       "config": {
        "plotlyServerURL": "https://plot.ly"
       },
       "data": [
        {
         "alignmentgroup": "True",
         "cliponaxis": false,
         "error_y": {
          "array": [
           0.04201463567770673,
           0.0686568329826852,
           0.023351741219931124,
           0.009789366766998995,
           0.013785978192858095,
           0.06523178888227044,
           0.011087167499273468,
           0.02743771362906069,
           0.010544259395500504,
           0.014346090763742688
          ]
         },
         "hovertemplate": "%{y:.2%}",
         "legendgroup": "",
         "marker": {
          "color": [
           "#a18014",
           "#008080",
           "#00ff00",
           "#aeb404",
           "#0000ff",
           "#800080",
           "#00ffff",
           "#6a66f2",
           "#ff00ff",
           "#F70000"
          ],
          "pattern": {
           "shape": ""
          }
         },
         "name": "",
         "offsetgroup": "",
         "orientation": "v",
         "showlegend": false,
         "textposition": "outside",
         "type": "bar",
         "x": [
          "AU",
          "BR",
          "CH",
          "CN",
          "DE",
          "DK",
          "GB",
          "JP",
          "NL",
          "US"
         ],
         "xaxis": "x",
         "y": [
          0.119242149900291,
          0.1548007185347902,
          0.12896293671097897,
          0.02057261387202044,
          0.07415266878141304,
          0.12125740735440138,
          0.4671122287506919,
          0.06134795965457665,
          0.09938494921243299,
          0.41709266189908883
         ],
         "yaxis": "y"
        }
       ],
       "layout": {
        "barmode": "relative",
        "font": {
         "family": "Arial"
        },
        "height": 300,
        "legend": {
         "tracegroupgap": 0
        },
        "margin": {
         "b": 30,
         "l": 30,
         "r": 30,
         "t": 30
        },
        "template": {
         "data": {
          "bar": [
           {
            "error_x": {
             "color": "rgb(36,36,36)"
            },
            "error_y": {
             "color": "rgb(36,36,36)"
            },
            "marker": {
             "line": {
              "color": "white",
              "width": 0.5
             },
             "pattern": {
              "fillmode": "overlay",
              "size": 10,
              "solidity": 0.2
             }
            },
            "type": "bar"
           }
          ],
          "barpolar": [
           {
            "marker": {
             "line": {
              "color": "white",
              "width": 0.5
             },
             "pattern": {
              "fillmode": "overlay",
              "size": 10,
              "solidity": 0.2
             }
            },
            "type": "barpolar"
           }
          ],
          "carpet": [
           {
            "aaxis": {
             "endlinecolor": "rgb(36,36,36)",
             "gridcolor": "white",
             "linecolor": "white",
             "minorgridcolor": "white",
             "startlinecolor": "rgb(36,36,36)"
            },
            "baxis": {
             "endlinecolor": "rgb(36,36,36)",
             "gridcolor": "white",
             "linecolor": "white",
             "minorgridcolor": "white",
             "startlinecolor": "rgb(36,36,36)"
            },
            "type": "carpet"
           }
          ],
          "choropleth": [
           {
            "colorbar": {
             "outlinewidth": 1,
             "tickcolor": "rgb(36,36,36)",
             "ticks": "outside"
            },
            "type": "choropleth"
           }
          ],
          "contour": [
           {
            "colorbar": {
             "outlinewidth": 1,
             "tickcolor": "rgb(36,36,36)",
             "ticks": "outside"
            },
            "colorscale": [
             [
              0,
              "#440154"
             ],
             [
              0.1111111111111111,
              "#482878"
             ],
             [
              0.2222222222222222,
              "#3e4989"
             ],
             [
              0.3333333333333333,
              "#31688e"
             ],
             [
              0.4444444444444444,
              "#26828e"
             ],
             [
              0.5555555555555556,
              "#1f9e89"
             ],
             [
              0.6666666666666666,
              "#35b779"
             ],
             [
              0.7777777777777778,
              "#6ece58"
             ],
             [
              0.8888888888888888,
              "#b5de2b"
             ],
             [
              1,
              "#fde725"
             ]
            ],
            "type": "contour"
           }
          ],
          "contourcarpet": [
           {
            "colorbar": {
             "outlinewidth": 1,
             "tickcolor": "rgb(36,36,36)",
             "ticks": "outside"
            },
            "type": "contourcarpet"
           }
          ],
          "heatmap": [
           {
            "colorbar": {
             "outlinewidth": 1,
             "tickcolor": "rgb(36,36,36)",
             "ticks": "outside"
            },
            "colorscale": [
             [
              0,
              "#440154"
             ],
             [
              0.1111111111111111,
              "#482878"
             ],
             [
              0.2222222222222222,
              "#3e4989"
             ],
             [
              0.3333333333333333,
              "#31688e"
             ],
             [
              0.4444444444444444,
              "#26828e"
             ],
             [
              0.5555555555555556,
              "#1f9e89"
             ],
             [
              0.6666666666666666,
              "#35b779"
             ],
             [
              0.7777777777777778,
              "#6ece58"
             ],
             [
              0.8888888888888888,
              "#b5de2b"
             ],
             [
              1,
              "#fde725"
             ]
            ],
            "type": "heatmap"
           }
          ],
          "heatmapgl": [
           {
            "colorbar": {
             "outlinewidth": 1,
             "tickcolor": "rgb(36,36,36)",
             "ticks": "outside"
            },
            "colorscale": [
             [
              0,
              "#440154"
             ],
             [
              0.1111111111111111,
              "#482878"
             ],
             [
              0.2222222222222222,
              "#3e4989"
             ],
             [
              0.3333333333333333,
              "#31688e"
             ],
             [
              0.4444444444444444,
              "#26828e"
             ],
             [
              0.5555555555555556,
              "#1f9e89"
             ],
             [
              0.6666666666666666,
              "#35b779"
             ],
             [
              0.7777777777777778,
              "#6ece58"
             ],
             [
              0.8888888888888888,
              "#b5de2b"
             ],
             [
              1,
              "#fde725"
             ]
            ],
            "type": "heatmapgl"
           }
          ],
          "histogram": [
           {
            "marker": {
             "line": {
              "color": "white",
              "width": 0.6
             }
            },
            "type": "histogram"
           }
          ],
          "histogram2d": [
           {
            "colorbar": {
             "outlinewidth": 1,
             "tickcolor": "rgb(36,36,36)",
             "ticks": "outside"
            },
            "colorscale": [
             [
              0,
              "#440154"
             ],
             [
              0.1111111111111111,
              "#482878"
             ],
             [
              0.2222222222222222,
              "#3e4989"
             ],
             [
              0.3333333333333333,
              "#31688e"
             ],
             [
              0.4444444444444444,
              "#26828e"
             ],
             [
              0.5555555555555556,
              "#1f9e89"
             ],
             [
              0.6666666666666666,
              "#35b779"
             ],
             [
              0.7777777777777778,
              "#6ece58"
             ],
             [
              0.8888888888888888,
              "#b5de2b"
             ],
             [
              1,
              "#fde725"
             ]
            ],
            "type": "histogram2d"
           }
          ],
          "histogram2dcontour": [
           {
            "colorbar": {
             "outlinewidth": 1,
             "tickcolor": "rgb(36,36,36)",
             "ticks": "outside"
            },
            "colorscale": [
             [
              0,
              "#440154"
             ],
             [
              0.1111111111111111,
              "#482878"
             ],
             [
              0.2222222222222222,
              "#3e4989"
             ],
             [
              0.3333333333333333,
              "#31688e"
             ],
             [
              0.4444444444444444,
              "#26828e"
             ],
             [
              0.5555555555555556,
              "#1f9e89"
             ],
             [
              0.6666666666666666,
              "#35b779"
             ],
             [
              0.7777777777777778,
              "#6ece58"
             ],
             [
              0.8888888888888888,
              "#b5de2b"
             ],
             [
              1,
              "#fde725"
             ]
            ],
            "type": "histogram2dcontour"
           }
          ],
          "mesh3d": [
           {
            "colorbar": {
             "outlinewidth": 1,
             "tickcolor": "rgb(36,36,36)",
             "ticks": "outside"
            },
            "type": "mesh3d"
           }
          ],
          "parcoords": [
           {
            "line": {
             "colorbar": {
              "outlinewidth": 1,
              "tickcolor": "rgb(36,36,36)",
              "ticks": "outside"
             }
            },
            "type": "parcoords"
           }
          ],
          "pie": [
           {
            "automargin": true,
            "type": "pie"
           }
          ],
          "scatter": [
           {
            "fillpattern": {
             "fillmode": "overlay",
             "size": 10,
             "solidity": 0.2
            },
            "type": "scatter"
           }
          ],
          "scatter3d": [
           {
            "line": {
             "colorbar": {
              "outlinewidth": 1,
              "tickcolor": "rgb(36,36,36)",
              "ticks": "outside"
             }
            },
            "marker": {
             "colorbar": {
              "outlinewidth": 1,
              "tickcolor": "rgb(36,36,36)",
              "ticks": "outside"
             }
            },
            "type": "scatter3d"
           }
          ],
          "scattercarpet": [
           {
            "marker": {
             "colorbar": {
              "outlinewidth": 1,
              "tickcolor": "rgb(36,36,36)",
              "ticks": "outside"
             }
            },
            "type": "scattercarpet"
           }
          ],
          "scattergeo": [
           {
            "marker": {
             "colorbar": {
              "outlinewidth": 1,
              "tickcolor": "rgb(36,36,36)",
              "ticks": "outside"
             }
            },
            "type": "scattergeo"
           }
          ],
          "scattergl": [
           {
            "marker": {
             "colorbar": {
              "outlinewidth": 1,
              "tickcolor": "rgb(36,36,36)",
              "ticks": "outside"
             }
            },
            "type": "scattergl"
           }
          ],
          "scattermapbox": [
           {
            "marker": {
             "colorbar": {
              "outlinewidth": 1,
              "tickcolor": "rgb(36,36,36)",
              "ticks": "outside"
             }
            },
            "type": "scattermapbox"
           }
          ],
          "scatterpolar": [
           {
            "marker": {
             "colorbar": {
              "outlinewidth": 1,
              "tickcolor": "rgb(36,36,36)",
              "ticks": "outside"
             }
            },
            "type": "scatterpolar"
           }
          ],
          "scatterpolargl": [
           {
            "marker": {
             "colorbar": {
              "outlinewidth": 1,
              "tickcolor": "rgb(36,36,36)",
              "ticks": "outside"
             }
            },
            "type": "scatterpolargl"
           }
          ],
          "scatterternary": [
           {
            "marker": {
             "colorbar": {
              "outlinewidth": 1,
              "tickcolor": "rgb(36,36,36)",
              "ticks": "outside"
             }
            },
            "type": "scatterternary"
           }
          ],
          "surface": [
           {
            "colorbar": {
             "outlinewidth": 1,
             "tickcolor": "rgb(36,36,36)",
             "ticks": "outside"
            },
            "colorscale": [
             [
              0,
              "#440154"
             ],
             [
              0.1111111111111111,
              "#482878"
             ],
             [
              0.2222222222222222,
              "#3e4989"
             ],
             [
              0.3333333333333333,
              "#31688e"
             ],
             [
              0.4444444444444444,
              "#26828e"
             ],
             [
              0.5555555555555556,
              "#1f9e89"
             ],
             [
              0.6666666666666666,
              "#35b779"
             ],
             [
              0.7777777777777778,
              "#6ece58"
             ],
             [
              0.8888888888888888,
              "#b5de2b"
             ],
             [
              1,
              "#fde725"
             ]
            ],
            "type": "surface"
           }
          ],
          "table": [
           {
            "cells": {
             "fill": {
              "color": "rgb(237,237,237)"
             },
             "line": {
              "color": "white"
             }
            },
            "header": {
             "fill": {
              "color": "rgb(217,217,217)"
             },
             "line": {
              "color": "white"
             }
            },
            "type": "table"
           }
          ]
         },
         "layout": {
          "annotationdefaults": {
           "arrowhead": 0,
           "arrowwidth": 1
          },
          "autotypenumbers": "strict",
          "coloraxis": {
           "colorbar": {
            "outlinewidth": 1,
            "tickcolor": "rgb(36,36,36)",
            "ticks": "outside"
           }
          },
          "colorscale": {
           "diverging": [
            [
             0,
             "rgb(103,0,31)"
            ],
            [
             0.1,
             "rgb(178,24,43)"
            ],
            [
             0.2,
             "rgb(214,96,77)"
            ],
            [
             0.3,
             "rgb(244,165,130)"
            ],
            [
             0.4,
             "rgb(253,219,199)"
            ],
            [
             0.5,
             "rgb(247,247,247)"
            ],
            [
             0.6,
             "rgb(209,229,240)"
            ],
            [
             0.7,
             "rgb(146,197,222)"
            ],
            [
             0.8,
             "rgb(67,147,195)"
            ],
            [
             0.9,
             "rgb(33,102,172)"
            ],
            [
             1,
             "rgb(5,48,97)"
            ]
           ],
           "sequential": [
            [
             0,
             "#440154"
            ],
            [
             0.1111111111111111,
             "#482878"
            ],
            [
             0.2222222222222222,
             "#3e4989"
            ],
            [
             0.3333333333333333,
             "#31688e"
            ],
            [
             0.4444444444444444,
             "#26828e"
            ],
            [
             0.5555555555555556,
             "#1f9e89"
            ],
            [
             0.6666666666666666,
             "#35b779"
            ],
            [
             0.7777777777777778,
             "#6ece58"
            ],
            [
             0.8888888888888888,
             "#b5de2b"
            ],
            [
             1,
             "#fde725"
            ]
           ],
           "sequentialminus": [
            [
             0,
             "#440154"
            ],
            [
             0.1111111111111111,
             "#482878"
            ],
            [
             0.2222222222222222,
             "#3e4989"
            ],
            [
             0.3333333333333333,
             "#31688e"
            ],
            [
             0.4444444444444444,
             "#26828e"
            ],
            [
             0.5555555555555556,
             "#1f9e89"
            ],
            [
             0.6666666666666666,
             "#35b779"
            ],
            [
             0.7777777777777778,
             "#6ece58"
            ],
            [
             0.8888888888888888,
             "#b5de2b"
            ],
            [
             1,
             "#fde725"
            ]
           ]
          },
          "colorway": [
           "#1F77B4",
           "#FF7F0E",
           "#2CA02C",
           "#D62728",
           "#9467BD",
           "#8C564B",
           "#E377C2",
           "#7F7F7F",
           "#BCBD22",
           "#17BECF"
          ],
          "font": {
           "color": "rgb(36,36,36)"
          },
          "geo": {
           "bgcolor": "white",
           "lakecolor": "white",
           "landcolor": "white",
           "showlakes": true,
           "showland": true,
           "subunitcolor": "white"
          },
          "hoverlabel": {
           "align": "left"
          },
          "hovermode": "closest",
          "mapbox": {
           "style": "light"
          },
          "paper_bgcolor": "white",
          "plot_bgcolor": "white",
          "polar": {
           "angularaxis": {
            "gridcolor": "rgb(232,232,232)",
            "linecolor": "rgb(36,36,36)",
            "showgrid": false,
            "showline": true,
            "ticks": "outside"
           },
           "bgcolor": "white",
           "radialaxis": {
            "gridcolor": "rgb(232,232,232)",
            "linecolor": "rgb(36,36,36)",
            "showgrid": false,
            "showline": true,
            "ticks": "outside"
           }
          },
          "scene": {
           "xaxis": {
            "backgroundcolor": "white",
            "gridcolor": "rgb(232,232,232)",
            "gridwidth": 2,
            "linecolor": "rgb(36,36,36)",
            "showbackground": true,
            "showgrid": false,
            "showline": true,
            "ticks": "outside",
            "zeroline": false,
            "zerolinecolor": "rgb(36,36,36)"
           },
           "yaxis": {
            "backgroundcolor": "white",
            "gridcolor": "rgb(232,232,232)",
            "gridwidth": 2,
            "linecolor": "rgb(36,36,36)",
            "showbackground": true,
            "showgrid": false,
            "showline": true,
            "ticks": "outside",
            "zeroline": false,
            "zerolinecolor": "rgb(36,36,36)"
           },
           "zaxis": {
            "backgroundcolor": "white",
            "gridcolor": "rgb(232,232,232)",
            "gridwidth": 2,
            "linecolor": "rgb(36,36,36)",
            "showbackground": true,
            "showgrid": false,
            "showline": true,
            "ticks": "outside",
            "zeroline": false,
            "zerolinecolor": "rgb(36,36,36)"
           }
          },
          "shapedefaults": {
           "fillcolor": "black",
           "line": {
            "width": 0
           },
           "opacity": 0.3
          },
          "ternary": {
           "aaxis": {
            "gridcolor": "rgb(232,232,232)",
            "linecolor": "rgb(36,36,36)",
            "showgrid": false,
            "showline": true,
            "ticks": "outside"
           },
           "baxis": {
            "gridcolor": "rgb(232,232,232)",
            "linecolor": "rgb(36,36,36)",
            "showgrid": false,
            "showline": true,
            "ticks": "outside"
           },
           "bgcolor": "white",
           "caxis": {
            "gridcolor": "rgb(232,232,232)",
            "linecolor": "rgb(36,36,36)",
            "showgrid": false,
            "showline": true,
            "ticks": "outside"
           }
          },
          "title": {
           "x": 0.05
          },
          "xaxis": {
           "automargin": true,
           "gridcolor": "rgb(232,232,232)",
           "linecolor": "rgb(36,36,36)",
           "showgrid": false,
           "showline": true,
           "ticks": "outside",
           "title": {
            "standoff": 15
           },
           "zeroline": false,
           "zerolinecolor": "rgb(36,36,36)"
          },
          "yaxis": {
           "automargin": true,
           "gridcolor": "rgb(232,232,232)",
           "linecolor": "rgb(36,36,36)",
           "showgrid": false,
           "showline": true,
           "ticks": "outside",
           "title": {
            "standoff": 15
           },
           "zeroline": false,
           "zerolinecolor": "rgb(36,36,36)"
          }
         }
        },
        "width": 400,
        "xaxis": {
         "anchor": "y",
         "categoryarray": [
          "US",
          "GB",
          "NL",
          "DE",
          "CH",
          "AU",
          "CN",
          "BR",
          "DK",
          "JP"
         ],
         "categoryorder": "array",
         "domain": [
          0,
          1
         ],
         "tickangle": 35,
         "ticktext": [
          "US",
          "UK",
          "Netherlands",
          "Germany",
          "Switzerland",
          "Australia",
          "China",
          "Brazil",
          "Demark",
          "Japan"
         ],
         "tickvals": [
          "US",
          "GB",
          "NL",
          "DE",
          "CH",
          "AU",
          "CN",
          "BR",
          "DK",
          "JP"
         ],
         "title": {
          "standoff": 0,
          "text": "Journal country"
         }
        },
        "yaxis": {
         "anchor": "x",
         "domain": [
          0,
          1
         ],
         "minor": {
          "nticks": 5,
          "showgrid": true
         },
         "showgrid": true,
         "tickformat": ".0%",
         "title": {
          "standoff": 0,
          "text": "Average % within-country degrees"
         }
        }
       }
      }
     },
     "metadata": {},
     "output_type": "display_data"
    }
   ],
   "source": [
    "df = pd.read_csv(os.path.join(root, r\"intra-group/ctry_intra_group.csv\"))\n",
    "x='Field'\n",
    "y='% intra-group weighted degree'\n",
    "color_dict, order = get_palette(attr=\"ctry\")\n",
    "order=order[order!=\"Other\"]\n",
    "df = df[df[\"Field\"].isin(order)]\n",
    "base = df.groupby(x)[y].agg([lambda x: mean_confidence_interval(x)[0], lambda x: mean_confidence_interval(x)[1]]).reset_index()\n",
    "base.columns=[\"field\", \"mean\", \"ci\"]\n",
    "\n",
    "# bar chart\n",
    "base[\"color\"] = base[\"field\"].map(color_dict)\n",
    "\n",
    "# draw bar charts\n",
    "fig = px.bar(base,\n",
    "             x=\"field\",\n",
    "             y=\"mean\",\n",
    "             error_y=\"ci\")\n",
    "\n",
    "fig.update_traces(marker=dict(color=base[\"color\"]),\n",
    "                  textposition=\"outside\",\n",
    "                  hovertemplate=\"%{y:.2%}\",\n",
    "                  cliponaxis=False)\n",
    "\n",
    "fig.update_layout(height=300,\n",
    "                  width=400,\n",
    "                  template=\"simple_white\",\n",
    "                  font=dict(family=\"Arial\"),\n",
    "                  margin=dict(l=30, r=30, t=30, b=30),\n",
    "                  )\n",
    "\n",
    "fig.update_xaxes(categoryorder=\"array\",\n",
    "                 categoryarray=order,\n",
    "                 title=dict(text=\"Journal country\",\n",
    "                            standoff=0,\n",
    "                            ),\n",
    "                 tickangle=35,\n",
    "                 tickvals=order,\n",
    "                 ticktext=xticks,\n",
    "                 )\n",
    "\n",
    "fig.update_yaxes(showgrid=True,\n",
    "                 tickformat=\".0%\",\n",
    "                 minor=dict(nticks=5,\n",
    "                            showgrid=True),\n",
    "                 title=dict(text=\"Average % within-country degrees\",\n",
    "                            standoff=0.0),\n",
    "                 )\n",
    "fig.show()\n",
    "fig.write_image(os.path.join(graph_root, \"perc_within_ctry.pdf\"))"
   ]
  },
  {
   "cell_type": "markdown",
   "id": "be55c1dd",
   "metadata": {},
   "source": [
    "# Quartiles"
   ]
  },
  {
   "cell_type": "code",
   "execution_count": 10,
   "id": "390f8295",
   "metadata": {},
   "outputs": [],
   "source": [
    "xticks = [\"Q1\",\"Q2\",\"Q3\",\"Q4\"]"
   ]
  },
  {
   "cell_type": "code",
   "execution_count": 10,
   "id": "0d9a191c",
   "metadata": {},
   "outputs": [
    {
     "data": {
      "application/vnd.plotly.v1+json": {
       "config": {
        "plotlyServerURL": "https://plot.ly"
       },
       "data": [
        {
         "alignmentgroup": "True",
         "cliponaxis": false,
         "hovertemplate": "field=%{x}<br>Journals=%{y}<extra></extra>",
         "legendgroup": "",
         "marker": {
          "color": [
           "#4CD300",
           "#00ffff",
           "#9A05BF",
           "#F7A000"
          ],
          "pattern": {
           "shape": ""
          }
         },
         "name": "",
         "offsetgroup": "",
         "orientation": "v",
         "showlegend": false,
         "textposition": "outside",
         "texttemplate": "%{y}",
         "type": "bar",
         "x": [
          1,
          2,
          3,
          4
         ],
         "xaxis": "x",
         "y": [
          1860,
          1715,
          1425,
          821
         ],
         "yaxis": "y"
        }
       ],
       "layout": {
        "barmode": "relative",
        "font": {
         "family": "Arial"
        },
        "height": 350,
        "legend": {
         "tracegroupgap": 0
        },
        "margin": {
         "t": 60
        },
        "template": {
         "data": {
          "bar": [
           {
            "error_x": {
             "color": "rgb(36,36,36)"
            },
            "error_y": {
             "color": "rgb(36,36,36)"
            },
            "marker": {
             "line": {
              "color": "white",
              "width": 0.5
             },
             "pattern": {
              "fillmode": "overlay",
              "size": 10,
              "solidity": 0.2
             }
            },
            "type": "bar"
           }
          ],
          "barpolar": [
           {
            "marker": {
             "line": {
              "color": "white",
              "width": 0.5
             },
             "pattern": {
              "fillmode": "overlay",
              "size": 10,
              "solidity": 0.2
             }
            },
            "type": "barpolar"
           }
          ],
          "carpet": [
           {
            "aaxis": {
             "endlinecolor": "rgb(36,36,36)",
             "gridcolor": "white",
             "linecolor": "white",
             "minorgridcolor": "white",
             "startlinecolor": "rgb(36,36,36)"
            },
            "baxis": {
             "endlinecolor": "rgb(36,36,36)",
             "gridcolor": "white",
             "linecolor": "white",
             "minorgridcolor": "white",
             "startlinecolor": "rgb(36,36,36)"
            },
            "type": "carpet"
           }
          ],
          "choropleth": [
           {
            "colorbar": {
             "outlinewidth": 1,
             "tickcolor": "rgb(36,36,36)",
             "ticks": "outside"
            },
            "type": "choropleth"
           }
          ],
          "contour": [
           {
            "colorbar": {
             "outlinewidth": 1,
             "tickcolor": "rgb(36,36,36)",
             "ticks": "outside"
            },
            "colorscale": [
             [
              0,
              "#440154"
             ],
             [
              0.1111111111111111,
              "#482878"
             ],
             [
              0.2222222222222222,
              "#3e4989"
             ],
             [
              0.3333333333333333,
              "#31688e"
             ],
             [
              0.4444444444444444,
              "#26828e"
             ],
             [
              0.5555555555555556,
              "#1f9e89"
             ],
             [
              0.6666666666666666,
              "#35b779"
             ],
             [
              0.7777777777777778,
              "#6ece58"
             ],
             [
              0.8888888888888888,
              "#b5de2b"
             ],
             [
              1,
              "#fde725"
             ]
            ],
            "type": "contour"
           }
          ],
          "contourcarpet": [
           {
            "colorbar": {
             "outlinewidth": 1,
             "tickcolor": "rgb(36,36,36)",
             "ticks": "outside"
            },
            "type": "contourcarpet"
           }
          ],
          "heatmap": [
           {
            "colorbar": {
             "outlinewidth": 1,
             "tickcolor": "rgb(36,36,36)",
             "ticks": "outside"
            },
            "colorscale": [
             [
              0,
              "#440154"
             ],
             [
              0.1111111111111111,
              "#482878"
             ],
             [
              0.2222222222222222,
              "#3e4989"
             ],
             [
              0.3333333333333333,
              "#31688e"
             ],
             [
              0.4444444444444444,
              "#26828e"
             ],
             [
              0.5555555555555556,
              "#1f9e89"
             ],
             [
              0.6666666666666666,
              "#35b779"
             ],
             [
              0.7777777777777778,
              "#6ece58"
             ],
             [
              0.8888888888888888,
              "#b5de2b"
             ],
             [
              1,
              "#fde725"
             ]
            ],
            "type": "heatmap"
           }
          ],
          "heatmapgl": [
           {
            "colorbar": {
             "outlinewidth": 1,
             "tickcolor": "rgb(36,36,36)",
             "ticks": "outside"
            },
            "colorscale": [
             [
              0,
              "#440154"
             ],
             [
              0.1111111111111111,
              "#482878"
             ],
             [
              0.2222222222222222,
              "#3e4989"
             ],
             [
              0.3333333333333333,
              "#31688e"
             ],
             [
              0.4444444444444444,
              "#26828e"
             ],
             [
              0.5555555555555556,
              "#1f9e89"
             ],
             [
              0.6666666666666666,
              "#35b779"
             ],
             [
              0.7777777777777778,
              "#6ece58"
             ],
             [
              0.8888888888888888,
              "#b5de2b"
             ],
             [
              1,
              "#fde725"
             ]
            ],
            "type": "heatmapgl"
           }
          ],
          "histogram": [
           {
            "marker": {
             "line": {
              "color": "white",
              "width": 0.6
             }
            },
            "type": "histogram"
           }
          ],
          "histogram2d": [
           {
            "colorbar": {
             "outlinewidth": 1,
             "tickcolor": "rgb(36,36,36)",
             "ticks": "outside"
            },
            "colorscale": [
             [
              0,
              "#440154"
             ],
             [
              0.1111111111111111,
              "#482878"
             ],
             [
              0.2222222222222222,
              "#3e4989"
             ],
             [
              0.3333333333333333,
              "#31688e"
             ],
             [
              0.4444444444444444,
              "#26828e"
             ],
             [
              0.5555555555555556,
              "#1f9e89"
             ],
             [
              0.6666666666666666,
              "#35b779"
             ],
             [
              0.7777777777777778,
              "#6ece58"
             ],
             [
              0.8888888888888888,
              "#b5de2b"
             ],
             [
              1,
              "#fde725"
             ]
            ],
            "type": "histogram2d"
           }
          ],
          "histogram2dcontour": [
           {
            "colorbar": {
             "outlinewidth": 1,
             "tickcolor": "rgb(36,36,36)",
             "ticks": "outside"
            },
            "colorscale": [
             [
              0,
              "#440154"
             ],
             [
              0.1111111111111111,
              "#482878"
             ],
             [
              0.2222222222222222,
              "#3e4989"
             ],
             [
              0.3333333333333333,
              "#31688e"
             ],
             [
              0.4444444444444444,
              "#26828e"
             ],
             [
              0.5555555555555556,
              "#1f9e89"
             ],
             [
              0.6666666666666666,
              "#35b779"
             ],
             [
              0.7777777777777778,
              "#6ece58"
             ],
             [
              0.8888888888888888,
              "#b5de2b"
             ],
             [
              1,
              "#fde725"
             ]
            ],
            "type": "histogram2dcontour"
           }
          ],
          "mesh3d": [
           {
            "colorbar": {
             "outlinewidth": 1,
             "tickcolor": "rgb(36,36,36)",
             "ticks": "outside"
            },
            "type": "mesh3d"
           }
          ],
          "parcoords": [
           {
            "line": {
             "colorbar": {
              "outlinewidth": 1,
              "tickcolor": "rgb(36,36,36)",
              "ticks": "outside"
             }
            },
            "type": "parcoords"
           }
          ],
          "pie": [
           {
            "automargin": true,
            "type": "pie"
           }
          ],
          "scatter": [
           {
            "fillpattern": {
             "fillmode": "overlay",
             "size": 10,
             "solidity": 0.2
            },
            "type": "scatter"
           }
          ],
          "scatter3d": [
           {
            "line": {
             "colorbar": {
              "outlinewidth": 1,
              "tickcolor": "rgb(36,36,36)",
              "ticks": "outside"
             }
            },
            "marker": {
             "colorbar": {
              "outlinewidth": 1,
              "tickcolor": "rgb(36,36,36)",
              "ticks": "outside"
             }
            },
            "type": "scatter3d"
           }
          ],
          "scattercarpet": [
           {
            "marker": {
             "colorbar": {
              "outlinewidth": 1,
              "tickcolor": "rgb(36,36,36)",
              "ticks": "outside"
             }
            },
            "type": "scattercarpet"
           }
          ],
          "scattergeo": [
           {
            "marker": {
             "colorbar": {
              "outlinewidth": 1,
              "tickcolor": "rgb(36,36,36)",
              "ticks": "outside"
             }
            },
            "type": "scattergeo"
           }
          ],
          "scattergl": [
           {
            "marker": {
             "colorbar": {
              "outlinewidth": 1,
              "tickcolor": "rgb(36,36,36)",
              "ticks": "outside"
             }
            },
            "type": "scattergl"
           }
          ],
          "scattermapbox": [
           {
            "marker": {
             "colorbar": {
              "outlinewidth": 1,
              "tickcolor": "rgb(36,36,36)",
              "ticks": "outside"
             }
            },
            "type": "scattermapbox"
           }
          ],
          "scatterpolar": [
           {
            "marker": {
             "colorbar": {
              "outlinewidth": 1,
              "tickcolor": "rgb(36,36,36)",
              "ticks": "outside"
             }
            },
            "type": "scatterpolar"
           }
          ],
          "scatterpolargl": [
           {
            "marker": {
             "colorbar": {
              "outlinewidth": 1,
              "tickcolor": "rgb(36,36,36)",
              "ticks": "outside"
             }
            },
            "type": "scatterpolargl"
           }
          ],
          "scatterternary": [
           {
            "marker": {
             "colorbar": {
              "outlinewidth": 1,
              "tickcolor": "rgb(36,36,36)",
              "ticks": "outside"
             }
            },
            "type": "scatterternary"
           }
          ],
          "surface": [
           {
            "colorbar": {
             "outlinewidth": 1,
             "tickcolor": "rgb(36,36,36)",
             "ticks": "outside"
            },
            "colorscale": [
             [
              0,
              "#440154"
             ],
             [
              0.1111111111111111,
              "#482878"
             ],
             [
              0.2222222222222222,
              "#3e4989"
             ],
             [
              0.3333333333333333,
              "#31688e"
             ],
             [
              0.4444444444444444,
              "#26828e"
             ],
             [
              0.5555555555555556,
              "#1f9e89"
             ],
             [
              0.6666666666666666,
              "#35b779"
             ],
             [
              0.7777777777777778,
              "#6ece58"
             ],
             [
              0.8888888888888888,
              "#b5de2b"
             ],
             [
              1,
              "#fde725"
             ]
            ],
            "type": "surface"
           }
          ],
          "table": [
           {
            "cells": {
             "fill": {
              "color": "rgb(237,237,237)"
             },
             "line": {
              "color": "white"
             }
            },
            "header": {
             "fill": {
              "color": "rgb(217,217,217)"
             },
             "line": {
              "color": "white"
             }
            },
            "type": "table"
           }
          ]
         },
         "layout": {
          "annotationdefaults": {
           "arrowhead": 0,
           "arrowwidth": 1
          },
          "autotypenumbers": "strict",
          "coloraxis": {
           "colorbar": {
            "outlinewidth": 1,
            "tickcolor": "rgb(36,36,36)",
            "ticks": "outside"
           }
          },
          "colorscale": {
           "diverging": [
            [
             0,
             "rgb(103,0,31)"
            ],
            [
             0.1,
             "rgb(178,24,43)"
            ],
            [
             0.2,
             "rgb(214,96,77)"
            ],
            [
             0.3,
             "rgb(244,165,130)"
            ],
            [
             0.4,
             "rgb(253,219,199)"
            ],
            [
             0.5,
             "rgb(247,247,247)"
            ],
            [
             0.6,
             "rgb(209,229,240)"
            ],
            [
             0.7,
             "rgb(146,197,222)"
            ],
            [
             0.8,
             "rgb(67,147,195)"
            ],
            [
             0.9,
             "rgb(33,102,172)"
            ],
            [
             1,
             "rgb(5,48,97)"
            ]
           ],
           "sequential": [
            [
             0,
             "#440154"
            ],
            [
             0.1111111111111111,
             "#482878"
            ],
            [
             0.2222222222222222,
             "#3e4989"
            ],
            [
             0.3333333333333333,
             "#31688e"
            ],
            [
             0.4444444444444444,
             "#26828e"
            ],
            [
             0.5555555555555556,
             "#1f9e89"
            ],
            [
             0.6666666666666666,
             "#35b779"
            ],
            [
             0.7777777777777778,
             "#6ece58"
            ],
            [
             0.8888888888888888,
             "#b5de2b"
            ],
            [
             1,
             "#fde725"
            ]
           ],
           "sequentialminus": [
            [
             0,
             "#440154"
            ],
            [
             0.1111111111111111,
             "#482878"
            ],
            [
             0.2222222222222222,
             "#3e4989"
            ],
            [
             0.3333333333333333,
             "#31688e"
            ],
            [
             0.4444444444444444,
             "#26828e"
            ],
            [
             0.5555555555555556,
             "#1f9e89"
            ],
            [
             0.6666666666666666,
             "#35b779"
            ],
            [
             0.7777777777777778,
             "#6ece58"
            ],
            [
             0.8888888888888888,
             "#b5de2b"
            ],
            [
             1,
             "#fde725"
            ]
           ]
          },
          "colorway": [
           "#1F77B4",
           "#FF7F0E",
           "#2CA02C",
           "#D62728",
           "#9467BD",
           "#8C564B",
           "#E377C2",
           "#7F7F7F",
           "#BCBD22",
           "#17BECF"
          ],
          "font": {
           "color": "rgb(36,36,36)"
          },
          "geo": {
           "bgcolor": "white",
           "lakecolor": "white",
           "landcolor": "white",
           "showlakes": true,
           "showland": true,
           "subunitcolor": "white"
          },
          "hoverlabel": {
           "align": "left"
          },
          "hovermode": "closest",
          "mapbox": {
           "style": "light"
          },
          "paper_bgcolor": "white",
          "plot_bgcolor": "white",
          "polar": {
           "angularaxis": {
            "gridcolor": "rgb(232,232,232)",
            "linecolor": "rgb(36,36,36)",
            "showgrid": false,
            "showline": true,
            "ticks": "outside"
           },
           "bgcolor": "white",
           "radialaxis": {
            "gridcolor": "rgb(232,232,232)",
            "linecolor": "rgb(36,36,36)",
            "showgrid": false,
            "showline": true,
            "ticks": "outside"
           }
          },
          "scene": {
           "xaxis": {
            "backgroundcolor": "white",
            "gridcolor": "rgb(232,232,232)",
            "gridwidth": 2,
            "linecolor": "rgb(36,36,36)",
            "showbackground": true,
            "showgrid": false,
            "showline": true,
            "ticks": "outside",
            "zeroline": false,
            "zerolinecolor": "rgb(36,36,36)"
           },
           "yaxis": {
            "backgroundcolor": "white",
            "gridcolor": "rgb(232,232,232)",
            "gridwidth": 2,
            "linecolor": "rgb(36,36,36)",
            "showbackground": true,
            "showgrid": false,
            "showline": true,
            "ticks": "outside",
            "zeroline": false,
            "zerolinecolor": "rgb(36,36,36)"
           },
           "zaxis": {
            "backgroundcolor": "white",
            "gridcolor": "rgb(232,232,232)",
            "gridwidth": 2,
            "linecolor": "rgb(36,36,36)",
            "showbackground": true,
            "showgrid": false,
            "showline": true,
            "ticks": "outside",
            "zeroline": false,
            "zerolinecolor": "rgb(36,36,36)"
           }
          },
          "shapedefaults": {
           "fillcolor": "black",
           "line": {
            "width": 0
           },
           "opacity": 0.3
          },
          "ternary": {
           "aaxis": {
            "gridcolor": "rgb(232,232,232)",
            "linecolor": "rgb(36,36,36)",
            "showgrid": false,
            "showline": true,
            "ticks": "outside"
           },
           "baxis": {
            "gridcolor": "rgb(232,232,232)",
            "linecolor": "rgb(36,36,36)",
            "showgrid": false,
            "showline": true,
            "ticks": "outside"
           },
           "bgcolor": "white",
           "caxis": {
            "gridcolor": "rgb(232,232,232)",
            "linecolor": "rgb(36,36,36)",
            "showgrid": false,
            "showline": true,
            "ticks": "outside"
           }
          },
          "title": {
           "x": 0.05
          },
          "xaxis": {
           "automargin": true,
           "gridcolor": "rgb(232,232,232)",
           "linecolor": "rgb(36,36,36)",
           "showgrid": false,
           "showline": true,
           "ticks": "outside",
           "title": {
            "standoff": 15
           },
           "zeroline": false,
           "zerolinecolor": "rgb(36,36,36)"
          },
          "yaxis": {
           "automargin": true,
           "gridcolor": "rgb(232,232,232)",
           "linecolor": "rgb(36,36,36)",
           "showgrid": false,
           "showline": true,
           "ticks": "outside",
           "title": {
            "standoff": 15
           },
           "zeroline": false,
           "zerolinecolor": "rgb(36,36,36)"
          }
         }
        },
        "width": 270,
        "xaxis": {
         "anchor": "y",
         "categoryarray": [
          1,
          2,
          3,
          4
         ],
         "categoryorder": "array",
         "domain": [
          0,
          1
         ],
         "tickangle": 35,
         "ticktext": [
          "Q1",
          "Q2",
          "Q3",
          "Q4"
         ],
         "tickvals": [
          1,
          2,
          3,
          4
         ],
         "title": {
          "standoff": 0,
          "text": "JIF rank"
         }
        },
        "yaxis": {
         "anchor": "x",
         "domain": [
          0,
          1
         ],
         "minor": {
          "nticks": 5,
          "showgrid": true
         },
         "showgrid": true,
         "title": {
          "standoff": 0,
          "text": "# journals"
         }
        }
       }
      }
     },
     "metadata": {},
     "output_type": "display_data"
    }
   ],
   "source": [
    "df = pd.read_excel(os.path.join(root, r\"table_in_doc.xlsx\"), sheet_name=2)\n",
    "x = 'field'\n",
    "y = 'Journals'\n",
    "ylim = None\n",
    "title = \"# journals\"\n",
    "color_dict, order = get_palette(attr=\"new_quartile\")\n",
    "order = order[order != \"Other\"]\n",
    "df[\"color\"] = df[x].map(color_dict)\n",
    "\n",
    "# count journals\n",
    "# draw bar charts\n",
    "fig = px.bar(df,\n",
    "             x=x,\n",
    "             y=y,\n",
    "             text_auto=True)\n",
    "\n",
    "fig.update_traces(marker=dict(color=df[\"color\"]),\n",
    "                  textposition=\"outside\",\n",
    "                  cliponaxis=False)\n",
    "\n",
    "fig.update_layout(height=350,\n",
    "                  width=270,\n",
    "                  template=\"simple_white\",\n",
    "                  font=dict(family=\"Arial\"))\n",
    "\n",
    "fig.update_xaxes(categoryorder=\"array\",\n",
    "                 categoryarray=order,\n",
    "                 title=dict(text=\"JIF rank\",\n",
    "                            standoff=0.0,\n",
    "                            ),\n",
    "                 tickangle=35,\n",
    "                 tickvals=order,\n",
    "                 ticktext=xticks,\n",
    "                 )\n",
    "\n",
    "fig.update_yaxes(showgrid=True,\n",
    "                 minor=dict(nticks=5,\n",
    "                            showgrid=True),\n",
    "                 title=dict(text=\"# journals\",\n",
    "                            standoff=0.0),\n",
    "                 )\n",
    "fig.show()\n",
    "fig.write_image(os.path.join(graph_root, \"no_journ_q.pdf\"))\n"
   ]
  },
  {
   "cell_type": "code",
   "execution_count": 12,
   "id": "a505116f",
   "metadata": {},
   "outputs": [
    {
     "data": {
      "application/vnd.plotly.v1+json": {
       "config": {
        "plotlyServerURL": "https://plot.ly"
       },
       "data": [
        {
         "marker": {
          "color": [
           "#4CD300",
           "#00ffff",
           "#9A05BF",
           "#F7A000"
          ]
         },
         "name": "Reviewer",
         "opacity": 0.6,
         "type": "bar",
         "x": [
          1,
          2,
          3,
          4
         ],
         "y": [
          223773,
          207556,
          164819,
          81564
         ]
        },
        {
         "marker": {
          "color": [
           "#4CD300",
           "#00ffff",
           "#9A05BF",
           "#F7A000"
          ],
          "pattern": {
           "shape": "/"
          }
         },
         "name": "Rank-specific reviewer",
         "type": "bar",
         "x": [
          1,
          2,
          3,
          4
         ],
         "y": [
          111236,
          93114,
          72625,
          35533
         ]
        },
        {
         "line": {
          "color": "black"
         },
         "marker": {
          "symbol": "diamond"
         },
         "name": "%",
         "type": "scatter",
         "x": [
          1,
          2,
          3,
          4
         ],
         "xaxis": "x",
         "y": [
          0.49709304000000004,
          0.4486211,
          0.44063488,
          0.43564563
         ],
         "yaxis": "y2"
        }
       ],
       "layout": {
        "barmode": "overlay",
        "font": {
         "family": "Arial"
        },
        "height": 350,
        "legend": {
         "bgcolor": "rgba(0,0,0,0)",
         "x": 0.6,
         "xanchor": "center",
         "y": 1.1,
         "yanchor": "middle"
        },
        "margin": {
         "t": 30
        },
        "template": {
         "data": {
          "bar": [
           {
            "error_x": {
             "color": "rgb(36,36,36)"
            },
            "error_y": {
             "color": "rgb(36,36,36)"
            },
            "marker": {
             "line": {
              "color": "white",
              "width": 0.5
             },
             "pattern": {
              "fillmode": "overlay",
              "size": 10,
              "solidity": 0.2
             }
            },
            "type": "bar"
           }
          ],
          "barpolar": [
           {
            "marker": {
             "line": {
              "color": "white",
              "width": 0.5
             },
             "pattern": {
              "fillmode": "overlay",
              "size": 10,
              "solidity": 0.2
             }
            },
            "type": "barpolar"
           }
          ],
          "carpet": [
           {
            "aaxis": {
             "endlinecolor": "rgb(36,36,36)",
             "gridcolor": "white",
             "linecolor": "white",
             "minorgridcolor": "white",
             "startlinecolor": "rgb(36,36,36)"
            },
            "baxis": {
             "endlinecolor": "rgb(36,36,36)",
             "gridcolor": "white",
             "linecolor": "white",
             "minorgridcolor": "white",
             "startlinecolor": "rgb(36,36,36)"
            },
            "type": "carpet"
           }
          ],
          "choropleth": [
           {
            "colorbar": {
             "outlinewidth": 1,
             "tickcolor": "rgb(36,36,36)",
             "ticks": "outside"
            },
            "type": "choropleth"
           }
          ],
          "contour": [
           {
            "colorbar": {
             "outlinewidth": 1,
             "tickcolor": "rgb(36,36,36)",
             "ticks": "outside"
            },
            "colorscale": [
             [
              0,
              "#440154"
             ],
             [
              0.1111111111111111,
              "#482878"
             ],
             [
              0.2222222222222222,
              "#3e4989"
             ],
             [
              0.3333333333333333,
              "#31688e"
             ],
             [
              0.4444444444444444,
              "#26828e"
             ],
             [
              0.5555555555555556,
              "#1f9e89"
             ],
             [
              0.6666666666666666,
              "#35b779"
             ],
             [
              0.7777777777777778,
              "#6ece58"
             ],
             [
              0.8888888888888888,
              "#b5de2b"
             ],
             [
              1,
              "#fde725"
             ]
            ],
            "type": "contour"
           }
          ],
          "contourcarpet": [
           {
            "colorbar": {
             "outlinewidth": 1,
             "tickcolor": "rgb(36,36,36)",
             "ticks": "outside"
            },
            "type": "contourcarpet"
           }
          ],
          "heatmap": [
           {
            "colorbar": {
             "outlinewidth": 1,
             "tickcolor": "rgb(36,36,36)",
             "ticks": "outside"
            },
            "colorscale": [
             [
              0,
              "#440154"
             ],
             [
              0.1111111111111111,
              "#482878"
             ],
             [
              0.2222222222222222,
              "#3e4989"
             ],
             [
              0.3333333333333333,
              "#31688e"
             ],
             [
              0.4444444444444444,
              "#26828e"
             ],
             [
              0.5555555555555556,
              "#1f9e89"
             ],
             [
              0.6666666666666666,
              "#35b779"
             ],
             [
              0.7777777777777778,
              "#6ece58"
             ],
             [
              0.8888888888888888,
              "#b5de2b"
             ],
             [
              1,
              "#fde725"
             ]
            ],
            "type": "heatmap"
           }
          ],
          "heatmapgl": [
           {
            "colorbar": {
             "outlinewidth": 1,
             "tickcolor": "rgb(36,36,36)",
             "ticks": "outside"
            },
            "colorscale": [
             [
              0,
              "#440154"
             ],
             [
              0.1111111111111111,
              "#482878"
             ],
             [
              0.2222222222222222,
              "#3e4989"
             ],
             [
              0.3333333333333333,
              "#31688e"
             ],
             [
              0.4444444444444444,
              "#26828e"
             ],
             [
              0.5555555555555556,
              "#1f9e89"
             ],
             [
              0.6666666666666666,
              "#35b779"
             ],
             [
              0.7777777777777778,
              "#6ece58"
             ],
             [
              0.8888888888888888,
              "#b5de2b"
             ],
             [
              1,
              "#fde725"
             ]
            ],
            "type": "heatmapgl"
           }
          ],
          "histogram": [
           {
            "marker": {
             "line": {
              "color": "white",
              "width": 0.6
             }
            },
            "type": "histogram"
           }
          ],
          "histogram2d": [
           {
            "colorbar": {
             "outlinewidth": 1,
             "tickcolor": "rgb(36,36,36)",
             "ticks": "outside"
            },
            "colorscale": [
             [
              0,
              "#440154"
             ],
             [
              0.1111111111111111,
              "#482878"
             ],
             [
              0.2222222222222222,
              "#3e4989"
             ],
             [
              0.3333333333333333,
              "#31688e"
             ],
             [
              0.4444444444444444,
              "#26828e"
             ],
             [
              0.5555555555555556,
              "#1f9e89"
             ],
             [
              0.6666666666666666,
              "#35b779"
             ],
             [
              0.7777777777777778,
              "#6ece58"
             ],
             [
              0.8888888888888888,
              "#b5de2b"
             ],
             [
              1,
              "#fde725"
             ]
            ],
            "type": "histogram2d"
           }
          ],
          "histogram2dcontour": [
           {
            "colorbar": {
             "outlinewidth": 1,
             "tickcolor": "rgb(36,36,36)",
             "ticks": "outside"
            },
            "colorscale": [
             [
              0,
              "#440154"
             ],
             [
              0.1111111111111111,
              "#482878"
             ],
             [
              0.2222222222222222,
              "#3e4989"
             ],
             [
              0.3333333333333333,
              "#31688e"
             ],
             [
              0.4444444444444444,
              "#26828e"
             ],
             [
              0.5555555555555556,
              "#1f9e89"
             ],
             [
              0.6666666666666666,
              "#35b779"
             ],
             [
              0.7777777777777778,
              "#6ece58"
             ],
             [
              0.8888888888888888,
              "#b5de2b"
             ],
             [
              1,
              "#fde725"
             ]
            ],
            "type": "histogram2dcontour"
           }
          ],
          "mesh3d": [
           {
            "colorbar": {
             "outlinewidth": 1,
             "tickcolor": "rgb(36,36,36)",
             "ticks": "outside"
            },
            "type": "mesh3d"
           }
          ],
          "parcoords": [
           {
            "line": {
             "colorbar": {
              "outlinewidth": 1,
              "tickcolor": "rgb(36,36,36)",
              "ticks": "outside"
             }
            },
            "type": "parcoords"
           }
          ],
          "pie": [
           {
            "automargin": true,
            "type": "pie"
           }
          ],
          "scatter": [
           {
            "fillpattern": {
             "fillmode": "overlay",
             "size": 10,
             "solidity": 0.2
            },
            "type": "scatter"
           }
          ],
          "scatter3d": [
           {
            "line": {
             "colorbar": {
              "outlinewidth": 1,
              "tickcolor": "rgb(36,36,36)",
              "ticks": "outside"
             }
            },
            "marker": {
             "colorbar": {
              "outlinewidth": 1,
              "tickcolor": "rgb(36,36,36)",
              "ticks": "outside"
             }
            },
            "type": "scatter3d"
           }
          ],
          "scattercarpet": [
           {
            "marker": {
             "colorbar": {
              "outlinewidth": 1,
              "tickcolor": "rgb(36,36,36)",
              "ticks": "outside"
             }
            },
            "type": "scattercarpet"
           }
          ],
          "scattergeo": [
           {
            "marker": {
             "colorbar": {
              "outlinewidth": 1,
              "tickcolor": "rgb(36,36,36)",
              "ticks": "outside"
             }
            },
            "type": "scattergeo"
           }
          ],
          "scattergl": [
           {
            "marker": {
             "colorbar": {
              "outlinewidth": 1,
              "tickcolor": "rgb(36,36,36)",
              "ticks": "outside"
             }
            },
            "type": "scattergl"
           }
          ],
          "scattermapbox": [
           {
            "marker": {
             "colorbar": {
              "outlinewidth": 1,
              "tickcolor": "rgb(36,36,36)",
              "ticks": "outside"
             }
            },
            "type": "scattermapbox"
           }
          ],
          "scatterpolar": [
           {
            "marker": {
             "colorbar": {
              "outlinewidth": 1,
              "tickcolor": "rgb(36,36,36)",
              "ticks": "outside"
             }
            },
            "type": "scatterpolar"
           }
          ],
          "scatterpolargl": [
           {
            "marker": {
             "colorbar": {
              "outlinewidth": 1,
              "tickcolor": "rgb(36,36,36)",
              "ticks": "outside"
             }
            },
            "type": "scatterpolargl"
           }
          ],
          "scatterternary": [
           {
            "marker": {
             "colorbar": {
              "outlinewidth": 1,
              "tickcolor": "rgb(36,36,36)",
              "ticks": "outside"
             }
            },
            "type": "scatterternary"
           }
          ],
          "surface": [
           {
            "colorbar": {
             "outlinewidth": 1,
             "tickcolor": "rgb(36,36,36)",
             "ticks": "outside"
            },
            "colorscale": [
             [
              0,
              "#440154"
             ],
             [
              0.1111111111111111,
              "#482878"
             ],
             [
              0.2222222222222222,
              "#3e4989"
             ],
             [
              0.3333333333333333,
              "#31688e"
             ],
             [
              0.4444444444444444,
              "#26828e"
             ],
             [
              0.5555555555555556,
              "#1f9e89"
             ],
             [
              0.6666666666666666,
              "#35b779"
             ],
             [
              0.7777777777777778,
              "#6ece58"
             ],
             [
              0.8888888888888888,
              "#b5de2b"
             ],
             [
              1,
              "#fde725"
             ]
            ],
            "type": "surface"
           }
          ],
          "table": [
           {
            "cells": {
             "fill": {
              "color": "rgb(237,237,237)"
             },
             "line": {
              "color": "white"
             }
            },
            "header": {
             "fill": {
              "color": "rgb(217,217,217)"
             },
             "line": {
              "color": "white"
             }
            },
            "type": "table"
           }
          ]
         },
         "layout": {
          "annotationdefaults": {
           "arrowhead": 0,
           "arrowwidth": 1
          },
          "autotypenumbers": "strict",
          "coloraxis": {
           "colorbar": {
            "outlinewidth": 1,
            "tickcolor": "rgb(36,36,36)",
            "ticks": "outside"
           }
          },
          "colorscale": {
           "diverging": [
            [
             0,
             "rgb(103,0,31)"
            ],
            [
             0.1,
             "rgb(178,24,43)"
            ],
            [
             0.2,
             "rgb(214,96,77)"
            ],
            [
             0.3,
             "rgb(244,165,130)"
            ],
            [
             0.4,
             "rgb(253,219,199)"
            ],
            [
             0.5,
             "rgb(247,247,247)"
            ],
            [
             0.6,
             "rgb(209,229,240)"
            ],
            [
             0.7,
             "rgb(146,197,222)"
            ],
            [
             0.8,
             "rgb(67,147,195)"
            ],
            [
             0.9,
             "rgb(33,102,172)"
            ],
            [
             1,
             "rgb(5,48,97)"
            ]
           ],
           "sequential": [
            [
             0,
             "#440154"
            ],
            [
             0.1111111111111111,
             "#482878"
            ],
            [
             0.2222222222222222,
             "#3e4989"
            ],
            [
             0.3333333333333333,
             "#31688e"
            ],
            [
             0.4444444444444444,
             "#26828e"
            ],
            [
             0.5555555555555556,
             "#1f9e89"
            ],
            [
             0.6666666666666666,
             "#35b779"
            ],
            [
             0.7777777777777778,
             "#6ece58"
            ],
            [
             0.8888888888888888,
             "#b5de2b"
            ],
            [
             1,
             "#fde725"
            ]
           ],
           "sequentialminus": [
            [
             0,
             "#440154"
            ],
            [
             0.1111111111111111,
             "#482878"
            ],
            [
             0.2222222222222222,
             "#3e4989"
            ],
            [
             0.3333333333333333,
             "#31688e"
            ],
            [
             0.4444444444444444,
             "#26828e"
            ],
            [
             0.5555555555555556,
             "#1f9e89"
            ],
            [
             0.6666666666666666,
             "#35b779"
            ],
            [
             0.7777777777777778,
             "#6ece58"
            ],
            [
             0.8888888888888888,
             "#b5de2b"
            ],
            [
             1,
             "#fde725"
            ]
           ]
          },
          "colorway": [
           "#1F77B4",
           "#FF7F0E",
           "#2CA02C",
           "#D62728",
           "#9467BD",
           "#8C564B",
           "#E377C2",
           "#7F7F7F",
           "#BCBD22",
           "#17BECF"
          ],
          "font": {
           "color": "rgb(36,36,36)"
          },
          "geo": {
           "bgcolor": "white",
           "lakecolor": "white",
           "landcolor": "white",
           "showlakes": true,
           "showland": true,
           "subunitcolor": "white"
          },
          "hoverlabel": {
           "align": "left"
          },
          "hovermode": "closest",
          "mapbox": {
           "style": "light"
          },
          "paper_bgcolor": "white",
          "plot_bgcolor": "white",
          "polar": {
           "angularaxis": {
            "gridcolor": "rgb(232,232,232)",
            "linecolor": "rgb(36,36,36)",
            "showgrid": false,
            "showline": true,
            "ticks": "outside"
           },
           "bgcolor": "white",
           "radialaxis": {
            "gridcolor": "rgb(232,232,232)",
            "linecolor": "rgb(36,36,36)",
            "showgrid": false,
            "showline": true,
            "ticks": "outside"
           }
          },
          "scene": {
           "xaxis": {
            "backgroundcolor": "white",
            "gridcolor": "rgb(232,232,232)",
            "gridwidth": 2,
            "linecolor": "rgb(36,36,36)",
            "showbackground": true,
            "showgrid": false,
            "showline": true,
            "ticks": "outside",
            "zeroline": false,
            "zerolinecolor": "rgb(36,36,36)"
           },
           "yaxis": {
            "backgroundcolor": "white",
            "gridcolor": "rgb(232,232,232)",
            "gridwidth": 2,
            "linecolor": "rgb(36,36,36)",
            "showbackground": true,
            "showgrid": false,
            "showline": true,
            "ticks": "outside",
            "zeroline": false,
            "zerolinecolor": "rgb(36,36,36)"
           },
           "zaxis": {
            "backgroundcolor": "white",
            "gridcolor": "rgb(232,232,232)",
            "gridwidth": 2,
            "linecolor": "rgb(36,36,36)",
            "showbackground": true,
            "showgrid": false,
            "showline": true,
            "ticks": "outside",
            "zeroline": false,
            "zerolinecolor": "rgb(36,36,36)"
           }
          },
          "shapedefaults": {
           "fillcolor": "black",
           "line": {
            "width": 0
           },
           "opacity": 0.3
          },
          "ternary": {
           "aaxis": {
            "gridcolor": "rgb(232,232,232)",
            "linecolor": "rgb(36,36,36)",
            "showgrid": false,
            "showline": true,
            "ticks": "outside"
           },
           "baxis": {
            "gridcolor": "rgb(232,232,232)",
            "linecolor": "rgb(36,36,36)",
            "showgrid": false,
            "showline": true,
            "ticks": "outside"
           },
           "bgcolor": "white",
           "caxis": {
            "gridcolor": "rgb(232,232,232)",
            "linecolor": "rgb(36,36,36)",
            "showgrid": false,
            "showline": true,
            "ticks": "outside"
           }
          },
          "title": {
           "x": 0.05
          },
          "xaxis": {
           "automargin": true,
           "gridcolor": "rgb(232,232,232)",
           "linecolor": "rgb(36,36,36)",
           "showgrid": false,
           "showline": true,
           "ticks": "outside",
           "title": {
            "standoff": 15
           },
           "zeroline": false,
           "zerolinecolor": "rgb(36,36,36)"
          },
          "yaxis": {
           "automargin": true,
           "gridcolor": "rgb(232,232,232)",
           "linecolor": "rgb(36,36,36)",
           "showgrid": false,
           "showline": true,
           "ticks": "outside",
           "title": {
            "standoff": 15
           },
           "zeroline": false,
           "zerolinecolor": "rgb(36,36,36)"
          }
         }
        },
        "width": 270,
        "xaxis": {
         "anchor": "y",
         "categoryarray": [
          1,
          2,
          3,
          4
         ],
         "categoryorder": "array",
         "domain": [
          0,
          0.94
         ],
         "tickangle": 35,
         "ticktext": [
          "Q1",
          "Q2",
          "Q3",
          "Q4"
         ],
         "tickvals": [
          1,
          2,
          3,
          4
         ],
         "title": {
          "standoff": 0,
          "text": "JIF rank"
         }
        },
        "yaxis": {
         "anchor": "x",
         "domain": [
          0,
          1
         ],
         "dtick": 50000,
         "minor": {
          "nticks": 4,
          "showgrid": true
         },
         "range": [
          0,
          250000
         ],
         "showgrid": true,
         "title": {
          "standoff": 0,
          "text": "# reviewers"
         }
        },
        "yaxis2": {
         "anchor": "x",
         "dtick": 0.2,
         "minor": {
          "nticks": 4,
          "showgrid": false
         },
         "overlaying": "y",
         "range": [
          0,
          1
         ],
         "showgrid": false,
         "side": "right",
         "tickformat": ".0%",
         "title": {
          "standoff": 0,
          "text": "% rank-specific reviewers"
         }
        }
       }
      }
     },
     "metadata": {},
     "output_type": "display_data"
    }
   ],
   "source": [
    "# count total and exclusive reviewers\n",
    "\n",
    "df = pd.read_excel(os.path.join(root, r\"table_in_doc.xlsx\"), sheet_name=2)\n",
    "df[\"Perc. of group-exclusive reviewers\"] = df[\"Perc. of group-exclusive reviewers\"]/100\n",
    "color_dict, order = get_palette(attr=\"new_quartile\")\n",
    "df[\"color\"] = df[\"field\"].map(color_dict)\n",
    "\n",
    "# draw bar charts\n",
    "fig = make_subplots(specs=[[{\"secondary_y\": True}]])\n",
    "fig.add_trace(go.Bar(x=df[\"field\"],\n",
    "                     y=df[\"Reviewers\"],\n",
    "                     name=\"Reviewer\",\n",
    "                     opacity=0.6,\n",
    "                     marker=dict(color=df[\"color\"])),\n",
    "              )\n",
    "\n",
    "fig.add_trace(go.Bar(x=df[\"field\"],\n",
    "                     y=df[\"Group-exclusive reviewers\"],\n",
    "                     name=\"Rank-specific reviewer\",\n",
    "                     marker=dict(color=df[\"color\"],\n",
    "                                 pattern=dict(shape=\"/\"),)),\n",
    "              )\n",
    "\n",
    "fig.add_trace(go.Scatter(x=df[\"field\"],\n",
    "                         y=df[\"Perc. of group-exclusive reviewers\"],\n",
    "                         name=\"%\",\n",
    "                         line=dict(color=\"black\"),\n",
    "                         marker=dict(symbol='diamond'),\n",
    "                         ),\n",
    "              secondary_y=True,\n",
    "              )\n",
    "\n",
    "fig.update_layout(height=350,\n",
    "                  width=270,\n",
    "                  template=\"simple_white\",\n",
    "                  font=dict(family=\"Arial\"),\n",
    "                  legend=dict(yanchor=\"middle\",\n",
    "                              y=1.1,\n",
    "                              xanchor=\"center\",\n",
    "                              x=0.60,\n",
    "                              bgcolor='rgba(0,0,0,0)'),\n",
    "                  barmode='overlay',\n",
    "                  margin=dict(t=30)\n",
    "                  )\n",
    "\n",
    "fig.update_xaxes(categoryorder=\"array\",\n",
    "                 categoryarray=order,\n",
    "                 title=dict(text=\"JIF rank\",\n",
    "                            standoff=0.0,\n",
    "                            ),\n",
    "                 tickangle=35,\n",
    "                 tickvals=order,\n",
    "                 ticktext=xticks,\n",
    "                 )\n",
    "\n",
    "fig.update_yaxes(showgrid=True,\n",
    "                 range=(0, 250000),\n",
    "                 dtick=250000/5,\n",
    "                 minor=dict(nticks=4,\n",
    "                            showgrid=True),\n",
    "                 title=dict(text=\"# reviewers\",\n",
    "                            standoff=0.0),\n",
    "                 )\n",
    "\n",
    "fig.update_yaxes(showgrid=False,\n",
    "                 range=(0, 1),\n",
    "                 dtick=1/5,\n",
    "                 tickformat=\".0%\",\n",
    "                 minor=dict(nticks=4,\n",
    "                            showgrid=False),\n",
    "                 title=dict(text=\"% rank-specific reviewers\",\n",
    "                            standoff=0.0),\n",
    "                 secondary_y=True\n",
    "                 )\n",
    "fig.show()\n",
    "fig.write_image(os.path.join(graph_root, \"no_rev_q.pdf\"))"
   ]
  },
  {
   "cell_type": "code",
   "execution_count": 5,
   "id": "9812a5e0",
   "metadata": {},
   "outputs": [
    {
     "data": {
      "text/html": [
       "<div>\n",
       "<style scoped>\n",
       "    .dataframe tbody tr th:only-of-type {\n",
       "        vertical-align: middle;\n",
       "    }\n",
       "\n",
       "    .dataframe tbody tr th {\n",
       "        vertical-align: top;\n",
       "    }\n",
       "\n",
       "    .dataframe thead th {\n",
       "        text-align: right;\n",
       "    }\n",
       "</style>\n",
       "<table border=\"1\" class=\"dataframe\">\n",
       "  <thead>\n",
       "    <tr style=\"text-align: right;\">\n",
       "      <th></th>\n",
       "      <th>mean</th>\n",
       "      <th>std</th>\n",
       "      <th>median</th>\n",
       "    </tr>\n",
       "    <tr>\n",
       "      <th>new_quartile</th>\n",
       "      <th></th>\n",
       "      <th></th>\n",
       "      <th></th>\n",
       "    </tr>\n",
       "  </thead>\n",
       "  <tbody>\n",
       "    <tr>\n",
       "      <th>0</th>\n",
       "      <td>127.063291</td>\n",
       "      <td>261.920709</td>\n",
       "      <td>26.0</td>\n",
       "    </tr>\n",
       "    <tr>\n",
       "      <th>1</th>\n",
       "      <td>199.451075</td>\n",
       "      <td>706.017022</td>\n",
       "      <td>39.0</td>\n",
       "    </tr>\n",
       "    <tr>\n",
       "      <th>2</th>\n",
       "      <td>176.085131</td>\n",
       "      <td>516.591500</td>\n",
       "      <td>42.0</td>\n",
       "    </tr>\n",
       "    <tr>\n",
       "      <th>3</th>\n",
       "      <td>148.360000</td>\n",
       "      <td>305.520074</td>\n",
       "      <td>48.0</td>\n",
       "    </tr>\n",
       "    <tr>\n",
       "      <th>4</th>\n",
       "      <td>112.489647</td>\n",
       "      <td>303.935369</td>\n",
       "      <td>36.0</td>\n",
       "    </tr>\n",
       "  </tbody>\n",
       "</table>\n",
       "</div>"
      ],
      "text/plain": [
       "                    mean         std  median\n",
       "new_quartile                                \n",
       "0             127.063291  261.920709    26.0\n",
       "1             199.451075  706.017022    39.0\n",
       "2             176.085131  516.591500    42.0\n",
       "3             148.360000  305.520074    48.0\n",
       "4             112.489647  303.935369    36.0"
      ]
     },
     "execution_count": 5,
     "metadata": {},
     "output_type": "execute_result"
    }
   ],
   "source": [
    "df = pd.read_csv(os.path.join(root, r\"reviewer_stat/new_quartile_reviewer.csv\"))\n",
    "df.groupby(\"new_quartile\")[\"reviewer_id\"].agg([np.mean, np.std, np.median])"
   ]
  },
  {
   "cell_type": "code",
   "execution_count": 7,
   "id": "30656a3b",
   "metadata": {},
   "outputs": [
    {
     "data": {
      "text/html": [
       "<div>\n",
       "<style scoped>\n",
       "    .dataframe tbody tr th:only-of-type {\n",
       "        vertical-align: middle;\n",
       "    }\n",
       "\n",
       "    .dataframe tbody tr th {\n",
       "        vertical-align: top;\n",
       "    }\n",
       "\n",
       "    .dataframe thead th {\n",
       "        text-align: right;\n",
       "    }\n",
       "</style>\n",
       "<table border=\"1\" class=\"dataframe\">\n",
       "  <thead>\n",
       "    <tr style=\"text-align: right;\">\n",
       "      <th></th>\n",
       "      <th>mean</th>\n",
       "      <th>std</th>\n",
       "      <th>median</th>\n",
       "    </tr>\n",
       "    <tr>\n",
       "      <th>Field</th>\n",
       "      <th></th>\n",
       "      <th></th>\n",
       "      <th></th>\n",
       "    </tr>\n",
       "  </thead>\n",
       "  <tbody>\n",
       "    <tr>\n",
       "      <th>0</th>\n",
       "      <td>459.109705</td>\n",
       "      <td>1065.276699</td>\n",
       "      <td>109.0</td>\n",
       "    </tr>\n",
       "    <tr>\n",
       "      <th>1</th>\n",
       "      <td>840.010215</td>\n",
       "      <td>1994.312338</td>\n",
       "      <td>296.0</td>\n",
       "    </tr>\n",
       "    <tr>\n",
       "      <th>2</th>\n",
       "      <td>687.904956</td>\n",
       "      <td>2130.270056</td>\n",
       "      <td>234.0</td>\n",
       "    </tr>\n",
       "    <tr>\n",
       "      <th>3</th>\n",
       "      <td>502.397193</td>\n",
       "      <td>1032.784991</td>\n",
       "      <td>205.0</td>\n",
       "    </tr>\n",
       "    <tr>\n",
       "      <th>4</th>\n",
       "      <td>325.518879</td>\n",
       "      <td>659.066751</td>\n",
       "      <td>123.0</td>\n",
       "    </tr>\n",
       "  </tbody>\n",
       "</table>\n",
       "</div>"
      ],
      "text/plain": [
       "             mean          std  median\n",
       "Field                                 \n",
       "0      459.109705  1065.276699   109.0\n",
       "1      840.010215  1994.312338   296.0\n",
       "2      687.904956  2130.270056   234.0\n",
       "3      502.397193  1032.784991   205.0\n",
       "4      325.518879   659.066751   123.0"
      ]
     },
     "execution_count": 7,
     "metadata": {},
     "output_type": "execute_result"
    }
   ],
   "source": [
    "# calculate median and mean\n",
    "\n",
    "df = pd.read_csv(os.path.join(root, r\"degree/new_quartile_degree.csv\"))\n",
    "df.groupby(\"Field\")[\"Weighted degree\"].agg([np.mean, np.std, np.median])"
   ]
  },
  {
   "cell_type": "code",
   "execution_count": 12,
   "id": "018463a7",
   "metadata": {},
   "outputs": [
    {
     "data": {
      "application/vnd.plotly.v1+json": {
       "config": {
        "plotlyServerURL": "https://plot.ly"
       },
       "data": [
        {
         "alignmentgroup": "True",
         "cliponaxis": false,
         "error_y": {
          "array": [
           0.011006143171189503,
           0.007420289595061642,
           0.007514566440730719,
           0.011274469594980317
          ]
         },
         "hovertemplate": "%{y:.2%}",
         "legendgroup": "",
         "marker": {
          "color": [
           "#4CD300",
           "#00ffff",
           "#9A05BF",
           "#F7A000"
          ],
          "pattern": {
           "shape": ""
          }
         },
         "name": "",
         "offsetgroup": "",
         "orientation": "v",
         "showlegend": false,
         "textposition": "outside",
         "type": "bar",
         "x": [
          1,
          2,
          3,
          4
         ],
         "xaxis": "x",
         "y": [
          0.4360110486885153,
          0.3292766751757253,
          0.20749169395587566,
          0.11270449235721837
         ],
         "yaxis": "y"
        }
       ],
       "layout": {
        "barmode": "relative",
        "font": {
         "family": "Arial"
        },
        "height": 350,
        "legend": {
         "tracegroupgap": 0
        },
        "margin": {
         "t": 60
        },
        "template": {
         "data": {
          "bar": [
           {
            "error_x": {
             "color": "rgb(36,36,36)"
            },
            "error_y": {
             "color": "rgb(36,36,36)"
            },
            "marker": {
             "line": {
              "color": "white",
              "width": 0.5
             },
             "pattern": {
              "fillmode": "overlay",
              "size": 10,
              "solidity": 0.2
             }
            },
            "type": "bar"
           }
          ],
          "barpolar": [
           {
            "marker": {
             "line": {
              "color": "white",
              "width": 0.5
             },
             "pattern": {
              "fillmode": "overlay",
              "size": 10,
              "solidity": 0.2
             }
            },
            "type": "barpolar"
           }
          ],
          "carpet": [
           {
            "aaxis": {
             "endlinecolor": "rgb(36,36,36)",
             "gridcolor": "white",
             "linecolor": "white",
             "minorgridcolor": "white",
             "startlinecolor": "rgb(36,36,36)"
            },
            "baxis": {
             "endlinecolor": "rgb(36,36,36)",
             "gridcolor": "white",
             "linecolor": "white",
             "minorgridcolor": "white",
             "startlinecolor": "rgb(36,36,36)"
            },
            "type": "carpet"
           }
          ],
          "choropleth": [
           {
            "colorbar": {
             "outlinewidth": 1,
             "tickcolor": "rgb(36,36,36)",
             "ticks": "outside"
            },
            "type": "choropleth"
           }
          ],
          "contour": [
           {
            "colorbar": {
             "outlinewidth": 1,
             "tickcolor": "rgb(36,36,36)",
             "ticks": "outside"
            },
            "colorscale": [
             [
              0,
              "#440154"
             ],
             [
              0.1111111111111111,
              "#482878"
             ],
             [
              0.2222222222222222,
              "#3e4989"
             ],
             [
              0.3333333333333333,
              "#31688e"
             ],
             [
              0.4444444444444444,
              "#26828e"
             ],
             [
              0.5555555555555556,
              "#1f9e89"
             ],
             [
              0.6666666666666666,
              "#35b779"
             ],
             [
              0.7777777777777778,
              "#6ece58"
             ],
             [
              0.8888888888888888,
              "#b5de2b"
             ],
             [
              1,
              "#fde725"
             ]
            ],
            "type": "contour"
           }
          ],
          "contourcarpet": [
           {
            "colorbar": {
             "outlinewidth": 1,
             "tickcolor": "rgb(36,36,36)",
             "ticks": "outside"
            },
            "type": "contourcarpet"
           }
          ],
          "heatmap": [
           {
            "colorbar": {
             "outlinewidth": 1,
             "tickcolor": "rgb(36,36,36)",
             "ticks": "outside"
            },
            "colorscale": [
             [
              0,
              "#440154"
             ],
             [
              0.1111111111111111,
              "#482878"
             ],
             [
              0.2222222222222222,
              "#3e4989"
             ],
             [
              0.3333333333333333,
              "#31688e"
             ],
             [
              0.4444444444444444,
              "#26828e"
             ],
             [
              0.5555555555555556,
              "#1f9e89"
             ],
             [
              0.6666666666666666,
              "#35b779"
             ],
             [
              0.7777777777777778,
              "#6ece58"
             ],
             [
              0.8888888888888888,
              "#b5de2b"
             ],
             [
              1,
              "#fde725"
             ]
            ],
            "type": "heatmap"
           }
          ],
          "heatmapgl": [
           {
            "colorbar": {
             "outlinewidth": 1,
             "tickcolor": "rgb(36,36,36)",
             "ticks": "outside"
            },
            "colorscale": [
             [
              0,
              "#440154"
             ],
             [
              0.1111111111111111,
              "#482878"
             ],
             [
              0.2222222222222222,
              "#3e4989"
             ],
             [
              0.3333333333333333,
              "#31688e"
             ],
             [
              0.4444444444444444,
              "#26828e"
             ],
             [
              0.5555555555555556,
              "#1f9e89"
             ],
             [
              0.6666666666666666,
              "#35b779"
             ],
             [
              0.7777777777777778,
              "#6ece58"
             ],
             [
              0.8888888888888888,
              "#b5de2b"
             ],
             [
              1,
              "#fde725"
             ]
            ],
            "type": "heatmapgl"
           }
          ],
          "histogram": [
           {
            "marker": {
             "line": {
              "color": "white",
              "width": 0.6
             }
            },
            "type": "histogram"
           }
          ],
          "histogram2d": [
           {
            "colorbar": {
             "outlinewidth": 1,
             "tickcolor": "rgb(36,36,36)",
             "ticks": "outside"
            },
            "colorscale": [
             [
              0,
              "#440154"
             ],
             [
              0.1111111111111111,
              "#482878"
             ],
             [
              0.2222222222222222,
              "#3e4989"
             ],
             [
              0.3333333333333333,
              "#31688e"
             ],
             [
              0.4444444444444444,
              "#26828e"
             ],
             [
              0.5555555555555556,
              "#1f9e89"
             ],
             [
              0.6666666666666666,
              "#35b779"
             ],
             [
              0.7777777777777778,
              "#6ece58"
             ],
             [
              0.8888888888888888,
              "#b5de2b"
             ],
             [
              1,
              "#fde725"
             ]
            ],
            "type": "histogram2d"
           }
          ],
          "histogram2dcontour": [
           {
            "colorbar": {
             "outlinewidth": 1,
             "tickcolor": "rgb(36,36,36)",
             "ticks": "outside"
            },
            "colorscale": [
             [
              0,
              "#440154"
             ],
             [
              0.1111111111111111,
              "#482878"
             ],
             [
              0.2222222222222222,
              "#3e4989"
             ],
             [
              0.3333333333333333,
              "#31688e"
             ],
             [
              0.4444444444444444,
              "#26828e"
             ],
             [
              0.5555555555555556,
              "#1f9e89"
             ],
             [
              0.6666666666666666,
              "#35b779"
             ],
             [
              0.7777777777777778,
              "#6ece58"
             ],
             [
              0.8888888888888888,
              "#b5de2b"
             ],
             [
              1,
              "#fde725"
             ]
            ],
            "type": "histogram2dcontour"
           }
          ],
          "mesh3d": [
           {
            "colorbar": {
             "outlinewidth": 1,
             "tickcolor": "rgb(36,36,36)",
             "ticks": "outside"
            },
            "type": "mesh3d"
           }
          ],
          "parcoords": [
           {
            "line": {
             "colorbar": {
              "outlinewidth": 1,
              "tickcolor": "rgb(36,36,36)",
              "ticks": "outside"
             }
            },
            "type": "parcoords"
           }
          ],
          "pie": [
           {
            "automargin": true,
            "type": "pie"
           }
          ],
          "scatter": [
           {
            "fillpattern": {
             "fillmode": "overlay",
             "size": 10,
             "solidity": 0.2
            },
            "type": "scatter"
           }
          ],
          "scatter3d": [
           {
            "line": {
             "colorbar": {
              "outlinewidth": 1,
              "tickcolor": "rgb(36,36,36)",
              "ticks": "outside"
             }
            },
            "marker": {
             "colorbar": {
              "outlinewidth": 1,
              "tickcolor": "rgb(36,36,36)",
              "ticks": "outside"
             }
            },
            "type": "scatter3d"
           }
          ],
          "scattercarpet": [
           {
            "marker": {
             "colorbar": {
              "outlinewidth": 1,
              "tickcolor": "rgb(36,36,36)",
              "ticks": "outside"
             }
            },
            "type": "scattercarpet"
           }
          ],
          "scattergeo": [
           {
            "marker": {
             "colorbar": {
              "outlinewidth": 1,
              "tickcolor": "rgb(36,36,36)",
              "ticks": "outside"
             }
            },
            "type": "scattergeo"
           }
          ],
          "scattergl": [
           {
            "marker": {
             "colorbar": {
              "outlinewidth": 1,
              "tickcolor": "rgb(36,36,36)",
              "ticks": "outside"
             }
            },
            "type": "scattergl"
           }
          ],
          "scattermapbox": [
           {
            "marker": {
             "colorbar": {
              "outlinewidth": 1,
              "tickcolor": "rgb(36,36,36)",
              "ticks": "outside"
             }
            },
            "type": "scattermapbox"
           }
          ],
          "scatterpolar": [
           {
            "marker": {
             "colorbar": {
              "outlinewidth": 1,
              "tickcolor": "rgb(36,36,36)",
              "ticks": "outside"
             }
            },
            "type": "scatterpolar"
           }
          ],
          "scatterpolargl": [
           {
            "marker": {
             "colorbar": {
              "outlinewidth": 1,
              "tickcolor": "rgb(36,36,36)",
              "ticks": "outside"
             }
            },
            "type": "scatterpolargl"
           }
          ],
          "scatterternary": [
           {
            "marker": {
             "colorbar": {
              "outlinewidth": 1,
              "tickcolor": "rgb(36,36,36)",
              "ticks": "outside"
             }
            },
            "type": "scatterternary"
           }
          ],
          "surface": [
           {
            "colorbar": {
             "outlinewidth": 1,
             "tickcolor": "rgb(36,36,36)",
             "ticks": "outside"
            },
            "colorscale": [
             [
              0,
              "#440154"
             ],
             [
              0.1111111111111111,
              "#482878"
             ],
             [
              0.2222222222222222,
              "#3e4989"
             ],
             [
              0.3333333333333333,
              "#31688e"
             ],
             [
              0.4444444444444444,
              "#26828e"
             ],
             [
              0.5555555555555556,
              "#1f9e89"
             ],
             [
              0.6666666666666666,
              "#35b779"
             ],
             [
              0.7777777777777778,
              "#6ece58"
             ],
             [
              0.8888888888888888,
              "#b5de2b"
             ],
             [
              1,
              "#fde725"
             ]
            ],
            "type": "surface"
           }
          ],
          "table": [
           {
            "cells": {
             "fill": {
              "color": "rgb(237,237,237)"
             },
             "line": {
              "color": "white"
             }
            },
            "header": {
             "fill": {
              "color": "rgb(217,217,217)"
             },
             "line": {
              "color": "white"
             }
            },
            "type": "table"
           }
          ]
         },
         "layout": {
          "annotationdefaults": {
           "arrowhead": 0,
           "arrowwidth": 1
          },
          "autotypenumbers": "strict",
          "coloraxis": {
           "colorbar": {
            "outlinewidth": 1,
            "tickcolor": "rgb(36,36,36)",
            "ticks": "outside"
           }
          },
          "colorscale": {
           "diverging": [
            [
             0,
             "rgb(103,0,31)"
            ],
            [
             0.1,
             "rgb(178,24,43)"
            ],
            [
             0.2,
             "rgb(214,96,77)"
            ],
            [
             0.3,
             "rgb(244,165,130)"
            ],
            [
             0.4,
             "rgb(253,219,199)"
            ],
            [
             0.5,
             "rgb(247,247,247)"
            ],
            [
             0.6,
             "rgb(209,229,240)"
            ],
            [
             0.7,
             "rgb(146,197,222)"
            ],
            [
             0.8,
             "rgb(67,147,195)"
            ],
            [
             0.9,
             "rgb(33,102,172)"
            ],
            [
             1,
             "rgb(5,48,97)"
            ]
           ],
           "sequential": [
            [
             0,
             "#440154"
            ],
            [
             0.1111111111111111,
             "#482878"
            ],
            [
             0.2222222222222222,
             "#3e4989"
            ],
            [
             0.3333333333333333,
             "#31688e"
            ],
            [
             0.4444444444444444,
             "#26828e"
            ],
            [
             0.5555555555555556,
             "#1f9e89"
            ],
            [
             0.6666666666666666,
             "#35b779"
            ],
            [
             0.7777777777777778,
             "#6ece58"
            ],
            [
             0.8888888888888888,
             "#b5de2b"
            ],
            [
             1,
             "#fde725"
            ]
           ],
           "sequentialminus": [
            [
             0,
             "#440154"
            ],
            [
             0.1111111111111111,
             "#482878"
            ],
            [
             0.2222222222222222,
             "#3e4989"
            ],
            [
             0.3333333333333333,
             "#31688e"
            ],
            [
             0.4444444444444444,
             "#26828e"
            ],
            [
             0.5555555555555556,
             "#1f9e89"
            ],
            [
             0.6666666666666666,
             "#35b779"
            ],
            [
             0.7777777777777778,
             "#6ece58"
            ],
            [
             0.8888888888888888,
             "#b5de2b"
            ],
            [
             1,
             "#fde725"
            ]
           ]
          },
          "colorway": [
           "#1F77B4",
           "#FF7F0E",
           "#2CA02C",
           "#D62728",
           "#9467BD",
           "#8C564B",
           "#E377C2",
           "#7F7F7F",
           "#BCBD22",
           "#17BECF"
          ],
          "font": {
           "color": "rgb(36,36,36)"
          },
          "geo": {
           "bgcolor": "white",
           "lakecolor": "white",
           "landcolor": "white",
           "showlakes": true,
           "showland": true,
           "subunitcolor": "white"
          },
          "hoverlabel": {
           "align": "left"
          },
          "hovermode": "closest",
          "mapbox": {
           "style": "light"
          },
          "paper_bgcolor": "white",
          "plot_bgcolor": "white",
          "polar": {
           "angularaxis": {
            "gridcolor": "rgb(232,232,232)",
            "linecolor": "rgb(36,36,36)",
            "showgrid": false,
            "showline": true,
            "ticks": "outside"
           },
           "bgcolor": "white",
           "radialaxis": {
            "gridcolor": "rgb(232,232,232)",
            "linecolor": "rgb(36,36,36)",
            "showgrid": false,
            "showline": true,
            "ticks": "outside"
           }
          },
          "scene": {
           "xaxis": {
            "backgroundcolor": "white",
            "gridcolor": "rgb(232,232,232)",
            "gridwidth": 2,
            "linecolor": "rgb(36,36,36)",
            "showbackground": true,
            "showgrid": false,
            "showline": true,
            "ticks": "outside",
            "zeroline": false,
            "zerolinecolor": "rgb(36,36,36)"
           },
           "yaxis": {
            "backgroundcolor": "white",
            "gridcolor": "rgb(232,232,232)",
            "gridwidth": 2,
            "linecolor": "rgb(36,36,36)",
            "showbackground": true,
            "showgrid": false,
            "showline": true,
            "ticks": "outside",
            "zeroline": false,
            "zerolinecolor": "rgb(36,36,36)"
           },
           "zaxis": {
            "backgroundcolor": "white",
            "gridcolor": "rgb(232,232,232)",
            "gridwidth": 2,
            "linecolor": "rgb(36,36,36)",
            "showbackground": true,
            "showgrid": false,
            "showline": true,
            "ticks": "outside",
            "zeroline": false,
            "zerolinecolor": "rgb(36,36,36)"
           }
          },
          "shapedefaults": {
           "fillcolor": "black",
           "line": {
            "width": 0
           },
           "opacity": 0.3
          },
          "ternary": {
           "aaxis": {
            "gridcolor": "rgb(232,232,232)",
            "linecolor": "rgb(36,36,36)",
            "showgrid": false,
            "showline": true,
            "ticks": "outside"
           },
           "baxis": {
            "gridcolor": "rgb(232,232,232)",
            "linecolor": "rgb(36,36,36)",
            "showgrid": false,
            "showline": true,
            "ticks": "outside"
           },
           "bgcolor": "white",
           "caxis": {
            "gridcolor": "rgb(232,232,232)",
            "linecolor": "rgb(36,36,36)",
            "showgrid": false,
            "showline": true,
            "ticks": "outside"
           }
          },
          "title": {
           "x": 0.05
          },
          "xaxis": {
           "automargin": true,
           "gridcolor": "rgb(232,232,232)",
           "linecolor": "rgb(36,36,36)",
           "showgrid": false,
           "showline": true,
           "ticks": "outside",
           "title": {
            "standoff": 15
           },
           "zeroline": false,
           "zerolinecolor": "rgb(36,36,36)"
          },
          "yaxis": {
           "automargin": true,
           "gridcolor": "rgb(232,232,232)",
           "linecolor": "rgb(36,36,36)",
           "showgrid": false,
           "showline": true,
           "ticks": "outside",
           "title": {
            "standoff": 15
           },
           "zeroline": false,
           "zerolinecolor": "rgb(36,36,36)"
          }
         }
        },
        "width": 270,
        "xaxis": {
         "anchor": "y",
         "categoryarray": [
          1,
          2,
          3,
          4
         ],
         "categoryorder": "array",
         "domain": [
          0,
          1
         ],
         "tickangle": 35,
         "ticktext": [
          "Q1",
          "Q2",
          "Q3",
          "Q4"
         ],
         "tickvals": [
          1,
          2,
          3,
          4
         ],
         "title": {
          "standoff": 0,
          "text": "JIF rank"
         }
        },
        "yaxis": {
         "anchor": "x",
         "domain": [
          0,
          1
         ],
         "minor": {
          "nticks": 5,
          "showgrid": true
         },
         "showgrid": true,
         "tickformat": ".0%",
         "title": {
          "standoff": 0,
          "text": "Average % within-rank degrees"
         }
        }
       }
      }
     },
     "metadata": {},
     "output_type": "display_data"
    }
   ],
   "source": [
    "df = pd.read_csv(os.path.join(\n",
    "    root, r\"intra-group/new_quartile_intra_group.csv\"))\n",
    "x = 'Field'\n",
    "y = '% intra-group weighted degree'\n",
    "color_dict, order = get_palette(attr=\"new_quartile\")\n",
    "order = order[order != 0]\n",
    "df = df[df[\"Field\"].isin(order)]\n",
    "base = df.groupby(x)[y].agg([lambda x: mean_confidence_interval(\n",
    "    x)[0], lambda x: mean_confidence_interval(x)[1]]).reset_index()\n",
    "base.columns = [\"field\", \"mean\", \"ci\"]\n",
    "\n",
    "# bar chart\n",
    "base[\"color\"] = base[\"field\"].map(color_dict)\n",
    "\n",
    "# draw bar charts\n",
    "fig = px.bar(base,\n",
    "             x=\"field\",\n",
    "             y=\"mean\",\n",
    "             error_y=\"ci\")\n",
    "\n",
    "fig.update_traces(marker=dict(color=base[\"color\"]),\n",
    "                  textposition=\"outside\",\n",
    "                  hovertemplate=\"%{y:.2%}\",\n",
    "                  cliponaxis=False)\n",
    "\n",
    "fig.update_layout(height=350,\n",
    "                  width=270,\n",
    "                  template=\"simple_white\",\n",
    "                  font=dict(family=\"Arial\"))\n",
    "\n",
    "fig.update_xaxes(categoryorder=\"array\",\n",
    "                 categoryarray=order,\n",
    "                 title=dict(text=\"JIF rank\",\n",
    "                            standoff=0.0,\n",
    "                            ),\n",
    "                 tickangle=35,\n",
    "                 tickvals=order,\n",
    "                 ticktext=xticks,\n",
    "                 )\n",
    "\n",
    "fig.update_yaxes(showgrid=True,\n",
    "                 tickformat=\".0%\",\n",
    "                 minor=dict(nticks=5,\n",
    "                            showgrid=True),\n",
    "                 title=dict(text=\"Average % within-rank degrees\",\n",
    "                            standoff=0.0),\n",
    "                 )\n",
    "fig.show()\n",
    "fig.write_image(os.path.join(graph_root, \"perc_within_q.pdf\"))\n"
   ]
  },
  {
   "cell_type": "code",
   "execution_count": 13,
   "id": "f336ff41",
   "metadata": {},
   "outputs": [
    {
     "data": {
      "application/vnd.plotly.v1+json": {
       "config": {
        "plotlyServerURL": "https://plot.ly"
       },
       "data": [
        {
         "alignmentgroup": "True",
         "cliponaxis": false,
         "error_y": {
          "array": [
           0.014720122755991938,
           0.016691248036492204,
           0.01962943558221758,
           0.029164906492827856
          ]
         },
         "hovertemplate": "%{y:.2%}",
         "legendgroup": "",
         "marker": {
          "color": [
           "#4CD300",
           "#00ffff",
           "#9A05BF",
           "#F7A000"
          ],
          "pattern": {
           "shape": ""
          }
         },
         "name": "",
         "offsetgroup": "",
         "orientation": "v",
         "showlegend": false,
         "textposition": "outside",
         "type": "bar",
         "x": [
          1,
          2,
          3,
          4
         ],
         "xaxis": "x",
         "y": [
          0.24453974707935633,
          0.2630760589190771,
          0.2782449271109691,
          0.2818608718713754
         ],
         "yaxis": "y"
        }
       ],
       "layout": {
        "barmode": "relative",
        "font": {
         "family": "Arial"
        },
        "height": 350,
        "legend": {
         "tracegroupgap": 0
        },
        "margin": {
         "t": 60
        },
        "template": {
         "data": {
          "bar": [
           {
            "error_x": {
             "color": "rgb(36,36,36)"
            },
            "error_y": {
             "color": "rgb(36,36,36)"
            },
            "marker": {
             "line": {
              "color": "white",
              "width": 0.5
             },
             "pattern": {
              "fillmode": "overlay",
              "size": 10,
              "solidity": 0.2
             }
            },
            "type": "bar"
           }
          ],
          "barpolar": [
           {
            "marker": {
             "line": {
              "color": "white",
              "width": 0.5
             },
             "pattern": {
              "fillmode": "overlay",
              "size": 10,
              "solidity": 0.2
             }
            },
            "type": "barpolar"
           }
          ],
          "carpet": [
           {
            "aaxis": {
             "endlinecolor": "rgb(36,36,36)",
             "gridcolor": "white",
             "linecolor": "white",
             "minorgridcolor": "white",
             "startlinecolor": "rgb(36,36,36)"
            },
            "baxis": {
             "endlinecolor": "rgb(36,36,36)",
             "gridcolor": "white",
             "linecolor": "white",
             "minorgridcolor": "white",
             "startlinecolor": "rgb(36,36,36)"
            },
            "type": "carpet"
           }
          ],
          "choropleth": [
           {
            "colorbar": {
             "outlinewidth": 1,
             "tickcolor": "rgb(36,36,36)",
             "ticks": "outside"
            },
            "type": "choropleth"
           }
          ],
          "contour": [
           {
            "colorbar": {
             "outlinewidth": 1,
             "tickcolor": "rgb(36,36,36)",
             "ticks": "outside"
            },
            "colorscale": [
             [
              0,
              "#440154"
             ],
             [
              0.1111111111111111,
              "#482878"
             ],
             [
              0.2222222222222222,
              "#3e4989"
             ],
             [
              0.3333333333333333,
              "#31688e"
             ],
             [
              0.4444444444444444,
              "#26828e"
             ],
             [
              0.5555555555555556,
              "#1f9e89"
             ],
             [
              0.6666666666666666,
              "#35b779"
             ],
             [
              0.7777777777777778,
              "#6ece58"
             ],
             [
              0.8888888888888888,
              "#b5de2b"
             ],
             [
              1,
              "#fde725"
             ]
            ],
            "type": "contour"
           }
          ],
          "contourcarpet": [
           {
            "colorbar": {
             "outlinewidth": 1,
             "tickcolor": "rgb(36,36,36)",
             "ticks": "outside"
            },
            "type": "contourcarpet"
           }
          ],
          "heatmap": [
           {
            "colorbar": {
             "outlinewidth": 1,
             "tickcolor": "rgb(36,36,36)",
             "ticks": "outside"
            },
            "colorscale": [
             [
              0,
              "#440154"
             ],
             [
              0.1111111111111111,
              "#482878"
             ],
             [
              0.2222222222222222,
              "#3e4989"
             ],
             [
              0.3333333333333333,
              "#31688e"
             ],
             [
              0.4444444444444444,
              "#26828e"
             ],
             [
              0.5555555555555556,
              "#1f9e89"
             ],
             [
              0.6666666666666666,
              "#35b779"
             ],
             [
              0.7777777777777778,
              "#6ece58"
             ],
             [
              0.8888888888888888,
              "#b5de2b"
             ],
             [
              1,
              "#fde725"
             ]
            ],
            "type": "heatmap"
           }
          ],
          "heatmapgl": [
           {
            "colorbar": {
             "outlinewidth": 1,
             "tickcolor": "rgb(36,36,36)",
             "ticks": "outside"
            },
            "colorscale": [
             [
              0,
              "#440154"
             ],
             [
              0.1111111111111111,
              "#482878"
             ],
             [
              0.2222222222222222,
              "#3e4989"
             ],
             [
              0.3333333333333333,
              "#31688e"
             ],
             [
              0.4444444444444444,
              "#26828e"
             ],
             [
              0.5555555555555556,
              "#1f9e89"
             ],
             [
              0.6666666666666666,
              "#35b779"
             ],
             [
              0.7777777777777778,
              "#6ece58"
             ],
             [
              0.8888888888888888,
              "#b5de2b"
             ],
             [
              1,
              "#fde725"
             ]
            ],
            "type": "heatmapgl"
           }
          ],
          "histogram": [
           {
            "marker": {
             "line": {
              "color": "white",
              "width": 0.6
             }
            },
            "type": "histogram"
           }
          ],
          "histogram2d": [
           {
            "colorbar": {
             "outlinewidth": 1,
             "tickcolor": "rgb(36,36,36)",
             "ticks": "outside"
            },
            "colorscale": [
             [
              0,
              "#440154"
             ],
             [
              0.1111111111111111,
              "#482878"
             ],
             [
              0.2222222222222222,
              "#3e4989"
             ],
             [
              0.3333333333333333,
              "#31688e"
             ],
             [
              0.4444444444444444,
              "#26828e"
             ],
             [
              0.5555555555555556,
              "#1f9e89"
             ],
             [
              0.6666666666666666,
              "#35b779"
             ],
             [
              0.7777777777777778,
              "#6ece58"
             ],
             [
              0.8888888888888888,
              "#b5de2b"
             ],
             [
              1,
              "#fde725"
             ]
            ],
            "type": "histogram2d"
           }
          ],
          "histogram2dcontour": [
           {
            "colorbar": {
             "outlinewidth": 1,
             "tickcolor": "rgb(36,36,36)",
             "ticks": "outside"
            },
            "colorscale": [
             [
              0,
              "#440154"
             ],
             [
              0.1111111111111111,
              "#482878"
             ],
             [
              0.2222222222222222,
              "#3e4989"
             ],
             [
              0.3333333333333333,
              "#31688e"
             ],
             [
              0.4444444444444444,
              "#26828e"
             ],
             [
              0.5555555555555556,
              "#1f9e89"
             ],
             [
              0.6666666666666666,
              "#35b779"
             ],
             [
              0.7777777777777778,
              "#6ece58"
             ],
             [
              0.8888888888888888,
              "#b5de2b"
             ],
             [
              1,
              "#fde725"
             ]
            ],
            "type": "histogram2dcontour"
           }
          ],
          "mesh3d": [
           {
            "colorbar": {
             "outlinewidth": 1,
             "tickcolor": "rgb(36,36,36)",
             "ticks": "outside"
            },
            "type": "mesh3d"
           }
          ],
          "parcoords": [
           {
            "line": {
             "colorbar": {
              "outlinewidth": 1,
              "tickcolor": "rgb(36,36,36)",
              "ticks": "outside"
             }
            },
            "type": "parcoords"
           }
          ],
          "pie": [
           {
            "automargin": true,
            "type": "pie"
           }
          ],
          "scatter": [
           {
            "fillpattern": {
             "fillmode": "overlay",
             "size": 10,
             "solidity": 0.2
            },
            "type": "scatter"
           }
          ],
          "scatter3d": [
           {
            "line": {
             "colorbar": {
              "outlinewidth": 1,
              "tickcolor": "rgb(36,36,36)",
              "ticks": "outside"
             }
            },
            "marker": {
             "colorbar": {
              "outlinewidth": 1,
              "tickcolor": "rgb(36,36,36)",
              "ticks": "outside"
             }
            },
            "type": "scatter3d"
           }
          ],
          "scattercarpet": [
           {
            "marker": {
             "colorbar": {
              "outlinewidth": 1,
              "tickcolor": "rgb(36,36,36)",
              "ticks": "outside"
             }
            },
            "type": "scattercarpet"
           }
          ],
          "scattergeo": [
           {
            "marker": {
             "colorbar": {
              "outlinewidth": 1,
              "tickcolor": "rgb(36,36,36)",
              "ticks": "outside"
             }
            },
            "type": "scattergeo"
           }
          ],
          "scattergl": [
           {
            "marker": {
             "colorbar": {
              "outlinewidth": 1,
              "tickcolor": "rgb(36,36,36)",
              "ticks": "outside"
             }
            },
            "type": "scattergl"
           }
          ],
          "scattermapbox": [
           {
            "marker": {
             "colorbar": {
              "outlinewidth": 1,
              "tickcolor": "rgb(36,36,36)",
              "ticks": "outside"
             }
            },
            "type": "scattermapbox"
           }
          ],
          "scatterpolar": [
           {
            "marker": {
             "colorbar": {
              "outlinewidth": 1,
              "tickcolor": "rgb(36,36,36)",
              "ticks": "outside"
             }
            },
            "type": "scatterpolar"
           }
          ],
          "scatterpolargl": [
           {
            "marker": {
             "colorbar": {
              "outlinewidth": 1,
              "tickcolor": "rgb(36,36,36)",
              "ticks": "outside"
             }
            },
            "type": "scatterpolargl"
           }
          ],
          "scatterternary": [
           {
            "marker": {
             "colorbar": {
              "outlinewidth": 1,
              "tickcolor": "rgb(36,36,36)",
              "ticks": "outside"
             }
            },
            "type": "scatterternary"
           }
          ],
          "surface": [
           {
            "colorbar": {
             "outlinewidth": 1,
             "tickcolor": "rgb(36,36,36)",
             "ticks": "outside"
            },
            "colorscale": [
             [
              0,
              "#440154"
             ],
             [
              0.1111111111111111,
              "#482878"
             ],
             [
              0.2222222222222222,
              "#3e4989"
             ],
             [
              0.3333333333333333,
              "#31688e"
             ],
             [
              0.4444444444444444,
              "#26828e"
             ],
             [
              0.5555555555555556,
              "#1f9e89"
             ],
             [
              0.6666666666666666,
              "#35b779"
             ],
             [
              0.7777777777777778,
              "#6ece58"
             ],
             [
              0.8888888888888888,
              "#b5de2b"
             ],
             [
              1,
              "#fde725"
             ]
            ],
            "type": "surface"
           }
          ],
          "table": [
           {
            "cells": {
             "fill": {
              "color": "rgb(237,237,237)"
             },
             "line": {
              "color": "white"
             }
            },
            "header": {
             "fill": {
              "color": "rgb(217,217,217)"
             },
             "line": {
              "color": "white"
             }
            },
            "type": "table"
           }
          ]
         },
         "layout": {
          "annotationdefaults": {
           "arrowhead": 0,
           "arrowwidth": 1
          },
          "autotypenumbers": "strict",
          "coloraxis": {
           "colorbar": {
            "outlinewidth": 1,
            "tickcolor": "rgb(36,36,36)",
            "ticks": "outside"
           }
          },
          "colorscale": {
           "diverging": [
            [
             0,
             "rgb(103,0,31)"
            ],
            [
             0.1,
             "rgb(178,24,43)"
            ],
            [
             0.2,
             "rgb(214,96,77)"
            ],
            [
             0.3,
             "rgb(244,165,130)"
            ],
            [
             0.4,
             "rgb(253,219,199)"
            ],
            [
             0.5,
             "rgb(247,247,247)"
            ],
            [
             0.6,
             "rgb(209,229,240)"
            ],
            [
             0.7,
             "rgb(146,197,222)"
            ],
            [
             0.8,
             "rgb(67,147,195)"
            ],
            [
             0.9,
             "rgb(33,102,172)"
            ],
            [
             1,
             "rgb(5,48,97)"
            ]
           ],
           "sequential": [
            [
             0,
             "#440154"
            ],
            [
             0.1111111111111111,
             "#482878"
            ],
            [
             0.2222222222222222,
             "#3e4989"
            ],
            [
             0.3333333333333333,
             "#31688e"
            ],
            [
             0.4444444444444444,
             "#26828e"
            ],
            [
             0.5555555555555556,
             "#1f9e89"
            ],
            [
             0.6666666666666666,
             "#35b779"
            ],
            [
             0.7777777777777778,
             "#6ece58"
            ],
            [
             0.8888888888888888,
             "#b5de2b"
            ],
            [
             1,
             "#fde725"
            ]
           ],
           "sequentialminus": [
            [
             0,
             "#440154"
            ],
            [
             0.1111111111111111,
             "#482878"
            ],
            [
             0.2222222222222222,
             "#3e4989"
            ],
            [
             0.3333333333333333,
             "#31688e"
            ],
            [
             0.4444444444444444,
             "#26828e"
            ],
            [
             0.5555555555555556,
             "#1f9e89"
            ],
            [
             0.6666666666666666,
             "#35b779"
            ],
            [
             0.7777777777777778,
             "#6ece58"
            ],
            [
             0.8888888888888888,
             "#b5de2b"
            ],
            [
             1,
             "#fde725"
            ]
           ]
          },
          "colorway": [
           "#1F77B4",
           "#FF7F0E",
           "#2CA02C",
           "#D62728",
           "#9467BD",
           "#8C564B",
           "#E377C2",
           "#7F7F7F",
           "#BCBD22",
           "#17BECF"
          ],
          "font": {
           "color": "rgb(36,36,36)"
          },
          "geo": {
           "bgcolor": "white",
           "lakecolor": "white",
           "landcolor": "white",
           "showlakes": true,
           "showland": true,
           "subunitcolor": "white"
          },
          "hoverlabel": {
           "align": "left"
          },
          "hovermode": "closest",
          "mapbox": {
           "style": "light"
          },
          "paper_bgcolor": "white",
          "plot_bgcolor": "white",
          "polar": {
           "angularaxis": {
            "gridcolor": "rgb(232,232,232)",
            "linecolor": "rgb(36,36,36)",
            "showgrid": false,
            "showline": true,
            "ticks": "outside"
           },
           "bgcolor": "white",
           "radialaxis": {
            "gridcolor": "rgb(232,232,232)",
            "linecolor": "rgb(36,36,36)",
            "showgrid": false,
            "showline": true,
            "ticks": "outside"
           }
          },
          "scene": {
           "xaxis": {
            "backgroundcolor": "white",
            "gridcolor": "rgb(232,232,232)",
            "gridwidth": 2,
            "linecolor": "rgb(36,36,36)",
            "showbackground": true,
            "showgrid": false,
            "showline": true,
            "ticks": "outside",
            "zeroline": false,
            "zerolinecolor": "rgb(36,36,36)"
           },
           "yaxis": {
            "backgroundcolor": "white",
            "gridcolor": "rgb(232,232,232)",
            "gridwidth": 2,
            "linecolor": "rgb(36,36,36)",
            "showbackground": true,
            "showgrid": false,
            "showline": true,
            "ticks": "outside",
            "zeroline": false,
            "zerolinecolor": "rgb(36,36,36)"
           },
           "zaxis": {
            "backgroundcolor": "white",
            "gridcolor": "rgb(232,232,232)",
            "gridwidth": 2,
            "linecolor": "rgb(36,36,36)",
            "showbackground": true,
            "showgrid": false,
            "showline": true,
            "ticks": "outside",
            "zeroline": false,
            "zerolinecolor": "rgb(36,36,36)"
           }
          },
          "shapedefaults": {
           "fillcolor": "black",
           "line": {
            "width": 0
           },
           "opacity": 0.3
          },
          "ternary": {
           "aaxis": {
            "gridcolor": "rgb(232,232,232)",
            "linecolor": "rgb(36,36,36)",
            "showgrid": false,
            "showline": true,
            "ticks": "outside"
           },
           "baxis": {
            "gridcolor": "rgb(232,232,232)",
            "linecolor": "rgb(36,36,36)",
            "showgrid": false,
            "showline": true,
            "ticks": "outside"
           },
           "bgcolor": "white",
           "caxis": {
            "gridcolor": "rgb(232,232,232)",
            "linecolor": "rgb(36,36,36)",
            "showgrid": false,
            "showline": true,
            "ticks": "outside"
           }
          },
          "title": {
           "x": 0.05
          },
          "xaxis": {
           "automargin": true,
           "gridcolor": "rgb(232,232,232)",
           "linecolor": "rgb(36,36,36)",
           "showgrid": false,
           "showline": true,
           "ticks": "outside",
           "title": {
            "standoff": 15
           },
           "zeroline": false,
           "zerolinecolor": "rgb(36,36,36)"
          },
          "yaxis": {
           "automargin": true,
           "gridcolor": "rgb(232,232,232)",
           "linecolor": "rgb(36,36,36)",
           "showgrid": false,
           "showline": true,
           "ticks": "outside",
           "title": {
            "standoff": 15
           },
           "zeroline": false,
           "zerolinecolor": "rgb(36,36,36)"
          }
         }
        },
        "title": {
         "text": "<b>(F)"
        },
        "width": 270,
        "xaxis": {
         "anchor": "y",
         "categoryarray": [
          1,
          2,
          3,
          4
         ],
         "categoryorder": "array",
         "domain": [
          0,
          1
         ],
         "tickangle": 35,
         "ticktext": [
          "Q1",
          "Q2",
          "Q3",
          "Q4"
         ],
         "tickvals": [
          1,
          2,
          3,
          4
         ],
         "title": {
          "standoff": 0,
          "text": "JIF rank"
         }
        },
        "yaxis": {
         "anchor": "x",
         "domain": [
          0,
          1
         ],
         "minor": {
          "nticks": 5,
          "showgrid": true
         },
         "showgrid": true,
         "tickformat": ".0%",
         "title": {
          "standoff": 0,
          "text": "Average % women reviewers"
         }
        }
       }
      }
     },
     "metadata": {},
     "output_type": "display_data"
    }
   ],
   "source": [
    "# Average % women reviewers for journals\n",
    "\n",
    "df = pd.read_csv(os.path.join(root, r\"reviewer_gender/new_quartile_reviewer_gender.csv\"))\n",
    "x='new_quartile'\n",
    "y='Percentage'\n",
    "df = df[df[x].isin([1,2,3,4])]\n",
    "df[y] = df[y]/100\n",
    "color_dict, order = get_palette(attr=\"quartile\")\n",
    "order=order[order!=\"Other\"]\n",
    "df[\"color\"] = df[x].map(color_dict)\n",
    "base = df.groupby(x)[y].agg([lambda x: mean_confidence_interval(x)[0], lambda x: mean_confidence_interval(x)[1]]).reset_index()\n",
    "base.columns=[\"field\", \"mean\", \"ci\"]\n",
    "\n",
    "# bar chart\n",
    "base[\"color\"] = base[\"field\"].map(color_dict)\n",
    "\n",
    "# draw bar charts\n",
    "fig = px.bar(base,\n",
    "             x=\"field\",\n",
    "             y=\"mean\",\n",
    "             error_y=\"ci\")\n",
    "\n",
    "fig.update_traces(marker=dict(color=base[\"color\"]),\n",
    "                  textposition=\"outside\",\n",
    "                  hovertemplate=\"%{y:.2%}\",\n",
    "                  cliponaxis=False)\n",
    "\n",
    "fig.update_layout(height=350,\n",
    "                  width=270,\n",
    "                  template=\"simple_white\",\n",
    "                  title=dict(text=\"<b>(F)\",),\n",
    "                  font=dict(family=\"Arial\"))\n",
    "\n",
    "fig.update_xaxes(categoryorder=\"array\",\n",
    "                 categoryarray=order,\n",
    "                 title=dict(text=\"JIF rank\",\n",
    "                            standoff=0.0,),\n",
    "                 tickangle=35,\n",
    "                 tickvals=order,\n",
    "                 ticktext=xticks,\n",
    "                 )\n",
    "\n",
    "fig.update_yaxes(showgrid=True,\n",
    "                 tickformat=\".0%\",\n",
    "                 minor=dict(nticks=5,\n",
    "                            showgrid=True),\n",
    "                 title=dict(text=\"Average % women reviewers\",\n",
    "                            standoff=0.0),\n",
    "                 )\n",
    "fig.show()\n",
    "fig.write_image(os.path.join(graph_root, \"perc_women_q.pdf\"))"
   ]
  },
  {
   "cell_type": "code",
   "execution_count": 14,
   "id": "3c4fa228",
   "metadata": {},
   "outputs": [
    {
     "data": {
      "application/vnd.plotly.v1+json": {
       "config": {
        "plotlyServerURL": "https://plot.ly"
       },
       "data": [
        {
         "hovertemplate": "%{y:.2%}",
         "marker": {
          "color": [
           "#4CD300",
           "#00ffff",
           "#9A05BF",
           "#F7A000"
          ],
          "line": {
           "color": [
            "#4CD300",
            "#00ffff",
            "#9A05BF",
            "#F7A000"
           ],
           "width": 1
          },
          "opacity": 0.6,
          "size": 10,
          "symbol": "circle"
         },
         "mode": "markers",
         "name": "Reviewer",
         "type": "scatter",
         "x": [
          1,
          2,
          3,
          4
         ],
         "y": [
          0.2882291044563888,
          0.3034150355610415,
          0.2941386796066914,
          0.2941066266994968
         ]
        },
        {
         "hovertemplate": "%{y:.2%}",
         "marker": {
          "color": [
           "#4CD300",
           "#00ffff",
           "#9A05BF",
           "#F7A000"
          ],
          "line": {
           "color": [
            "#4CD300",
            "#00ffff",
            "#9A05BF",
            "#F7A000"
           ],
           "width": 1
          },
          "size": 10,
          "symbol": "diamond"
         },
         "mode": "markers",
         "name": "Rank-specific reviewer",
         "opacity": 1,
         "type": "scatter",
         "x": [
          1,
          2,
          3,
          4
         ],
         "y": [
          0.3000122624156959,
          0.336021505376344,
          0.3237302771018133,
          0.3365254237288135
         ]
        }
       ],
       "layout": {
        "barmode": "overlay",
        "font": {
         "family": "Arial"
        },
        "height": 350,
        "legend": {
         "bgcolor": "rgba(0,0,0,0)",
         "x": 0.6,
         "xanchor": "center",
         "y": 0.2,
         "yanchor": "top"
        },
        "margin": {
         "t": 30
        },
        "shapes": [
         {
          "line": {
           "color": "black",
           "width": 2
          },
          "type": "line",
          "x0": 1,
          "x1": 1,
          "xref": "x",
          "y0": 0.2882291044563888,
          "y1": 0.3000122624156959,
          "yref": "y"
         },
         {
          "line": {
           "color": "black",
           "width": 2
          },
          "type": "line",
          "x0": 2,
          "x1": 2,
          "xref": "x",
          "y0": 0.3034150355610415,
          "y1": 0.336021505376344,
          "yref": "y"
         },
         {
          "line": {
           "color": "black",
           "width": 2
          },
          "type": "line",
          "x0": 3,
          "x1": 3,
          "xref": "x",
          "y0": 0.2941386796066914,
          "y1": 0.3237302771018133,
          "yref": "y"
         },
         {
          "line": {
           "color": "black",
           "width": 2
          },
          "type": "line",
          "x0": 4,
          "x1": 4,
          "xref": "x",
          "y0": 0.2941066266994968,
          "y1": 0.3365254237288135,
          "yref": "y"
         }
        ],
        "template": {
         "data": {
          "bar": [
           {
            "error_x": {
             "color": "rgb(36,36,36)"
            },
            "error_y": {
             "color": "rgb(36,36,36)"
            },
            "marker": {
             "line": {
              "color": "white",
              "width": 0.5
             },
             "pattern": {
              "fillmode": "overlay",
              "size": 10,
              "solidity": 0.2
             }
            },
            "type": "bar"
           }
          ],
          "barpolar": [
           {
            "marker": {
             "line": {
              "color": "white",
              "width": 0.5
             },
             "pattern": {
              "fillmode": "overlay",
              "size": 10,
              "solidity": 0.2
             }
            },
            "type": "barpolar"
           }
          ],
          "carpet": [
           {
            "aaxis": {
             "endlinecolor": "rgb(36,36,36)",
             "gridcolor": "white",
             "linecolor": "white",
             "minorgridcolor": "white",
             "startlinecolor": "rgb(36,36,36)"
            },
            "baxis": {
             "endlinecolor": "rgb(36,36,36)",
             "gridcolor": "white",
             "linecolor": "white",
             "minorgridcolor": "white",
             "startlinecolor": "rgb(36,36,36)"
            },
            "type": "carpet"
           }
          ],
          "choropleth": [
           {
            "colorbar": {
             "outlinewidth": 1,
             "tickcolor": "rgb(36,36,36)",
             "ticks": "outside"
            },
            "type": "choropleth"
           }
          ],
          "contour": [
           {
            "colorbar": {
             "outlinewidth": 1,
             "tickcolor": "rgb(36,36,36)",
             "ticks": "outside"
            },
            "colorscale": [
             [
              0,
              "#440154"
             ],
             [
              0.1111111111111111,
              "#482878"
             ],
             [
              0.2222222222222222,
              "#3e4989"
             ],
             [
              0.3333333333333333,
              "#31688e"
             ],
             [
              0.4444444444444444,
              "#26828e"
             ],
             [
              0.5555555555555556,
              "#1f9e89"
             ],
             [
              0.6666666666666666,
              "#35b779"
             ],
             [
              0.7777777777777778,
              "#6ece58"
             ],
             [
              0.8888888888888888,
              "#b5de2b"
             ],
             [
              1,
              "#fde725"
             ]
            ],
            "type": "contour"
           }
          ],
          "contourcarpet": [
           {
            "colorbar": {
             "outlinewidth": 1,
             "tickcolor": "rgb(36,36,36)",
             "ticks": "outside"
            },
            "type": "contourcarpet"
           }
          ],
          "heatmap": [
           {
            "colorbar": {
             "outlinewidth": 1,
             "tickcolor": "rgb(36,36,36)",
             "ticks": "outside"
            },
            "colorscale": [
             [
              0,
              "#440154"
             ],
             [
              0.1111111111111111,
              "#482878"
             ],
             [
              0.2222222222222222,
              "#3e4989"
             ],
             [
              0.3333333333333333,
              "#31688e"
             ],
             [
              0.4444444444444444,
              "#26828e"
             ],
             [
              0.5555555555555556,
              "#1f9e89"
             ],
             [
              0.6666666666666666,
              "#35b779"
             ],
             [
              0.7777777777777778,
              "#6ece58"
             ],
             [
              0.8888888888888888,
              "#b5de2b"
             ],
             [
              1,
              "#fde725"
             ]
            ],
            "type": "heatmap"
           }
          ],
          "heatmapgl": [
           {
            "colorbar": {
             "outlinewidth": 1,
             "tickcolor": "rgb(36,36,36)",
             "ticks": "outside"
            },
            "colorscale": [
             [
              0,
              "#440154"
             ],
             [
              0.1111111111111111,
              "#482878"
             ],
             [
              0.2222222222222222,
              "#3e4989"
             ],
             [
              0.3333333333333333,
              "#31688e"
             ],
             [
              0.4444444444444444,
              "#26828e"
             ],
             [
              0.5555555555555556,
              "#1f9e89"
             ],
             [
              0.6666666666666666,
              "#35b779"
             ],
             [
              0.7777777777777778,
              "#6ece58"
             ],
             [
              0.8888888888888888,
              "#b5de2b"
             ],
             [
              1,
              "#fde725"
             ]
            ],
            "type": "heatmapgl"
           }
          ],
          "histogram": [
           {
            "marker": {
             "line": {
              "color": "white",
              "width": 0.6
             }
            },
            "type": "histogram"
           }
          ],
          "histogram2d": [
           {
            "colorbar": {
             "outlinewidth": 1,
             "tickcolor": "rgb(36,36,36)",
             "ticks": "outside"
            },
            "colorscale": [
             [
              0,
              "#440154"
             ],
             [
              0.1111111111111111,
              "#482878"
             ],
             [
              0.2222222222222222,
              "#3e4989"
             ],
             [
              0.3333333333333333,
              "#31688e"
             ],
             [
              0.4444444444444444,
              "#26828e"
             ],
             [
              0.5555555555555556,
              "#1f9e89"
             ],
             [
              0.6666666666666666,
              "#35b779"
             ],
             [
              0.7777777777777778,
              "#6ece58"
             ],
             [
              0.8888888888888888,
              "#b5de2b"
             ],
             [
              1,
              "#fde725"
             ]
            ],
            "type": "histogram2d"
           }
          ],
          "histogram2dcontour": [
           {
            "colorbar": {
             "outlinewidth": 1,
             "tickcolor": "rgb(36,36,36)",
             "ticks": "outside"
            },
            "colorscale": [
             [
              0,
              "#440154"
             ],
             [
              0.1111111111111111,
              "#482878"
             ],
             [
              0.2222222222222222,
              "#3e4989"
             ],
             [
              0.3333333333333333,
              "#31688e"
             ],
             [
              0.4444444444444444,
              "#26828e"
             ],
             [
              0.5555555555555556,
              "#1f9e89"
             ],
             [
              0.6666666666666666,
              "#35b779"
             ],
             [
              0.7777777777777778,
              "#6ece58"
             ],
             [
              0.8888888888888888,
              "#b5de2b"
             ],
             [
              1,
              "#fde725"
             ]
            ],
            "type": "histogram2dcontour"
           }
          ],
          "mesh3d": [
           {
            "colorbar": {
             "outlinewidth": 1,
             "tickcolor": "rgb(36,36,36)",
             "ticks": "outside"
            },
            "type": "mesh3d"
           }
          ],
          "parcoords": [
           {
            "line": {
             "colorbar": {
              "outlinewidth": 1,
              "tickcolor": "rgb(36,36,36)",
              "ticks": "outside"
             }
            },
            "type": "parcoords"
           }
          ],
          "pie": [
           {
            "automargin": true,
            "type": "pie"
           }
          ],
          "scatter": [
           {
            "fillpattern": {
             "fillmode": "overlay",
             "size": 10,
             "solidity": 0.2
            },
            "type": "scatter"
           }
          ],
          "scatter3d": [
           {
            "line": {
             "colorbar": {
              "outlinewidth": 1,
              "tickcolor": "rgb(36,36,36)",
              "ticks": "outside"
             }
            },
            "marker": {
             "colorbar": {
              "outlinewidth": 1,
              "tickcolor": "rgb(36,36,36)",
              "ticks": "outside"
             }
            },
            "type": "scatter3d"
           }
          ],
          "scattercarpet": [
           {
            "marker": {
             "colorbar": {
              "outlinewidth": 1,
              "tickcolor": "rgb(36,36,36)",
              "ticks": "outside"
             }
            },
            "type": "scattercarpet"
           }
          ],
          "scattergeo": [
           {
            "marker": {
             "colorbar": {
              "outlinewidth": 1,
              "tickcolor": "rgb(36,36,36)",
              "ticks": "outside"
             }
            },
            "type": "scattergeo"
           }
          ],
          "scattergl": [
           {
            "marker": {
             "colorbar": {
              "outlinewidth": 1,
              "tickcolor": "rgb(36,36,36)",
              "ticks": "outside"
             }
            },
            "type": "scattergl"
           }
          ],
          "scattermapbox": [
           {
            "marker": {
             "colorbar": {
              "outlinewidth": 1,
              "tickcolor": "rgb(36,36,36)",
              "ticks": "outside"
             }
            },
            "type": "scattermapbox"
           }
          ],
          "scatterpolar": [
           {
            "marker": {
             "colorbar": {
              "outlinewidth": 1,
              "tickcolor": "rgb(36,36,36)",
              "ticks": "outside"
             }
            },
            "type": "scatterpolar"
           }
          ],
          "scatterpolargl": [
           {
            "marker": {
             "colorbar": {
              "outlinewidth": 1,
              "tickcolor": "rgb(36,36,36)",
              "ticks": "outside"
             }
            },
            "type": "scatterpolargl"
           }
          ],
          "scatterternary": [
           {
            "marker": {
             "colorbar": {
              "outlinewidth": 1,
              "tickcolor": "rgb(36,36,36)",
              "ticks": "outside"
             }
            },
            "type": "scatterternary"
           }
          ],
          "surface": [
           {
            "colorbar": {
             "outlinewidth": 1,
             "tickcolor": "rgb(36,36,36)",
             "ticks": "outside"
            },
            "colorscale": [
             [
              0,
              "#440154"
             ],
             [
              0.1111111111111111,
              "#482878"
             ],
             [
              0.2222222222222222,
              "#3e4989"
             ],
             [
              0.3333333333333333,
              "#31688e"
             ],
             [
              0.4444444444444444,
              "#26828e"
             ],
             [
              0.5555555555555556,
              "#1f9e89"
             ],
             [
              0.6666666666666666,
              "#35b779"
             ],
             [
              0.7777777777777778,
              "#6ece58"
             ],
             [
              0.8888888888888888,
              "#b5de2b"
             ],
             [
              1,
              "#fde725"
             ]
            ],
            "type": "surface"
           }
          ],
          "table": [
           {
            "cells": {
             "fill": {
              "color": "rgb(237,237,237)"
             },
             "line": {
              "color": "white"
             }
            },
            "header": {
             "fill": {
              "color": "rgb(217,217,217)"
             },
             "line": {
              "color": "white"
             }
            },
            "type": "table"
           }
          ]
         },
         "layout": {
          "annotationdefaults": {
           "arrowhead": 0,
           "arrowwidth": 1
          },
          "autotypenumbers": "strict",
          "coloraxis": {
           "colorbar": {
            "outlinewidth": 1,
            "tickcolor": "rgb(36,36,36)",
            "ticks": "outside"
           }
          },
          "colorscale": {
           "diverging": [
            [
             0,
             "rgb(103,0,31)"
            ],
            [
             0.1,
             "rgb(178,24,43)"
            ],
            [
             0.2,
             "rgb(214,96,77)"
            ],
            [
             0.3,
             "rgb(244,165,130)"
            ],
            [
             0.4,
             "rgb(253,219,199)"
            ],
            [
             0.5,
             "rgb(247,247,247)"
            ],
            [
             0.6,
             "rgb(209,229,240)"
            ],
            [
             0.7,
             "rgb(146,197,222)"
            ],
            [
             0.8,
             "rgb(67,147,195)"
            ],
            [
             0.9,
             "rgb(33,102,172)"
            ],
            [
             1,
             "rgb(5,48,97)"
            ]
           ],
           "sequential": [
            [
             0,
             "#440154"
            ],
            [
             0.1111111111111111,
             "#482878"
            ],
            [
             0.2222222222222222,
             "#3e4989"
            ],
            [
             0.3333333333333333,
             "#31688e"
            ],
            [
             0.4444444444444444,
             "#26828e"
            ],
            [
             0.5555555555555556,
             "#1f9e89"
            ],
            [
             0.6666666666666666,
             "#35b779"
            ],
            [
             0.7777777777777778,
             "#6ece58"
            ],
            [
             0.8888888888888888,
             "#b5de2b"
            ],
            [
             1,
             "#fde725"
            ]
           ],
           "sequentialminus": [
            [
             0,
             "#440154"
            ],
            [
             0.1111111111111111,
             "#482878"
            ],
            [
             0.2222222222222222,
             "#3e4989"
            ],
            [
             0.3333333333333333,
             "#31688e"
            ],
            [
             0.4444444444444444,
             "#26828e"
            ],
            [
             0.5555555555555556,
             "#1f9e89"
            ],
            [
             0.6666666666666666,
             "#35b779"
            ],
            [
             0.7777777777777778,
             "#6ece58"
            ],
            [
             0.8888888888888888,
             "#b5de2b"
            ],
            [
             1,
             "#fde725"
            ]
           ]
          },
          "colorway": [
           "#1F77B4",
           "#FF7F0E",
           "#2CA02C",
           "#D62728",
           "#9467BD",
           "#8C564B",
           "#E377C2",
           "#7F7F7F",
           "#BCBD22",
           "#17BECF"
          ],
          "font": {
           "color": "rgb(36,36,36)"
          },
          "geo": {
           "bgcolor": "white",
           "lakecolor": "white",
           "landcolor": "white",
           "showlakes": true,
           "showland": true,
           "subunitcolor": "white"
          },
          "hoverlabel": {
           "align": "left"
          },
          "hovermode": "closest",
          "mapbox": {
           "style": "light"
          },
          "paper_bgcolor": "white",
          "plot_bgcolor": "white",
          "polar": {
           "angularaxis": {
            "gridcolor": "rgb(232,232,232)",
            "linecolor": "rgb(36,36,36)",
            "showgrid": false,
            "showline": true,
            "ticks": "outside"
           },
           "bgcolor": "white",
           "radialaxis": {
            "gridcolor": "rgb(232,232,232)",
            "linecolor": "rgb(36,36,36)",
            "showgrid": false,
            "showline": true,
            "ticks": "outside"
           }
          },
          "scene": {
           "xaxis": {
            "backgroundcolor": "white",
            "gridcolor": "rgb(232,232,232)",
            "gridwidth": 2,
            "linecolor": "rgb(36,36,36)",
            "showbackground": true,
            "showgrid": false,
            "showline": true,
            "ticks": "outside",
            "zeroline": false,
            "zerolinecolor": "rgb(36,36,36)"
           },
           "yaxis": {
            "backgroundcolor": "white",
            "gridcolor": "rgb(232,232,232)",
            "gridwidth": 2,
            "linecolor": "rgb(36,36,36)",
            "showbackground": true,
            "showgrid": false,
            "showline": true,
            "ticks": "outside",
            "zeroline": false,
            "zerolinecolor": "rgb(36,36,36)"
           },
           "zaxis": {
            "backgroundcolor": "white",
            "gridcolor": "rgb(232,232,232)",
            "gridwidth": 2,
            "linecolor": "rgb(36,36,36)",
            "showbackground": true,
            "showgrid": false,
            "showline": true,
            "ticks": "outside",
            "zeroline": false,
            "zerolinecolor": "rgb(36,36,36)"
           }
          },
          "shapedefaults": {
           "fillcolor": "black",
           "line": {
            "width": 0
           },
           "opacity": 0.3
          },
          "ternary": {
           "aaxis": {
            "gridcolor": "rgb(232,232,232)",
            "linecolor": "rgb(36,36,36)",
            "showgrid": false,
            "showline": true,
            "ticks": "outside"
           },
           "baxis": {
            "gridcolor": "rgb(232,232,232)",
            "linecolor": "rgb(36,36,36)",
            "showgrid": false,
            "showline": true,
            "ticks": "outside"
           },
           "bgcolor": "white",
           "caxis": {
            "gridcolor": "rgb(232,232,232)",
            "linecolor": "rgb(36,36,36)",
            "showgrid": false,
            "showline": true,
            "ticks": "outside"
           }
          },
          "title": {
           "x": 0.05
          },
          "xaxis": {
           "automargin": true,
           "gridcolor": "rgb(232,232,232)",
           "linecolor": "rgb(36,36,36)",
           "showgrid": false,
           "showline": true,
           "ticks": "outside",
           "title": {
            "standoff": 15
           },
           "zeroline": false,
           "zerolinecolor": "rgb(36,36,36)"
          },
          "yaxis": {
           "automargin": true,
           "gridcolor": "rgb(232,232,232)",
           "linecolor": "rgb(36,36,36)",
           "showgrid": false,
           "showline": true,
           "ticks": "outside",
           "title": {
            "standoff": 15
           },
           "zeroline": false,
           "zerolinecolor": "rgb(36,36,36)"
          }
         }
        },
        "width": 270,
        "xaxis": {
         "categoryarray": [
          1,
          2,
          3,
          4
         ],
         "categoryorder": "array",
         "showgrid": true,
         "tickangle": 35,
         "ticktext": [
          "Q1",
          "Q2",
          "Q3",
          "Q4"
         ],
         "tickvals": [
          1,
          2,
          3,
          4
         ],
         "title": {
          "standoff": 0,
          "text": "JIF rank"
         }
        },
        "yaxis": {
         "dtick": 0.05,
         "minor": {
          "nticks": 5,
          "showgrid": true
         },
         "range": [
          0.25,
          0.35
         ],
         "showgrid": true,
         "tickformat": ".1%",
         "title": {
          "standoff": 0,
          "text": "% women reviewers"
         }
        }
       }
      }
     },
     "metadata": {},
     "output_type": "display_data"
    }
   ],
   "source": [
    "# % female in all and exclusive reviewers\"\n",
    "\n",
    "color_dict, order = get_palette(attr=\"new_quartile\")\n",
    "df = pd.read_csv(os.path.join(root, r\"reviewer_gender/new_quartile_group_gender.csv\"))\n",
    "x='new_quartile'\n",
    "df = df[df[x].isin([1,2,3,4])]\n",
    "df[\"color\"] = df[x].map(color_dict)\n",
    "df[\"symbol\"] = (df[\"exlusive_reviewer\"] - df[\"reviewer\"]).apply(lambda x: \"diamond\" if x > 0 else \"triangle-down\")\n",
    "\n",
    "fig = go.Figure()\n",
    "fig.add_trace(go.Scatter(x=df[x],\n",
    "                         y=df[\"reviewer\"],\n",
    "                         name=\"Reviewer\",\n",
    "                         mode=\"markers\",\n",
    "                         hovertemplate=\"%{y:.2%}\",\n",
    "                         marker=dict(color=df[\"color\"],\n",
    "                                     symbol=\"circle\",\n",
    "                                     size=10,\n",
    "                                     opacity=0.6,\n",
    "                                     line=dict(width=1,\n",
    "                                               color=df[\"color\"]),\n",
    "                         )\n",
    "                         ),\n",
    "              )\n",
    "\n",
    "fig.add_trace(go.Scatter(x=df[x],\n",
    "                         y=df[\"exlusive_reviewer\"],\n",
    "                         name=\"Rank-specific reviewer\",\n",
    "                         mode=\"markers\",\n",
    "                         opacity=1,\n",
    "                         hovertemplate=\"%{y:.2%}\",\n",
    "                         marker=dict(color=df[\"color\"],\n",
    "                                     symbol=\"diamond\",\n",
    "                                     size=10,\n",
    "                                     line=dict(width=1,\n",
    "                                               color=df[\"color\"]),\n",
    "                                     )\n",
    "                         ),\n",
    "              )\n",
    "\n",
    "for i, row in df.iterrows():\n",
    "    fig.add_shape(type=\"line\",\n",
    "                  xref=\"x\", yref=\"y\",\n",
    "                  x0=row[x], y0=row[\"reviewer\"], x1=row[x], y1=row[\"exlusive_reviewer\"],\n",
    "                  line=dict(color=\"black\",\n",
    "                            width=2,\n",
    "                            ),\n",
    "                  )\n",
    "\n",
    "fig.update_layout(height=350,\n",
    "                  width=270,\n",
    "                  template=\"simple_white\",\n",
    "                  font=dict(family=\"Arial\"),\n",
    "                  legend=dict(yanchor=\"top\",\n",
    "                              y=0.2,\n",
    "                              xanchor=\"center\",\n",
    "                              x=0.6,\n",
    "                              bgcolor='rgba(0,0,0,0)'),\n",
    "                  barmode='overlay',\n",
    "                  margin=dict(t=30)\n",
    "                  )\n",
    "\n",
    "fig.update_xaxes(categoryorder=\"array\",\n",
    "                 categoryarray=order,\n",
    "                 title=dict(text=\"JIF rank\",\n",
    "                            standoff=0.0,),\n",
    "                 tickangle=35,\n",
    "                 tickvals=order,\n",
    "                 ticktext=xticks,\n",
    "                 showgrid=True,\n",
    "                 )\n",
    "\n",
    "fig.update_yaxes(showgrid=True,\n",
    "                 range=(0.25, 0.35),\n",
    "                 dtick=0.05,\n",
    "                 tickformat=\".1%\",\n",
    "                 minor=dict(nticks=5,\n",
    "                            showgrid=True),\n",
    "                 title=dict(text=\"% women reviewers\",\n",
    "                            standoff=0.0),\n",
    "                 )\n",
    "\n",
    "fig.show()\n",
    "fig.write_image(os.path.join(graph_root, \"perc_ex_women_q.pdf\"))\n"
   ]
  },
  {
   "cell_type": "code",
   "execution_count": 15,
   "id": "12d41a5d",
   "metadata": {},
   "outputs": [
    {
     "data": {
      "application/vnd.plotly.v1+json": {
       "config": {
        "plotlyServerURL": "https://plot.ly"
       },
       "data": [
        {
         "marker": {
          "color": [
           "#4CD300",
           "#00ffff",
           "#9A05BF",
           "#F7A000"
          ],
          "line": {
           "color": [
            "#4CD300",
            "#00ffff",
            "#9A05BF",
            "#F7A000"
           ],
           "width": 1
          },
          "opacity": 0.6,
          "size": 10,
          "symbol": "circle"
         },
         "mode": "markers",
         "name": "Reviewer",
         "type": "scatter",
         "x": [
          1,
          2,
          3,
          4
         ],
         "y": [
          0.1192093990723393,
          0.0663719538628767,
          0.0718475509626063,
          0.1439787392820282
         ]
        },
        {
         "marker": {
          "color": [
           "#4CD300",
           "#00ffff",
           "#9A05BF",
           "#F7A000"
          ],
          "line": {
           "color": [
            "#4CD300",
            "#00ffff",
            "#9A05BF",
            "#F7A000"
           ],
           "width": 1
          },
          "size": 10,
          "symbol": "diamond"
         },
         "mode": "markers",
         "name": "Rank-specific<br>reviewer",
         "opacity": 1,
         "type": "scatter",
         "x": [
          1,
          2,
          3,
          4
         ],
         "y": [
          0.1347597421641694,
          0.0660838428462069,
          0.1316076818676251,
          0.2333896636313717
         ]
        }
       ],
       "layout": {
        "font": {
         "family": "Arial"
        },
        "height": 350,
        "legend": {
         "bgcolor": "rgba(0,0,0,0)",
         "x": 0.01,
         "xanchor": "left",
         "y": 1,
         "yanchor": "top"
        },
        "margin": {
         "t": 30
        },
        "shapes": [
         {
          "line": {
           "color": "black",
           "width": 2
          },
          "type": "line",
          "x0": 1,
          "x1": 1,
          "xref": "x",
          "y0": 0.1192093990723393,
          "y1": 0.1347597421641694,
          "yref": "y"
         },
         {
          "line": {
           "color": "black",
           "width": 2
          },
          "type": "line",
          "x0": 2,
          "x1": 2,
          "xref": "x",
          "y0": 0.0663719538628767,
          "y1": 0.0660838428462069,
          "yref": "y"
         },
         {
          "line": {
           "color": "black",
           "width": 2
          },
          "type": "line",
          "x0": 3,
          "x1": 3,
          "xref": "x",
          "y0": 0.0718475509626063,
          "y1": 0.1316076818676251,
          "yref": "y"
         },
         {
          "line": {
           "color": "black",
           "width": 2
          },
          "type": "line",
          "x0": 4,
          "x1": 4,
          "xref": "x",
          "y0": 0.1439787392820282,
          "y1": 0.2333896636313717,
          "yref": "y"
         }
        ],
        "template": {
         "data": {
          "bar": [
           {
            "error_x": {
             "color": "rgb(36,36,36)"
            },
            "error_y": {
             "color": "rgb(36,36,36)"
            },
            "marker": {
             "line": {
              "color": "white",
              "width": 0.5
             },
             "pattern": {
              "fillmode": "overlay",
              "size": 10,
              "solidity": 0.2
             }
            },
            "type": "bar"
           }
          ],
          "barpolar": [
           {
            "marker": {
             "line": {
              "color": "white",
              "width": 0.5
             },
             "pattern": {
              "fillmode": "overlay",
              "size": 10,
              "solidity": 0.2
             }
            },
            "type": "barpolar"
           }
          ],
          "carpet": [
           {
            "aaxis": {
             "endlinecolor": "rgb(36,36,36)",
             "gridcolor": "white",
             "linecolor": "white",
             "minorgridcolor": "white",
             "startlinecolor": "rgb(36,36,36)"
            },
            "baxis": {
             "endlinecolor": "rgb(36,36,36)",
             "gridcolor": "white",
             "linecolor": "white",
             "minorgridcolor": "white",
             "startlinecolor": "rgb(36,36,36)"
            },
            "type": "carpet"
           }
          ],
          "choropleth": [
           {
            "colorbar": {
             "outlinewidth": 1,
             "tickcolor": "rgb(36,36,36)",
             "ticks": "outside"
            },
            "type": "choropleth"
           }
          ],
          "contour": [
           {
            "colorbar": {
             "outlinewidth": 1,
             "tickcolor": "rgb(36,36,36)",
             "ticks": "outside"
            },
            "colorscale": [
             [
              0,
              "#440154"
             ],
             [
              0.1111111111111111,
              "#482878"
             ],
             [
              0.2222222222222222,
              "#3e4989"
             ],
             [
              0.3333333333333333,
              "#31688e"
             ],
             [
              0.4444444444444444,
              "#26828e"
             ],
             [
              0.5555555555555556,
              "#1f9e89"
             ],
             [
              0.6666666666666666,
              "#35b779"
             ],
             [
              0.7777777777777778,
              "#6ece58"
             ],
             [
              0.8888888888888888,
              "#b5de2b"
             ],
             [
              1,
              "#fde725"
             ]
            ],
            "type": "contour"
           }
          ],
          "contourcarpet": [
           {
            "colorbar": {
             "outlinewidth": 1,
             "tickcolor": "rgb(36,36,36)",
             "ticks": "outside"
            },
            "type": "contourcarpet"
           }
          ],
          "heatmap": [
           {
            "colorbar": {
             "outlinewidth": 1,
             "tickcolor": "rgb(36,36,36)",
             "ticks": "outside"
            },
            "colorscale": [
             [
              0,
              "#440154"
             ],
             [
              0.1111111111111111,
              "#482878"
             ],
             [
              0.2222222222222222,
              "#3e4989"
             ],
             [
              0.3333333333333333,
              "#31688e"
             ],
             [
              0.4444444444444444,
              "#26828e"
             ],
             [
              0.5555555555555556,
              "#1f9e89"
             ],
             [
              0.6666666666666666,
              "#35b779"
             ],
             [
              0.7777777777777778,
              "#6ece58"
             ],
             [
              0.8888888888888888,
              "#b5de2b"
             ],
             [
              1,
              "#fde725"
             ]
            ],
            "type": "heatmap"
           }
          ],
          "heatmapgl": [
           {
            "colorbar": {
             "outlinewidth": 1,
             "tickcolor": "rgb(36,36,36)",
             "ticks": "outside"
            },
            "colorscale": [
             [
              0,
              "#440154"
             ],
             [
              0.1111111111111111,
              "#482878"
             ],
             [
              0.2222222222222222,
              "#3e4989"
             ],
             [
              0.3333333333333333,
              "#31688e"
             ],
             [
              0.4444444444444444,
              "#26828e"
             ],
             [
              0.5555555555555556,
              "#1f9e89"
             ],
             [
              0.6666666666666666,
              "#35b779"
             ],
             [
              0.7777777777777778,
              "#6ece58"
             ],
             [
              0.8888888888888888,
              "#b5de2b"
             ],
             [
              1,
              "#fde725"
             ]
            ],
            "type": "heatmapgl"
           }
          ],
          "histogram": [
           {
            "marker": {
             "line": {
              "color": "white",
              "width": 0.6
             }
            },
            "type": "histogram"
           }
          ],
          "histogram2d": [
           {
            "colorbar": {
             "outlinewidth": 1,
             "tickcolor": "rgb(36,36,36)",
             "ticks": "outside"
            },
            "colorscale": [
             [
              0,
              "#440154"
             ],
             [
              0.1111111111111111,
              "#482878"
             ],
             [
              0.2222222222222222,
              "#3e4989"
             ],
             [
              0.3333333333333333,
              "#31688e"
             ],
             [
              0.4444444444444444,
              "#26828e"
             ],
             [
              0.5555555555555556,
              "#1f9e89"
             ],
             [
              0.6666666666666666,
              "#35b779"
             ],
             [
              0.7777777777777778,
              "#6ece58"
             ],
             [
              0.8888888888888888,
              "#b5de2b"
             ],
             [
              1,
              "#fde725"
             ]
            ],
            "type": "histogram2d"
           }
          ],
          "histogram2dcontour": [
           {
            "colorbar": {
             "outlinewidth": 1,
             "tickcolor": "rgb(36,36,36)",
             "ticks": "outside"
            },
            "colorscale": [
             [
              0,
              "#440154"
             ],
             [
              0.1111111111111111,
              "#482878"
             ],
             [
              0.2222222222222222,
              "#3e4989"
             ],
             [
              0.3333333333333333,
              "#31688e"
             ],
             [
              0.4444444444444444,
              "#26828e"
             ],
             [
              0.5555555555555556,
              "#1f9e89"
             ],
             [
              0.6666666666666666,
              "#35b779"
             ],
             [
              0.7777777777777778,
              "#6ece58"
             ],
             [
              0.8888888888888888,
              "#b5de2b"
             ],
             [
              1,
              "#fde725"
             ]
            ],
            "type": "histogram2dcontour"
           }
          ],
          "mesh3d": [
           {
            "colorbar": {
             "outlinewidth": 1,
             "tickcolor": "rgb(36,36,36)",
             "ticks": "outside"
            },
            "type": "mesh3d"
           }
          ],
          "parcoords": [
           {
            "line": {
             "colorbar": {
              "outlinewidth": 1,
              "tickcolor": "rgb(36,36,36)",
              "ticks": "outside"
             }
            },
            "type": "parcoords"
           }
          ],
          "pie": [
           {
            "automargin": true,
            "type": "pie"
           }
          ],
          "scatter": [
           {
            "fillpattern": {
             "fillmode": "overlay",
             "size": 10,
             "solidity": 0.2
            },
            "type": "scatter"
           }
          ],
          "scatter3d": [
           {
            "line": {
             "colorbar": {
              "outlinewidth": 1,
              "tickcolor": "rgb(36,36,36)",
              "ticks": "outside"
             }
            },
            "marker": {
             "colorbar": {
              "outlinewidth": 1,
              "tickcolor": "rgb(36,36,36)",
              "ticks": "outside"
             }
            },
            "type": "scatter3d"
           }
          ],
          "scattercarpet": [
           {
            "marker": {
             "colorbar": {
              "outlinewidth": 1,
              "tickcolor": "rgb(36,36,36)",
              "ticks": "outside"
             }
            },
            "type": "scattercarpet"
           }
          ],
          "scattergeo": [
           {
            "marker": {
             "colorbar": {
              "outlinewidth": 1,
              "tickcolor": "rgb(36,36,36)",
              "ticks": "outside"
             }
            },
            "type": "scattergeo"
           }
          ],
          "scattergl": [
           {
            "marker": {
             "colorbar": {
              "outlinewidth": 1,
              "tickcolor": "rgb(36,36,36)",
              "ticks": "outside"
             }
            },
            "type": "scattergl"
           }
          ],
          "scattermapbox": [
           {
            "marker": {
             "colorbar": {
              "outlinewidth": 1,
              "tickcolor": "rgb(36,36,36)",
              "ticks": "outside"
             }
            },
            "type": "scattermapbox"
           }
          ],
          "scatterpolar": [
           {
            "marker": {
             "colorbar": {
              "outlinewidth": 1,
              "tickcolor": "rgb(36,36,36)",
              "ticks": "outside"
             }
            },
            "type": "scatterpolar"
           }
          ],
          "scatterpolargl": [
           {
            "marker": {
             "colorbar": {
              "outlinewidth": 1,
              "tickcolor": "rgb(36,36,36)",
              "ticks": "outside"
             }
            },
            "type": "scatterpolargl"
           }
          ],
          "scatterternary": [
           {
            "marker": {
             "colorbar": {
              "outlinewidth": 1,
              "tickcolor": "rgb(36,36,36)",
              "ticks": "outside"
             }
            },
            "type": "scatterternary"
           }
          ],
          "surface": [
           {
            "colorbar": {
             "outlinewidth": 1,
             "tickcolor": "rgb(36,36,36)",
             "ticks": "outside"
            },
            "colorscale": [
             [
              0,
              "#440154"
             ],
             [
              0.1111111111111111,
              "#482878"
             ],
             [
              0.2222222222222222,
              "#3e4989"
             ],
             [
              0.3333333333333333,
              "#31688e"
             ],
             [
              0.4444444444444444,
              "#26828e"
             ],
             [
              0.5555555555555556,
              "#1f9e89"
             ],
             [
              0.6666666666666666,
              "#35b779"
             ],
             [
              0.7777777777777778,
              "#6ece58"
             ],
             [
              0.8888888888888888,
              "#b5de2b"
             ],
             [
              1,
              "#fde725"
             ]
            ],
            "type": "surface"
           }
          ],
          "table": [
           {
            "cells": {
             "fill": {
              "color": "rgb(237,237,237)"
             },
             "line": {
              "color": "white"
             }
            },
            "header": {
             "fill": {
              "color": "rgb(217,217,217)"
             },
             "line": {
              "color": "white"
             }
            },
            "type": "table"
           }
          ]
         },
         "layout": {
          "annotationdefaults": {
           "arrowhead": 0,
           "arrowwidth": 1
          },
          "autotypenumbers": "strict",
          "coloraxis": {
           "colorbar": {
            "outlinewidth": 1,
            "tickcolor": "rgb(36,36,36)",
            "ticks": "outside"
           }
          },
          "colorscale": {
           "diverging": [
            [
             0,
             "rgb(103,0,31)"
            ],
            [
             0.1,
             "rgb(178,24,43)"
            ],
            [
             0.2,
             "rgb(214,96,77)"
            ],
            [
             0.3,
             "rgb(244,165,130)"
            ],
            [
             0.4,
             "rgb(253,219,199)"
            ],
            [
             0.5,
             "rgb(247,247,247)"
            ],
            [
             0.6,
             "rgb(209,229,240)"
            ],
            [
             0.7,
             "rgb(146,197,222)"
            ],
            [
             0.8,
             "rgb(67,147,195)"
            ],
            [
             0.9,
             "rgb(33,102,172)"
            ],
            [
             1,
             "rgb(5,48,97)"
            ]
           ],
           "sequential": [
            [
             0,
             "#440154"
            ],
            [
             0.1111111111111111,
             "#482878"
            ],
            [
             0.2222222222222222,
             "#3e4989"
            ],
            [
             0.3333333333333333,
             "#31688e"
            ],
            [
             0.4444444444444444,
             "#26828e"
            ],
            [
             0.5555555555555556,
             "#1f9e89"
            ],
            [
             0.6666666666666666,
             "#35b779"
            ],
            [
             0.7777777777777778,
             "#6ece58"
            ],
            [
             0.8888888888888888,
             "#b5de2b"
            ],
            [
             1,
             "#fde725"
            ]
           ],
           "sequentialminus": [
            [
             0,
             "#440154"
            ],
            [
             0.1111111111111111,
             "#482878"
            ],
            [
             0.2222222222222222,
             "#3e4989"
            ],
            [
             0.3333333333333333,
             "#31688e"
            ],
            [
             0.4444444444444444,
             "#26828e"
            ],
            [
             0.5555555555555556,
             "#1f9e89"
            ],
            [
             0.6666666666666666,
             "#35b779"
            ],
            [
             0.7777777777777778,
             "#6ece58"
            ],
            [
             0.8888888888888888,
             "#b5de2b"
            ],
            [
             1,
             "#fde725"
            ]
           ]
          },
          "colorway": [
           "#1F77B4",
           "#FF7F0E",
           "#2CA02C",
           "#D62728",
           "#9467BD",
           "#8C564B",
           "#E377C2",
           "#7F7F7F",
           "#BCBD22",
           "#17BECF"
          ],
          "font": {
           "color": "rgb(36,36,36)"
          },
          "geo": {
           "bgcolor": "white",
           "lakecolor": "white",
           "landcolor": "white",
           "showlakes": true,
           "showland": true,
           "subunitcolor": "white"
          },
          "hoverlabel": {
           "align": "left"
          },
          "hovermode": "closest",
          "mapbox": {
           "style": "light"
          },
          "paper_bgcolor": "white",
          "plot_bgcolor": "white",
          "polar": {
           "angularaxis": {
            "gridcolor": "rgb(232,232,232)",
            "linecolor": "rgb(36,36,36)",
            "showgrid": false,
            "showline": true,
            "ticks": "outside"
           },
           "bgcolor": "white",
           "radialaxis": {
            "gridcolor": "rgb(232,232,232)",
            "linecolor": "rgb(36,36,36)",
            "showgrid": false,
            "showline": true,
            "ticks": "outside"
           }
          },
          "scene": {
           "xaxis": {
            "backgroundcolor": "white",
            "gridcolor": "rgb(232,232,232)",
            "gridwidth": 2,
            "linecolor": "rgb(36,36,36)",
            "showbackground": true,
            "showgrid": false,
            "showline": true,
            "ticks": "outside",
            "zeroline": false,
            "zerolinecolor": "rgb(36,36,36)"
           },
           "yaxis": {
            "backgroundcolor": "white",
            "gridcolor": "rgb(232,232,232)",
            "gridwidth": 2,
            "linecolor": "rgb(36,36,36)",
            "showbackground": true,
            "showgrid": false,
            "showline": true,
            "ticks": "outside",
            "zeroline": false,
            "zerolinecolor": "rgb(36,36,36)"
           },
           "zaxis": {
            "backgroundcolor": "white",
            "gridcolor": "rgb(232,232,232)",
            "gridwidth": 2,
            "linecolor": "rgb(36,36,36)",
            "showbackground": true,
            "showgrid": false,
            "showline": true,
            "ticks": "outside",
            "zeroline": false,
            "zerolinecolor": "rgb(36,36,36)"
           }
          },
          "shapedefaults": {
           "fillcolor": "black",
           "line": {
            "width": 0
           },
           "opacity": 0.3
          },
          "ternary": {
           "aaxis": {
            "gridcolor": "rgb(232,232,232)",
            "linecolor": "rgb(36,36,36)",
            "showgrid": false,
            "showline": true,
            "ticks": "outside"
           },
           "baxis": {
            "gridcolor": "rgb(232,232,232)",
            "linecolor": "rgb(36,36,36)",
            "showgrid": false,
            "showline": true,
            "ticks": "outside"
           },
           "bgcolor": "white",
           "caxis": {
            "gridcolor": "rgb(232,232,232)",
            "linecolor": "rgb(36,36,36)",
            "showgrid": false,
            "showline": true,
            "ticks": "outside"
           }
          },
          "title": {
           "x": 0.05
          },
          "xaxis": {
           "automargin": true,
           "gridcolor": "rgb(232,232,232)",
           "linecolor": "rgb(36,36,36)",
           "showgrid": false,
           "showline": true,
           "ticks": "outside",
           "title": {
            "standoff": 15
           },
           "zeroline": false,
           "zerolinecolor": "rgb(36,36,36)"
          },
          "yaxis": {
           "automargin": true,
           "gridcolor": "rgb(232,232,232)",
           "linecolor": "rgb(36,36,36)",
           "showgrid": false,
           "showline": true,
           "ticks": "outside",
           "title": {
            "standoff": 15
           },
           "zeroline": false,
           "zerolinecolor": "rgb(36,36,36)"
          }
         }
        },
        "width": 270,
        "xaxis": {
         "categoryarray": [
          1,
          2,
          3,
          4
         ],
         "categoryorder": "array",
         "showgrid": false,
         "tickangle": 35,
         "ticktext": [
          "Q1",
          "Q2",
          "Q3",
          "Q4"
         ],
         "tickvals": [
          1,
          2,
          3,
          4
         ],
         "title": {
          "standoff": 0,
          "text": "JIF rank"
         }
        },
        "yaxis": {
         "minor": {
          "nticks": 5,
          "showgrid": true
         },
         "showgrid": true,
         "title": {
          "standoff": 0,
          "text": "Gini index"
         }
        }
       }
      }
     },
     "metadata": {},
     "output_type": "display_data"
    }
   ],
   "source": [
    "# gini\n",
    "color_dict, order = get_palette(attr=\"new_quartile\")\n",
    "order=order[order!=0]\n",
    "x = \"new_quartile\"\n",
    "df = pd.read_csv(os.path.join(root, r\"reviewer_stat/new_quartile_group_gini.csv\"))\n",
    "df = df[df[x].isin(order)]\n",
    "df[\"symbol\"] = (df[\"exclusive reviewer\"] - df[\"reviewer\"]).apply(lambda x: \"diamond\" if x > 0 else \"triangle-down\")\n",
    "df[\"color\"] = df[x].map(color_dict)\n",
    "\n",
    "# draw figure\n",
    "fig=go.Figure()\n",
    "fig.add_trace(go.Scatter(x=df[x],\n",
    "                         y=df[\"reviewer\"],\n",
    "                         name=\"Reviewer\",\n",
    "                         mode=\"markers\",\n",
    "                         marker=dict(color=df[\"color\"],\n",
    "                                     symbol=\"circle\",\n",
    "                                     size=10,\n",
    "                                     opacity=0.6,\n",
    "                                     line=dict(width=1,\n",
    "                                               color=df[\"color\"]),\n",
    "\n",
    "                                     )\n",
    "                         ),\n",
    "              )\n",
    "\n",
    "fig.add_trace(go.Scatter(x=df[x],\n",
    "                         y=df[\"exclusive reviewer\"],\n",
    "                         name=\"Rank-specific<br>reviewer\",\n",
    "                         mode=\"markers\",\n",
    "                         opacity=1,\n",
    "                         marker=dict(color=df[\"color\"],\n",
    "                                     symbol=\"diamond\",\n",
    "                                     size=10,\n",
    "                                     line=dict(width=1,\n",
    "                                               color=df[\"color\"]),\n",
    "                                     )\n",
    "                         ),\n",
    "              )\n",
    "\n",
    "for i, row in df.iterrows():\n",
    "    fig.add_shape(type=\"line\",\n",
    "                  xref=\"x\", yref=\"y\",\n",
    "                  x0=row[x], y0=row[\"reviewer\"], x1=row[x], y1=row[\"exclusive reviewer\"],\n",
    "                  line=dict(color=\"black\",\n",
    "                            width=2,\n",
    "                            ),\n",
    "                  )\n",
    "\n",
    "fig.update_layout(height=350,\n",
    "                  width=270,\n",
    "                  template=\"simple_white\",\n",
    "                  font=dict(family=\"Arial\"),\n",
    "                  legend=dict(yanchor=\"top\",\n",
    "                              y=1,\n",
    "                              xanchor=\"left\",\n",
    "                              x=0.01,\n",
    "                              bgcolor='rgba(0,0,0,0)'),\n",
    "                  margin=dict(t=30))\n",
    "\n",
    "fig.update_xaxes(categoryorder=\"array\",\n",
    "                 categoryarray=order,\n",
    "                 tickvals=order,\n",
    "                 ticktext=xticks,\n",
    "                 tickangle=35,\n",
    "                 showgrid=False,\n",
    "                 title=dict(text=\"JIF rank\",\n",
    "                            standoff=0.0,),\n",
    "                 )\n",
    "\n",
    "fig.update_yaxes(showgrid=True,\n",
    "                 minor=dict(nticks=5,\n",
    "                            showgrid=True),\n",
    "                 title=dict(text=\"Gini index\",\n",
    "                            standoff=0.0),\n",
    "                 )\n",
    "\n",
    "fig.show()\n",
    "fig.write_image(os.path.join(graph_root, \"gini_q.pdf\"))"
   ]
  },
  {
   "cell_type": "markdown",
   "id": "71fa65e6",
   "metadata": {},
   "source": [
    "# reviewer country distribution"
   ]
  },
  {
   "cell_type": "code",
   "execution_count": 120,
   "id": "8aac3f91",
   "metadata": {},
   "outputs": [
    {
     "name": "stdout",
     "output_type": "stream",
     "text": [
      "53\n",
      "{'India', 'Germany', 'Singapore', 'Belgium', 'US', 'China', 'Greece', 'Austria', 'Switzerland', 'Italy', 'Japan', 'Australia', 'Spain', 'New Zealand', 'Brazil', 'UK'}\n"
     ]
    },
    {
     "data": {
      "application/vnd.plotly.v1+json": {
       "config": {
        "plotlyServerURL": "https://plot.ly"
       },
       "data": [
        {
         "customdata": [
          [
           "Argentina"
          ],
          [
           "Brazil"
          ],
          [
           "Colombia"
          ],
          [
           "Chile"
          ]
         ],
         "hovertemplate": "continent=South America<br># reviewers (log)=%{x}<br>Average # reviewed journals=%{y}<br>Country=%{customdata[0]}<extra></extra>",
         "legendgroup": "South America",
         "marker": {
          "color": "#636efa",
          "symbol": "circle"
         },
         "mode": "markers",
         "name": "South America",
         "opacity": 1,
         "orientation": "v",
         "showlegend": true,
         "type": "scatter",
         "x": [
          801,
          12272,
          668,
          881
         ],
         "xaxis": "x",
         "y": [
          2.1335830212234708,
          2.111310299869622,
          2.002994011976048,
          2.29738933030647
         ],
         "yaxis": "y"
        },
        {
         "alignmentgroup": "True",
         "customdata": [
          [
           "Argentina"
          ],
          [
           "Brazil"
          ],
          [
           "Colombia"
          ],
          [
           "Chile"
          ]
         ],
         "hovertemplate": "continent=South America<br># reviewers (log)=%{x}<br>Country=%{customdata[0]}<extra></extra>",
         "legendgroup": "South America",
         "marker": {
          "color": "#636efa",
          "symbol": "circle"
         },
         "name": "South America",
         "offsetgroup": "South America",
         "opacity": 1,
         "scalegroup": "x",
         "showlegend": false,
         "type": "violin",
         "x": [
          801,
          12272,
          668,
          881
         ],
         "xaxis": "x3",
         "yaxis": "y3"
        },
        {
         "alignmentgroup": "True",
         "bingroup": "y",
         "hovertemplate": "continent=South America<br>Average # reviewed journals=%{y}<br>count=%{x}<extra></extra>",
         "legendgroup": "South America",
         "marker": {
          "color": "#636efa"
         },
         "name": "South America",
         "offsetgroup": "South America",
         "opacity": 1,
         "showlegend": false,
         "type": "histogram",
         "xaxis": "x2",
         "y": [
          2.1335830212234708,
          2.111310299869622,
          2.002994011976048,
          2.29738933030647
         ],
         "yaxis": "y2"
        },
        {
         "customdata": [
          [
           "New Zealand"
          ],
          [
           "Australia"
          ]
         ],
         "hovertemplate": "continent=Oceania<br># reviewers (log)=%{x}<br>Average # reviewed journals=%{y}<br>Country=%{customdata[0]}<extra></extra>",
         "legendgroup": "Oceania",
         "marker": {
          "color": "#EF553B",
          "symbol": "circle"
         },
         "mode": "markers",
         "name": "Oceania",
         "opacity": 1,
         "orientation": "v",
         "showlegend": true,
         "type": "scatter",
         "x": [
          1918,
          11316
         ],
         "xaxis": "x",
         "y": [
          3.1094890510948905,
          3.076793920113114
         ],
         "yaxis": "y"
        },
        {
         "alignmentgroup": "True",
         "customdata": [
          [
           "New Zealand"
          ],
          [
           "Australia"
          ]
         ],
         "hovertemplate": "continent=Oceania<br># reviewers (log)=%{x}<br>Country=%{customdata[0]}<extra></extra>",
         "legendgroup": "Oceania",
         "marker": {
          "color": "#EF553B",
          "symbol": "circle"
         },
         "name": "Oceania",
         "offsetgroup": "Oceania",
         "opacity": 1,
         "scalegroup": "x",
         "showlegend": false,
         "type": "violin",
         "x": [
          1918,
          11316
         ],
         "xaxis": "x3",
         "yaxis": "y3"
        },
        {
         "alignmentgroup": "True",
         "bingroup": "y",
         "hovertemplate": "continent=Oceania<br>Average # reviewed journals=%{y}<br>count=%{x}<extra></extra>",
         "legendgroup": "Oceania",
         "marker": {
          "color": "#EF553B"
         },
         "name": "Oceania",
         "offsetgroup": "Oceania",
         "opacity": 1,
         "showlegend": false,
         "type": "histogram",
         "xaxis": "x2",
         "y": [
          3.1094890510948905,
          3.076793920113114
         ],
         "yaxis": "y2"
        },
        {
         "customdata": [
          [
           "Mexico"
          ],
          [
           "US"
          ],
          [
           "Canada"
          ]
         ],
         "hovertemplate": "continent=North America<br># reviewers (log)=%{x}<br>Average # reviewed journals=%{y}<br>Country=%{customdata[0]}<extra></extra>",
         "legendgroup": "North America",
         "marker": {
          "color": "#00cc96",
          "symbol": "circle"
         },
         "mode": "markers",
         "name": "North America",
         "opacity": 1,
         "orientation": "v",
         "showlegend": true,
         "type": "scatter",
         "x": [
          2381,
          41247,
          6289
         ],
         "xaxis": "x",
         "y": [
          2.2977740445191097,
          2.760564404683977,
          2.8775640006360312
         ],
         "yaxis": "y"
        },
        {
         "alignmentgroup": "True",
         "customdata": [
          [
           "Mexico"
          ],
          [
           "US"
          ],
          [
           "Canada"
          ]
         ],
         "hovertemplate": "continent=North America<br># reviewers (log)=%{x}<br>Country=%{customdata[0]}<extra></extra>",
         "legendgroup": "North America",
         "marker": {
          "color": "#00cc96",
          "symbol": "circle"
         },
         "name": "North America",
         "offsetgroup": "North America",
         "opacity": 1,
         "scalegroup": "x",
         "showlegend": false,
         "type": "violin",
         "x": [
          2381,
          41247,
          6289
         ],
         "xaxis": "x3",
         "yaxis": "y3"
        },
        {
         "alignmentgroup": "True",
         "bingroup": "y",
         "hovertemplate": "continent=North America<br>Average # reviewed journals=%{y}<br>count=%{x}<extra></extra>",
         "legendgroup": "North America",
         "marker": {
          "color": "#00cc96"
         },
         "name": "North America",
         "offsetgroup": "North America",
         "opacity": 1,
         "showlegend": false,
         "type": "histogram",
         "xaxis": "x2",
         "y": [
          2.2977740445191097,
          2.760564404683977,
          2.8775640006360312
         ],
         "yaxis": "y2"
        },
        {
         "customdata": [
          [
           "Serbia"
          ],
          [
           "UK"
          ],
          [
           "Austria"
          ],
          [
           "Sweden"
          ],
          [
           "Russia"
          ],
          [
           "Italy"
          ],
          [
           "Belgium"
          ],
          [
           "Romania"
          ],
          [
           "Portugal"
          ],
          [
           "Poland"
          ],
          [
           "Netherlands"
          ],
          [
           "Norway"
          ],
          [
           "Ireland"
          ],
          [
           "Hungary"
          ],
          [
           "Croatia"
          ],
          [
           "UK"
          ],
          [
           "France"
          ],
          [
           "Finland"
          ],
          [
           "Spain"
          ],
          [
           "Turkey"
          ],
          [
           "Denmark"
          ],
          [
           "Germany"
          ],
          [
           "Czech Republic"
          ],
          [
           "Switzerland"
          ],
          [
           "Greece"
          ]
         ],
         "hovertemplate": "continent=Europe<br># reviewers (log)=%{x}<br>Average # reviewed journals=%{y}<br>Country=%{customdata[0]}<extra></extra>",
         "legendgroup": "Europe",
         "marker": {
          "color": "#ab63fa",
          "symbol": "circle"
         },
         "mode": "markers",
         "name": "Europe",
         "opacity": 1,
         "orientation": "v",
         "showlegend": true,
         "type": "scatter",
         "x": [
          561,
          1178,
          1266,
          2908,
          2224,
          11846,
          1892,
          1458,
          3976,
          3198,
          3439,
          1332,
          1178,
          676,
          622,
          15209,
          5022,
          1597,
          12521,
          5885,
          1758,
          6746,
          1559,
          2000,
          1653
         ],
         "xaxis": "x",
         "y": [
          2.625668449197861,
          2.778438030560272,
          3.1279620853080567,
          2.9105914718019257,
          1.891636690647482,
          2.9742529123754853,
          3.011627906976744,
          2.321673525377229,
          2.72635814889336,
          2.22889305816135,
          2.867112532712998,
          2.9421921921921923,
          2.778438030560272,
          2.4068047337278107,
          2.12540192926045,
          2.9609441777894667,
          2.8990442054958185,
          2.840951784596118,
          2.4853446210366585,
          2.144774851316908,
          2.8959044368600684,
          3.2107915801956715,
          2.558691468890314,
          3.16,
          3.036902601330913
         ],
         "yaxis": "y"
        },
        {
         "alignmentgroup": "True",
         "customdata": [
          [
           "Serbia"
          ],
          [
           "UK"
          ],
          [
           "Austria"
          ],
          [
           "Sweden"
          ],
          [
           "Russia"
          ],
          [
           "Italy"
          ],
          [
           "Belgium"
          ],
          [
           "Romania"
          ],
          [
           "Portugal"
          ],
          [
           "Poland"
          ],
          [
           "Netherlands"
          ],
          [
           "Norway"
          ],
          [
           "Ireland"
          ],
          [
           "Hungary"
          ],
          [
           "Croatia"
          ],
          [
           "UK"
          ],
          [
           "France"
          ],
          [
           "Finland"
          ],
          [
           "Spain"
          ],
          [
           "Turkey"
          ],
          [
           "Denmark"
          ],
          [
           "Germany"
          ],
          [
           "Czech Republic"
          ],
          [
           "Switzerland"
          ],
          [
           "Greece"
          ]
         ],
         "hovertemplate": "continent=Europe<br># reviewers (log)=%{x}<br>Country=%{customdata[0]}<extra></extra>",
         "legendgroup": "Europe",
         "marker": {
          "color": "#ab63fa",
          "symbol": "circle"
         },
         "name": "Europe",
         "offsetgroup": "Europe",
         "opacity": 1,
         "scalegroup": "x",
         "showlegend": false,
         "type": "violin",
         "x": [
          561,
          1178,
          1266,
          2908,
          2224,
          11846,
          1892,
          1458,
          3976,
          3198,
          3439,
          1332,
          1178,
          676,
          622,
          15209,
          5022,
          1597,
          12521,
          5885,
          1758,
          6746,
          1559,
          2000,
          1653
         ],
         "xaxis": "x3",
         "yaxis": "y3"
        },
        {
         "alignmentgroup": "True",
         "bingroup": "y",
         "hovertemplate": "continent=Europe<br>Average # reviewed journals=%{y}<br>count=%{x}<extra></extra>",
         "legendgroup": "Europe",
         "marker": {
          "color": "#ab63fa"
         },
         "name": "Europe",
         "offsetgroup": "Europe",
         "opacity": 1,
         "showlegend": false,
         "type": "histogram",
         "xaxis": "x2",
         "y": [
          2.625668449197861,
          2.778438030560272,
          3.1279620853080567,
          2.9105914718019257,
          1.891636690647482,
          2.9742529123754853,
          3.011627906976744,
          2.321673525377229,
          2.72635814889336,
          2.22889305816135,
          2.867112532712998,
          2.9421921921921923,
          2.778438030560272,
          2.4068047337278107,
          2.12540192926045,
          2.9609441777894667,
          2.8990442054958185,
          2.840951784596118,
          2.4853446210366585,
          2.144774851316908,
          2.8959044368600684,
          3.2107915801956715,
          2.558691468890314,
          3.16,
          3.036902601330913
         ],
         "yaxis": "y2"
        },
        {
         "customdata": [
          [
           "Singapore"
          ],
          [
           "Thailand"
          ],
          [
           "Pakistan"
          ],
          [
           "Saudi Arabia"
          ],
          [
           "Taiwan"
          ],
          [
           "Israel"
          ],
          [
           "Malaysia"
          ],
          [
           "South Korea"
          ],
          [
           "Japan"
          ],
          [
           "Iran"
          ],
          [
           "Iraq"
          ],
          [
           "India"
          ],
          [
           "Indonesia"
          ],
          [
           "Hong Kong"
          ],
          [
           "China"
          ],
          [
           "Bangladesh"
          ]
         ],
         "hovertemplate": "continent=Asia<br># reviewers (log)=%{x}<br>Average # reviewed journals=%{y}<br>Country=%{customdata[0]}<extra></extra>",
         "legendgroup": "Asia",
         "marker": {
          "color": "#FFA15A",
          "symbol": "circle"
         },
         "mode": "markers",
         "name": "Asia",
         "opacity": 1,
         "orientation": "v",
         "showlegend": true,
         "type": "scatter",
         "x": [
          1095,
          826,
          1763,
          1366,
          2677,
          836,
          3264,
          2355,
          7220,
          5329,
          882,
          11500,
          903,
          1935,
          26552,
          506
         ],
         "xaxis": "x",
         "y": [
          2.985388127853881,
          2.254237288135593,
          2.18207600680658,
          2.376281112737921,
          2.338812103100486,
          2.8456937799043063,
          2.206495098039216,
          2.378343949044586,
          2.66606648199446,
          2.3541002064177143,
          1.8594104308390025,
          2.105478260869565,
          1.654485049833887,
          2.550904392764858,
          2.075436878577885,
          1.875494071146245
         ],
         "yaxis": "y"
        },
        {
         "alignmentgroup": "True",
         "customdata": [
          [
           "Singapore"
          ],
          [
           "Thailand"
          ],
          [
           "Pakistan"
          ],
          [
           "Saudi Arabia"
          ],
          [
           "Taiwan"
          ],
          [
           "Israel"
          ],
          [
           "Malaysia"
          ],
          [
           "South Korea"
          ],
          [
           "Japan"
          ],
          [
           "Iran"
          ],
          [
           "Iraq"
          ],
          [
           "India"
          ],
          [
           "Indonesia"
          ],
          [
           "Hong Kong"
          ],
          [
           "China"
          ],
          [
           "Bangladesh"
          ]
         ],
         "hovertemplate": "continent=Asia<br># reviewers (log)=%{x}<br>Country=%{customdata[0]}<extra></extra>",
         "legendgroup": "Asia",
         "marker": {
          "color": "#FFA15A",
          "symbol": "circle"
         },
         "name": "Asia",
         "offsetgroup": "Asia",
         "opacity": 1,
         "scalegroup": "x",
         "showlegend": false,
         "type": "violin",
         "x": [
          1095,
          826,
          1763,
          1366,
          2677,
          836,
          3264,
          2355,
          7220,
          5329,
          882,
          11500,
          903,
          1935,
          26552,
          506
         ],
         "xaxis": "x3",
         "yaxis": "y3"
        },
        {
         "alignmentgroup": "True",
         "bingroup": "y",
         "hovertemplate": "continent=Asia<br>Average # reviewed journals=%{y}<br>count=%{x}<extra></extra>",
         "legendgroup": "Asia",
         "marker": {
          "color": "#FFA15A"
         },
         "name": "Asia",
         "offsetgroup": "Asia",
         "opacity": 1,
         "showlegend": false,
         "type": "histogram",
         "xaxis": "x2",
         "y": [
          2.985388127853881,
          2.254237288135593,
          2.18207600680658,
          2.376281112737921,
          2.338812103100486,
          2.8456937799043063,
          2.206495098039216,
          2.378343949044586,
          2.66606648199446,
          2.3541002064177143,
          1.8594104308390025,
          2.105478260869565,
          1.654485049833887,
          2.550904392764858,
          2.075436878577885,
          1.875494071146245
         ],
         "yaxis": "y2"
        },
        {
         "customdata": [
          [
           "Nigeria"
          ],
          [
           "Egypt"
          ],
          [
           "South Africa"
          ]
         ],
         "hovertemplate": "continent=Africa<br># reviewers (log)=%{x}<br>Average # reviewed journals=%{y}<br>Country=%{customdata[0]}<extra></extra>",
         "legendgroup": "Africa",
         "marker": {
          "color": "#19d3f3",
          "symbol": "circle"
         },
         "mode": "markers",
         "name": "Africa",
         "opacity": 1,
         "orientation": "v",
         "showlegend": true,
         "type": "scatter",
         "x": [
          961,
          2228,
          1671
         ],
         "xaxis": "x",
         "y": [
          1.8022892819979188,
          2.4717235188509874,
          2.360861759425494
         ],
         "yaxis": "y"
        },
        {
         "alignmentgroup": "True",
         "customdata": [
          [
           "Nigeria"
          ],
          [
           "Egypt"
          ],
          [
           "South Africa"
          ]
         ],
         "hovertemplate": "continent=Africa<br># reviewers (log)=%{x}<br>Country=%{customdata[0]}<extra></extra>",
         "legendgroup": "Africa",
         "marker": {
          "color": "#19d3f3",
          "symbol": "circle"
         },
         "name": "Africa",
         "offsetgroup": "Africa",
         "opacity": 1,
         "scalegroup": "x",
         "showlegend": false,
         "type": "violin",
         "x": [
          961,
          2228,
          1671
         ],
         "xaxis": "x3",
         "yaxis": "y3"
        },
        {
         "alignmentgroup": "True",
         "bingroup": "y",
         "hovertemplate": "continent=Africa<br>Average # reviewed journals=%{y}<br>count=%{x}<extra></extra>",
         "legendgroup": "Africa",
         "marker": {
          "color": "#19d3f3"
         },
         "name": "Africa",
         "offsetgroup": "Africa",
         "opacity": 1,
         "showlegend": false,
         "type": "histogram",
         "xaxis": "x2",
         "y": [
          1.8022892819979188,
          2.4717235188509874,
          2.360861759425494
         ],
         "yaxis": "y2"
        }
       ],
       "layout": {
        "barmode": "stack",
        "font": {
         "family": "Arial"
        },
        "height": 450,
        "legend": {
         "bgcolor": "rgba(0,0,0,0)",
         "title": {},
         "tracegroupgap": 0,
         "traceorder": "reversed"
        },
        "margin": {
         "t": 60
        },
        "template": {
         "data": {
          "bar": [
           {
            "error_x": {
             "color": "rgb(36,36,36)"
            },
            "error_y": {
             "color": "rgb(36,36,36)"
            },
            "marker": {
             "line": {
              "color": "white",
              "width": 0.5
             },
             "pattern": {
              "fillmode": "overlay",
              "size": 10,
              "solidity": 0.2
             }
            },
            "type": "bar"
           }
          ],
          "barpolar": [
           {
            "marker": {
             "line": {
              "color": "white",
              "width": 0.5
             },
             "pattern": {
              "fillmode": "overlay",
              "size": 10,
              "solidity": 0.2
             }
            },
            "type": "barpolar"
           }
          ],
          "carpet": [
           {
            "aaxis": {
             "endlinecolor": "rgb(36,36,36)",
             "gridcolor": "white",
             "linecolor": "white",
             "minorgridcolor": "white",
             "startlinecolor": "rgb(36,36,36)"
            },
            "baxis": {
             "endlinecolor": "rgb(36,36,36)",
             "gridcolor": "white",
             "linecolor": "white",
             "minorgridcolor": "white",
             "startlinecolor": "rgb(36,36,36)"
            },
            "type": "carpet"
           }
          ],
          "choropleth": [
           {
            "colorbar": {
             "outlinewidth": 1,
             "tickcolor": "rgb(36,36,36)",
             "ticks": "outside"
            },
            "type": "choropleth"
           }
          ],
          "contour": [
           {
            "colorbar": {
             "outlinewidth": 1,
             "tickcolor": "rgb(36,36,36)",
             "ticks": "outside"
            },
            "colorscale": [
             [
              0,
              "#440154"
             ],
             [
              0.1111111111111111,
              "#482878"
             ],
             [
              0.2222222222222222,
              "#3e4989"
             ],
             [
              0.3333333333333333,
              "#31688e"
             ],
             [
              0.4444444444444444,
              "#26828e"
             ],
             [
              0.5555555555555556,
              "#1f9e89"
             ],
             [
              0.6666666666666666,
              "#35b779"
             ],
             [
              0.7777777777777778,
              "#6ece58"
             ],
             [
              0.8888888888888888,
              "#b5de2b"
             ],
             [
              1,
              "#fde725"
             ]
            ],
            "type": "contour"
           }
          ],
          "contourcarpet": [
           {
            "colorbar": {
             "outlinewidth": 1,
             "tickcolor": "rgb(36,36,36)",
             "ticks": "outside"
            },
            "type": "contourcarpet"
           }
          ],
          "heatmap": [
           {
            "colorbar": {
             "outlinewidth": 1,
             "tickcolor": "rgb(36,36,36)",
             "ticks": "outside"
            },
            "colorscale": [
             [
              0,
              "#440154"
             ],
             [
              0.1111111111111111,
              "#482878"
             ],
             [
              0.2222222222222222,
              "#3e4989"
             ],
             [
              0.3333333333333333,
              "#31688e"
             ],
             [
              0.4444444444444444,
              "#26828e"
             ],
             [
              0.5555555555555556,
              "#1f9e89"
             ],
             [
              0.6666666666666666,
              "#35b779"
             ],
             [
              0.7777777777777778,
              "#6ece58"
             ],
             [
              0.8888888888888888,
              "#b5de2b"
             ],
             [
              1,
              "#fde725"
             ]
            ],
            "type": "heatmap"
           }
          ],
          "heatmapgl": [
           {
            "colorbar": {
             "outlinewidth": 1,
             "tickcolor": "rgb(36,36,36)",
             "ticks": "outside"
            },
            "colorscale": [
             [
              0,
              "#440154"
             ],
             [
              0.1111111111111111,
              "#482878"
             ],
             [
              0.2222222222222222,
              "#3e4989"
             ],
             [
              0.3333333333333333,
              "#31688e"
             ],
             [
              0.4444444444444444,
              "#26828e"
             ],
             [
              0.5555555555555556,
              "#1f9e89"
             ],
             [
              0.6666666666666666,
              "#35b779"
             ],
             [
              0.7777777777777778,
              "#6ece58"
             ],
             [
              0.8888888888888888,
              "#b5de2b"
             ],
             [
              1,
              "#fde725"
             ]
            ],
            "type": "heatmapgl"
           }
          ],
          "histogram": [
           {
            "marker": {
             "line": {
              "color": "white",
              "width": 0.6
             }
            },
            "type": "histogram"
           }
          ],
          "histogram2d": [
           {
            "colorbar": {
             "outlinewidth": 1,
             "tickcolor": "rgb(36,36,36)",
             "ticks": "outside"
            },
            "colorscale": [
             [
              0,
              "#440154"
             ],
             [
              0.1111111111111111,
              "#482878"
             ],
             [
              0.2222222222222222,
              "#3e4989"
             ],
             [
              0.3333333333333333,
              "#31688e"
             ],
             [
              0.4444444444444444,
              "#26828e"
             ],
             [
              0.5555555555555556,
              "#1f9e89"
             ],
             [
              0.6666666666666666,
              "#35b779"
             ],
             [
              0.7777777777777778,
              "#6ece58"
             ],
             [
              0.8888888888888888,
              "#b5de2b"
             ],
             [
              1,
              "#fde725"
             ]
            ],
            "type": "histogram2d"
           }
          ],
          "histogram2dcontour": [
           {
            "colorbar": {
             "outlinewidth": 1,
             "tickcolor": "rgb(36,36,36)",
             "ticks": "outside"
            },
            "colorscale": [
             [
              0,
              "#440154"
             ],
             [
              0.1111111111111111,
              "#482878"
             ],
             [
              0.2222222222222222,
              "#3e4989"
             ],
             [
              0.3333333333333333,
              "#31688e"
             ],
             [
              0.4444444444444444,
              "#26828e"
             ],
             [
              0.5555555555555556,
              "#1f9e89"
             ],
             [
              0.6666666666666666,
              "#35b779"
             ],
             [
              0.7777777777777778,
              "#6ece58"
             ],
             [
              0.8888888888888888,
              "#b5de2b"
             ],
             [
              1,
              "#fde725"
             ]
            ],
            "type": "histogram2dcontour"
           }
          ],
          "mesh3d": [
           {
            "colorbar": {
             "outlinewidth": 1,
             "tickcolor": "rgb(36,36,36)",
             "ticks": "outside"
            },
            "type": "mesh3d"
           }
          ],
          "parcoords": [
           {
            "line": {
             "colorbar": {
              "outlinewidth": 1,
              "tickcolor": "rgb(36,36,36)",
              "ticks": "outside"
             }
            },
            "type": "parcoords"
           }
          ],
          "pie": [
           {
            "automargin": true,
            "type": "pie"
           }
          ],
          "scatter": [
           {
            "fillpattern": {
             "fillmode": "overlay",
             "size": 10,
             "solidity": 0.2
            },
            "type": "scatter"
           }
          ],
          "scatter3d": [
           {
            "line": {
             "colorbar": {
              "outlinewidth": 1,
              "tickcolor": "rgb(36,36,36)",
              "ticks": "outside"
             }
            },
            "marker": {
             "colorbar": {
              "outlinewidth": 1,
              "tickcolor": "rgb(36,36,36)",
              "ticks": "outside"
             }
            },
            "type": "scatter3d"
           }
          ],
          "scattercarpet": [
           {
            "marker": {
             "colorbar": {
              "outlinewidth": 1,
              "tickcolor": "rgb(36,36,36)",
              "ticks": "outside"
             }
            },
            "type": "scattercarpet"
           }
          ],
          "scattergeo": [
           {
            "marker": {
             "colorbar": {
              "outlinewidth": 1,
              "tickcolor": "rgb(36,36,36)",
              "ticks": "outside"
             }
            },
            "type": "scattergeo"
           }
          ],
          "scattergl": [
           {
            "marker": {
             "colorbar": {
              "outlinewidth": 1,
              "tickcolor": "rgb(36,36,36)",
              "ticks": "outside"
             }
            },
            "type": "scattergl"
           }
          ],
          "scattermapbox": [
           {
            "marker": {
             "colorbar": {
              "outlinewidth": 1,
              "tickcolor": "rgb(36,36,36)",
              "ticks": "outside"
             }
            },
            "type": "scattermapbox"
           }
          ],
          "scatterpolar": [
           {
            "marker": {
             "colorbar": {
              "outlinewidth": 1,
              "tickcolor": "rgb(36,36,36)",
              "ticks": "outside"
             }
            },
            "type": "scatterpolar"
           }
          ],
          "scatterpolargl": [
           {
            "marker": {
             "colorbar": {
              "outlinewidth": 1,
              "tickcolor": "rgb(36,36,36)",
              "ticks": "outside"
             }
            },
            "type": "scatterpolargl"
           }
          ],
          "scatterternary": [
           {
            "marker": {
             "colorbar": {
              "outlinewidth": 1,
              "tickcolor": "rgb(36,36,36)",
              "ticks": "outside"
             }
            },
            "type": "scatterternary"
           }
          ],
          "surface": [
           {
            "colorbar": {
             "outlinewidth": 1,
             "tickcolor": "rgb(36,36,36)",
             "ticks": "outside"
            },
            "colorscale": [
             [
              0,
              "#440154"
             ],
             [
              0.1111111111111111,
              "#482878"
             ],
             [
              0.2222222222222222,
              "#3e4989"
             ],
             [
              0.3333333333333333,
              "#31688e"
             ],
             [
              0.4444444444444444,
              "#26828e"
             ],
             [
              0.5555555555555556,
              "#1f9e89"
             ],
             [
              0.6666666666666666,
              "#35b779"
             ],
             [
              0.7777777777777778,
              "#6ece58"
             ],
             [
              0.8888888888888888,
              "#b5de2b"
             ],
             [
              1,
              "#fde725"
             ]
            ],
            "type": "surface"
           }
          ],
          "table": [
           {
            "cells": {
             "fill": {
              "color": "rgb(237,237,237)"
             },
             "line": {
              "color": "white"
             }
            },
            "header": {
             "fill": {
              "color": "rgb(217,217,217)"
             },
             "line": {
              "color": "white"
             }
            },
            "type": "table"
           }
          ]
         },
         "layout": {
          "annotationdefaults": {
           "arrowhead": 0,
           "arrowwidth": 1
          },
          "autotypenumbers": "strict",
          "coloraxis": {
           "colorbar": {
            "outlinewidth": 1,
            "tickcolor": "rgb(36,36,36)",
            "ticks": "outside"
           }
          },
          "colorscale": {
           "diverging": [
            [
             0,
             "rgb(103,0,31)"
            ],
            [
             0.1,
             "rgb(178,24,43)"
            ],
            [
             0.2,
             "rgb(214,96,77)"
            ],
            [
             0.3,
             "rgb(244,165,130)"
            ],
            [
             0.4,
             "rgb(253,219,199)"
            ],
            [
             0.5,
             "rgb(247,247,247)"
            ],
            [
             0.6,
             "rgb(209,229,240)"
            ],
            [
             0.7,
             "rgb(146,197,222)"
            ],
            [
             0.8,
             "rgb(67,147,195)"
            ],
            [
             0.9,
             "rgb(33,102,172)"
            ],
            [
             1,
             "rgb(5,48,97)"
            ]
           ],
           "sequential": [
            [
             0,
             "#440154"
            ],
            [
             0.1111111111111111,
             "#482878"
            ],
            [
             0.2222222222222222,
             "#3e4989"
            ],
            [
             0.3333333333333333,
             "#31688e"
            ],
            [
             0.4444444444444444,
             "#26828e"
            ],
            [
             0.5555555555555556,
             "#1f9e89"
            ],
            [
             0.6666666666666666,
             "#35b779"
            ],
            [
             0.7777777777777778,
             "#6ece58"
            ],
            [
             0.8888888888888888,
             "#b5de2b"
            ],
            [
             1,
             "#fde725"
            ]
           ],
           "sequentialminus": [
            [
             0,
             "#440154"
            ],
            [
             0.1111111111111111,
             "#482878"
            ],
            [
             0.2222222222222222,
             "#3e4989"
            ],
            [
             0.3333333333333333,
             "#31688e"
            ],
            [
             0.4444444444444444,
             "#26828e"
            ],
            [
             0.5555555555555556,
             "#1f9e89"
            ],
            [
             0.6666666666666666,
             "#35b779"
            ],
            [
             0.7777777777777778,
             "#6ece58"
            ],
            [
             0.8888888888888888,
             "#b5de2b"
            ],
            [
             1,
             "#fde725"
            ]
           ]
          },
          "colorway": [
           "#1F77B4",
           "#FF7F0E",
           "#2CA02C",
           "#D62728",
           "#9467BD",
           "#8C564B",
           "#E377C2",
           "#7F7F7F",
           "#BCBD22",
           "#17BECF"
          ],
          "font": {
           "color": "rgb(36,36,36)"
          },
          "geo": {
           "bgcolor": "white",
           "lakecolor": "white",
           "landcolor": "white",
           "showlakes": true,
           "showland": true,
           "subunitcolor": "white"
          },
          "hoverlabel": {
           "align": "left"
          },
          "hovermode": "closest",
          "mapbox": {
           "style": "light"
          },
          "paper_bgcolor": "white",
          "plot_bgcolor": "white",
          "polar": {
           "angularaxis": {
            "gridcolor": "rgb(232,232,232)",
            "linecolor": "rgb(36,36,36)",
            "showgrid": false,
            "showline": true,
            "ticks": "outside"
           },
           "bgcolor": "white",
           "radialaxis": {
            "gridcolor": "rgb(232,232,232)",
            "linecolor": "rgb(36,36,36)",
            "showgrid": false,
            "showline": true,
            "ticks": "outside"
           }
          },
          "scene": {
           "xaxis": {
            "backgroundcolor": "white",
            "gridcolor": "rgb(232,232,232)",
            "gridwidth": 2,
            "linecolor": "rgb(36,36,36)",
            "showbackground": true,
            "showgrid": false,
            "showline": true,
            "ticks": "outside",
            "zeroline": false,
            "zerolinecolor": "rgb(36,36,36)"
           },
           "yaxis": {
            "backgroundcolor": "white",
            "gridcolor": "rgb(232,232,232)",
            "gridwidth": 2,
            "linecolor": "rgb(36,36,36)",
            "showbackground": true,
            "showgrid": false,
            "showline": true,
            "ticks": "outside",
            "zeroline": false,
            "zerolinecolor": "rgb(36,36,36)"
           },
           "zaxis": {
            "backgroundcolor": "white",
            "gridcolor": "rgb(232,232,232)",
            "gridwidth": 2,
            "linecolor": "rgb(36,36,36)",
            "showbackground": true,
            "showgrid": false,
            "showline": true,
            "ticks": "outside",
            "zeroline": false,
            "zerolinecolor": "rgb(36,36,36)"
           }
          },
          "shapedefaults": {
           "fillcolor": "black",
           "line": {
            "width": 0
           },
           "opacity": 0.3
          },
          "ternary": {
           "aaxis": {
            "gridcolor": "rgb(232,232,232)",
            "linecolor": "rgb(36,36,36)",
            "showgrid": false,
            "showline": true,
            "ticks": "outside"
           },
           "baxis": {
            "gridcolor": "rgb(232,232,232)",
            "linecolor": "rgb(36,36,36)",
            "showgrid": false,
            "showline": true,
            "ticks": "outside"
           },
           "bgcolor": "white",
           "caxis": {
            "gridcolor": "rgb(232,232,232)",
            "linecolor": "rgb(36,36,36)",
            "showgrid": false,
            "showline": true,
            "ticks": "outside"
           }
          },
          "title": {
           "x": 0.05
          },
          "xaxis": {
           "automargin": true,
           "gridcolor": "rgb(232,232,232)",
           "linecolor": "rgb(36,36,36)",
           "showgrid": false,
           "showline": true,
           "ticks": "outside",
           "title": {
            "standoff": 15
           },
           "zeroline": false,
           "zerolinecolor": "rgb(36,36,36)"
          },
          "yaxis": {
           "automargin": true,
           "gridcolor": "rgb(232,232,232)",
           "linecolor": "rgb(36,36,36)",
           "showgrid": false,
           "showline": true,
           "ticks": "outside",
           "title": {
            "standoff": 15
           },
           "zeroline": false,
           "zerolinecolor": "rgb(36,36,36)"
          }
         }
        },
        "width": 550,
        "xaxis": {
         "anchor": "y",
         "domain": [
          0,
          0.7363
         ],
         "showgrid": true,
         "title": {
          "standoff": 0,
          "text": "# reviewers (log)"
         },
         "type": "log"
        },
        "xaxis2": {
         "anchor": "y2",
         "domain": [
          0.7413,
          1
         ],
         "matches": "x2",
         "minor": {
          "nticks": 4,
          "showgrid": true
         },
         "showgrid": true,
         "showline": true,
         "showticklabels": true,
         "ticks": "",
         "tickvals": [
          5,
          10
         ],
         "title": {
          "standoff": 0
         },
         "visible": true
        },
        "xaxis3": {
         "anchor": "y3",
         "domain": [
          0,
          0.7363
         ],
         "matches": "x",
         "showgrid": true,
         "showticklabels": false,
         "title": {
          "standoff": 0
         },
         "type": "log"
        },
        "xaxis4": {
         "anchor": "y4",
         "domain": [
          0.7413,
          1
         ],
         "matches": "x2",
         "showgrid": true,
         "showline": false,
         "showticklabels": false,
         "ticks": "",
         "title": {
          "standoff": 0
         }
        },
        "yaxis": {
         "anchor": "x",
         "domain": [
          0,
          0.7326
         ],
         "minor": {
          "nticks": 5,
          "showgrid": true
         },
         "showgrid": true,
         "title": {
          "standoff": 0,
          "text": "Average # reviewed journals"
         }
        },
        "yaxis2": {
         "anchor": "x2",
         "domain": [
          0,
          0.7326
         ],
         "matches": "y",
         "showgrid": false,
         "showticklabels": false
        },
        "yaxis3": {
         "anchor": "x3",
         "domain": [
          0.7426,
          1
         ],
         "matches": "y3",
         "showgrid": false,
         "showline": false,
         "showticklabels": false,
         "ticks": ""
        },
        "yaxis4": {
         "anchor": "x4",
         "domain": [
          0.7426,
          1
         ],
         "matches": "y3",
         "showgrid": true,
         "showline": false,
         "showticklabels": false,
         "ticks": ""
        }
       }
      }
     },
     "metadata": {},
     "output_type": "display_data"
    }
   ],
   "source": [
    "data = pd.read_csv(os.path.join(\n",
    "    root, r\"reviewer_stat/ctry_journal_reviewed.csv\"))\n",
    "data = data[data[\"reviewer_id\"] >= 500]\n",
    "\n",
    "# append continent\n",
    "ctryDf = pd.read_excel(os.path.join(root, r\"country_classification.xlsx\"))\n",
    "data = (pd.merge(data, ctryDf[[\"alpha2\", \"continent\",\"Country\"]],\n",
    "                left_on=\"alpha2\", right_on=\"alpha2\")\n",
    "        .drop_duplicates()\n",
    "        .sort_values(\"continent\", ascending=False))\n",
    "data = data.rename(columns={\"reviewer_id\":\"# reviewers (log)\",\n",
    "                            \"journal_name_wos\": \"Average # reviewed journals\"})\n",
    "print(len(data))\n",
    "\n",
    "fig = px.scatter(data,\n",
    "                 x=\"# reviewers (log)\",  # count of reviewer\n",
    "                 y=\"Average # reviewed journals\",  # avg reviewed journals\n",
    "                 color=\"continent\",\n",
    "                 hover_data=['Country'],\n",
    "                 log_x=True,\n",
    "                 marginal_x=\"violin\",\n",
    "                 marginal_y=\"histogram\")\n",
    "\n",
    "fig.update_traces(opacity=1)\n",
    "\n",
    "fig.update_layout(height=450,\n",
    "                  width=550,\n",
    "                  template=\"simple_white\",\n",
    "                  font=dict(family=\"Arial\"),\n",
    "                  barmode='stack',\n",
    "                  legend=dict(title=None,\n",
    "                              bgcolor='rgba(0,0,0,0)',\n",
    "                              tracegroupgap=0.0,\n",
    "                              traceorder=\"reversed\"),\n",
    "                  )\n",
    "\n",
    "fig.update_xaxes(showgrid=True,\n",
    "                 title=dict(standoff=0)\n",
    "                 )\n",
    "\n",
    "fig.update_xaxes(showline=True,\n",
    "                showticklabels=True,\n",
    "                visible=True,\n",
    "                 minor=dict(nticks=4,\n",
    "                            showgrid=True),\n",
    "                 tickvals=[5,10],\n",
    "                 row=1,\n",
    "                 col=2\n",
    "                 )\n",
    "\n",
    "fig.update_yaxes(showgrid=True,\n",
    "                 minor=dict(nticks=5,\n",
    "                            showgrid=True),\n",
    "                 title=dict(standoff=0),\n",
    "                 row=1,\n",
    "                 col=1\n",
    "                 )\n",
    "\n",
    "fig.update_yaxes(showgrid=False,\n",
    "                 row=1,\n",
    "                 col=2\n",
    "                 )\n",
    "\n",
    "# annotate\n",
    "l1 = data.sort_values(\"Average # reviewed journals\",ascending=False)[:10][\"Country\"].tolist()\n",
    "l2 = data.sort_values(\"# reviewers (log)\",ascending=False)[:10][\"Country\"].tolist()\n",
    "to_anno = set(l1+l2)\n",
    "print(to_anno)\n",
    "\n",
    "fig.show()\n",
    "fig.write_image(os.path.join(graph_root, \"reviewer_dist.pdf\"))\n"
   ]
  },
  {
   "cell_type": "code",
   "execution_count": 34,
   "id": "940185fe",
   "metadata": {},
   "outputs": [
    {
     "data": {
      "text/html": [
       "<div>\n",
       "<style scoped>\n",
       "    .dataframe tbody tr th:only-of-type {\n",
       "        vertical-align: middle;\n",
       "    }\n",
       "\n",
       "    .dataframe tbody tr th {\n",
       "        vertical-align: top;\n",
       "    }\n",
       "\n",
       "    .dataframe thead th {\n",
       "        text-align: right;\n",
       "    }\n",
       "</style>\n",
       "<table border=\"1\" class=\"dataframe\">\n",
       "  <thead>\n",
       "    <tr style=\"text-align: right;\">\n",
       "      <th></th>\n",
       "      <th>alpha2</th>\n",
       "      <th>reviewer_id</th>\n",
       "      <th>alpha2_journal</th>\n",
       "      <th>n</th>\n",
       "    </tr>\n",
       "  </thead>\n",
       "  <tbody>\n",
       "    <tr>\n",
       "      <th>0</th>\n",
       "      <td>AT</td>\n",
       "      <td>1266</td>\n",
       "      <td>AT</td>\n",
       "      <td>15</td>\n",
       "    </tr>\n",
       "    <tr>\n",
       "      <th>1</th>\n",
       "      <td>AU</td>\n",
       "      <td>11316</td>\n",
       "      <td>AU</td>\n",
       "      <td>110</td>\n",
       "    </tr>\n",
       "    <tr>\n",
       "      <th>2</th>\n",
       "      <td>BE</td>\n",
       "      <td>1892</td>\n",
       "      <td>BE</td>\n",
       "      <td>6</td>\n",
       "    </tr>\n",
       "    <tr>\n",
       "      <th>3</th>\n",
       "      <td>BR</td>\n",
       "      <td>12272</td>\n",
       "      <td>BR</td>\n",
       "      <td>77</td>\n",
       "    </tr>\n",
       "    <tr>\n",
       "      <th>4</th>\n",
       "      <td>CA</td>\n",
       "      <td>6289</td>\n",
       "      <td>CA</td>\n",
       "      <td>48</td>\n",
       "    </tr>\n",
       "    <tr>\n",
       "      <th>5</th>\n",
       "      <td>CH</td>\n",
       "      <td>2000</td>\n",
       "      <td>CH</td>\n",
       "      <td>168</td>\n",
       "    </tr>\n",
       "    <tr>\n",
       "      <th>6</th>\n",
       "      <td>CL</td>\n",
       "      <td>881</td>\n",
       "      <td>CL</td>\n",
       "      <td>3</td>\n",
       "    </tr>\n",
       "    <tr>\n",
       "      <th>7</th>\n",
       "      <td>CN</td>\n",
       "      <td>26552</td>\n",
       "      <td>CN</td>\n",
       "      <td>107</td>\n",
       "    </tr>\n",
       "    <tr>\n",
       "      <th>8</th>\n",
       "      <td>CO</td>\n",
       "      <td>668</td>\n",
       "      <td>CO</td>\n",
       "      <td>4</td>\n",
       "    </tr>\n",
       "    <tr>\n",
       "      <th>9</th>\n",
       "      <td>CZ</td>\n",
       "      <td>1559</td>\n",
       "      <td>CZ</td>\n",
       "      <td>11</td>\n",
       "    </tr>\n",
       "    <tr>\n",
       "      <th>10</th>\n",
       "      <td>DE</td>\n",
       "      <td>6746</td>\n",
       "      <td>DE</td>\n",
       "      <td>293</td>\n",
       "    </tr>\n",
       "    <tr>\n",
       "      <th>11</th>\n",
       "      <td>DK</td>\n",
       "      <td>1758</td>\n",
       "      <td>DK</td>\n",
       "      <td>67</td>\n",
       "    </tr>\n",
       "    <tr>\n",
       "      <th>12</th>\n",
       "      <td>EG</td>\n",
       "      <td>2228</td>\n",
       "      <td>EG</td>\n",
       "      <td>5</td>\n",
       "    </tr>\n",
       "    <tr>\n",
       "      <th>13</th>\n",
       "      <td>ES</td>\n",
       "      <td>12521</td>\n",
       "      <td>ES</td>\n",
       "      <td>18</td>\n",
       "    </tr>\n",
       "    <tr>\n",
       "      <th>14</th>\n",
       "      <td>FI</td>\n",
       "      <td>1597</td>\n",
       "      <td>FI</td>\n",
       "      <td>8</td>\n",
       "    </tr>\n",
       "    <tr>\n",
       "      <th>15</th>\n",
       "      <td>FR</td>\n",
       "      <td>5022</td>\n",
       "      <td>FR</td>\n",
       "      <td>41</td>\n",
       "    </tr>\n",
       "    <tr>\n",
       "      <th>16</th>\n",
       "      <td>GB</td>\n",
       "      <td>15209</td>\n",
       "      <td>GB</td>\n",
       "      <td>2031</td>\n",
       "    </tr>\n",
       "    <tr>\n",
       "      <th>17</th>\n",
       "      <td>GR</td>\n",
       "      <td>1653</td>\n",
       "      <td>GR</td>\n",
       "      <td>7</td>\n",
       "    </tr>\n",
       "    <tr>\n",
       "      <th>18</th>\n",
       "      <td>HK</td>\n",
       "      <td>1935</td>\n",
       "      <td>HK</td>\n",
       "      <td>6</td>\n",
       "    </tr>\n",
       "    <tr>\n",
       "      <th>19</th>\n",
       "      <td>HR</td>\n",
       "      <td>622</td>\n",
       "      <td>HR</td>\n",
       "      <td>6</td>\n",
       "    </tr>\n",
       "    <tr>\n",
       "      <th>20</th>\n",
       "      <td>HU</td>\n",
       "      <td>676</td>\n",
       "      <td>HU</td>\n",
       "      <td>6</td>\n",
       "    </tr>\n",
       "    <tr>\n",
       "      <th>21</th>\n",
       "      <td>IE</td>\n",
       "      <td>1178</td>\n",
       "      <td>IE</td>\n",
       "      <td>18</td>\n",
       "    </tr>\n",
       "    <tr>\n",
       "      <th>22</th>\n",
       "      <td>IN</td>\n",
       "      <td>11500</td>\n",
       "      <td>IN</td>\n",
       "      <td>34</td>\n",
       "    </tr>\n",
       "    <tr>\n",
       "      <th>23</th>\n",
       "      <td>IR</td>\n",
       "      <td>5329</td>\n",
       "      <td>IR</td>\n",
       "      <td>19</td>\n",
       "    </tr>\n",
       "    <tr>\n",
       "      <th>24</th>\n",
       "      <td>IT</td>\n",
       "      <td>11846</td>\n",
       "      <td>IT</td>\n",
       "      <td>31</td>\n",
       "    </tr>\n",
       "    <tr>\n",
       "      <th>25</th>\n",
       "      <td>JP</td>\n",
       "      <td>7220</td>\n",
       "      <td>JP</td>\n",
       "      <td>66</td>\n",
       "    </tr>\n",
       "    <tr>\n",
       "      <th>26</th>\n",
       "      <td>KR</td>\n",
       "      <td>2355</td>\n",
       "      <td>KR</td>\n",
       "      <td>25</td>\n",
       "    </tr>\n",
       "    <tr>\n",
       "      <th>27</th>\n",
       "      <td>MX</td>\n",
       "      <td>2381</td>\n",
       "      <td>MX</td>\n",
       "      <td>4</td>\n",
       "    </tr>\n",
       "    <tr>\n",
       "      <th>28</th>\n",
       "      <td>MY</td>\n",
       "      <td>3264</td>\n",
       "      <td>MY</td>\n",
       "      <td>5</td>\n",
       "    </tr>\n",
       "    <tr>\n",
       "      <th>29</th>\n",
       "      <td>NG</td>\n",
       "      <td>961</td>\n",
       "      <td>NG</td>\n",
       "      <td>8</td>\n",
       "    </tr>\n",
       "    <tr>\n",
       "      <th>30</th>\n",
       "      <td>NL</td>\n",
       "      <td>3439</td>\n",
       "      <td>NL</td>\n",
       "      <td>436</td>\n",
       "    </tr>\n",
       "    <tr>\n",
       "      <th>31</th>\n",
       "      <td>NO</td>\n",
       "      <td>1332</td>\n",
       "      <td>NO</td>\n",
       "      <td>26</td>\n",
       "    </tr>\n",
       "    <tr>\n",
       "      <th>32</th>\n",
       "      <td>NZ</td>\n",
       "      <td>1918</td>\n",
       "      <td>NZ</td>\n",
       "      <td>31</td>\n",
       "    </tr>\n",
       "    <tr>\n",
       "      <th>33</th>\n",
       "      <td>PK</td>\n",
       "      <td>1763</td>\n",
       "      <td>PK</td>\n",
       "      <td>5</td>\n",
       "    </tr>\n",
       "    <tr>\n",
       "      <th>34</th>\n",
       "      <td>PL</td>\n",
       "      <td>3198</td>\n",
       "      <td>PL</td>\n",
       "      <td>31</td>\n",
       "    </tr>\n",
       "    <tr>\n",
       "      <th>35</th>\n",
       "      <td>PT</td>\n",
       "      <td>3976</td>\n",
       "      <td>PT</td>\n",
       "      <td>3</td>\n",
       "    </tr>\n",
       "    <tr>\n",
       "      <th>36</th>\n",
       "      <td>RO</td>\n",
       "      <td>1458</td>\n",
       "      <td>RO</td>\n",
       "      <td>4</td>\n",
       "    </tr>\n",
       "    <tr>\n",
       "      <th>37</th>\n",
       "      <td>RS</td>\n",
       "      <td>561</td>\n",
       "      <td>RS</td>\n",
       "      <td>5</td>\n",
       "    </tr>\n",
       "    <tr>\n",
       "      <th>38</th>\n",
       "      <td>RU</td>\n",
       "      <td>2224</td>\n",
       "      <td>RU</td>\n",
       "      <td>3</td>\n",
       "    </tr>\n",
       "    <tr>\n",
       "      <th>39</th>\n",
       "      <td>SA</td>\n",
       "      <td>1366</td>\n",
       "      <td>SA</td>\n",
       "      <td>10</td>\n",
       "    </tr>\n",
       "    <tr>\n",
       "      <th>40</th>\n",
       "      <td>SE</td>\n",
       "      <td>2908</td>\n",
       "      <td>SE</td>\n",
       "      <td>16</td>\n",
       "    </tr>\n",
       "    <tr>\n",
       "      <th>41</th>\n",
       "      <td>SG</td>\n",
       "      <td>1095</td>\n",
       "      <td>SG</td>\n",
       "      <td>27</td>\n",
       "    </tr>\n",
       "    <tr>\n",
       "      <th>42</th>\n",
       "      <td>TH</td>\n",
       "      <td>826</td>\n",
       "      <td>TH</td>\n",
       "      <td>1</td>\n",
       "    </tr>\n",
       "    <tr>\n",
       "      <th>43</th>\n",
       "      <td>TR</td>\n",
       "      <td>5885</td>\n",
       "      <td>TR</td>\n",
       "      <td>9</td>\n",
       "    </tr>\n",
       "    <tr>\n",
       "      <th>44</th>\n",
       "      <td>TW</td>\n",
       "      <td>2677</td>\n",
       "      <td>TW</td>\n",
       "      <td>10</td>\n",
       "    </tr>\n",
       "    <tr>\n",
       "      <th>45</th>\n",
       "      <td>US</td>\n",
       "      <td>41247</td>\n",
       "      <td>US</td>\n",
       "      <td>2122</td>\n",
       "    </tr>\n",
       "    <tr>\n",
       "      <th>46</th>\n",
       "      <td>ZA</td>\n",
       "      <td>1671</td>\n",
       "      <td>ZA</td>\n",
       "      <td>17</td>\n",
       "    </tr>\n",
       "  </tbody>\n",
       "</table>\n",
       "</div>"
      ],
      "text/plain": [
       "   alpha2  reviewer_id alpha2_journal     n\n",
       "0      AT         1266             AT    15\n",
       "1      AU        11316             AU   110\n",
       "2      BE         1892             BE     6\n",
       "3      BR        12272             BR    77\n",
       "4      CA         6289             CA    48\n",
       "5      CH         2000             CH   168\n",
       "6      CL          881             CL     3\n",
       "7      CN        26552             CN   107\n",
       "8      CO          668             CO     4\n",
       "9      CZ         1559             CZ    11\n",
       "10     DE         6746             DE   293\n",
       "11     DK         1758             DK    67\n",
       "12     EG         2228             EG     5\n",
       "13     ES        12521             ES    18\n",
       "14     FI         1597             FI     8\n",
       "15     FR         5022             FR    41\n",
       "16     GB        15209             GB  2031\n",
       "17     GR         1653             GR     7\n",
       "18     HK         1935             HK     6\n",
       "19     HR          622             HR     6\n",
       "20     HU          676             HU     6\n",
       "21     IE         1178             IE    18\n",
       "22     IN        11500             IN    34\n",
       "23     IR         5329             IR    19\n",
       "24     IT        11846             IT    31\n",
       "25     JP         7220             JP    66\n",
       "26     KR         2355             KR    25\n",
       "27     MX         2381             MX     4\n",
       "28     MY         3264             MY     5\n",
       "29     NG          961             NG     8\n",
       "30     NL         3439             NL   436\n",
       "31     NO         1332             NO    26\n",
       "32     NZ         1918             NZ    31\n",
       "33     PK         1763             PK     5\n",
       "34     PL         3198             PL    31\n",
       "35     PT         3976             PT     3\n",
       "36     RO         1458             RO     4\n",
       "37     RS          561             RS     5\n",
       "38     RU         2224             RU     3\n",
       "39     SA         1366             SA    10\n",
       "40     SE         2908             SE    16\n",
       "41     SG         1095             SG    27\n",
       "42     TH          826             TH     1\n",
       "43     TR         5885             TR     9\n",
       "44     TW         2677             TW    10\n",
       "45     US        41247             US  2122\n",
       "46     ZA         1671             ZA    17"
      ]
     },
     "execution_count": 34,
     "metadata": {},
     "output_type": "execute_result"
    }
   ],
   "source": [
    "# test if country reviewer is correlated with journal number\n",
    "data = pd.read_csv(os.path.join(\n",
    "    root, r\"reviewer_stat/ctry_journal_reviewed.csv\"))\n",
    "data = data[['alpha2', 'reviewer_id']].query(\"reviewer_id >= 500\")\n",
    "\n",
    "n_df = pd.read_csv(os.path.join(root, r\"over10_node_list_nonull.csv\"))\n",
    "g_df = pd.read_csv(os.path.join(root, r\"over10_edge_list_nonull.csv\"))\n",
    "id_list = g_df[\"source\"].tolist() + g_df[\"target\"].tolist()\n",
    "data2 = n_df.query(\"Id in @id_list\")[[ \"Id\", \"alpha2_journal\"]].groupby(\"alpha2_journal\").agg(n=(\"Id\", \"nunique\")).reset_index()\n",
    "\n",
    "# test correlation\n",
    "data = pd.merge(data, data2, left_on=\"alpha2\", right_on=\"alpha2_journal\")\n",
    "data"
   ]
  },
  {
   "cell_type": "code",
   "execution_count": 35,
   "id": "19980cc8",
   "metadata": {},
   "outputs": [
    {
     "data": {
      "text/plain": [
       "PearsonRResult(statistic=0.6961869156713542, pvalue=5.5291197017235355e-08)"
      ]
     },
     "execution_count": 35,
     "metadata": {},
     "output_type": "execute_result"
    }
   ],
   "source": [
    "# test correlation\n",
    "# pearson\n",
    "import scipy.stats as stats\n",
    "stats.pearsonr(data[\"reviewer_id\"], data[\"n\"])"
   ]
  }
 ],
 "metadata": {
  "kernelspec": {
   "display_name": "base",
   "language": "python",
   "name": "python3"
  },
  "language_info": {
   "codemirror_mode": {
    "name": "ipython",
    "version": 3
   },
   "file_extension": ".py",
   "mimetype": "text/x-python",
   "name": "python",
   "nbconvert_exporter": "python",
   "pygments_lexer": "ipython3",
   "version": "3.10.9"
  },
  "vscode": {
   "interpreter": {
    "hash": "9e10a6c79cc87d7ff3f4674fe53efa32c7c5bf29c8ea6b81bebeb9c281c23060"
   }
  }
 },
 "nbformat": 4,
 "nbformat_minor": 5
}
